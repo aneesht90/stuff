{
 "cells": [
  {
   "cell_type": "markdown",
   "metadata": {},
   "source": [
    "# Init"
   ]
  },
  {
   "cell_type": "code",
   "execution_count": 1,
   "metadata": {
    "collapsed": false
   },
   "outputs": [],
   "source": [
    "#import aws\n",
    "import os\n",
    "import sys\n",
    "import time\n",
    "#import tensorflow as tf\n",
    "import boto3\n",
    "\n",
    "sys.path.insert(0, os.environ['HOME']+'/git0/cluster')\n",
    "import util as u\n",
    "\n",
    "import boto3\n",
    "from collections import OrderedDict, defaultdict\n",
    "ec2 = boto3.resource('ec2')\n"
   ]
  },
  {
   "cell_type": "markdown",
   "metadata": {},
   "source": [
    "# G3 Instance peak performance"
   ]
  },
  {
   "cell_type": "code",
   "execution_count": 5,
   "metadata": {
    "collapsed": false
   },
   "outputs": [
    {
     "name": "stdout",
     "output_type": "stream",
     "text": [
      "\n",
      " 8192 x 8192 matmul took: 0.29 sec, 3792.15 G ops/sec\n"
     ]
    }
   ],
   "source": [
    "import os\n",
    "import sys\n",
    "import tensorflow as tf\n",
    "import time\n",
    "\n",
    "n = 8192\n",
    "dtype = tf.float32\n",
    "with tf.device(\"/gpu:0\"):\n",
    "    matrix1 = tf.Variable(tf.ones((n, n), dtype=dtype))\n",
    "    matrix2 = tf.Variable(tf.ones((n, n), dtype=dtype))\n",
    "    product = tf.matmul(matrix1, matrix2)\n",
    "\n",
    "\n",
    "# avoid optimizing away redundant nodes\n",
    "config = tf.ConfigProto(graph_options=tf.GraphOptions(optimizer_options=tf.OptimizerOptions(opt_level=tf.OptimizerOptions.L0)))\n",
    "sess = tf.Session(config=config)\n",
    "\n",
    "sess.run(tf.global_variables_initializer())\n",
    "iters = 10\n",
    "\n",
    "# pre-warming\n",
    "sess.run(product.op)\n",
    "\n",
    "start = time.time()\n",
    "for i in range(iters):\n",
    "  sess.run(product.op)\n",
    "end = time.time()\n",
    "ops = n**3 + (n-1)*n**2 # n^2*(n-1) additions, n^3 multiplications\n",
    "elapsed = (end - start)\n",
    "rate = iters*ops/elapsed/10**9\n",
    "print('\\n %d x %d matmul took: %.2f sec, %.2f G ops/sec' % (n, n,\n",
    "                                                            elapsed/iters,\n",
    "                                                            rate,))"
   ]
  },
  {
   "cell_type": "markdown",
   "metadata": {},
   "source": [
    "# Enable eager mode"
   ]
  },
  {
   "cell_type": "code",
   "execution_count": 2,
   "metadata": {
    "collapsed": false
   },
   "outputs": [
    {
     "ename": "ValueError",
     "evalue": "Do not call tfe.enable_eager_execution more than once in the same process. Note eager-mode methods such as tfe.run() also call tfe.enable_eager_execution.",
     "output_type": "error",
     "traceback": [
      "\u001b[0;31m---------------------------------------------------------------------------\u001b[0m",
      "\u001b[0;31mValueError\u001b[0m                                Traceback (most recent call last)",
      "\u001b[0;32m<ipython-input-2-2ec4b9d05846>\u001b[0m in \u001b[0;36m<module>\u001b[0;34m()\u001b[0m\n\u001b[1;32m      1\u001b[0m \u001b[0;32mfrom\u001b[0m \u001b[0mtensorflow\u001b[0m\u001b[0;34m.\u001b[0m\u001b[0mcontrib\u001b[0m\u001b[0;34m.\u001b[0m\u001b[0meager\u001b[0m\u001b[0;34m.\u001b[0m\u001b[0mpython\u001b[0m \u001b[0;32mimport\u001b[0m \u001b[0mtfe\u001b[0m\u001b[0;34m\u001b[0m\u001b[0m\n\u001b[0;32m----> 2\u001b[0;31m \u001b[0mtfe\u001b[0m\u001b[0;34m.\u001b[0m\u001b[0menable_eager_execution\u001b[0m\u001b[0;34m(\u001b[0m\u001b[0;34m)\u001b[0m\u001b[0;34m\u001b[0m\u001b[0m\n\u001b[0m",
      "\u001b[0;32m~/anaconda3/envs/tf/lib/python3.5/site-packages/tensorflow/python/eager/context.py\u001b[0m in \u001b[0;36menable_eager_execution\u001b[0;34m()\u001b[0m\n\u001b[1;32m    439\u001b[0m     raise ValueError(\n\u001b[1;32m    440\u001b[0m         \u001b[0;34m\"Do not call %s more than once in the same process. Note eager-mode \"\u001b[0m\u001b[0;34m\u001b[0m\u001b[0m\n\u001b[0;32m--> 441\u001b[0;31m         \"methods such as tfe.run() also call %s.\" % (func_name, func_name))\n\u001b[0m\u001b[1;32m    442\u001b[0m   \u001b[0m_default_mode\u001b[0m \u001b[0;34m=\u001b[0m \u001b[0mEAGER_MODE\u001b[0m\u001b[0;34m\u001b[0m\u001b[0m\n\u001b[1;32m    443\u001b[0m \u001b[0;34m\u001b[0m\u001b[0m\n",
      "\u001b[0;31mValueError\u001b[0m: Do not call tfe.enable_eager_execution more than once in the same process. Note eager-mode methods such as tfe.run() also call tfe.enable_eager_execution."
     ]
    }
   ],
   "source": [
    "from tensorflow.contrib.eager.python import tfe\n",
    "tfe.enable_eager_execution()"
   ]
  },
  {
   "cell_type": "markdown",
   "metadata": {
    "collapsed": true
   },
   "source": [
    "# Instance control"
   ]
  },
  {
   "cell_type": "markdown",
   "metadata": {},
   "source": [
    "http://boto3.readthedocs.io/en/latest/reference/services/ec2.html#instance"
   ]
  },
  {
   "cell_type": "code",
   "execution_count": 325,
   "metadata": {
    "collapsed": true
   },
   "outputs": [],
   "source": [
    "import sys, os\n",
    "sys.path.insert(0, '/Users/yaroslav/git0/cluster')"
   ]
  },
  {
   "cell_type": "code",
   "execution_count": 37,
   "metadata": {
    "collapsed": true
   },
   "outputs": [],
   "source": [
    "import cluster_aws as toby_aws"
   ]
  },
  {
   "cell_type": "code",
   "execution_count": 3,
   "metadata": {
    "collapsed": true
   },
   "outputs": [],
   "source": [
    "instances = cluster_aws.LookupAwsInstances(instance_tag=\"whisper\", ssh_key=os.environ['HOME']+'/d/yaroslav.pem')"
   ]
  },
  {
   "cell_type": "code",
   "execution_count": 4,
   "metadata": {
    "collapsed": false
   },
   "outputs": [
    {
     "data": {
      "text/plain": [
       "[<cluster_aws.AWSInstance at 0x11125b438>,\n",
       " <cluster_aws.AWSInstance at 0x11125b390>,\n",
       " <cluster_aws.AWSInstance at 0x11125b358>]"
      ]
     },
     "execution_count": 4,
     "metadata": {},
     "output_type": "execute_result"
    }
   ],
   "source": [
    "instances"
   ]
  },
  {
   "cell_type": "code",
   "execution_count": 39,
   "metadata": {
    "collapsed": false
   },
   "outputs": [
    {
     "data": {
      "text/plain": [
       "[]"
      ]
     },
     "execution_count": 39,
     "metadata": {},
     "output_type": "execute_result"
    }
   ],
   "source": [
    "toby_aws.LookupAwsInstances(\"testjob\")"
   ]
  },
  {
   "cell_type": "code",
   "execution_count": 134,
   "metadata": {
    "collapsed": true
   },
   "outputs": [],
   "source": [
    "ec2 = boto3.resource('ec2')\n",
    "\n",
    "instances = ec2.instances.filter(Filters=[{'Name': 'instance-state-name', 'Values': ['terminated']}])"
   ]
  },
  {
   "cell_type": "code",
   "execution_count": 135,
   "metadata": {
    "collapsed": true
   },
   "outputs": [],
   "source": [
    "instances=list(instances)"
   ]
  },
  {
   "cell_type": "code",
   "execution_count": 137,
   "metadata": {
    "collapsed": false
   },
   "outputs": [
    {
     "data": {
      "text/plain": [
       "[ec2.Instance(id='i-08353b6df1352063d'),\n",
       " ec2.Instance(id='i-01fb7721c2de6de49'),\n",
       " ec2.Instance(id='i-0358efb3e93ea2c62'),\n",
       " ec2.Instance(id='i-01cef8d3f8c5abd08')]"
      ]
     },
     "execution_count": 137,
     "metadata": {},
     "output_type": "execute_result"
    }
   ],
   "source": [
    "instances"
   ]
  },
  {
   "cell_type": "code",
   "execution_count": 35,
   "metadata": {
    "collapsed": false
   },
   "outputs": [
    {
     "data": {
      "text/plain": [
       "ec2.instancesCollection(ec2.ServiceResource(), ec2.Instance)"
      ]
     },
     "execution_count": 35,
     "metadata": {},
     "output_type": "execute_result"
    }
   ],
   "source": [
    "ec2.instances.filter(InstanceIds=[]).all()"
   ]
  },
  {
   "cell_type": "code",
   "execution_count": 26,
   "metadata": {
    "collapsed": false
   },
   "outputs": [
    {
     "ename": "AttributeError",
     "evalue": "'ec2.Instance' object has no attribute 'name'",
     "output_type": "error",
     "traceback": [
      "\u001b[0;31m---------------------------------------------------------------------------\u001b[0m",
      "\u001b[0;31mAttributeError\u001b[0m                            Traceback (most recent call last)",
      "\u001b[0;32m<ipython-input-26-665949aaa325>\u001b[0m in \u001b[0;36m<module>\u001b[0;34m()\u001b[0m\n\u001b[0;32m----> 1\u001b[0;31m \u001b[0minstance\u001b[0m\u001b[0;34m.\u001b[0m\u001b[0mname\u001b[0m\u001b[0;34m\u001b[0m\u001b[0m\n\u001b[0m",
      "\u001b[0;31mAttributeError\u001b[0m: 'ec2.Instance' object has no attribute 'name'"
     ]
    }
   ],
   "source": [
    "instance.name"
   ]
  },
  {
   "cell_type": "code",
   "execution_count": 13,
   "metadata": {
    "collapsed": false
   },
   "outputs": [
    {
     "data": {
      "text/plain": [
       "[{'Key': 'Name', 'Value': 'testjob'}]"
      ]
     },
     "execution_count": 13,
     "metadata": {},
     "output_type": "execute_result"
    }
   ],
   "source": [
    "instance.tags"
   ]
  },
  {
   "cell_type": "code",
   "execution_count": 133,
   "metadata": {
    "collapsed": false
   },
   "outputs": [
    {
     "data": {
      "text/plain": [
       "[('i-06a4a0d8e2236ae1c', 'testjob'),\n",
       " ('i-0b18d5c2bf06afa87', 'testjob'),\n",
       " ('i-0a279259ebf8e1c0b', 'testjob'),\n",
       " ('i-06977aebb6a40ce75', 'testjob')]"
      ]
     },
     "execution_count": 133,
     "metadata": {},
     "output_type": "execute_result"
    }
   ],
   "source": [
    "[(i.id, tag['Value']) for i in instances for tag in i.tags if tag['Key'] == 'Name']"
   ]
  },
  {
   "cell_type": "markdown",
   "metadata": {},
   "source": [
    "## Creating new instances with userdata"
   ]
  },
  {
   "cell_type": "code",
   "execution_count": 2,
   "metadata": {
    "collapsed": true
   },
   "outputs": [],
   "source": [
    "ec2.create_instances?"
   ]
  },
  {
   "cell_type": "markdown",
   "metadata": {},
   "source": [
    "# Getting instance hostnames"
   ]
  },
  {
   "cell_type": "code",
   "execution_count": 148,
   "metadata": {
    "collapsed": true
   },
   "outputs": [],
   "source": [
    "instances=list(ec2.instances.filter(InstanceIds=['i-0be3150cdca115d44']))"
   ]
  },
  {
   "cell_type": "code",
   "execution_count": 151,
   "metadata": {
    "collapsed": false
   },
   "outputs": [
    {
     "ename": "AttributeError",
     "evalue": "'ec2.Instance' object has no attribute 'hostname'",
     "output_type": "error",
     "traceback": [
      "\u001b[0;31m---------------------------------------------------------------------------\u001b[0m",
      "\u001b[0;31mAttributeError\u001b[0m                            Traceback (most recent call last)",
      "\u001b[0;32m<ipython-input-151-d62ce76b09ed>\u001b[0m in \u001b[0;36m<module>\u001b[0;34m()\u001b[0m\n\u001b[0;32m----> 1\u001b[0;31m \u001b[0minstance\u001b[0m\u001b[0;34m.\u001b[0m\u001b[0mhostname\u001b[0m\u001b[0;34m\u001b[0m\u001b[0m\n\u001b[0m",
      "\u001b[0;31mAttributeError\u001b[0m: 'ec2.Instance' object has no attribute 'hostname'"
     ]
    }
   ],
   "source": [
    "instance."
   ]
  },
  {
   "cell_type": "code",
   "execution_count": 150,
   "metadata": {
    "collapsed": false
   },
   "outputs": [
    {
     "data": {
      "text/plain": [
       "'34.212.254.42'"
      ]
     },
     "execution_count": 150,
     "metadata": {},
     "output_type": "execute_result"
    }
   ],
   "source": [
    "instance=instances[0]\n",
    "instance.public_ip_address"
   ]
  },
  {
   "cell_type": "code",
   "execution_count": 156,
   "metadata": {
    "collapsed": false
   },
   "outputs": [
    {
     "name": "stdout",
     "output_type": "stream",
     "text": [
      "i-0be3150cdca115d44\n"
     ]
    }
   ],
   "source": [
    "instances=ec2.instances.filter(InstanceIds=['i-0be3150cdca115d44'])\n",
    "for i in instances:\n",
    "  print(i.id)"
   ]
  },
  {
   "cell_type": "code",
   "execution_count": 159,
   "metadata": {
    "collapsed": false
   },
   "outputs": [
    {
     "name": "stdout",
     "output_type": "stream",
     "text": [
      "i-0be3150cdca115d44\n"
     ]
    }
   ],
   "source": [
    "for i in instances:\n",
    "  print(i.id)"
   ]
  },
  {
   "cell_type": "code",
   "execution_count": 152,
   "metadata": {
    "collapsed": false
   },
   "outputs": [
    {
     "name": "stdout",
     "output_type": "stream",
     "text": [
      "34.209.255.229  i-047e3cc351ce00468   nodes.0726aa4c-pachydermcluster.kubernetes.com\n",
      "52.36.167.177   i-0fd359996572dd7c6   testjob\n",
      "52.40.109.190   i-0267a30cf58b2dc75   master-us-west-2a.masters.0726aa4c-pachydermcluster.kubernetes.com\n",
      "52.89.53.239    i-0941a8cf4f1824c3f   nodes.90c444a2-pachydermcluster.kubernetes.com\n",
      "52.37.131.117   i-06d8bd4450bf17b06   master-us-west-2a.masters.90c444a2-pachydermcluster.kubernetes.com\n",
      "52.37.61.251    i-0b735ac755913f501   nodes.0726aa4c-pachydermcluster.kubernetes.com\n",
      "52.27.162.71    i-07f875dcda4f055ed   testjob\n",
      "34.212.254.42   i-0be3150cdca115d44   testjob\n",
      "34.215.225.82   i-068c23912bcf71bfc   nodes.90c444a2-pachydermcluster.kubernetes.com\n"
     ]
    },
    {
     "data": {
      "text/plain": [
       "OrderedDict([('i-047e3cc351ce00468', '34.209.255.229'),\n",
       "             ('i-0fd359996572dd7c6', '52.36.167.177'),\n",
       "             ('i-0267a30cf58b2dc75', '52.40.109.190'),\n",
       "             ('i-0941a8cf4f1824c3f', '52.89.53.239'),\n",
       "             ('i-06d8bd4450bf17b06', '52.37.131.117'),\n",
       "             ('i-0b735ac755913f501', '52.37.61.251'),\n",
       "             ('i-07f875dcda4f055ed', '52.27.162.71'),\n",
       "             ('i-0be3150cdca115d44', '34.212.254.42'),\n",
       "             ('i-068c23912bcf71bfc', '34.215.225.82')])"
      ]
     },
     "execution_count": 152,
     "metadata": {},
     "output_type": "execute_result"
    }
   ],
   "source": [
    "import boto3\n",
    "from collections import OrderedDict, defaultdict\n",
    "ec2 = boto3.resource('ec2')\n",
    "\n",
    "\n",
    "def get_private_instance_ip_map():\n",
    "  \"\"\"Return instance_id->private_ip map for all running instances.\"\"\"\n",
    "  \n",
    "  ec2 = boto3.resource('ec2')\n",
    "\n",
    "  # Get information for all running instances\n",
    "  running_instances = ec2.instances.filter(Filters=[{\n",
    "    'Name': 'instance-state-name',\n",
    "    'Values': ['running']}])\n",
    "\n",
    "  ec2info = OrderedDict()\n",
    "  for instance in running_instances:\n",
    "    name = ''\n",
    "    for tag in instance.tags or []:\n",
    "      if 'Name' in tag['Key']:\n",
    "        name = tag['Value']\n",
    "    print(\"%-15s %-20s  %s\"%(instance.private_ip_address, instance.id, name))\n",
    "    ec2info[instance.id] = instance.private_ip_address\n",
    "    \n",
    "  return ec2info\n",
    "\n",
    "def get_public_instance_ip_map():\n",
    "  \"\"\"Return instance_id->private_ip map for all running instances.\"\"\"\n",
    "  \n",
    "  ec2 = boto3.resource('ec2')\n",
    "\n",
    "  # Get information for all running instances\n",
    "  running_instances = ec2.instances.filter(Filters=[{\n",
    "    'Name': 'instance-state-name',\n",
    "    'Values': ['running']}])\n",
    "\n",
    "  ec2info = OrderedDict()\n",
    "  for instance in running_instances:\n",
    "    name = ''\n",
    "    for tag in instance.tags or []:\n",
    "      if 'Name' in tag['Key']:\n",
    "        name = tag['Value']\n",
    "    print(\"%-15s %-20s  %s\"%(instance.public_ip_address, instance.id, name))\n",
    "    ec2info[instance.id] = instance.public_ip_address\n",
    "    \n",
    "  return ec2info\n",
    "\n",
    "get_public_instance_ip_map()\n",
    "#from pprint import pprint as pp\n",
    "#pp(get_instance_ip_map())\n"
   ]
  },
  {
   "cell_type": "markdown",
   "metadata": {},
   "source": [
    "# Sending files"
   ]
  },
  {
   "cell_type": "code",
   "execution_count": 125,
   "metadata": {
    "collapsed": true
   },
   "outputs": [],
   "source": [
    "import paramiko\n",
    "def SshToHost(hostname,\n",
    "              ssh_key=None,\n",
    "              username='ubuntu',\n",
    "            retry=10):\n",
    "\n",
    "  \"\"\"Create ssh connection to host\n",
    "\n",
    "  Creates and returns and ssh connection to the host passed in.  \n",
    "\n",
    "  Args:\n",
    "    hostname: host name or ip address of the system to connect to.\n",
    "    retry: number of time to retry.\n",
    "    ssh_key: full path to the ssk hey to use to connect.\n",
    "    username: username to connect with.\n",
    "\n",
    "  returns SSH client connected to host.\n",
    "\n",
    "  \"\"\"\n",
    "\n",
    "  k = paramiko.RSAKey.from_private_key_file(ssh_key)\n",
    "  \n",
    "  ssh_client = paramiko.SSHClient()\n",
    "  ssh_client.set_missing_host_key_policy(paramiko.AutoAddPolicy())\n",
    "\n",
    "  counter = retry\n",
    "  while counter > 0:\n",
    "    try:\n",
    "      ssh_client.connect(hostname=hostname, username=username, pkey=k)\n",
    "      break\n",
    "    except Exception as e:\n",
    "      counter = counter - 1\n",
    "      print('Exception connecting to host via ssh (could be a timeout):'.format(e))\n",
    "      if counter == 0:\n",
    "        print('Got impatient with retrying ssh to host. Time to give up.')\n",
    "        return None\n",
    "\n",
    "  return ssh_client"
   ]
  },
  {
   "cell_type": "code",
   "execution_count": 126,
   "metadata": {
    "collapsed": true
   },
   "outputs": [],
   "source": [
    "username='ubuntu'\n",
    "KEY_PATH = os.environ['HOME']+'/d/yaroslav.pem'\n",
    "ssh_key=KEY_PATH\n",
    "hostname = \"52.27.162.71\"\n",
    "ssh_client = SshToHost(hostname, ssh_key)\n",
    "sftp = ssh_client.open_sftp()\n",
    "sftp.put('/temp/hi.txt', 'hi.txt')\n",
    "stdin,stdout,stderr=ssh_client.exec_command('cat hi.txt')\n",
    "print(stdout.read().decode(\"ascii\"))"
   ]
  },
  {
   "cell_type": "code",
   "execution_count": 154,
   "metadata": {
    "collapsed": false
   },
   "outputs": [
    {
     "data": {
      "text/plain": [
       "'yaroslav.pem'"
      ]
     },
     "execution_count": 154,
     "metadata": {},
     "output_type": "execute_result"
    }
   ],
   "source": [
    "os.path.basename(KEY_PATH)"
   ]
  },
  {
   "cell_type": "code",
   "execution_count": 132,
   "metadata": {
    "collapsed": false
   },
   "outputs": [
    {
     "name": "stdout",
     "output_type": "stream",
     "text": [
      "hi\n",
      "testing\n",
      "\n"
     ]
    }
   ],
   "source": []
  },
  {
   "cell_type": "code",
   "execution_count": 165,
   "metadata": {
    "collapsed": false
   },
   "outputs": [
    {
     "data": {
      "text/plain": [
       "1510529639.275616"
      ]
     },
     "execution_count": 165,
     "metadata": {},
     "output_type": "execute_result"
    }
   ],
   "source": [
    "time.time()"
   ]
  },
  {
   "cell_type": "code",
   "execution_count": 180,
   "metadata": {
    "collapsed": true
   },
   "outputs": [],
   "source": [
    "import struct\n",
    "value = time.time()\n",
    "ba = bytearray(struct.pack(\"d\", value))  \n",
    "import base64\n",
    "b16=base64.b16encode(ba)"
   ]
  },
  {
   "cell_type": "code",
   "execution_count": 181,
   "metadata": {
    "collapsed": false
   },
   "outputs": [
    {
     "data": {
      "text/plain": [
       "1510530098.287752"
      ]
     },
     "execution_count": 181,
     "metadata": {},
     "output_type": "execute_result"
    }
   ],
   "source": [
    "value"
   ]
  },
  {
   "cell_type": "code",
   "execution_count": 182,
   "metadata": {
    "collapsed": false
   },
   "outputs": [
    {
     "data": {
      "text/plain": [
       "b'876A920C3782D641'"
      ]
     },
     "execution_count": 182,
     "metadata": {},
     "output_type": "execute_result"
    }
   ],
   "source": [
    "b16"
   ]
  },
  {
   "cell_type": "code",
   "execution_count": 183,
   "metadata": {
    "collapsed": false
   },
   "outputs": [
    {
     "data": {
      "text/plain": [
       "bytearray(b'\\x87j\\x92\\x0c7\\x82\\xd6A')"
      ]
     },
     "execution_count": 183,
     "metadata": {},
     "output_type": "execute_result"
    }
   ],
   "source": [
    "ba"
   ]
  },
  {
   "cell_type": "code",
   "execution_count": 186,
   "metadata": {
    "collapsed": false
   },
   "outputs": [
    {
     "data": {
      "text/plain": [
       "bytearray(b'\\x87j\\x92\\x0c7\\x82\\xd6A')"
      ]
     },
     "execution_count": 186,
     "metadata": {},
     "output_type": "execute_result"
    }
   ],
   "source": [
    "ba"
   ]
  },
  {
   "cell_type": "code",
   "execution_count": 189,
   "metadata": {
    "collapsed": true
   },
   "outputs": [],
   "source": [
    "b16s = b16.decode('ascii')"
   ]
  },
  {
   "cell_type": "code",
   "execution_count": 187,
   "metadata": {
    "collapsed": false
   },
   "outputs": [
    {
     "data": {
      "text/plain": [
       "(1510530098.287752,)"
      ]
     },
     "execution_count": 187,
     "metadata": {},
     "output_type": "execute_result"
    }
   ],
   "source": [
    "struct.unpack('d', base64.b16decode(b16))"
   ]
  },
  {
   "cell_type": "code",
   "execution_count": 190,
   "metadata": {
    "collapsed": false
   },
   "outputs": [
    {
     "data": {
      "text/plain": [
       "(1510530098.287752,)"
      ]
     },
     "execution_count": 190,
     "metadata": {},
     "output_type": "execute_result"
    }
   ],
   "source": [
    "struct.unpack('d', base64.b16decode(b16s))"
   ]
  },
  {
   "cell_type": "code",
   "execution_count": 192,
   "metadata": {
    "collapsed": false
   },
   "outputs": [
    {
     "data": {
      "text/plain": [
       "['asdfasdf-asdf', 'asdf']"
      ]
     },
     "execution_count": 192,
     "metadata": {},
     "output_type": "execute_result"
    }
   ],
   "source": [
    "'asdfasdf-asdf-asdf'.rsplit('-',1)"
   ]
  },
  {
   "cell_type": "code",
   "execution_count": 127,
   "metadata": {
    "collapsed": false
   },
   "outputs": [
    {
     "data": {
      "text/plain": [
       "(<paramiko.ChannelFile from <paramiko.Channel 0 (open) window=2097152 -> <paramiko.Transport at 0xf4a5978 (cipher aes128-ctr, 128 bits) (active; 1 open channel(s))>>>,\n",
       " <paramiko.ChannelFile from <paramiko.Channel 0 (open) window=2097152 -> <paramiko.Transport at 0xf4a5978 (cipher aes128-ctr, 128 bits) (active; 1 open channel(s))>>>,\n",
       " <paramiko.ChannelFile from <paramiko.Channel 0 (open) window=2097152 -> <paramiko.Transport at 0xf4a5978 (cipher aes128-ctr, 128 bits) (active; 1 open channel(s))>>>)"
      ]
     },
     "execution_count": 127,
     "metadata": {},
     "output_type": "execute_result"
    }
   ],
   "source": [
    "ssh_client.exec_command('ls')"
   ]
  },
  {
   "cell_type": "code",
   "execution_count": 99,
   "metadata": {
    "collapsed": false
   },
   "outputs": [
    {
     "data": {
      "text/plain": [
       "(<paramiko.ChannelFile from <paramiko.Channel 16 (open) window=2097152 -> <paramiko.Transport at 0xf50e9b0 (cipher aes128-ctr, 128 bits) (active; 2 open channel(s))>>>,\n",
       " <paramiko.ChannelFile from <paramiko.Channel 16 (open) window=2097152 -> <paramiko.Transport at 0xf50e9b0 (cipher aes128-ctr, 128 bits) (active; 2 open channel(s))>>>,\n",
       " <paramiko.ChannelFile from <paramiko.Channel 16 (open) window=2097152 -> <paramiko.Transport at 0xf50e9b0 (cipher aes128-ctr, 128 bits) (active; 2 open channel(s))>>>)"
      ]
     },
     "execution_count": 99,
     "metadata": {},
     "output_type": "execute_result"
    }
   ],
   "source": [
    "ssh_client.exec_command('cd efs', get_pty=True)"
   ]
  },
  {
   "cell_type": "code",
   "execution_count": 121,
   "metadata": {
    "collapsed": true
   },
   "outputs": [],
   "source": [
    "# from https://stackoverflow.com/questions/35821184/implement-an-interactive-shell-over-ssh-in-python-using-paramiko\n",
    "import paramiko\n",
    "import re\n",
    "\n",
    "\n",
    "class Shell:\n",
    "    def __init__(self, host, ssh_key, username='ubuntu', retry=10):\n",
    "        k = paramiko.RSAKey.from_private_key_file(ssh_key)\n",
    "\n",
    "        self.ssh = paramiko.SSHClient()\n",
    "        self.ssh.set_missing_host_key_policy(paramiko.AutoAddPolicy())\n",
    "        \n",
    "        counter = retry\n",
    "        while counter > 0:\n",
    "          try:\n",
    "            self.ssh.connect(hostname=hostname, username=username, pkey=k)\n",
    "            break\n",
    "          except Exception as e:\n",
    "            counter = counter - 1\n",
    "            print('Exception connecting to host via ssh (could be a timeout):'.format(e))\n",
    "        if counter == 0:\n",
    "          print('Got impatient with retrying ssh to host. Time to give up.')\n",
    "          return None\n",
    "\n",
    "        shell = self.ssh.invoke_shell()\n",
    "\n",
    "\n",
    "    def __del__(self):\n",
    "        self.ssh.close()\n",
    "\n",
    "    def cmd(self, cmd):\n",
    "        \"\"\"\n",
    "\n",
    "        :param cmd: the command to be executed on the remote computer\n",
    "        :examples:  execute('ls')\n",
    "                    execute('finger')\n",
    "                    execute('cd folder_name')\n",
    "        \"\"\"\n",
    "\n",
    "        cmd = cmd.strip('\\n')\n",
    "        shell.send(cmd+'\\n')\n",
    "        \n",
    "        self.stdin.write(cmd + '\\n')\n",
    "        self.stdin.flush()"
   ]
  },
  {
   "cell_type": "code",
   "execution_count": 122,
   "metadata": {
    "collapsed": true
   },
   "outputs": [],
   "source": [
    "shell = Shell(hostname, ssh_key)"
   ]
  },
  {
   "cell_type": "code",
   "execution_count": 123,
   "metadata": {
    "collapsed": true
   },
   "outputs": [],
   "source": [
    "shell.cmd('ls')"
   ]
  },
  {
   "cell_type": "code",
   "execution_count": 124,
   "metadata": {
    "collapsed": false
   },
   "outputs": [
    {
     "ename": "KeyboardInterrupt",
     "evalue": "",
     "output_type": "error",
     "traceback": [
      "\u001b[0;31m---------------------------------------------------------------------------\u001b[0m",
      "\u001b[0;31mKeyboardInterrupt\u001b[0m                         Traceback (most recent call last)",
      "\u001b[0;32m<ipython-input-124-436a15676ed4>\u001b[0m in \u001b[0;36m<module>\u001b[0;34m()\u001b[0m\n\u001b[0;32m----> 1\u001b[0;31m \u001b[0mss\u001b[0m\u001b[0;34m=\u001b[0m\u001b[0mshell\u001b[0m\u001b[0;34m.\u001b[0m\u001b[0mstdout\u001b[0m\u001b[0;34m.\u001b[0m\u001b[0mread\u001b[0m\u001b[0;34m(\u001b[0m\u001b[0;34m)\u001b[0m\u001b[0;34m\u001b[0m\u001b[0m\n\u001b[0m",
      "\u001b[0;32m/Users/yaroslav/anaconda/envs/sep22/lib/python3.5/site-packages/paramiko/file.py\u001b[0m in \u001b[0;36mread\u001b[0;34m(self, size)\u001b[0m\n\u001b[1;32m    191\u001b[0m             \u001b[0;32mwhile\u001b[0m \u001b[0;32mTrue\u001b[0m\u001b[0;34m:\u001b[0m\u001b[0;34m\u001b[0m\u001b[0m\n\u001b[1;32m    192\u001b[0m                 \u001b[0;32mtry\u001b[0m\u001b[0;34m:\u001b[0m\u001b[0;34m\u001b[0m\u001b[0m\n\u001b[0;32m--> 193\u001b[0;31m                     \u001b[0mnew_data\u001b[0m \u001b[0;34m=\u001b[0m \u001b[0mself\u001b[0m\u001b[0;34m.\u001b[0m\u001b[0m_read\u001b[0m\u001b[0;34m(\u001b[0m\u001b[0mself\u001b[0m\u001b[0;34m.\u001b[0m\u001b[0m_DEFAULT_BUFSIZE\u001b[0m\u001b[0;34m)\u001b[0m\u001b[0;34m\u001b[0m\u001b[0m\n\u001b[0m\u001b[1;32m    194\u001b[0m                 \u001b[0;32mexcept\u001b[0m \u001b[0mEOFError\u001b[0m\u001b[0;34m:\u001b[0m\u001b[0;34m\u001b[0m\u001b[0m\n\u001b[1;32m    195\u001b[0m                     \u001b[0mnew_data\u001b[0m \u001b[0;34m=\u001b[0m \u001b[0;32mNone\u001b[0m\u001b[0;34m\u001b[0m\u001b[0m\n",
      "\u001b[0;32m/Users/yaroslav/anaconda/envs/sep22/lib/python3.5/site-packages/paramiko/channel.py\u001b[0m in \u001b[0;36m_read\u001b[0;34m(self, size)\u001b[0m\n\u001b[1;32m   1328\u001b[0m \u001b[0;34m\u001b[0m\u001b[0m\n\u001b[1;32m   1329\u001b[0m     \u001b[0;32mdef\u001b[0m \u001b[0m_read\u001b[0m\u001b[0;34m(\u001b[0m\u001b[0mself\u001b[0m\u001b[0;34m,\u001b[0m \u001b[0msize\u001b[0m\u001b[0;34m)\u001b[0m\u001b[0;34m:\u001b[0m\u001b[0;34m\u001b[0m\u001b[0m\n\u001b[0;32m-> 1330\u001b[0;31m         \u001b[0;32mreturn\u001b[0m \u001b[0mself\u001b[0m\u001b[0;34m.\u001b[0m\u001b[0mchannel\u001b[0m\u001b[0;34m.\u001b[0m\u001b[0mrecv\u001b[0m\u001b[0;34m(\u001b[0m\u001b[0msize\u001b[0m\u001b[0;34m)\u001b[0m\u001b[0;34m\u001b[0m\u001b[0m\n\u001b[0m\u001b[1;32m   1331\u001b[0m \u001b[0;34m\u001b[0m\u001b[0m\n\u001b[1;32m   1332\u001b[0m     \u001b[0;32mdef\u001b[0m \u001b[0m_write\u001b[0m\u001b[0;34m(\u001b[0m\u001b[0mself\u001b[0m\u001b[0;34m,\u001b[0m \u001b[0mdata\u001b[0m\u001b[0;34m)\u001b[0m\u001b[0;34m:\u001b[0m\u001b[0;34m\u001b[0m\u001b[0m\n",
      "\u001b[0;32m/Users/yaroslav/anaconda/envs/sep22/lib/python3.5/site-packages/paramiko/channel.py\u001b[0m in \u001b[0;36mrecv\u001b[0;34m(self, nbytes)\u001b[0m\n\u001b[1;32m    681\u001b[0m         \"\"\"\n\u001b[1;32m    682\u001b[0m         \u001b[0;32mtry\u001b[0m\u001b[0;34m:\u001b[0m\u001b[0;34m\u001b[0m\u001b[0m\n\u001b[0;32m--> 683\u001b[0;31m             \u001b[0mout\u001b[0m \u001b[0;34m=\u001b[0m \u001b[0mself\u001b[0m\u001b[0;34m.\u001b[0m\u001b[0min_buffer\u001b[0m\u001b[0;34m.\u001b[0m\u001b[0mread\u001b[0m\u001b[0;34m(\u001b[0m\u001b[0mnbytes\u001b[0m\u001b[0;34m,\u001b[0m \u001b[0mself\u001b[0m\u001b[0;34m.\u001b[0m\u001b[0mtimeout\u001b[0m\u001b[0;34m)\u001b[0m\u001b[0;34m\u001b[0m\u001b[0m\n\u001b[0m\u001b[1;32m    684\u001b[0m         \u001b[0;32mexcept\u001b[0m \u001b[0mPipeTimeout\u001b[0m\u001b[0;34m:\u001b[0m\u001b[0;34m\u001b[0m\u001b[0m\n\u001b[1;32m    685\u001b[0m             \u001b[0;32mraise\u001b[0m \u001b[0msocket\u001b[0m\u001b[0;34m.\u001b[0m\u001b[0mtimeout\u001b[0m\u001b[0;34m(\u001b[0m\u001b[0;34m)\u001b[0m\u001b[0;34m\u001b[0m\u001b[0m\n",
      "\u001b[0;32m/Users/yaroslav/anaconda/envs/sep22/lib/python3.5/site-packages/paramiko/buffered_pipe.py\u001b[0m in \u001b[0;36mread\u001b[0;34m(self, nbytes, timeout)\u001b[0m\n\u001b[1;32m    154\u001b[0m                 \u001b[0;32mwhile\u001b[0m \u001b[0;34m(\u001b[0m\u001b[0mlen\u001b[0m\u001b[0;34m(\u001b[0m\u001b[0mself\u001b[0m\u001b[0;34m.\u001b[0m\u001b[0m_buffer\u001b[0m\u001b[0;34m)\u001b[0m \u001b[0;34m==\u001b[0m \u001b[0;36m0\u001b[0m\u001b[0;34m)\u001b[0m \u001b[0;32mand\u001b[0m \u001b[0;32mnot\u001b[0m \u001b[0mself\u001b[0m\u001b[0;34m.\u001b[0m\u001b[0m_closed\u001b[0m\u001b[0;34m:\u001b[0m\u001b[0;34m\u001b[0m\u001b[0m\n\u001b[1;32m    155\u001b[0m                     \u001b[0mthen\u001b[0m \u001b[0;34m=\u001b[0m \u001b[0mtime\u001b[0m\u001b[0;34m.\u001b[0m\u001b[0mtime\u001b[0m\u001b[0;34m(\u001b[0m\u001b[0;34m)\u001b[0m\u001b[0;34m\u001b[0m\u001b[0m\n\u001b[0;32m--> 156\u001b[0;31m                     \u001b[0mself\u001b[0m\u001b[0;34m.\u001b[0m\u001b[0m_cv\u001b[0m\u001b[0;34m.\u001b[0m\u001b[0mwait\u001b[0m\u001b[0;34m(\u001b[0m\u001b[0mtimeout\u001b[0m\u001b[0;34m)\u001b[0m\u001b[0;34m\u001b[0m\u001b[0m\n\u001b[0m\u001b[1;32m    157\u001b[0m                     \u001b[0;32mif\u001b[0m \u001b[0mtimeout\u001b[0m \u001b[0;32mis\u001b[0m \u001b[0;32mnot\u001b[0m \u001b[0;32mNone\u001b[0m\u001b[0;34m:\u001b[0m\u001b[0;34m\u001b[0m\u001b[0m\n\u001b[1;32m    158\u001b[0m                         \u001b[0mtimeout\u001b[0m \u001b[0;34m-=\u001b[0m \u001b[0mtime\u001b[0m\u001b[0;34m.\u001b[0m\u001b[0mtime\u001b[0m\u001b[0;34m(\u001b[0m\u001b[0;34m)\u001b[0m \u001b[0;34m-\u001b[0m \u001b[0mthen\u001b[0m\u001b[0;34m\u001b[0m\u001b[0m\n",
      "\u001b[0;32m/Users/yaroslav/anaconda/envs/sep22/lib/python3.5/threading.py\u001b[0m in \u001b[0;36mwait\u001b[0;34m(self, timeout)\u001b[0m\n\u001b[1;32m    291\u001b[0m         \u001b[0;32mtry\u001b[0m\u001b[0;34m:\u001b[0m    \u001b[0;31m# restore state no matter what (e.g., KeyboardInterrupt)\u001b[0m\u001b[0;34m\u001b[0m\u001b[0m\n\u001b[1;32m    292\u001b[0m             \u001b[0;32mif\u001b[0m \u001b[0mtimeout\u001b[0m \u001b[0;32mis\u001b[0m \u001b[0;32mNone\u001b[0m\u001b[0;34m:\u001b[0m\u001b[0;34m\u001b[0m\u001b[0m\n\u001b[0;32m--> 293\u001b[0;31m                 \u001b[0mwaiter\u001b[0m\u001b[0;34m.\u001b[0m\u001b[0macquire\u001b[0m\u001b[0;34m(\u001b[0m\u001b[0;34m)\u001b[0m\u001b[0;34m\u001b[0m\u001b[0m\n\u001b[0m\u001b[1;32m    294\u001b[0m                 \u001b[0mgotit\u001b[0m \u001b[0;34m=\u001b[0m \u001b[0;32mTrue\u001b[0m\u001b[0;34m\u001b[0m\u001b[0m\n\u001b[1;32m    295\u001b[0m             \u001b[0;32melse\u001b[0m\u001b[0;34m:\u001b[0m\u001b[0;34m\u001b[0m\u001b[0m\n",
      "\u001b[0;31mKeyboardInterrupt\u001b[0m: "
     ]
    }
   ],
   "source": [
    "ss=shell.stdout.read()"
   ]
  },
  {
   "cell_type": "code",
   "execution_count": 116,
   "metadata": {
    "collapsed": false
   },
   "outputs": [
    {
     "ename": "KeyboardInterrupt",
     "evalue": "",
     "output_type": "error",
     "traceback": [
      "\u001b[0;31m---------------------------------------------------------------------------\u001b[0m",
      "\u001b[0;31mKeyboardInterrupt\u001b[0m                         Traceback (most recent call last)",
      "\u001b[0;32m<ipython-input-116-1076df6a045d>\u001b[0m in \u001b[0;36m<module>\u001b[0;34m()\u001b[0m\n\u001b[1;32m      1\u001b[0m \u001b[0mshell\u001b[0m\u001b[0;34m.\u001b[0m\u001b[0mcmd\u001b[0m\u001b[0;34m(\u001b[0m\u001b[0;34m'ls'\u001b[0m\u001b[0;34m)\u001b[0m\u001b[0;34m\u001b[0m\u001b[0m\n\u001b[0;32m----> 2\u001b[0;31m \u001b[0mprint\u001b[0m\u001b[0;34m(\u001b[0m\u001b[0mshell\u001b[0m\u001b[0;34m.\u001b[0m\u001b[0mstdout\u001b[0m\u001b[0;34m.\u001b[0m\u001b[0mread\u001b[0m\u001b[0;34m(\u001b[0m\u001b[0;34m)\u001b[0m\u001b[0;34m.\u001b[0m\u001b[0mdecode\u001b[0m\u001b[0;34m(\u001b[0m\u001b[0;34m\"ascii\"\u001b[0m\u001b[0;34m)\u001b[0m\u001b[0;34m)\u001b[0m\u001b[0;34m\u001b[0m\u001b[0m\n\u001b[0m",
      "\u001b[0;32m/Users/yaroslav/anaconda/envs/sep22/lib/python3.5/site-packages/paramiko/file.py\u001b[0m in \u001b[0;36mread\u001b[0;34m(self, size)\u001b[0m\n\u001b[1;32m    191\u001b[0m             \u001b[0;32mwhile\u001b[0m \u001b[0;32mTrue\u001b[0m\u001b[0;34m:\u001b[0m\u001b[0;34m\u001b[0m\u001b[0m\n\u001b[1;32m    192\u001b[0m                 \u001b[0;32mtry\u001b[0m\u001b[0;34m:\u001b[0m\u001b[0;34m\u001b[0m\u001b[0m\n\u001b[0;32m--> 193\u001b[0;31m                     \u001b[0mnew_data\u001b[0m \u001b[0;34m=\u001b[0m \u001b[0mself\u001b[0m\u001b[0;34m.\u001b[0m\u001b[0m_read\u001b[0m\u001b[0;34m(\u001b[0m\u001b[0mself\u001b[0m\u001b[0;34m.\u001b[0m\u001b[0m_DEFAULT_BUFSIZE\u001b[0m\u001b[0;34m)\u001b[0m\u001b[0;34m\u001b[0m\u001b[0m\n\u001b[0m\u001b[1;32m    194\u001b[0m                 \u001b[0;32mexcept\u001b[0m \u001b[0mEOFError\u001b[0m\u001b[0;34m:\u001b[0m\u001b[0;34m\u001b[0m\u001b[0m\n\u001b[1;32m    195\u001b[0m                     \u001b[0mnew_data\u001b[0m \u001b[0;34m=\u001b[0m \u001b[0;32mNone\u001b[0m\u001b[0;34m\u001b[0m\u001b[0m\n",
      "\u001b[0;32m/Users/yaroslav/anaconda/envs/sep22/lib/python3.5/site-packages/paramiko/channel.py\u001b[0m in \u001b[0;36m_read\u001b[0;34m(self, size)\u001b[0m\n\u001b[1;32m   1328\u001b[0m \u001b[0;34m\u001b[0m\u001b[0m\n\u001b[1;32m   1329\u001b[0m     \u001b[0;32mdef\u001b[0m \u001b[0m_read\u001b[0m\u001b[0;34m(\u001b[0m\u001b[0mself\u001b[0m\u001b[0;34m,\u001b[0m \u001b[0msize\u001b[0m\u001b[0;34m)\u001b[0m\u001b[0;34m:\u001b[0m\u001b[0;34m\u001b[0m\u001b[0m\n\u001b[0;32m-> 1330\u001b[0;31m         \u001b[0;32mreturn\u001b[0m \u001b[0mself\u001b[0m\u001b[0;34m.\u001b[0m\u001b[0mchannel\u001b[0m\u001b[0;34m.\u001b[0m\u001b[0mrecv\u001b[0m\u001b[0;34m(\u001b[0m\u001b[0msize\u001b[0m\u001b[0;34m)\u001b[0m\u001b[0;34m\u001b[0m\u001b[0m\n\u001b[0m\u001b[1;32m   1331\u001b[0m \u001b[0;34m\u001b[0m\u001b[0m\n\u001b[1;32m   1332\u001b[0m     \u001b[0;32mdef\u001b[0m \u001b[0m_write\u001b[0m\u001b[0;34m(\u001b[0m\u001b[0mself\u001b[0m\u001b[0;34m,\u001b[0m \u001b[0mdata\u001b[0m\u001b[0;34m)\u001b[0m\u001b[0;34m:\u001b[0m\u001b[0;34m\u001b[0m\u001b[0m\n",
      "\u001b[0;32m/Users/yaroslav/anaconda/envs/sep22/lib/python3.5/site-packages/paramiko/channel.py\u001b[0m in \u001b[0;36mrecv\u001b[0;34m(self, nbytes)\u001b[0m\n\u001b[1;32m    681\u001b[0m         \"\"\"\n\u001b[1;32m    682\u001b[0m         \u001b[0;32mtry\u001b[0m\u001b[0;34m:\u001b[0m\u001b[0;34m\u001b[0m\u001b[0m\n\u001b[0;32m--> 683\u001b[0;31m             \u001b[0mout\u001b[0m \u001b[0;34m=\u001b[0m \u001b[0mself\u001b[0m\u001b[0;34m.\u001b[0m\u001b[0min_buffer\u001b[0m\u001b[0;34m.\u001b[0m\u001b[0mread\u001b[0m\u001b[0;34m(\u001b[0m\u001b[0mnbytes\u001b[0m\u001b[0;34m,\u001b[0m \u001b[0mself\u001b[0m\u001b[0;34m.\u001b[0m\u001b[0mtimeout\u001b[0m\u001b[0;34m)\u001b[0m\u001b[0;34m\u001b[0m\u001b[0m\n\u001b[0m\u001b[1;32m    684\u001b[0m         \u001b[0;32mexcept\u001b[0m \u001b[0mPipeTimeout\u001b[0m\u001b[0;34m:\u001b[0m\u001b[0;34m\u001b[0m\u001b[0m\n\u001b[1;32m    685\u001b[0m             \u001b[0;32mraise\u001b[0m \u001b[0msocket\u001b[0m\u001b[0;34m.\u001b[0m\u001b[0mtimeout\u001b[0m\u001b[0;34m(\u001b[0m\u001b[0;34m)\u001b[0m\u001b[0;34m\u001b[0m\u001b[0m\n",
      "\u001b[0;32m/Users/yaroslav/anaconda/envs/sep22/lib/python3.5/site-packages/paramiko/buffered_pipe.py\u001b[0m in \u001b[0;36mread\u001b[0;34m(self, nbytes, timeout)\u001b[0m\n\u001b[1;32m    154\u001b[0m                 \u001b[0;32mwhile\u001b[0m \u001b[0;34m(\u001b[0m\u001b[0mlen\u001b[0m\u001b[0;34m(\u001b[0m\u001b[0mself\u001b[0m\u001b[0;34m.\u001b[0m\u001b[0m_buffer\u001b[0m\u001b[0;34m)\u001b[0m \u001b[0;34m==\u001b[0m \u001b[0;36m0\u001b[0m\u001b[0;34m)\u001b[0m \u001b[0;32mand\u001b[0m \u001b[0;32mnot\u001b[0m \u001b[0mself\u001b[0m\u001b[0;34m.\u001b[0m\u001b[0m_closed\u001b[0m\u001b[0;34m:\u001b[0m\u001b[0;34m\u001b[0m\u001b[0m\n\u001b[1;32m    155\u001b[0m                     \u001b[0mthen\u001b[0m \u001b[0;34m=\u001b[0m \u001b[0mtime\u001b[0m\u001b[0;34m.\u001b[0m\u001b[0mtime\u001b[0m\u001b[0;34m(\u001b[0m\u001b[0;34m)\u001b[0m\u001b[0;34m\u001b[0m\u001b[0m\n\u001b[0;32m--> 156\u001b[0;31m                     \u001b[0mself\u001b[0m\u001b[0;34m.\u001b[0m\u001b[0m_cv\u001b[0m\u001b[0;34m.\u001b[0m\u001b[0mwait\u001b[0m\u001b[0;34m(\u001b[0m\u001b[0mtimeout\u001b[0m\u001b[0;34m)\u001b[0m\u001b[0;34m\u001b[0m\u001b[0m\n\u001b[0m\u001b[1;32m    157\u001b[0m                     \u001b[0;32mif\u001b[0m \u001b[0mtimeout\u001b[0m \u001b[0;32mis\u001b[0m \u001b[0;32mnot\u001b[0m \u001b[0;32mNone\u001b[0m\u001b[0;34m:\u001b[0m\u001b[0;34m\u001b[0m\u001b[0m\n\u001b[1;32m    158\u001b[0m                         \u001b[0mtimeout\u001b[0m \u001b[0;34m-=\u001b[0m \u001b[0mtime\u001b[0m\u001b[0;34m.\u001b[0m\u001b[0mtime\u001b[0m\u001b[0;34m(\u001b[0m\u001b[0;34m)\u001b[0m \u001b[0;34m-\u001b[0m \u001b[0mthen\u001b[0m\u001b[0;34m\u001b[0m\u001b[0m\n",
      "\u001b[0;32m/Users/yaroslav/anaconda/envs/sep22/lib/python3.5/threading.py\u001b[0m in \u001b[0;36mwait\u001b[0;34m(self, timeout)\u001b[0m\n\u001b[1;32m    291\u001b[0m         \u001b[0;32mtry\u001b[0m\u001b[0;34m:\u001b[0m    \u001b[0;31m# restore state no matter what (e.g., KeyboardInterrupt)\u001b[0m\u001b[0;34m\u001b[0m\u001b[0m\n\u001b[1;32m    292\u001b[0m             \u001b[0;32mif\u001b[0m \u001b[0mtimeout\u001b[0m \u001b[0;32mis\u001b[0m \u001b[0;32mNone\u001b[0m\u001b[0;34m:\u001b[0m\u001b[0;34m\u001b[0m\u001b[0m\n\u001b[0;32m--> 293\u001b[0;31m                 \u001b[0mwaiter\u001b[0m\u001b[0;34m.\u001b[0m\u001b[0macquire\u001b[0m\u001b[0;34m(\u001b[0m\u001b[0;34m)\u001b[0m\u001b[0;34m\u001b[0m\u001b[0m\n\u001b[0m\u001b[1;32m    294\u001b[0m                 \u001b[0mgotit\u001b[0m \u001b[0;34m=\u001b[0m \u001b[0;32mTrue\u001b[0m\u001b[0;34m\u001b[0m\u001b[0m\n\u001b[1;32m    295\u001b[0m             \u001b[0;32melse\u001b[0m\u001b[0;34m:\u001b[0m\u001b[0;34m\u001b[0m\u001b[0m\n",
      "\u001b[0;31mKeyboardInterrupt\u001b[0m: "
     ]
    }
   ],
   "source": [
    "shell.cmd('ls')\n",
    "print(shell.stdout.read().decode(\"ascii\"))"
   ]
  },
  {
   "cell_type": "code",
   "execution_count": null,
   "metadata": {
    "collapsed": true
   },
   "outputs": [],
   "source": [
    "shell.stdout"
   ]
  },
  {
   "cell_type": "code",
   "execution_count": 113,
   "metadata": {
    "collapsed": false
   },
   "outputs": [
    {
     "data": {
      "text/plain": [
       "['anaconda3                                hi.txt\\n',\n",
       " 'Anaconda3-4.4.0-Linux-x86_64.sh          home\\n',\n",
       " 'cuda-repo-ubuntu1604_8.0.61-1_amd64.deb  libcudnn5_5.1.10-1_cuda8.0_amd64.deb\\n',\n",
       " 'd                                        libcudnn6_6.0.21-1_cuda8.0_amd64.deb\\n',\n",
       " 'Dropbox                                  pytorch_example\\n',\n",
       " 'early-eager                              pytorch_example.tar\\n',\n",
       " 'efs                                      #test.txt#\\n',\n",
       " 'efs2                                     whisper\\n',\n",
       " 'git0\\n',\n",
       " 'ubuntu@ip-172-31-37-145:~$ echo end of stdOUT buffer. finished with exit status  $?\\n']"
      ]
     },
     "execution_count": 113,
     "metadata": {},
     "output_type": "execute_result"
    }
   ],
   "source": [
    "stdout"
   ]
  },
  {
   "cell_type": "code",
   "execution_count": null,
   "metadata": {
    "collapsed": true
   },
   "outputs": [],
   "source": [
    "channel = ssh_client.invoke_shell()\n",
    "stdin = channel.makefile('wb')\n",
    "stdout = channel.makefile('r')"
   ]
  },
  {
   "cell_type": "code",
   "execution_count": 96,
   "metadata": {
    "collapsed": false
   },
   "outputs": [
    {
     "name": "stdout",
     "output_type": "stream",
     "text": [
      "\n"
     ]
    }
   ],
   "source": [
    "stdin,stdout,stderr=ssh_client.exec_command('cd efs', get_pty=True)\n",
    "print(stdout.read().decode(\"ascii\"))"
   ]
  },
  {
   "cell_type": "code",
   "execution_count": 97,
   "metadata": {
    "collapsed": false
   },
   "outputs": [
    {
     "name": "stdout",
     "output_type": "stream",
     "text": [
      "anaconda3\t\t\t\t hi.txt\r\n",
      "Anaconda3-4.4.0-Linux-x86_64.sh\t\t home\r\n",
      "cuda-repo-ubuntu1604_8.0.61-1_amd64.deb  libcudnn5_5.1.10-1_cuda8.0_amd64.deb\r\n",
      "d\t\t\t\t\t libcudnn6_6.0.21-1_cuda8.0_amd64.deb\r\n",
      "Dropbox\t\t\t\t\t pytorch_example\r\n",
      "early-eager\t\t\t\t pytorch_example.tar\r\n",
      "efs\t\t\t\t\t #test.txt#\r\n",
      "efs2\t\t\t\t\t whisper\r\n",
      "git0\r\n",
      "\n"
     ]
    }
   ],
   "source": [
    "stdin,stdout,stderr=ssh_client.exec_command('ls', get_pty=True)\n",
    "print(stdout.read().decode(\"ascii\"))"
   ]
  },
  {
   "cell_type": "code",
   "execution_count": 92,
   "metadata": {
    "collapsed": false
   },
   "outputs": [
    {
     "data": {
      "text/plain": [
       "<SFTPAttributes: [ size=11 uid=1000 gid=1000 mode=0o100664 atime=1510523151 mtime=1510523217 ]>"
      ]
     },
     "execution_count": 92,
     "metadata": {},
     "output_type": "execute_result"
    }
   ],
   "source": [
    "sftp = ssh_client.open_sftp()\n",
    "sftp.put('/temp/hi.txt', 'hi.txt')"
   ]
  },
  {
   "cell_type": "markdown",
   "metadata": {},
   "source": [
    "# Placement groups"
   ]
  },
  {
   "cell_type": "code",
   "execution_count": 129,
   "metadata": {
    "collapsed": true
   },
   "outputs": [],
   "source": [
    "res = client.create_placement_group(GroupName=\"test3\", Strategy='cluster')"
   ]
  },
  {
   "cell_type": "code",
   "execution_count": 130,
   "metadata": {
    "collapsed": false
   },
   "outputs": [
    {
     "data": {
      "text/plain": [
       "{'ResponseMetadata': {'HTTPHeaders': {'content-type': 'text/xml;charset=UTF-8',\n",
       "   'date': 'Tue, 12 Dec 2017 19:49:22 GMT',\n",
       "   'server': 'AmazonEC2',\n",
       "   'transfer-encoding': 'chunked',\n",
       "   'vary': 'Accept-Encoding'},\n",
       "  'HTTPStatusCode': 200,\n",
       "  'RequestId': '4f745b13-6567-4272-8197-fe4a6acf5ef7',\n",
       "  'RetryAttempts': 0}}"
      ]
     },
     "execution_count": 130,
     "metadata": {},
     "output_type": "execute_result"
    }
   ],
   "source": [
    "res"
   ]
  },
  {
   "cell_type": "code",
   "execution_count": 153,
   "metadata": {
    "collapsed": true
   },
   "outputs": [],
   "source": [
    "\n",
    "def _create_ec2_client():\n",
    "  REGION = os.environ['AWS_DEFAULT_REGION']\n",
    "  return boto3.client('ec2', region_name=REGION)\n",
    "\n",
    "def get_placement_group_dict():\n",
    "  \"\"\"Returns dictionary of {placement_group_name: state}\"\"\"\n",
    "\n",
    "  client = _create_ec2_client()\n",
    "  response = client.describe_placement_groups()\n",
    "  assert _is_good_response(response)\n",
    "\n",
    "  result = OrderedDict()\n",
    "  for placement_group_response in response['PlacementGroups']:\n",
    "    key = placement_group_response['GroupName']\n",
    "    assert key not in result, (\"Duplicate placement group \" +\n",
    "                               placement_group_name)\n",
    "    result[key] = placement_group_response['State']\n",
    "  return response"
   ]
  },
  {
   "cell_type": "code",
   "execution_count": 154,
   "metadata": {
    "collapsed": false
   },
   "outputs": [
    {
     "data": {
      "text/plain": [
       "{'PlacementGroups': [{'GroupName': 'inet3',\n",
       "   'State': 'available',\n",
       "   'Strategy': 'cluster'},\n",
       "  {'GroupName': 'amazon1', 'State': 'available', 'Strategy': 'cluster'},\n",
       "  {'GroupName': 'sharded2', 'State': 'available', 'Strategy': 'cluster'},\n",
       "  {'GroupName': 'beefy2', 'State': 'available', 'Strategy': 'cluster'},\n",
       "  {'GroupName': 'default', 'State': 'available', 'Strategy': 'cluster'},\n",
       "  {'GroupName': 'amazon', 'State': 'available', 'Strategy': 'cluster'},\n",
       "  {'GroupName': 'test3', 'State': 'available', 'Strategy': 'cluster'},\n",
       "  {'GroupName': 'beefy', 'State': 'available', 'Strategy': 'cluster'},\n",
       "  {'GroupName': 'beefy_head', 'State': 'available', 'Strategy': 'cluster'},\n",
       "  {'GroupName': 'amazon3', 'State': 'available', 'Strategy': 'cluster'},\n",
       "  {'GroupName': 'beefy3', 'State': 'available', 'Strategy': 'cluster'},\n",
       "  {'GroupName': 'inet', 'State': 'available', 'Strategy': 'cluster'},\n",
       "  {'GroupName': 'amazon2', 'State': 'available', 'Strategy': 'cluster'},\n",
       "  {'GroupName': 'sharded', 'State': 'available', 'Strategy': 'cluster'}],\n",
       " 'ResponseMetadata': {'HTTPHeaders': {'content-type': 'text/xml;charset=UTF-8',\n",
       "   'date': 'Wed, 13 Dec 2017 20:17:25 GMT',\n",
       "   'server': 'AmazonEC2',\n",
       "   'transfer-encoding': 'chunked',\n",
       "   'vary': 'Accept-Encoding'},\n",
       "  'HTTPStatusCode': 200,\n",
       "  'RequestId': '6318b155-7f52-4c08-b6bf-08aadc3d1530',\n",
       "  'RetryAttempts': 0}}"
      ]
     },
     "execution_count": 154,
     "metadata": {},
     "output_type": "execute_result"
    }
   ],
   "source": [
    "get_placement_group_dict()"
   ]
  },
  {
   "cell_type": "code",
   "execution_count": null,
   "metadata": {
    "collapsed": true
   },
   "outputs": [],
   "source": [
    "delete_place"
   ]
  },
  {
   "cell_type": "code",
   "execution_count": 127,
   "metadata": {
    "collapsed": true
   },
   "outputs": [],
   "source": [
    "client = create_ec2_client()\n"
   ]
  },
  {
   "cell_type": "code",
   "execution_count": 1,
   "metadata": {
    "collapsed": true
   },
   "outputs": [],
   "source": [
    "import boto3\n",
    "ec2 = boto3.client('ec2')"
   ]
  },
  {
   "cell_type": "code",
   "execution_count": 9,
   "metadata": {
    "collapsed": true
   },
   "outputs": [],
   "source": [
    "result=ec2.describe_placement_groups(GroupNames=[\"beefy2\"])"
   ]
  },
  {
   "cell_type": "code",
   "execution_count": 13,
   "metadata": {
    "collapsed": false
   },
   "outputs": [
    {
     "data": {
      "text/plain": [
       "True"
      ]
     },
     "execution_count": 13,
     "metadata": {},
     "output_type": "execute_result"
    }
   ],
   "source": [
    "result['PlacementGroups'][0]['State']=='available'"
   ]
  },
  {
   "cell_type": "code",
   "execution_count": 9,
   "metadata": {
    "collapsed": false
   },
   "outputs": [
    {
     "data": {
      "text/plain": [
       "{'GroupName': 'gpu12', 'State': 'available', 'Strategy': 'cluster'}"
      ]
     },
     "execution_count": 9,
     "metadata": {},
     "output_type": "execute_result"
    }
   ],
   "source": [
    "result['PlacementGroups'][0]"
   ]
  },
  {
   "cell_type": "code",
   "execution_count": 2,
   "metadata": {
    "collapsed": false
   },
   "outputs": [
    {
     "data": {
      "text/plain": [
       "{'PlacementGroups': [{'GroupName': 'gpu3',\n",
       "   'State': 'available',\n",
       "   'Strategy': 'cluster'}],\n",
       " 'ResponseMetadata': {'HTTPHeaders': {'content-type': 'text/xml;charset=UTF-8',\n",
       "   'date': 'Tue, 28 Nov 2017 18:51:03 GMT',\n",
       "   'server': 'AmazonEC2',\n",
       "   'transfer-encoding': 'chunked',\n",
       "   'vary': 'Accept-Encoding'},\n",
       "  'HTTPStatusCode': 200,\n",
       "  'RequestId': 'a92ecfb4-7897-4def-8edc-6bdccfe9ac61',\n",
       "  'RetryAttempts': 0}}"
      ]
     },
     "execution_count": 2,
     "metadata": {},
     "output_type": "execute_result"
    }
   ],
   "source": [
    "ec2.describe_placement_groups(GroupNames=['gpu3'])"
   ]
  },
  {
   "cell_type": "code",
   "execution_count": 10,
   "metadata": {
    "collapsed": false
   },
   "outputs": [
    {
     "data": {
      "text/plain": [
       "{'ResponseMetadata': {'HTTPHeaders': {'content-type': 'text/xml;charset=UTF-8',\n",
       "   'date': 'Fri, 17 Nov 2017 05:26:01 GMT',\n",
       "   'server': 'AmazonEC2',\n",
       "   'transfer-encoding': 'chunked',\n",
       "   'vary': 'Accept-Encoding'},\n",
       "  'HTTPStatusCode': 200,\n",
       "  'RequestId': '9f5590d2-2b43-473b-bf03-0045eff22408',\n",
       "  'RetryAttempts': 0}}"
      ]
     },
     "execution_count": 10,
     "metadata": {},
     "output_type": "execute_result"
    }
   ],
   "source": [
    "ec2.delete_placement_group(GroupName='test')"
   ]
  },
  {
   "cell_type": "code",
   "execution_count": 17,
   "metadata": {
    "collapsed": true
   },
   "outputs": [],
   "source": [
    "try:\n",
    "  res = client.create_placement_group(GroupName='gpu3', Strategy='cluster')\n",
    "except Exception as e:\n",
    "  aaa = e"
   ]
  },
  {
   "cell_type": "code",
   "execution_count": 160,
   "metadata": {
    "collapsed": false
   },
   "outputs": [
    {
     "data": {
      "text/plain": [
       "{'ResponseMetadata': {'HTTPHeaders': {'content-type': 'text/xml;charset=UTF-8',\n",
       "   'date': 'Wed, 13 Dec 2017 20:27:50 GMT',\n",
       "   'server': 'AmazonEC2',\n",
       "   'transfer-encoding': 'chunked',\n",
       "   'vary': 'Accept-Encoding'},\n",
       "  'HTTPStatusCode': 200,\n",
       "  'RequestId': '4d501789-b047-47e8-9354-4513c345e722',\n",
       "  'RetryAttempts': 0}}"
      ]
     },
     "execution_count": 160,
     "metadata": {},
     "output_type": "execute_result"
    }
   ],
   "source": [
    "client.delete_placement_group(GroupName=\"beefy\")"
   ]
  },
  {
   "cell_type": "code",
   "execution_count": 20,
   "metadata": {
    "collapsed": false
   },
   "outputs": [
    {
     "data": {
      "text/plain": [
       "'InvalidPlacementGroup.Duplicate'"
      ]
     },
     "execution_count": 20,
     "metadata": {},
     "output_type": "execute_result"
    }
   ],
   "source": [
    "aaa.response['Error']['Code']"
   ]
  },
  {
   "cell_type": "code",
   "execution_count": 21,
   "metadata": {
    "collapsed": false
   },
   "outputs": [
    {
     "data": {
      "text/plain": [
       "\"An error occurred (InvalidPlacementGroup.Duplicate) when calling the CreatePlacementGroup operation: The placement group 'gpu3' already exists.\""
      ]
     },
     "execution_count": 21,
     "metadata": {},
     "output_type": "execute_result"
    }
   ],
   "source": [
    "str(aaa)"
   ]
  },
  {
   "cell_type": "code",
   "execution_count": null,
   "metadata": {
    "collapsed": true
   },
   "outputs": [],
   "source": [
    "def MaybeCreatePlacementGroup(name='tf_bm'):\n",
    "  client = boto3.client('ec2')\n",
    "  try:\n",
    "    client.describe_placement_groups(GroupNames=[name])\n",
    "  except boto3.exceptions.botocore.exceptions.ClientError as e:\n",
    "    res = client.create_placement_group(GroupName=name, Strategy='cluster')\n",
    "\n",
    "  counter = 0\n",
    "  while True:\n",
    "    try:\n",
    "      res = client.describe_placement_groups(GroupNames=[name])\n",
    "      if res['PlacementGroups'][0]['State'] == 'available':\n",
    "        break\n",
    "    except:\n",
    "      pass\n",
    "    counter = counter + 1\n",
    "    if counter >= 10:\n",
    "      print('Failed to create placement group %s' % name)\n",
    "    time.sleep(10)\n",
    "\n",
    "\n",
    "def DeletePlacementGroup(name='tf_bm'):\n",
    "  client = boto3.client('ec2')\n",
    "  try:\n",
    "    client.describe_placement_groups(GroupNames=[name])\n",
    "  except boto3.exceptions.botocore.exceptions.ClientError as e:\n",
    "    print(\"Placement group %s doesn't exit.\" % name)\n",
    "    return\n",
    "\n",
    "  # Not sure whether delete_placement_group would throw or not.\n",
    "  res = client.delete_placement_group(GroupName=name)\n",
    "  if res['ResponseMetadata']['HTTPStatusCode'] != 200:\n",
    "    print('Failed to delete placement group %s' % name)"
   ]
  },
  {
   "cell_type": "markdown",
   "metadata": {},
   "source": [
    "# Instance limits using limit checker"
   ]
  },
  {
   "cell_type": "code",
   "execution_count": 9,
   "metadata": {
    "collapsed": true
   },
   "outputs": [],
   "source": [
    "ec2 = boto3.client('ec2')\n",
    "response = ec2.describe_instances()\n",
    "\n",
    "instance_list = []\n",
    "for reservation in response['Reservations']:\n",
    "  for instance in reservation['Instances']:\n",
    "    instance_list.append(instance)"
   ]
  },
  {
   "cell_type": "code",
   "execution_count": 12,
   "metadata": {
    "collapsed": false
   },
   "outputs": [
    {
     "name": "stdout",
     "output_type": "stream",
     "text": [
      "r4.xlarge running\n",
      "c5.2xlarge terminated\n",
      "c5.2xlarge terminated\n",
      "c5.2xlarge terminated\n",
      "c5.2xlarge terminated\n",
      "p2.8xlarge running\n"
     ]
    }
   ],
   "source": [
    "inst = 0\n",
    "for i in instance_list:\n",
    "  print(i['InstanceType'], i['State']['Name'])\n",
    "  if i['InstanceType'].startswith('p2'):\n",
    "    inst = i\n",
    "    break"
   ]
  },
  {
   "cell_type": "code",
   "execution_count": 10,
   "metadata": {
    "collapsed": false
   },
   "outputs": [
    {
     "name": "stderr",
     "output_type": "stream",
     "text": [
      "awslimitchecker 2.0.0 is AGPL-licensed free software; all users have a right to the full source code of this version. See <https://github.com/jantman/awslimitchecker>\n"
     ]
    }
   ],
   "source": [
    "from awslimitchecker.checker import AwsLimitChecker\n",
    "c = AwsLimitChecker()"
   ]
  },
  {
   "cell_type": "code",
   "execution_count": 11,
   "metadata": {
    "collapsed": false
   },
   "outputs": [
    {
     "name": "stderr",
     "output_type": "stream",
     "text": [
      "ERROR - unknown instance type 'c5.2xlarge'; not counting\n",
      "ERROR - unknown instance type 'c5.2xlarge'; not counting\n",
      "ERROR - unknown instance type 'c5.2xlarge'; not counting\n",
      "ERROR - unknown instance type 'c5.2xlarge'; not counting\n"
     ]
    }
   ],
   "source": [
    "c.find_usage()"
   ]
  },
  {
   "cell_type": "code",
   "execution_count": 12,
   "metadata": {
    "collapsed": true,
    "scrolled": false
   },
   "outputs": [],
   "source": [
    "limits=c.get_limits()"
   ]
  },
  {
   "cell_type": "code",
   "execution_count": 18,
   "metadata": {
    "collapsed": false
   },
   "outputs": [
    {
     "ename": "KeyError",
     "evalue": "'Running On-Demand c5.xlarge instances'",
     "output_type": "error",
     "traceback": [
      "\u001b[0;31m---------------------------------------------------------------------------\u001b[0m",
      "\u001b[0;31mKeyError\u001b[0m                                  Traceback (most recent call last)",
      "\u001b[0;32m<ipython-input-18-1652fbf60a10>\u001b[0m in \u001b[0;36m<module>\u001b[0;34m()\u001b[0m\n\u001b[0;32m----> 1\u001b[0;31m \u001b[0mll\u001b[0m\u001b[0;34m=\u001b[0m\u001b[0mlimits\u001b[0m\u001b[0;34m[\u001b[0m\u001b[0;34m'EC2'\u001b[0m\u001b[0;34m]\u001b[0m\u001b[0;34m[\u001b[0m\u001b[0;34m'Running On-Demand c5.xlarge instances'\u001b[0m\u001b[0;34m]\u001b[0m\u001b[0;34m\u001b[0m\u001b[0m\n\u001b[0m",
      "\u001b[0;31mKeyError\u001b[0m: 'Running On-Demand c5.xlarge instances'"
     ]
    }
   ],
   "source": [
    "ll=limits['EC2']['Running On-Demand c5.xlarge instances']"
   ]
  },
  {
   "cell_type": "code",
   "execution_count": 14,
   "metadata": {
    "collapsed": true
   },
   "outputs": [],
   "source": [
    "usage = ll.get_current_usage()[0]"
   ]
  },
  {
   "cell_type": "code",
   "execution_count": 15,
   "metadata": {
    "collapsed": false
   },
   "outputs": [
    {
     "data": {
      "text/plain": [
       "0"
      ]
     },
     "execution_count": 15,
     "metadata": {},
     "output_type": "execute_result"
    }
   ],
   "source": [
    "usage.get_value()"
   ]
  },
  {
   "cell_type": "code",
   "execution_count": 16,
   "metadata": {
    "collapsed": true
   },
   "outputs": [],
   "source": [
    "machine_limit = limits['EC2']['Running On-Demand r4.xlarge instances']"
   ]
  },
  {
   "cell_type": "code",
   "execution_count": 17,
   "metadata": {
    "collapsed": false
   },
   "outputs": [
    {
     "data": {
      "text/plain": [
       "0"
      ]
     },
     "execution_count": 17,
     "metadata": {},
     "output_type": "execute_result"
    }
   ],
   "source": [
    "machine_limit.get_limit_source()"
   ]
  },
  {
   "cell_type": "code",
   "execution_count": 50,
   "metadata": {
    "collapsed": true
   },
   "outputs": [],
   "source": [
    "temp=machine_limit.get_current_usage()[0]"
   ]
  },
  {
   "cell_type": "code",
   "execution_count": 53,
   "metadata": {
    "collapsed": false
   },
   "outputs": [
    {
     "data": {
      "text/plain": [
       "'AWS::EC2::Instance'"
      ]
     },
     "execution_count": 53,
     "metadata": {},
     "output_type": "execute_result"
    }
   ],
   "source": [
    "temp.aws_type"
   ]
  },
  {
   "cell_type": "code",
   "execution_count": 47,
   "metadata": {
    "collapsed": false
   },
   "outputs": [
    {
     "data": {
      "text/plain": [
       "'6'"
      ]
     },
     "execution_count": 47,
     "metadata": {},
     "output_type": "execute_result"
    }
   ],
   "source": [
    "machine_limit.get_current_usage_str()"
   ]
  },
  {
   "cell_type": "code",
   "execution_count": 44,
   "metadata": {
    "collapsed": false
   },
   "outputs": [
    {
     "data": {
      "text/plain": [
       "20"
      ]
     },
     "execution_count": 44,
     "metadata": {},
     "output_type": "execute_result"
    }
   ],
   "source": [
    "machine_limit.get_limit()"
   ]
  },
  {
   "cell_type": "markdown",
   "metadata": {},
   "source": [
    "# Instance limits using boto3 "
   ]
  },
  {
   "cell_type": "code",
   "execution_count": 27,
   "metadata": {
    "collapsed": false
   },
   "outputs": [
    {
     "data": {
      "text/plain": [
       "{'AccountAttributes': [{'AttributeName': 'max-instances',\n",
       "   'AttributeValues': [{'AttributeValue': '20'}]}],\n",
       " 'ResponseMetadata': {'HTTPHeaders': {'content-type': 'text/xml;charset=UTF-8',\n",
       "   'date': 'Tue, 28 Nov 2017 21:11:48 GMT',\n",
       "   'server': 'AmazonEC2',\n",
       "   'transfer-encoding': 'chunked',\n",
       "   'vary': 'Accept-Encoding'},\n",
       "  'HTTPStatusCode': 200,\n",
       "  'RequestId': '16d4bdaa-fd5e-4376-953d-a13f93944fc8',\n",
       "  'RetryAttempts': 0}}"
      ]
     },
     "execution_count": 27,
     "metadata": {},
     "output_type": "execute_result"
    }
   ],
   "source": [
    "ec2.describe_account_attributes(AttributeNames=[\"max-instances\"])"
   ]
  },
  {
   "cell_type": "markdown",
   "metadata": {},
   "source": [
    "# Instance state query"
   ]
  },
  {
   "cell_type": "code",
   "execution_count": 24,
   "metadata": {
    "collapsed": true
   },
   "outputs": [],
   "source": [
    "  ec2 = boto3.client('ec2')\n",
    "  response = ec2.describe_instances()\n"
   ]
  },
  {
   "cell_type": "code",
   "execution_count": 16,
   "metadata": {
    "collapsed": true
   },
   "outputs": [],
   "source": [
    "  instance_list = []\n",
    "  for reservation in response['Reservations']:\n",
    "    for instance in reservation['Instances']:\n",
    "      instance_list.append(((instance['LaunchTime']), instance))\n"
   ]
  },
  {
   "cell_type": "code",
   "execution_count": 19,
   "metadata": {
    "collapsed": false
   },
   "outputs": [
    {
     "data": {
      "text/plain": [
       "{'AmiLaunchIndex': 1,\n",
       " 'Architecture': 'x86_64',\n",
       " 'BlockDeviceMappings': [{'DeviceName': '/dev/xvda',\n",
       "   'Ebs': {'AttachTime': datetime.datetime(2017, 12, 2, 2, 3, 33, tzinfo=tzutc()),\n",
       "    'DeleteOnTermination': True,\n",
       "    'Status': 'attached',\n",
       "    'VolumeId': 'vol-0736954def22c0445'}}],\n",
       " 'ClientToken': '',\n",
       " 'EbsOptimized': False,\n",
       " 'EnaSupport': True,\n",
       " 'Hypervisor': 'xen',\n",
       " 'ImageId': 'ami-bf4193c7',\n",
       " 'InstanceId': 'i-0af3d8d828b9c4cb9',\n",
       " 'InstanceType': 'c5.18xlarge',\n",
       " 'KeyName': 'yaroslav',\n",
       " 'LaunchTime': datetime.datetime(2017, 12, 2, 2, 3, 32, tzinfo=tzutc()),\n",
       " 'Monitoring': {'State': 'disabled'},\n",
       " 'NetworkInterfaces': [{'Association': {'IpOwnerId': 'amazon',\n",
       "    'PublicDnsName': 'ec2-35-167-132-34.us-west-2.compute.amazonaws.com',\n",
       "    'PublicIp': '35.167.132.34'},\n",
       "   'Attachment': {'AttachTime': datetime.datetime(2017, 12, 2, 2, 3, 32, tzinfo=tzutc()),\n",
       "    'AttachmentId': 'eni-attach-a4470155',\n",
       "    'DeleteOnTermination': True,\n",
       "    'DeviceIndex': 0,\n",
       "    'Status': 'attached'},\n",
       "   'Description': '',\n",
       "   'Groups': [{'GroupId': 'sg-6f582012', 'GroupName': 'open'}],\n",
       "   'Ipv6Addresses': [],\n",
       "   'MacAddress': '06:73:ae:34:71:40',\n",
       "   'NetworkInterfaceId': 'eni-9de313af',\n",
       "   'OwnerId': '316880547378',\n",
       "   'PrivateDnsName': 'ip-172-31-43-11.us-west-2.compute.internal',\n",
       "   'PrivateIpAddress': '172.31.43.11',\n",
       "   'PrivateIpAddresses': [{'Association': {'IpOwnerId': 'amazon',\n",
       "      'PublicDnsName': 'ec2-35-167-132-34.us-west-2.compute.amazonaws.com',\n",
       "      'PublicIp': '35.167.132.34'},\n",
       "     'Primary': True,\n",
       "     'PrivateDnsName': 'ip-172-31-43-11.us-west-2.compute.internal',\n",
       "     'PrivateIpAddress': '172.31.43.11'}],\n",
       "   'SourceDestCheck': True,\n",
       "   'Status': 'in-use',\n",
       "   'SubnetId': 'subnet-cdd15785',\n",
       "   'VpcId': 'vpc-fe722098'}],\n",
       " 'Placement': {'AvailabilityZone': 'us-west-2a',\n",
       "  'GroupName': 'amazon3',\n",
       "  'Tenancy': 'default'},\n",
       " 'PrivateDnsName': 'ip-172-31-43-11.us-west-2.compute.internal',\n",
       " 'PrivateIpAddress': '172.31.43.11',\n",
       " 'ProductCodes': [],\n",
       " 'PublicDnsName': 'ec2-35-167-132-34.us-west-2.compute.amazonaws.com',\n",
       " 'PublicIpAddress': '35.167.132.34',\n",
       " 'RootDeviceName': '/dev/xvda',\n",
       " 'RootDeviceType': 'ebs',\n",
       " 'SecurityGroups': [{'GroupId': 'sg-6f582012', 'GroupName': 'open'}],\n",
       " 'SourceDestCheck': True,\n",
       " 'State': {'Code': 16, 'Name': 'running'},\n",
       " 'StateTransitionReason': '',\n",
       " 'SubnetId': 'subnet-cdd15785',\n",
       " 'Tags': [{'Key': 'Name', 'Value': 'amazon3'}],\n",
       " 'VirtualizationType': 'hvm',\n",
       " 'VpcId': 'vpc-fe722098'}"
      ]
     },
     "execution_count": 19,
     "metadata": {},
     "output_type": "execute_result"
    }
   ],
   "source": [
    "instance_list[0][1]"
   ]
  },
  {
   "cell_type": "code",
   "execution_count": 20,
   "metadata": {
    "collapsed": false
   },
   "outputs": [
    {
     "data": {
      "text/plain": [
       "'running'"
      ]
     },
     "execution_count": 20,
     "metadata": {},
     "output_type": "execute_result"
    }
   ],
   "source": [
    "instance_list[0][1][\"State\"][\"Name\"]"
   ]
  },
  {
   "cell_type": "markdown",
   "metadata": {},
   "source": [
    "# Find out size of instance volume"
   ]
  },
  {
   "cell_type": "code",
   "execution_count": 23,
   "metadata": {
    "collapsed": true
   },
   "outputs": [],
   "source": [
    "ec2 = u.create_ec2_resource()"
   ]
  },
  {
   "cell_type": "code",
   "execution_count": 24,
   "metadata": {
    "collapsed": true
   },
   "outputs": [],
   "source": [
    "instances=list(ec2.instances.all())"
   ]
  },
  {
   "cell_type": "code",
   "execution_count": 26,
   "metadata": {
    "collapsed": false
   },
   "outputs": [],
   "source": [
    "inst=instances[0]"
   ]
  },
  {
   "cell_type": "code",
   "execution_count": 27,
   "metadata": {
    "collapsed": false
   },
   "outputs": [
    {
     "data": {
      "text/plain": [
       "datetime.datetime(2018, 1, 15, 20, 16, 6, tzinfo=tzutc())"
      ]
     },
     "execution_count": 27,
     "metadata": {},
     "output_type": "execute_result"
    }
   ],
   "source": [
    "inst.launch_time"
   ]
  },
  {
   "cell_type": "code",
   "execution_count": 29,
   "metadata": {
    "collapsed": false
   },
   "outputs": [],
   "source": [
    "vol=ec2.Volume('vol-0a98ee5f7f155b2b7')"
   ]
  },
  {
   "cell_type": "code",
   "execution_count": 32,
   "metadata": {
    "collapsed": true
   },
   "outputs": [],
   "source": [
    "client=u.create_ec2_client()"
   ]
  },
  {
   "cell_type": "code",
   "execution_count": 33,
   "metadata": {
    "collapsed": true
   },
   "outputs": [],
   "source": [
    "client.modify_volume?"
   ]
  },
  {
   "cell_type": "code",
   "execution_count": 23,
   "metadata": {
    "collapsed": false
   },
   "outputs": [
    {
     "name": "stdout",
     "output_type": "stream",
     "text": [
      "Instance id: vol-01564523457cf1ffb, disk size: 500.0 GB, state: in-use\n"
     ]
    }
   ],
   "source": [
    "import boto3\n",
    "ec2 = boto3.resource('ec2', region_name='us-east-1')\n",
    "instance_id='i-057cc0bd9fb49d07e'\n",
    "instance =  ec2.Instance(instance_id)\n",
    "volumes = instance.volumes.all()\n",
    "for v in volumes:\n",
    "    print(\"Instance id: %s, disk size: %.1f GB, state: %s\"%(v.id, v.size, v.state))\n"
   ]
  },
  {
   "cell_type": "code",
   "execution_count": 39,
   "metadata": {
    "collapsed": true
   },
   "outputs": [],
   "source": [
    "def get_name(instance_response):\n",
    "  names = [entry['Value'] for entry in instance_response.get('Tags',[]) if\n",
    "           entry['Key']=='Name']\n",
    "  if not names:\n",
    "    names = ['']\n",
    "  assert len(names)==1\n",
    "  return names[0]\n",
    "\n",
    "from collections import defaultdict\n",
    "ec2 = boto3.client('ec2')\n",
    "response = ec2.describe_instances()\n",
    "instances = defaultdict(lambda: [])\n",
    "for reservation in response['Reservations']:\n",
    "  for instance_response in reservation['Instances']:\n",
    "    instances[get_name(instance_response)].append(instance_response)\n"
   ]
  },
  {
   "cell_type": "code",
   "execution_count": 41,
   "metadata": {
    "collapsed": false
   },
   "outputs": [
    {
     "data": {
      "text/plain": [
       "[{'AmiLaunchIndex': 0,\n",
       "  'Architecture': 'x86_64',\n",
       "  'BlockDeviceMappings': [{'DeviceName': '/dev/sda1',\n",
       "    'Ebs': {'AttachTime': datetime.datetime(2017, 12, 4, 20, 33, 1, tzinfo=tzutc()),\n",
       "     'DeleteOnTermination': True,\n",
       "     'Status': 'attached',\n",
       "     'VolumeId': 'vol-090c4a23e59922b4b'}}],\n",
       "  'ClientToken': '',\n",
       "  'EbsOptimized': False,\n",
       "  'EnaSupport': True,\n",
       "  'Hypervisor': 'xen',\n",
       "  'ImageId': 'ami-f1e73689',\n",
       "  'InstanceId': 'i-0565a2e6b11533428',\n",
       "  'InstanceType': 'p3.16xlarge',\n",
       "  'KeyName': 'yaroslav',\n",
       "  'LaunchTime': datetime.datetime(2017, 12, 4, 20, 33, tzinfo=tzutc()),\n",
       "  'Monitoring': {'State': 'disabled'},\n",
       "  'NetworkInterfaces': [{'Association': {'IpOwnerId': 'amazon',\n",
       "     'PublicDnsName': 'ec2-52-26-171-202.us-west-2.compute.amazonaws.com',\n",
       "     'PublicIp': '52.26.171.202'},\n",
       "    'Attachment': {'AttachTime': datetime.datetime(2017, 12, 4, 20, 33, tzinfo=tzutc()),\n",
       "     'AttachmentId': 'eni-attach-d0085836',\n",
       "     'DeleteOnTermination': True,\n",
       "     'DeviceIndex': 0,\n",
       "     'Status': 'attached'},\n",
       "    'Description': '',\n",
       "    'Groups': [{'GroupId': 'sg-6f582012', 'GroupName': 'open'}],\n",
       "    'Ipv6Addresses': [],\n",
       "    'MacAddress': '0a:aa:5b:5d:5b:10',\n",
       "    'NetworkInterfaceId': 'eni-9bdcaa9e',\n",
       "    'OwnerId': '316880547378',\n",
       "    'PrivateDnsName': 'ip-172-31-4-50.us-west-2.compute.internal',\n",
       "    'PrivateIpAddress': '172.31.4.50',\n",
       "    'PrivateIpAddresses': [{'Association': {'IpOwnerId': 'amazon',\n",
       "       'PublicDnsName': 'ec2-52-26-171-202.us-west-2.compute.amazonaws.com',\n",
       "       'PublicIp': '52.26.171.202'},\n",
       "      'Primary': True,\n",
       "      'PrivateDnsName': 'ip-172-31-4-50.us-west-2.compute.internal',\n",
       "      'PrivateIpAddress': '172.31.4.50'}],\n",
       "    'SourceDestCheck': True,\n",
       "    'Status': 'in-use',\n",
       "    'SubnetId': 'subnet-a93f12f2',\n",
       "    'VpcId': 'vpc-fe722098'}],\n",
       "  'Placement': {'AvailabilityZone': 'us-west-2c',\n",
       "   'GroupName': '',\n",
       "   'Tenancy': 'default'},\n",
       "  'PrivateDnsName': 'ip-172-31-4-50.us-west-2.compute.internal',\n",
       "  'PrivateIpAddress': '172.31.4.50',\n",
       "  'ProductCodes': [],\n",
       "  'PublicDnsName': 'ec2-52-26-171-202.us-west-2.compute.amazonaws.com',\n",
       "  'PublicIpAddress': '52.26.171.202',\n",
       "  'RootDeviceName': '/dev/sda1',\n",
       "  'RootDeviceType': 'ebs',\n",
       "  'SecurityGroups': [{'GroupId': 'sg-6f582012', 'GroupName': 'open'}],\n",
       "  'SourceDestCheck': True,\n",
       "  'State': {'Code': 16, 'Name': 'running'},\n",
       "  'StateTransitionReason': '',\n",
       "  'SubnetId': 'subnet-a93f12f2',\n",
       "  'Tags': [{'Key': 'Name', 'Value': 'p3'}],\n",
       "  'VirtualizationType': 'hvm',\n",
       "  'VpcId': 'vpc-fe722098'}]"
      ]
     },
     "execution_count": 41,
     "metadata": {},
     "output_type": "execute_result"
    }
   ],
   "source": [
    "instances['p3']"
   ]
  },
  {
   "cell_type": "markdown",
   "metadata": {},
   "source": [
    "# Find AMI"
   ]
  },
  {
   "cell_type": "code",
   "execution_count": 20,
   "metadata": {
    "collapsed": true
   },
   "outputs": [],
   "source": [
    "import boto3\n",
    "ec2 = boto3.resource('ec2', region_name='us-west-2')"
   ]
  },
  {
   "cell_type": "code",
   "execution_count": 22,
   "metadata": {
    "collapsed": false
   },
   "outputs": [
    {
     "name": "stdout",
     "output_type": "stream",
     "text": [
      "ubuntu-14.04-VC4.1.3-1-62ab724f-833e-4666-99d0-21e3ec7ad743-ami-d569eac2.3\n"
     ]
    }
   ],
   "source": [
    "for image in list(ec2.images.filter(Filters=[{'Name':'name', 'Values':['ubuntu-14.04*']}]).all()):\n",
    "  print(image.name)\n",
    "  break"
   ]
  },
  {
   "cell_type": "code",
   "execution_count": 26,
   "metadata": {
    "collapsed": false
   },
   "outputs": [
    {
     "data": {
      "text/plain": [
       "'ubuntu-14.04-VC4.1.3-1-62ab724f-833e-4666-99d0-21e3ec7ad743-ami-d569eac2.3'"
      ]
     },
     "execution_count": 26,
     "metadata": {},
     "output_type": "execute_result"
    }
   ],
   "source": [
    "image.name"
   ]
  },
  {
   "cell_type": "code",
   "execution_count": null,
   "metadata": {
    "collapsed": true
   },
   "outputs": [],
   "source": [
    "https://aws.amazon.com/marketplace/pp/B077GCH38C?qid=1512418106283&sr=0-2&ref_=srh_res_product_title"
   ]
  },
  {
   "cell_type": "code",
   "execution_count": 27,
   "metadata": {
    "collapsed": false
   },
   "outputs": [
    {
     "data": {
      "text/plain": [
       "'ami-03cf0263'"
      ]
     },
     "execution_count": 27,
     "metadata": {},
     "output_type": "execute_result"
    }
   ],
   "source": [
    "image.id"
   ]
  },
  {
   "cell_type": "code",
   "execution_count": 32,
   "metadata": {
    "collapsed": false
   },
   "outputs": [
    {
     "ename": "ClientError",
     "evalue": "An error occurred (InvalidParameterValue) when calling the DescribeImages operation: The filter 'Id' is invalid",
     "output_type": "error",
     "traceback": [
      "\u001b[0;31m---------------------------------------------------------------------------\u001b[0m",
      "\u001b[0;31mClientError\u001b[0m                               Traceback (most recent call last)",
      "\u001b[0;32m<ipython-input-32-a5b4ff85d74a>\u001b[0m in \u001b[0;36m<module>\u001b[0;34m()\u001b[0m\n\u001b[0;32m----> 1\u001b[0;31m \u001b[0mimage\u001b[0m \u001b[0;34m=\u001b[0m \u001b[0mlist\u001b[0m\u001b[0;34m(\u001b[0m\u001b[0mec2\u001b[0m\u001b[0;34m.\u001b[0m\u001b[0mimages\u001b[0m\u001b[0;34m.\u001b[0m\u001b[0mfilter\u001b[0m\u001b[0;34m(\u001b[0m\u001b[0mFilters\u001b[0m\u001b[0;34m=\u001b[0m\u001b[0;34m[\u001b[0m\u001b[0;34m{\u001b[0m\u001b[0;34m\"Name\"\u001b[0m\u001b[0;34m:\u001b[0m\u001b[0;34m\"Id\"\u001b[0m\u001b[0;34m,\u001b[0m \u001b[0;34m\"Values\"\u001b[0m\u001b[0;34m:\u001b[0m \u001b[0;34m[\u001b[0m\u001b[0;34m\"ami-405ade3a\"\u001b[0m\u001b[0;34m]\u001b[0m\u001b[0;34m}\u001b[0m\u001b[0;34m]\u001b[0m\u001b[0;34m)\u001b[0m\u001b[0;34m.\u001b[0m\u001b[0mall\u001b[0m\u001b[0;34m(\u001b[0m\u001b[0;34m)\u001b[0m\u001b[0;34m)\u001b[0m\u001b[0;34m[\u001b[0m\u001b[0;36m0\u001b[0m\u001b[0;34m]\u001b[0m\u001b[0;34m\u001b[0m\u001b[0m\n\u001b[0m",
      "\u001b[0;32m/Users/yaroslav/anaconda/envs/sep22/lib/python3.5/site-packages/boto3/resources/collection.py\u001b[0m in \u001b[0;36m__iter__\u001b[0;34m(self)\u001b[0m\n\u001b[1;32m     81\u001b[0m \u001b[0;34m\u001b[0m\u001b[0m\n\u001b[1;32m     82\u001b[0m         \u001b[0mcount\u001b[0m \u001b[0;34m=\u001b[0m \u001b[0;36m0\u001b[0m\u001b[0;34m\u001b[0m\u001b[0m\n\u001b[0;32m---> 83\u001b[0;31m         \u001b[0;32mfor\u001b[0m \u001b[0mpage\u001b[0m \u001b[0;32min\u001b[0m \u001b[0mself\u001b[0m\u001b[0;34m.\u001b[0m\u001b[0mpages\u001b[0m\u001b[0;34m(\u001b[0m\u001b[0;34m)\u001b[0m\u001b[0;34m:\u001b[0m\u001b[0;34m\u001b[0m\u001b[0m\n\u001b[0m\u001b[1;32m     84\u001b[0m             \u001b[0;32mfor\u001b[0m \u001b[0mitem\u001b[0m \u001b[0;32min\u001b[0m \u001b[0mpage\u001b[0m\u001b[0;34m:\u001b[0m\u001b[0;34m\u001b[0m\u001b[0m\n\u001b[1;32m     85\u001b[0m                 \u001b[0;32myield\u001b[0m \u001b[0mitem\u001b[0m\u001b[0;34m\u001b[0m\u001b[0m\n",
      "\u001b[0;32m/Users/yaroslav/anaconda/envs/sep22/lib/python3.5/site-packages/boto3/resources/collection.py\u001b[0m in \u001b[0;36mpages\u001b[0;34m(self)\u001b[0m\n\u001b[1;32m    159\u001b[0m                          \u001b[0mself\u001b[0m\u001b[0;34m.\u001b[0m\u001b[0m_parent\u001b[0m\u001b[0;34m.\u001b[0m\u001b[0mmeta\u001b[0m\u001b[0;34m.\u001b[0m\u001b[0mservice_name\u001b[0m\u001b[0;34m,\u001b[0m\u001b[0;34m\u001b[0m\u001b[0m\n\u001b[1;32m    160\u001b[0m                          self._py_operation_name, params)\n\u001b[0;32m--> 161\u001b[0;31m             \u001b[0mpages\u001b[0m \u001b[0;34m=\u001b[0m \u001b[0;34m[\u001b[0m\u001b[0mgetattr\u001b[0m\u001b[0;34m(\u001b[0m\u001b[0mclient\u001b[0m\u001b[0;34m,\u001b[0m \u001b[0mself\u001b[0m\u001b[0;34m.\u001b[0m\u001b[0m_py_operation_name\u001b[0m\u001b[0;34m)\u001b[0m\u001b[0;34m(\u001b[0m\u001b[0;34m**\u001b[0m\u001b[0mparams\u001b[0m\u001b[0;34m)\u001b[0m\u001b[0;34m]\u001b[0m\u001b[0;34m\u001b[0m\u001b[0m\n\u001b[0m\u001b[1;32m    162\u001b[0m \u001b[0;34m\u001b[0m\u001b[0m\n\u001b[1;32m    163\u001b[0m         \u001b[0;31m# Now that we have a page iterator or single page of results\u001b[0m\u001b[0;34m\u001b[0m\u001b[0;34m\u001b[0m\u001b[0m\n",
      "\u001b[0;32m/Users/yaroslav/anaconda/envs/sep22/lib/python3.5/site-packages/botocore/client.py\u001b[0m in \u001b[0;36m_api_call\u001b[0;34m(self, *args, **kwargs)\u001b[0m\n\u001b[1;32m    310\u001b[0m                     \"%s() only accepts keyword arguments.\" % py_operation_name)\n\u001b[1;32m    311\u001b[0m             \u001b[0;31m# The \"self\" in this scope is referring to the BaseClient.\u001b[0m\u001b[0;34m\u001b[0m\u001b[0;34m\u001b[0m\u001b[0m\n\u001b[0;32m--> 312\u001b[0;31m             \u001b[0;32mreturn\u001b[0m \u001b[0mself\u001b[0m\u001b[0;34m.\u001b[0m\u001b[0m_make_api_call\u001b[0m\u001b[0;34m(\u001b[0m\u001b[0moperation_name\u001b[0m\u001b[0;34m,\u001b[0m \u001b[0mkwargs\u001b[0m\u001b[0;34m)\u001b[0m\u001b[0;34m\u001b[0m\u001b[0m\n\u001b[0m\u001b[1;32m    313\u001b[0m \u001b[0;34m\u001b[0m\u001b[0m\n\u001b[1;32m    314\u001b[0m         \u001b[0m_api_call\u001b[0m\u001b[0;34m.\u001b[0m\u001b[0m__name__\u001b[0m \u001b[0;34m=\u001b[0m \u001b[0mstr\u001b[0m\u001b[0;34m(\u001b[0m\u001b[0mpy_operation_name\u001b[0m\u001b[0;34m)\u001b[0m\u001b[0;34m\u001b[0m\u001b[0m\n",
      "\u001b[0;32m/Users/yaroslav/anaconda/envs/sep22/lib/python3.5/site-packages/botocore/client.py\u001b[0m in \u001b[0;36m_make_api_call\u001b[0;34m(self, operation_name, api_params)\u001b[0m\n\u001b[1;32m    603\u001b[0m             \u001b[0merror_code\u001b[0m \u001b[0;34m=\u001b[0m \u001b[0mparsed_response\u001b[0m\u001b[0;34m.\u001b[0m\u001b[0mget\u001b[0m\u001b[0;34m(\u001b[0m\u001b[0;34m\"Error\"\u001b[0m\u001b[0;34m,\u001b[0m \u001b[0;34m{\u001b[0m\u001b[0;34m}\u001b[0m\u001b[0;34m)\u001b[0m\u001b[0;34m.\u001b[0m\u001b[0mget\u001b[0m\u001b[0;34m(\u001b[0m\u001b[0;34m\"Code\"\u001b[0m\u001b[0;34m)\u001b[0m\u001b[0;34m\u001b[0m\u001b[0m\n\u001b[1;32m    604\u001b[0m             \u001b[0merror_class\u001b[0m \u001b[0;34m=\u001b[0m \u001b[0mself\u001b[0m\u001b[0;34m.\u001b[0m\u001b[0mexceptions\u001b[0m\u001b[0;34m.\u001b[0m\u001b[0mfrom_code\u001b[0m\u001b[0;34m(\u001b[0m\u001b[0merror_code\u001b[0m\u001b[0;34m)\u001b[0m\u001b[0;34m\u001b[0m\u001b[0m\n\u001b[0;32m--> 605\u001b[0;31m             \u001b[0;32mraise\u001b[0m \u001b[0merror_class\u001b[0m\u001b[0;34m(\u001b[0m\u001b[0mparsed_response\u001b[0m\u001b[0;34m,\u001b[0m \u001b[0moperation_name\u001b[0m\u001b[0;34m)\u001b[0m\u001b[0;34m\u001b[0m\u001b[0m\n\u001b[0m\u001b[1;32m    606\u001b[0m         \u001b[0;32melse\u001b[0m\u001b[0;34m:\u001b[0m\u001b[0;34m\u001b[0m\u001b[0m\n\u001b[1;32m    607\u001b[0m             \u001b[0;32mreturn\u001b[0m \u001b[0mparsed_response\u001b[0m\u001b[0;34m\u001b[0m\u001b[0m\n",
      "\u001b[0;31mClientError\u001b[0m: An error occurred (InvalidParameterValue) when calling the DescribeImages operation: The filter 'Id' is invalid"
     ]
    }
   ],
   "source": [
    "image = list(ec2.images.filter(Filters=[{\"Name\":\"Id\", \"Values\": [\"ami-405ade3a\"]}]).all())[0]"
   ]
  },
  {
   "cell_type": "markdown",
   "metadata": {},
   "source": [
    "# Debugging paramiko"
   ]
  },
  {
   "cell_type": "code",
   "execution_count": 47,
   "metadata": {
    "collapsed": false
   },
   "outputs": [
    {
     "name": "stdout",
     "output_type": "stream",
     "text": [
      "ssh_to_host ubuntu@ec2-52-34-58-144.us-west-2.compute.amazonaws.com\n"
     ]
    }
   ],
   "source": [
    "import paramiko\n",
    "username='ubuntu'\n",
    "ssh_key=\"/Users/yaroslav/d/yaroslav.pem\"\n",
    "hostname='ec2-52-34-58-144.us-west-2.compute.amazonaws.com'\n",
    "\n",
    "print(\"ssh_to_host %s@%s\"%(username, hostname))\n",
    "k = paramiko.RSAKey.from_private_key_file(ssh_key)\n",
    "ssh_client = paramiko.SSHClient()\n",
    "ssh_client.set_missing_host_key_policy(paramiko.AutoAddPolicy())\n",
    "ssh_client.connect(hostname=hostname, username=username, pkey=k)\n"
   ]
  },
  {
   "cell_type": "code",
   "execution_count": 49,
   "metadata": {
    "collapsed": true
   },
   "outputs": [],
   "source": [
    "for i in range(100):\n",
    "  ssh_client.exec_command(\"tmux send-keys -t tmux 'sleep 3; echo %d' Enter\"%(i,))"
   ]
  },
  {
   "cell_type": "code",
   "execution_count": 46,
   "metadata": {
    "collapsed": false
   },
   "outputs": [
    {
     "data": {
      "text/plain": [
       "(<paramiko.ChannelFile from <paramiko.Channel 11 (open) window=2097152 -> <paramiko.Transport at 0xb2e0f60 (cipher aes128-ctr, 128 bits) (active; 1 open channel(s))>>>,\n",
       " <paramiko.ChannelFile from <paramiko.Channel 11 (open) window=2097152 -> <paramiko.Transport at 0xb2e0f60 (cipher aes128-ctr, 128 bits) (active; 1 open channel(s))>>>,\n",
       " <paramiko.ChannelFile from <paramiko.Channel 11 (open) window=2097152 -> <paramiko.Transport at 0xb2e0f60 (cipher aes128-ctr, 128 bits) (active; 1 open channel(s))>>>)"
      ]
     },
     "execution_count": 46,
     "metadata": {},
     "output_type": "execute_result"
    }
   ],
   "source": [
    "ssh_client.exec_command(\"tmux send-keys -t tmux 'ls' Enter\")"
   ]
  },
  {
   "cell_type": "markdown",
   "metadata": {},
   "source": [
    "# New region setup"
   ]
  },
  {
   "cell_type": "code",
   "execution_count": 47,
   "metadata": {
    "collapsed": true
   },
   "outputs": [],
   "source": [
    "import boto3\n",
    "import os\n",
    "def _create_ec2_client():\n",
    "  REGION = os.environ['AWS_DEFAULT_REGION']\n",
    "  return boto3.client('ec2', region_name=REGION)\n",
    "\n",
    "def _create_efs_client():\n",
    "  REGION = os.environ['AWS_DEFAULT_REGION']\n",
    "  return boto3.client('efs', region_name=REGION)\n",
    "\n",
    "def _create_efs_resource():\n",
    "  REGION = os.environ['AWS_DEFAULT_REGION']\n",
    "  return boto3.resource('efs', region_name=REGION)\n",
    "\n",
    "def _create_ec2_resource():\n",
    "  REGION = os.environ['AWS_DEFAULT_REGION']\n",
    "  return boto3.resource('ec2',region_name=REGION)\n",
    "\n",
    "def _is_good_response(response):\n",
    "  \"\"\"Helper method to check if boto3 call was a success.\"\"\"\n",
    "  \n",
    "  return response[\"ResponseMetadata\"]['HTTPStatusCode'] == 200\n",
    "\n",
    "def _get_name(tags):\n",
    "  \"\"\"Helper utility to extract name out of tags dictionary.\n",
    "      [{'Key': 'Name', 'Value': 'nexus'}] -> 'nexus'\n",
    " \n",
    "     Assert fails if there's more than one name.\n",
    "     Returns '' if there's less than one name.\n",
    "  \"\"\"\n",
    "  \n",
    "  names = [entry['Value'] for entry in tags if entry['Key']=='Name']\n",
    "  if not names:\n",
    "    return ''\n",
    "  if len(names)>1:\n",
    "    assert False, \"have more than one name: \"+str(names)\n",
    "  return names[0]\n"
   ]
  },
  {
   "cell_type": "markdown",
   "metadata": {},
   "source": [
    "## Creating new security group"
   ]
  },
  {
   "cell_type": "code",
   "execution_count": 241,
   "metadata": {
    "collapsed": true
   },
   "outputs": [],
   "source": [
    "import boto3\n",
    "REGION='us-west-1'\n",
    "ec2 = boto3.resource('ec2',region_name=REGION)"
   ]
  },
  {
   "cell_type": "code",
   "execution_count": 243,
   "metadata": {
    "collapsed": true
   },
   "outputs": [],
   "source": [
    "security_groups=list(vpc.security_groups.all())"
   ]
  },
  {
   "cell_type": "code",
   "execution_count": 245,
   "metadata": {
    "collapsed": false
   },
   "outputs": [
    {
     "data": {
      "text/plain": [
       "[]"
      ]
     },
     "execution_count": 245,
     "metadata": {},
     "output_type": "execute_result"
    }
   ],
   "source": [
    "security_groups"
   ]
  },
  {
   "cell_type": "code",
   "execution_count": 422,
   "metadata": {
    "collapsed": true
   },
   "outputs": [],
   "source": [
    "  DEFAULT_NAME = 'nexus'\n",
    "  security_group = u.get_security_group_dict()[DEFAULT_NAME]\n",
    "  keypair = u.get_keypair_dict()[DEFAULT_NAME]\n"
   ]
  },
  {
   "cell_type": "code",
   "execution_count": 423,
   "metadata": {
    "collapsed": false
   },
   "outputs": [
    {
     "data": {
      "text/plain": [
       "'nexus'"
      ]
     },
     "execution_count": 423,
     "metadata": {},
     "output_type": "execute_result"
    }
   ],
   "source": [
    "keypair.name"
   ]
  },
  {
   "cell_type": "code",
   "execution_count": 420,
   "metadata": {
    "collapsed": true
   },
   "outputs": [],
   "source": [
    "security_group = u.get_security_group_dict()['nexus']"
   ]
  },
  {
   "cell_type": "code",
   "execution_count": 421,
   "metadata": {
    "collapsed": false
   },
   "outputs": [
    {
     "data": {
      "text/plain": [
       "'nexus'"
      ]
     },
     "execution_count": 421,
     "metadata": {},
     "output_type": "execute_result"
    }
   ],
   "source": [
    "security_group.group_name"
   ]
  },
  {
   "cell_type": "code",
   "execution_count": 411,
   "metadata": {
    "collapsed": true
   },
   "outputs": [],
   "source": [
    "subnets = list(vpc.subnets.all())"
   ]
  },
  {
   "cell_type": "code",
   "execution_count": 416,
   "metadata": {
    "collapsed": true
   },
   "outputs": [],
   "source": [
    "ec2.create_instances?"
   ]
  },
  {
   "cell_type": "code",
   "execution_count": 415,
   "metadata": {
    "collapsed": false
   },
   "outputs": [
    {
     "data": {
      "text/plain": [
       "{'ResponseMetadata': {'HTTPHeaders': {'content-type': 'text/xml;charset=UTF-8',\n",
       "   'date': 'Tue, 19 Dec 2017 23:44:30 GMT',\n",
       "   'server': 'AmazonEC2',\n",
       "   'transfer-encoding': 'chunked',\n",
       "   'vary': 'Accept-Encoding'},\n",
       "  'HTTPStatusCode': 200,\n",
       "  'RequestId': 'c5de6a58-3c5f-48ba-a2a6-eed01188d239',\n",
       "  'RetryAttempts': 0},\n",
       " 'Vpcs': [{'CidrBlock': '172.31.0.0/16',\n",
       "   'CidrBlockAssociationSet': [{'AssociationId': 'vpc-cidr-assoc-984c4ff1',\n",
       "     'CidrBlock': '172.31.0.0/16',\n",
       "     'CidrBlockState': {'State': 'associated'}}],\n",
       "   'DhcpOptionsId': 'dopt-4689da22',\n",
       "   'InstanceTenancy': 'default',\n",
       "   'IsDefault': True,\n",
       "   'State': 'available',\n",
       "   'VpcId': 'vpc-79c4f61d'}]}"
      ]
     },
     "execution_count": 415,
     "metadata": {},
     "output_type": "execute_result"
    }
   ],
   "source": [
    "client.describe_vpcs()"
   ]
  },
  {
   "cell_type": "code",
   "execution_count": 259,
   "metadata": {
    "collapsed": false
   },
   "outputs": [
    {
     "data": {
      "text/plain": [
       "'nexus'"
      ]
     },
     "execution_count": 259,
     "metadata": {},
     "output_type": "execute_result"
    }
   ],
   "source": [
    "security_groups[0].group_name"
   ]
  },
  {
   "cell_type": "code",
   "execution_count": 260,
   "metadata": {
    "collapsed": true
   },
   "outputs": [],
   "source": [
    "security_group = security_groups[0]"
   ]
  },
  {
   "cell_type": "code",
   "execution_count": 261,
   "metadata": {
    "collapsed": false
   },
   "outputs": [
    {
     "data": {
      "text/plain": [
       "[{'Key': 'Name', 'Value': 'nexus'}]"
      ]
     },
     "execution_count": 261,
     "metadata": {},
     "output_type": "execute_result"
    }
   ],
   "source": [
    "security_group.tags"
   ]
  },
  {
   "cell_type": "code",
   "execution_count": null,
   "metadata": {
    "collapsed": true
   },
   "outputs": [],
   "source": [
    "c.get_name(security_groups[0].)"
   ]
  },
  {
   "cell_type": "markdown",
   "metadata": {
    "collapsed": true
   },
   "source": [
    "## Creating network"
   ]
  },
  {
   "cell_type": "code",
   "execution_count": 50,
   "metadata": {
    "collapsed": true
   },
   "outputs": [],
   "source": [
    "vpc = ec2.create_vpc(CidrBlock='192.168.0.0/16')"
   ]
  },
  {
   "cell_type": "code",
   "execution_count": 51,
   "metadata": {
    "collapsed": false
   },
   "outputs": [
    {
     "data": {
      "text/plain": [
       "[ec2.Tag(resource_id='vpc-2bb1584c', key='Name', value='nexus_vpc')]"
      ]
     },
     "execution_count": 51,
     "metadata": {},
     "output_type": "execute_result"
    }
   ],
   "source": [
    "vpc.create_tags(Tags=[{\"Key\": \"Name\", \"Value\": \"nexus_vpc\"}])"
   ]
  },
  {
   "cell_type": "code",
   "execution_count": 53,
   "metadata": {
    "collapsed": false
   },
   "outputs": [
    {
     "data": {
      "text/plain": [
       "{'ResponseMetadata': {'HTTPHeaders': {'content-type': 'text/xml;charset=UTF-8',\n",
       "   'date': 'Tue, 19 Dec 2017 00:00:50 GMT',\n",
       "   'server': 'AmazonEC2',\n",
       "   'transfer-encoding': 'chunked',\n",
       "   'vary': 'Accept-Encoding'},\n",
       "  'HTTPStatusCode': 200,\n",
       "  'RequestId': '29be9d8e-8ae1-45f0-80d4-53d6a1aae72d',\n",
       "  'RetryAttempts': 0},\n",
       " 'Vpcs': [{'CidrBlock': '192.168.0.0/16',\n",
       "   'CidrBlockAssociationSet': [{'AssociationId': 'vpc-cidr-assoc-90cb8dfa',\n",
       "     'CidrBlock': '192.168.0.0/16',\n",
       "     'CidrBlockState': {'State': 'associated'}}],\n",
       "   'DhcpOptionsId': 'dopt-fcb80385',\n",
       "   'InstanceTenancy': 'default',\n",
       "   'IsDefault': False,\n",
       "   'State': 'available',\n",
       "   'Tags': [{'Key': 'Name', 'Value': 'nexus'}],\n",
       "   'VpcId': 'vpc-1a054562'},\n",
       "  {'CidrBlock': '172.31.0.0/16',\n",
       "   'CidrBlockAssociationSet': [{'AssociationId': 'vpc-cidr-assoc-4805d222',\n",
       "     'CidrBlock': '172.31.0.0/16',\n",
       "     'CidrBlockState': {'State': 'associated'}}],\n",
       "   'DhcpOptionsId': 'dopt-fcb80385',\n",
       "   'InstanceTenancy': 'default',\n",
       "   'IsDefault': True,\n",
       "   'State': 'available',\n",
       "   'VpcId': 'vpc-2b72a053'},\n",
       "  {'CidrBlock': '192.168.0.0/16',\n",
       "   'CidrBlockAssociationSet': [{'AssociationId': 'vpc-cidr-assoc-b5ce88df',\n",
       "     'CidrBlock': '192.168.0.0/16',\n",
       "     'CidrBlockState': {'State': 'associated'}}],\n",
       "   'DhcpOptionsId': 'dopt-fcb80385',\n",
       "   'InstanceTenancy': 'default',\n",
       "   'IsDefault': False,\n",
       "   'State': 'available',\n",
       "   'Tags': [{'Key': 'Name', 'Value': 'nexus2'}],\n",
       "   'VpcId': 'vpc-cbffbeb3'},\n",
       "  {'CidrBlock': '192.168.0.0/16',\n",
       "   'CidrBlockAssociationSet': [{'AssociationId': 'vpc-cidr-assoc-1e793f74',\n",
       "     'CidrBlock': '192.168.0.0/16',\n",
       "     'CidrBlockState': {'State': 'associated'}}],\n",
       "   'DhcpOptionsId': 'dopt-fcb80385',\n",
       "   'InstanceTenancy': 'default',\n",
       "   'IsDefault': False,\n",
       "   'State': 'available',\n",
       "   'VpcId': 'vpc-11bbfa69'}]}"
      ]
     },
     "execution_count": 53,
     "metadata": {},
     "output_type": "execute_result"
    }
   ],
   "source": [
    "client.describe_vpcs()"
   ]
  },
  {
   "cell_type": "code",
   "execution_count": 54,
   "metadata": {
    "collapsed": true
   },
   "outputs": [],
   "source": [
    "vpc.wait_until_available()"
   ]
  },
  {
   "cell_type": "code",
   "execution_count": 55,
   "metadata": {
    "collapsed": true
   },
   "outputs": [],
   "source": [
    "    ig = ec2.create_internet_gateway()"
   ]
  },
  {
   "cell_type": "code",
   "execution_count": 56,
   "metadata": {
    "collapsed": false
   },
   "outputs": [
    {
     "data": {
      "text/plain": [
       "{'ResponseMetadata': {'HTTPHeaders': {'content-type': 'text/xml;charset=UTF-8',\n",
       "   'date': 'Tue, 19 Dec 2017 00:01:21 GMT',\n",
       "   'server': 'AmazonEC2',\n",
       "   'transfer-encoding': 'chunked',\n",
       "   'vary': 'Accept-Encoding'},\n",
       "  'HTTPStatusCode': 200,\n",
       "  'RequestId': 'c860ca96-78d0-420b-8ec0-a1279fc6bf5e',\n",
       "  'RetryAttempts': 0}}"
      ]
     },
     "execution_count": 56,
     "metadata": {},
     "output_type": "execute_result"
    }
   ],
   "source": [
    "    ig.attach_to_vpc(VpcId=vpc.id)\n"
   ]
  },
  {
   "cell_type": "code",
   "execution_count": 117,
   "metadata": {
    "collapsed": true
   },
   "outputs": [],
   "source": [
    "os.environ['AWS_DEFAULT_REGION']='us-west-1'"
   ]
  },
  {
   "cell_type": "code",
   "execution_count": 118,
   "metadata": {
    "collapsed": false
   },
   "outputs": [
    {
     "name": "stdout",
     "output_type": "stream",
     "text": [
      "OrderedDict([('nexus_vpc', ec2.Vpc(id='vpc-14876473'))])\n"
     ]
    }
   ],
   "source": [
    "  from collections import OrderedDict\n",
    "  client = _create_ec2_client()\n",
    "  response = client.describe_vpcs()\n",
    "  assert _is_good_response(response)\n",
    "\n",
    "  result = OrderedDict()\n",
    "  ec2 = _create_ec2_resource()\n",
    "  for vpc_response in response['Vpcs']:\n",
    "    key = _get_name(vpc_response.get('Tags', []))\n",
    "    if not key:  # skip VPC's that don't have a name assigned\n",
    "      continue\n",
    "    \n",
    "    result[key] = ec2.Vpc(vpc_response['VpcId'])\n",
    "\n",
    "  print(result)\n"
   ]
  },
  {
   "cell_type": "code",
   "execution_count": 119,
   "metadata": {
    "collapsed": true
   },
   "outputs": [],
   "source": [
    "client = _create_ec2_client()"
   ]
  },
  {
   "cell_type": "code",
   "execution_count": 124,
   "metadata": {
    "collapsed": false
   },
   "outputs": [
    {
     "data": {
      "text/plain": [
       "'vpc-2bb1584c'"
      ]
     },
     "execution_count": 124,
     "metadata": {},
     "output_type": "execute_result"
    }
   ],
   "source": [
    "vpc.id"
   ]
  },
  {
   "cell_type": "code",
   "execution_count": 130,
   "metadata": {
    "collapsed": false
   },
   "outputs": [
    {
     "data": {
      "text/plain": [
       "[]"
      ]
     },
     "execution_count": 130,
     "metadata": {},
     "output_type": "execute_result"
    }
   ],
   "source": [
    "vpc.get_available_subresources()"
   ]
  },
  {
   "cell_type": "code",
   "execution_count": 132,
   "metadata": {
    "collapsed": false
   },
   "outputs": [
    {
     "ename": "ClientError",
     "evalue": "An error occurred (DependencyViolation) when calling the DeleteVpc operation: The vpc 'vpc-2bb1584c' has dependencies and cannot be deleted.",
     "output_type": "error",
     "traceback": [
      "\u001b[0;31m---------------------------------------------------------------------------\u001b[0m",
      "\u001b[0;31mClientError\u001b[0m                               Traceback (most recent call last)",
      "\u001b[0;32m<ipython-input-132-5817a2b5d85f>\u001b[0m in \u001b[0;36m<module>\u001b[0;34m()\u001b[0m\n\u001b[0;32m----> 1\u001b[0;31m \u001b[0mvpc\u001b[0m\u001b[0;34m.\u001b[0m\u001b[0mdelete\u001b[0m\u001b[0;34m(\u001b[0m\u001b[0;34m)\u001b[0m\u001b[0;34m\u001b[0m\u001b[0m\n\u001b[0m",
      "\u001b[0;32m/Users/yaroslav/anaconda/envs/sep22/lib/python3.5/site-packages/boto3/resources/factory.py\u001b[0m in \u001b[0;36mdo_action\u001b[0;34m(self, *args, **kwargs)\u001b[0m\n\u001b[1;32m    518\u001b[0m             \u001b[0;31m# instance via ``self``.\u001b[0m\u001b[0;34m\u001b[0m\u001b[0;34m\u001b[0m\u001b[0m\n\u001b[1;32m    519\u001b[0m             \u001b[0;32mdef\u001b[0m \u001b[0mdo_action\u001b[0m\u001b[0;34m(\u001b[0m\u001b[0mself\u001b[0m\u001b[0;34m,\u001b[0m \u001b[0;34m*\u001b[0m\u001b[0margs\u001b[0m\u001b[0;34m,\u001b[0m \u001b[0;34m**\u001b[0m\u001b[0mkwargs\u001b[0m\u001b[0;34m)\u001b[0m\u001b[0;34m:\u001b[0m\u001b[0;34m\u001b[0m\u001b[0m\n\u001b[0;32m--> 520\u001b[0;31m                 \u001b[0mresponse\u001b[0m \u001b[0;34m=\u001b[0m \u001b[0maction\u001b[0m\u001b[0;34m(\u001b[0m\u001b[0mself\u001b[0m\u001b[0;34m,\u001b[0m \u001b[0;34m*\u001b[0m\u001b[0margs\u001b[0m\u001b[0;34m,\u001b[0m \u001b[0;34m**\u001b[0m\u001b[0mkwargs\u001b[0m\u001b[0;34m)\u001b[0m\u001b[0;34m\u001b[0m\u001b[0m\n\u001b[0m\u001b[1;32m    521\u001b[0m \u001b[0;34m\u001b[0m\u001b[0m\n\u001b[1;32m    522\u001b[0m                 \u001b[0;32mif\u001b[0m \u001b[0mhasattr\u001b[0m\u001b[0;34m(\u001b[0m\u001b[0mself\u001b[0m\u001b[0;34m,\u001b[0m \u001b[0;34m'load'\u001b[0m\u001b[0;34m)\u001b[0m\u001b[0;34m:\u001b[0m\u001b[0;34m\u001b[0m\u001b[0m\n",
      "\u001b[0;32m/Users/yaroslav/anaconda/envs/sep22/lib/python3.5/site-packages/boto3/resources/action.py\u001b[0m in \u001b[0;36m__call__\u001b[0;34m(self, parent, *args, **kwargs)\u001b[0m\n\u001b[1;32m     81\u001b[0m                     operation_name, params)\n\u001b[1;32m     82\u001b[0m \u001b[0;34m\u001b[0m\u001b[0m\n\u001b[0;32m---> 83\u001b[0;31m         \u001b[0mresponse\u001b[0m \u001b[0;34m=\u001b[0m \u001b[0mgetattr\u001b[0m\u001b[0;34m(\u001b[0m\u001b[0mparent\u001b[0m\u001b[0;34m.\u001b[0m\u001b[0mmeta\u001b[0m\u001b[0;34m.\u001b[0m\u001b[0mclient\u001b[0m\u001b[0;34m,\u001b[0m \u001b[0moperation_name\u001b[0m\u001b[0;34m)\u001b[0m\u001b[0;34m(\u001b[0m\u001b[0;34m**\u001b[0m\u001b[0mparams\u001b[0m\u001b[0;34m)\u001b[0m\u001b[0;34m\u001b[0m\u001b[0m\n\u001b[0m\u001b[1;32m     84\u001b[0m \u001b[0;34m\u001b[0m\u001b[0m\n\u001b[1;32m     85\u001b[0m         \u001b[0mlogger\u001b[0m\u001b[0;34m.\u001b[0m\u001b[0mdebug\u001b[0m\u001b[0;34m(\u001b[0m\u001b[0;34m'Response: %r'\u001b[0m\u001b[0;34m,\u001b[0m \u001b[0mresponse\u001b[0m\u001b[0;34m)\u001b[0m\u001b[0;34m\u001b[0m\u001b[0m\n",
      "\u001b[0;32m/Users/yaroslav/anaconda/envs/sep22/lib/python3.5/site-packages/botocore/client.py\u001b[0m in \u001b[0;36m_api_call\u001b[0;34m(self, *args, **kwargs)\u001b[0m\n\u001b[1;32m    310\u001b[0m                     \"%s() only accepts keyword arguments.\" % py_operation_name)\n\u001b[1;32m    311\u001b[0m             \u001b[0;31m# The \"self\" in this scope is referring to the BaseClient.\u001b[0m\u001b[0;34m\u001b[0m\u001b[0;34m\u001b[0m\u001b[0m\n\u001b[0;32m--> 312\u001b[0;31m             \u001b[0;32mreturn\u001b[0m \u001b[0mself\u001b[0m\u001b[0;34m.\u001b[0m\u001b[0m_make_api_call\u001b[0m\u001b[0;34m(\u001b[0m\u001b[0moperation_name\u001b[0m\u001b[0;34m,\u001b[0m \u001b[0mkwargs\u001b[0m\u001b[0;34m)\u001b[0m\u001b[0;34m\u001b[0m\u001b[0m\n\u001b[0m\u001b[1;32m    313\u001b[0m \u001b[0;34m\u001b[0m\u001b[0m\n\u001b[1;32m    314\u001b[0m         \u001b[0m_api_call\u001b[0m\u001b[0;34m.\u001b[0m\u001b[0m__name__\u001b[0m \u001b[0;34m=\u001b[0m \u001b[0mstr\u001b[0m\u001b[0;34m(\u001b[0m\u001b[0mpy_operation_name\u001b[0m\u001b[0;34m)\u001b[0m\u001b[0;34m\u001b[0m\u001b[0m\n",
      "\u001b[0;32m/Users/yaroslav/anaconda/envs/sep22/lib/python3.5/site-packages/botocore/client.py\u001b[0m in \u001b[0;36m_make_api_call\u001b[0;34m(self, operation_name, api_params)\u001b[0m\n\u001b[1;32m    603\u001b[0m             \u001b[0merror_code\u001b[0m \u001b[0;34m=\u001b[0m \u001b[0mparsed_response\u001b[0m\u001b[0;34m.\u001b[0m\u001b[0mget\u001b[0m\u001b[0;34m(\u001b[0m\u001b[0;34m\"Error\"\u001b[0m\u001b[0;34m,\u001b[0m \u001b[0;34m{\u001b[0m\u001b[0;34m}\u001b[0m\u001b[0;34m)\u001b[0m\u001b[0;34m.\u001b[0m\u001b[0mget\u001b[0m\u001b[0;34m(\u001b[0m\u001b[0;34m\"Code\"\u001b[0m\u001b[0;34m)\u001b[0m\u001b[0;34m\u001b[0m\u001b[0m\n\u001b[1;32m    604\u001b[0m             \u001b[0merror_class\u001b[0m \u001b[0;34m=\u001b[0m \u001b[0mself\u001b[0m\u001b[0;34m.\u001b[0m\u001b[0mexceptions\u001b[0m\u001b[0;34m.\u001b[0m\u001b[0mfrom_code\u001b[0m\u001b[0;34m(\u001b[0m\u001b[0merror_code\u001b[0m\u001b[0;34m)\u001b[0m\u001b[0;34m\u001b[0m\u001b[0m\n\u001b[0;32m--> 605\u001b[0;31m             \u001b[0;32mraise\u001b[0m \u001b[0merror_class\u001b[0m\u001b[0;34m(\u001b[0m\u001b[0mparsed_response\u001b[0m\u001b[0;34m,\u001b[0m \u001b[0moperation_name\u001b[0m\u001b[0;34m)\u001b[0m\u001b[0;34m\u001b[0m\u001b[0m\n\u001b[0m\u001b[1;32m    606\u001b[0m         \u001b[0;32melse\u001b[0m\u001b[0;34m:\u001b[0m\u001b[0;34m\u001b[0m\u001b[0m\n\u001b[1;32m    607\u001b[0m             \u001b[0;32mreturn\u001b[0m \u001b[0mparsed_response\u001b[0m\u001b[0;34m\u001b[0m\u001b[0m\n",
      "\u001b[0;31mClientError\u001b[0m: An error occurred (DependencyViolation) when calling the DeleteVpc operation: The vpc 'vpc-2bb1584c' has dependencies and cannot be deleted."
     ]
    }
   ],
   "source": [
    "vpc.delete()"
   ]
  },
  {
   "cell_type": "code",
   "execution_count": 139,
   "metadata": {
    "collapsed": false
   },
   "outputs": [
    {
     "ename": "TypeError",
     "evalue": "'ec2.subnetsCollection' object does not support indexing",
     "output_type": "error",
     "traceback": [
      "\u001b[0;31m---------------------------------------------------------------------------\u001b[0m",
      "\u001b[0;31mTypeError\u001b[0m                                 Traceback (most recent call last)",
      "\u001b[0;32m<ipython-input-139-8107254f2575>\u001b[0m in \u001b[0;36m<module>\u001b[0;34m()\u001b[0m\n\u001b[0;32m----> 1\u001b[0;31m \u001b[0mec2\u001b[0m\u001b[0;34m.\u001b[0m\u001b[0msubnets\u001b[0m\u001b[0;34m.\u001b[0m\u001b[0mall\u001b[0m\u001b[0;34m(\u001b[0m\u001b[0;34m)\u001b[0m\u001b[0;34m[\u001b[0m\u001b[0;36m0\u001b[0m\u001b[0;34m]\u001b[0m\u001b[0;34m\u001b[0m\u001b[0m\n\u001b[0m",
      "\u001b[0;31mTypeError\u001b[0m: 'ec2.subnetsCollection' object does not support indexing"
     ]
    }
   ],
   "source": [
    "ec2.subnets.all()[0]"
   ]
  },
  {
   "cell_type": "code",
   "execution_count": 140,
   "metadata": {
    "collapsed": false
   },
   "outputs": [
    {
     "ename": "ClientError",
     "evalue": "An error occurred (DependencyViolation) when calling the DeleteVpc operation: The vpc 'vpc-2bb1584c' has dependencies and cannot be deleted.",
     "output_type": "error",
     "traceback": [
      "\u001b[0;31m---------------------------------------------------------------------------\u001b[0m",
      "\u001b[0;31mClientError\u001b[0m                               Traceback (most recent call last)",
      "\u001b[0;32m<ipython-input-140-66c2e576fccb>\u001b[0m in \u001b[0;36m<module>\u001b[0;34m()\u001b[0m\n\u001b[0;32m----> 1\u001b[0;31m \u001b[0mresponse\u001b[0m \u001b[0;34m=\u001b[0m \u001b[0mclient\u001b[0m\u001b[0;34m.\u001b[0m\u001b[0mdelete_vpc\u001b[0m\u001b[0;34m(\u001b[0m\u001b[0mVpcId\u001b[0m\u001b[0;34m=\u001b[0m\u001b[0mvpc\u001b[0m\u001b[0;34m.\u001b[0m\u001b[0mid\u001b[0m\u001b[0;34m)\u001b[0m\u001b[0;34m\u001b[0m\u001b[0m\n\u001b[0m",
      "\u001b[0;32m/Users/yaroslav/anaconda/envs/sep22/lib/python3.5/site-packages/botocore/client.py\u001b[0m in \u001b[0;36m_api_call\u001b[0;34m(self, *args, **kwargs)\u001b[0m\n\u001b[1;32m    310\u001b[0m                     \"%s() only accepts keyword arguments.\" % py_operation_name)\n\u001b[1;32m    311\u001b[0m             \u001b[0;31m# The \"self\" in this scope is referring to the BaseClient.\u001b[0m\u001b[0;34m\u001b[0m\u001b[0;34m\u001b[0m\u001b[0m\n\u001b[0;32m--> 312\u001b[0;31m             \u001b[0;32mreturn\u001b[0m \u001b[0mself\u001b[0m\u001b[0;34m.\u001b[0m\u001b[0m_make_api_call\u001b[0m\u001b[0;34m(\u001b[0m\u001b[0moperation_name\u001b[0m\u001b[0;34m,\u001b[0m \u001b[0mkwargs\u001b[0m\u001b[0;34m)\u001b[0m\u001b[0;34m\u001b[0m\u001b[0m\n\u001b[0m\u001b[1;32m    313\u001b[0m \u001b[0;34m\u001b[0m\u001b[0m\n\u001b[1;32m    314\u001b[0m         \u001b[0m_api_call\u001b[0m\u001b[0;34m.\u001b[0m\u001b[0m__name__\u001b[0m \u001b[0;34m=\u001b[0m \u001b[0mstr\u001b[0m\u001b[0;34m(\u001b[0m\u001b[0mpy_operation_name\u001b[0m\u001b[0;34m)\u001b[0m\u001b[0;34m\u001b[0m\u001b[0m\n",
      "\u001b[0;32m/Users/yaroslav/anaconda/envs/sep22/lib/python3.5/site-packages/botocore/client.py\u001b[0m in \u001b[0;36m_make_api_call\u001b[0;34m(self, operation_name, api_params)\u001b[0m\n\u001b[1;32m    603\u001b[0m             \u001b[0merror_code\u001b[0m \u001b[0;34m=\u001b[0m \u001b[0mparsed_response\u001b[0m\u001b[0;34m.\u001b[0m\u001b[0mget\u001b[0m\u001b[0;34m(\u001b[0m\u001b[0;34m\"Error\"\u001b[0m\u001b[0;34m,\u001b[0m \u001b[0;34m{\u001b[0m\u001b[0;34m}\u001b[0m\u001b[0;34m)\u001b[0m\u001b[0;34m.\u001b[0m\u001b[0mget\u001b[0m\u001b[0;34m(\u001b[0m\u001b[0;34m\"Code\"\u001b[0m\u001b[0;34m)\u001b[0m\u001b[0;34m\u001b[0m\u001b[0m\n\u001b[1;32m    604\u001b[0m             \u001b[0merror_class\u001b[0m \u001b[0;34m=\u001b[0m \u001b[0mself\u001b[0m\u001b[0;34m.\u001b[0m\u001b[0mexceptions\u001b[0m\u001b[0;34m.\u001b[0m\u001b[0mfrom_code\u001b[0m\u001b[0;34m(\u001b[0m\u001b[0merror_code\u001b[0m\u001b[0;34m)\u001b[0m\u001b[0;34m\u001b[0m\u001b[0m\n\u001b[0;32m--> 605\u001b[0;31m             \u001b[0;32mraise\u001b[0m \u001b[0merror_class\u001b[0m\u001b[0;34m(\u001b[0m\u001b[0mparsed_response\u001b[0m\u001b[0;34m,\u001b[0m \u001b[0moperation_name\u001b[0m\u001b[0;34m)\u001b[0m\u001b[0;34m\u001b[0m\u001b[0m\n\u001b[0m\u001b[1;32m    606\u001b[0m         \u001b[0;32melse\u001b[0m\u001b[0;34m:\u001b[0m\u001b[0;34m\u001b[0m\u001b[0m\n\u001b[1;32m    607\u001b[0m             \u001b[0;32mreturn\u001b[0m \u001b[0mparsed_response\u001b[0m\u001b[0;34m\u001b[0m\u001b[0m\n",
      "\u001b[0;31mClientError\u001b[0m: An error occurred (DependencyViolation) when calling the DeleteVpc operation: The vpc 'vpc-2bb1584c' has dependencies and cannot be deleted."
     ]
    }
   ],
   "source": [
    "response = client.delete_vpc(VpcId=vpc.id)"
   ]
  },
  {
   "cell_type": "code",
   "execution_count": 152,
   "metadata": {
    "collapsed": false
   },
   "outputs": [
    {
     "data": {
      "text/plain": [
       "[ec2.RouteTable(id='rtb-f4ba3693'), ec2.RouteTable(id='rtb-a8b438cf')]"
      ]
     },
     "execution_count": 152,
     "metadata": {},
     "output_type": "execute_result"
    }
   ],
   "source": [
    "list(vpc.route_tables.all())"
   ]
  },
  {
   "cell_type": "code",
   "execution_count": 150,
   "metadata": {
    "collapsed": false
   },
   "outputs": [
    {
     "name": "stdout",
     "output_type": "stream",
     "text": [
      "ec2.RouteTable(id='rtb-f4ba3693')\n",
      "ec2.RouteTable(id='rtb-a8b438cf')\n"
     ]
    }
   ],
   "source": [
    "for r in vpc.route_tables.all():\n",
    "  print(r)"
   ]
  },
  {
   "cell_type": "code",
   "execution_count": 158,
   "metadata": {
    "collapsed": true
   },
   "outputs": [],
   "source": [
    "subnets = list(vpc.subnets.all())"
   ]
  },
  {
   "cell_type": "code",
   "execution_count": 159,
   "metadata": {
    "collapsed": false
   },
   "outputs": [
    {
     "data": {
      "text/plain": [
       "[]"
      ]
     },
     "execution_count": 159,
     "metadata": {},
     "output_type": "execute_result"
    }
   ],
   "source": [
    "subnets"
   ]
  },
  {
   "cell_type": "code",
   "execution_count": 157,
   "metadata": {
    "collapsed": false
   },
   "outputs": [
    {
     "ename": "IndexError",
     "evalue": "list index out of range",
     "output_type": "error",
     "traceback": [
      "\u001b[0;31m---------------------------------------------------------------------------\u001b[0m",
      "\u001b[0;31mIndexError\u001b[0m                                Traceback (most recent call last)",
      "\u001b[0;32m<ipython-input-157-09ce1249c092>\u001b[0m in \u001b[0;36m<module>\u001b[0;34m()\u001b[0m\n\u001b[0;32m----> 1\u001b[0;31m \u001b[0msubnet\u001b[0m \u001b[0;34m=\u001b[0m \u001b[0msubnets\u001b[0m\u001b[0;34m[\u001b[0m\u001b[0;36m1\u001b[0m\u001b[0;34m]\u001b[0m\u001b[0;34m\u001b[0m\u001b[0m\n\u001b[0m",
      "\u001b[0;31mIndexError\u001b[0m: list index out of range"
     ]
    }
   ],
   "source": [
    "subnet = subnets[1]"
   ]
  },
  {
   "cell_type": "code",
   "execution_count": 156,
   "metadata": {
    "collapsed": false
   },
   "outputs": [
    {
     "data": {
      "text/plain": [
       "{'ResponseMetadata': {'HTTPHeaders': {'content-type': 'text/xml;charset=UTF-8',\n",
       "   'date': 'Tue, 19 Dec 2017 01:43:58 GMT',\n",
       "   'server': 'AmazonEC2',\n",
       "   'transfer-encoding': 'chunked',\n",
       "   'vary': 'Accept-Encoding'},\n",
       "  'HTTPStatusCode': 200,\n",
       "  'RequestId': 'a322b866-3966-495f-9b6f-b05ceca514a5',\n",
       "  'RetryAttempts': 0}}"
      ]
     },
     "execution_count": 156,
     "metadata": {},
     "output_type": "execute_result"
    }
   ],
   "source": [
    "subnet.delete()"
   ]
  },
  {
   "cell_type": "code",
   "execution_count": 72,
   "metadata": {
    "collapsed": false
   },
   "outputs": [
    {
     "data": {
      "text/plain": [
       "True"
      ]
     },
     "execution_count": 72,
     "metadata": {},
     "output_type": "execute_result"
    }
   ],
   "source": [
    "kk.issubset(ig.attachments[0].keys())"
   ]
  },
  {
   "cell_type": "code",
   "execution_count": 73,
   "metadata": {
    "collapsed": true
   },
   "outputs": [],
   "source": [
    "def _get1(items, **kwargs):\n",
    "  \"\"\"Helper method to extract values, ie\n",
    "  response = [{'State': 'available', 'VpcId': 'vpc-2bb1584c'}]\n",
    "  _get1(response, State=-1, VpcId='vpc-2bb1584c') #=> 'available'\"\"\"\n",
    "\n",
    "  # find the value of attribute to return\n",
    "  query_arg = None\n",
    "  for arg, value in kwargs.items():\n",
    "    if value == -1:\n",
    "      assert query_arg is None, \"Only single query arg (-1 valued) is allowed\"\n",
    "      query_arg = arg\n",
    "  result = []\n",
    "  \n",
    "  filterset = set(kwargs.keys())\n",
    "  for item in items:\n",
    "    match = True\n",
    "    assert filterset.issubset(item.keys()), \"Filter set contained %s which was not in record %s\" %(filterset.difference(item.keys()),\n",
    "                                                                                                  item)\n",
    "    for arg in item:\n",
    "      if arg == query_arg:\n",
    "        continue\n",
    "      if arg in kwargs:\n",
    "        if item[arg] != kwargs[arg]:\n",
    "          match = False\n",
    "          break\n",
    "    if match:\n",
    "      result.append(item[query_arg])\n",
    "  assert len(result) <= 1, \"%d values matched %s, only allow 1\" % (len(result), kwargs)\n",
    "  if result:\n",
    "    return result[0]\n",
    "  return None"
   ]
  },
  {
   "cell_type": "code",
   "execution_count": 74,
   "metadata": {
    "collapsed": false
   },
   "outputs": [
    {
     "data": {
      "text/plain": [
       "'available'"
      ]
     },
     "execution_count": 74,
     "metadata": {},
     "output_type": "execute_result"
    }
   ],
   "source": [
    "_get1(ig.attachments, State=-1, VpcId='vpc-2bb1584c')"
   ]
  },
  {
   "cell_type": "code",
   "execution_count": 75,
   "metadata": {
    "collapsed": true
   },
   "outputs": [],
   "source": [
    "ig.attachments?"
   ]
  },
  {
   "cell_type": "code",
   "execution_count": 13,
   "metadata": {
    "collapsed": false
   },
   "outputs": [
    {
     "ename": "TypeError",
     "evalue": "unsupported operand type(s) for -: 'ec2.Vpc' and 'int'",
     "output_type": "error",
     "traceback": [
      "\u001b[0;31m---------------------------------------------------------------------------\u001b[0m",
      "\u001b[0;31mTypeError\u001b[0m                                 Traceback (most recent call last)",
      "\u001b[0;32m<ipython-input-13-1fb6eba250c4>\u001b[0m in \u001b[0;36m<module>\u001b[0;34m()\u001b[0m\n\u001b[0;32m----> 1\u001b[0;31m \u001b[0mvpc\u001b[0m\u001b[0;34m-\u001b[0m\u001b[0;36m14876473\u001b[0m\u001b[0;34m\u001b[0m\u001b[0m\n\u001b[0m",
      "\u001b[0;31mTypeError\u001b[0m: unsupported operand type(s) for -: 'ec2.Vpc' and 'int'"
     ]
    }
   ],
   "source": [
    "vpc-14876473"
   ]
  },
  {
   "cell_type": "code",
   "execution_count": 76,
   "metadata": {
    "collapsed": true
   },
   "outputs": [],
   "source": [
    "client = boto3.client('ec2')\n",
    "route_table = vpc.create_route_table()"
   ]
  },
  {
   "cell_type": "code",
   "execution_count": 77,
   "metadata": {
    "collapsed": true
   },
   "outputs": [],
   "source": [
    "vpc.create_route_table?"
   ]
  },
  {
   "cell_type": "code",
   "execution_count": 79,
   "metadata": {
    "collapsed": true
   },
   "outputs": [],
   "source": [
    "route_table.load()"
   ]
  },
  {
   "cell_type": "code",
   "execution_count": 84,
   "metadata": {
    "collapsed": true
   },
   "outputs": [],
   "source": [
    "def _make_name(name):\n",
    "  return [{'Key': 'Name', 'Value': name}]"
   ]
  },
  {
   "cell_type": "code",
   "execution_count": 87,
   "metadata": {
    "collapsed": false
   },
   "outputs": [
    {
     "data": {
      "text/plain": [
       "[ec2.Tag(resource_id='rtb-a8b438cf', key='Name', value='nexus')]"
      ]
     },
     "execution_count": 87,
     "metadata": {},
     "output_type": "execute_result"
    }
   ],
   "source": [
    "route_table.create_tags(Tags=_make_name(\"nexus\"))"
   ]
  },
  {
   "cell_type": "code",
   "execution_count": 86,
   "metadata": {
    "collapsed": true
   },
   "outputs": [],
   "source": [
    "route_table.create_tags?"
   ]
  },
  {
   "cell_type": "code",
   "execution_count": 88,
   "metadata": {
    "collapsed": false
   },
   "outputs": [
    {
     "data": {
      "text/plain": [
       "[{'Key': 'Name', 'Value': 'nexus'}]"
      ]
     },
     "execution_count": 88,
     "metadata": {},
     "output_type": "execute_result"
    }
   ],
   "source": [
    "route_table.tags"
   ]
  },
  {
   "cell_type": "code",
   "execution_count": 89,
   "metadata": {
    "collapsed": true
   },
   "outputs": [],
   "source": [
    "route = route_table.create_route(\n",
    "    DestinationCidrBlock='0.0.0.0/0',\n",
    "    GatewayId=ig.id\n",
    ")\n"
   ]
  },
  {
   "cell_type": "code",
   "execution_count": 91,
   "metadata": {
    "collapsed": false
   },
   "outputs": [
    {
     "ename": "AttributeError",
     "evalue": "'ec2.Route' object has no attribute 'load'",
     "output_type": "error",
     "traceback": [
      "\u001b[0;31m---------------------------------------------------------------------------\u001b[0m",
      "\u001b[0;31mAttributeError\u001b[0m                            Traceback (most recent call last)",
      "\u001b[0;32m<ipython-input-91-5079b7942143>\u001b[0m in \u001b[0;36m<module>\u001b[0;34m()\u001b[0m\n\u001b[0;32m----> 1\u001b[0;31m \u001b[0mroute\u001b[0m\u001b[0;34m.\u001b[0m\u001b[0mload\u001b[0m\u001b[0;34m(\u001b[0m\u001b[0;34m)\u001b[0m\u001b[0;34m\u001b[0m\u001b[0m\n\u001b[0m",
      "\u001b[0;31mAttributeError\u001b[0m: 'ec2.Route' object has no attribute 'load'"
     ]
    }
   ],
   "source": [
    "route.load()"
   ]
  },
  {
   "cell_type": "code",
   "execution_count": 94,
   "metadata": {
    "collapsed": false
   },
   "outputs": [
    {
     "data": {
      "text/plain": [
       "[]"
      ]
     },
     "execution_count": 94,
     "metadata": {},
     "output_type": "execute_result"
    }
   ],
   "source": [
    "route_table.get_available_subresources()"
   ]
  },
  {
   "cell_type": "code",
   "execution_count": 95,
   "metadata": {
    "collapsed": false
   },
   "outputs": [
    {
     "data": {
      "text/plain": [
       "[ec2.Route(route_table_id='rtb-a8b438cf', destination_cidr_block='192.168.0.0/16'),\n",
       " ec2.Route(route_table_id='rtb-a8b438cf', destination_cidr_block='0.0.0.0/0')]"
      ]
     },
     "execution_count": 95,
     "metadata": {},
     "output_type": "execute_result"
    }
   ],
   "source": [
    "route_table.routes"
   ]
  },
  {
   "cell_type": "code",
   "execution_count": 101,
   "metadata": {
    "collapsed": false
   },
   "outputs": [
    {
     "name": "stdout",
     "output_type": "stream",
     "text": [
      "Failed\n"
     ]
    }
   ],
   "source": [
    "for i in range(5):\n",
    "  if i == 6:\n",
    "    break\n",
    "else:\n",
    "  print(\"Failed\")"
   ]
  },
  {
   "cell_type": "code",
   "execution_count": 160,
   "metadata": {
    "collapsed": true
   },
   "outputs": [],
   "source": [
    "    subnet = vpc.create_subnet(CidrBlock='192.168.1.0/20')"
   ]
  },
  {
   "cell_type": "code",
   "execution_count": 161,
   "metadata": {
    "collapsed": false
   },
   "outputs": [
    {
     "data": {
      "text/plain": [
       "'subnet-76901911'"
      ]
     },
     "execution_count": 161,
     "metadata": {},
     "output_type": "execute_result"
    }
   ],
   "source": [
    "subnet.id"
   ]
  },
  {
   "cell_type": "code",
   "execution_count": 163,
   "metadata": {
    "collapsed": true
   },
   "outputs": [],
   "source": [
    "route_tables = list(vpc.route_tables.all())"
   ]
  },
  {
   "cell_type": "code",
   "execution_count": 164,
   "metadata": {
    "collapsed": false
   },
   "outputs": [
    {
     "data": {
      "text/plain": [
       "[ec2.RouteTable(id='rtb-f4ba3693'), ec2.RouteTable(id='rtb-a8b438cf')]"
      ]
     },
     "execution_count": 164,
     "metadata": {},
     "output_type": "execute_result"
    }
   ],
   "source": [
    "route_tables"
   ]
  },
  {
   "cell_type": "code",
   "execution_count": 165,
   "metadata": {
    "collapsed": true
   },
   "outputs": [],
   "source": [
    "route_table = route_tables[0]"
   ]
  },
  {
   "cell_type": "code",
   "execution_count": 167,
   "metadata": {
    "collapsed": false
   },
   "outputs": [
    {
     "data": {
      "text/plain": [
       "'rtb-f4ba3693'"
      ]
     },
     "execution_count": 167,
     "metadata": {},
     "output_type": "execute_result"
    }
   ],
   "source": [
    "route_table.id"
   ]
  },
  {
   "cell_type": "code",
   "execution_count": 209,
   "metadata": {
    "collapsed": true
   },
   "outputs": [],
   "source": [
    "security_groups = list(vpc.security_groups.all())"
   ]
  },
  {
   "cell_type": "code",
   "execution_count": 212,
   "metadata": {
    "collapsed": false
   },
   "outputs": [
    {
     "ename": "IndexError",
     "evalue": "list index out of range",
     "output_type": "error",
     "traceback": [
      "\u001b[0;31m---------------------------------------------------------------------------\u001b[0m",
      "\u001b[0;31mIndexError\u001b[0m                                Traceback (most recent call last)",
      "\u001b[0;32m<ipython-input-212-19c21c6a8dfc>\u001b[0m in \u001b[0;36m<module>\u001b[0;34m()\u001b[0m\n\u001b[0;32m----> 1\u001b[0;31m \u001b[0msecurity_groups\u001b[0m\u001b[0;34m[\u001b[0m\u001b[0;36m1\u001b[0m\u001b[0;34m]\u001b[0m\u001b[0;34m.\u001b[0m\u001b[0mdelete\u001b[0m\u001b[0;34m(\u001b[0m\u001b[0;34m)\u001b[0m\u001b[0;34m\u001b[0m\u001b[0m\n\u001b[0m",
      "\u001b[0;31mIndexError\u001b[0m: list index out of range"
     ]
    }
   ],
   "source": [
    "security_groups[1].delete()"
   ]
  },
  {
   "cell_type": "code",
   "execution_count": 214,
   "metadata": {
    "collapsed": false
   },
   "outputs": [
    {
     "data": {
      "text/plain": [
       "ec2.SecurityGroup(id='sg-4e8c6c37')"
      ]
     },
     "execution_count": 214,
     "metadata": {},
     "output_type": "execute_result"
    }
   ],
   "source": [
    "security_groups[0]"
   ]
  },
  {
   "cell_type": "code",
   "execution_count": null,
   "metadata": {
    "collapsed": true
   },
   "outputs": [],
   "source": [
    "subnet."
   ]
  },
  {
   "cell_type": "code",
   "execution_count": 215,
   "metadata": {
    "collapsed": false
   },
   "outputs": [
    {
     "ename": "ClientError",
     "evalue": "An error occurred (CannotDelete) when calling the DeleteSecurityGroup operation: the specified group: \"sg-4e8c6c37\" name: \"default\" cannot be deleted by a user",
     "output_type": "error",
     "traceback": [
      "\u001b[0;31m---------------------------------------------------------------------------\u001b[0m",
      "\u001b[0;31mClientError\u001b[0m                               Traceback (most recent call last)",
      "\u001b[0;32m<ipython-input-215-24e300c2f545>\u001b[0m in \u001b[0;36m<module>\u001b[0;34m()\u001b[0m\n\u001b[0;32m----> 1\u001b[0;31m \u001b[0msecurity_groups\u001b[0m\u001b[0;34m[\u001b[0m\u001b[0;36m0\u001b[0m\u001b[0;34m]\u001b[0m\u001b[0;34m.\u001b[0m\u001b[0mdelete\u001b[0m\u001b[0;34m(\u001b[0m\u001b[0;34m)\u001b[0m\u001b[0;34m\u001b[0m\u001b[0m\n\u001b[0m",
      "\u001b[0;32m/Users/yaroslav/anaconda/envs/sep22/lib/python3.5/site-packages/boto3/resources/factory.py\u001b[0m in \u001b[0;36mdo_action\u001b[0;34m(self, *args, **kwargs)\u001b[0m\n\u001b[1;32m    518\u001b[0m             \u001b[0;31m# instance via ``self``.\u001b[0m\u001b[0;34m\u001b[0m\u001b[0;34m\u001b[0m\u001b[0m\n\u001b[1;32m    519\u001b[0m             \u001b[0;32mdef\u001b[0m \u001b[0mdo_action\u001b[0m\u001b[0;34m(\u001b[0m\u001b[0mself\u001b[0m\u001b[0;34m,\u001b[0m \u001b[0;34m*\u001b[0m\u001b[0margs\u001b[0m\u001b[0;34m,\u001b[0m \u001b[0;34m**\u001b[0m\u001b[0mkwargs\u001b[0m\u001b[0;34m)\u001b[0m\u001b[0;34m:\u001b[0m\u001b[0;34m\u001b[0m\u001b[0m\n\u001b[0;32m--> 520\u001b[0;31m                 \u001b[0mresponse\u001b[0m \u001b[0;34m=\u001b[0m \u001b[0maction\u001b[0m\u001b[0;34m(\u001b[0m\u001b[0mself\u001b[0m\u001b[0;34m,\u001b[0m \u001b[0;34m*\u001b[0m\u001b[0margs\u001b[0m\u001b[0;34m,\u001b[0m \u001b[0;34m**\u001b[0m\u001b[0mkwargs\u001b[0m\u001b[0;34m)\u001b[0m\u001b[0;34m\u001b[0m\u001b[0m\n\u001b[0m\u001b[1;32m    521\u001b[0m \u001b[0;34m\u001b[0m\u001b[0m\n\u001b[1;32m    522\u001b[0m                 \u001b[0;32mif\u001b[0m \u001b[0mhasattr\u001b[0m\u001b[0;34m(\u001b[0m\u001b[0mself\u001b[0m\u001b[0;34m,\u001b[0m \u001b[0;34m'load'\u001b[0m\u001b[0;34m)\u001b[0m\u001b[0;34m:\u001b[0m\u001b[0;34m\u001b[0m\u001b[0m\n",
      "\u001b[0;32m/Users/yaroslav/anaconda/envs/sep22/lib/python3.5/site-packages/boto3/resources/action.py\u001b[0m in \u001b[0;36m__call__\u001b[0;34m(self, parent, *args, **kwargs)\u001b[0m\n\u001b[1;32m     81\u001b[0m                     operation_name, params)\n\u001b[1;32m     82\u001b[0m \u001b[0;34m\u001b[0m\u001b[0m\n\u001b[0;32m---> 83\u001b[0;31m         \u001b[0mresponse\u001b[0m \u001b[0;34m=\u001b[0m \u001b[0mgetattr\u001b[0m\u001b[0;34m(\u001b[0m\u001b[0mparent\u001b[0m\u001b[0;34m.\u001b[0m\u001b[0mmeta\u001b[0m\u001b[0;34m.\u001b[0m\u001b[0mclient\u001b[0m\u001b[0;34m,\u001b[0m \u001b[0moperation_name\u001b[0m\u001b[0;34m)\u001b[0m\u001b[0;34m(\u001b[0m\u001b[0;34m**\u001b[0m\u001b[0mparams\u001b[0m\u001b[0;34m)\u001b[0m\u001b[0;34m\u001b[0m\u001b[0m\n\u001b[0m\u001b[1;32m     84\u001b[0m \u001b[0;34m\u001b[0m\u001b[0m\n\u001b[1;32m     85\u001b[0m         \u001b[0mlogger\u001b[0m\u001b[0;34m.\u001b[0m\u001b[0mdebug\u001b[0m\u001b[0;34m(\u001b[0m\u001b[0;34m'Response: %r'\u001b[0m\u001b[0;34m,\u001b[0m \u001b[0mresponse\u001b[0m\u001b[0;34m)\u001b[0m\u001b[0;34m\u001b[0m\u001b[0m\n",
      "\u001b[0;32m/Users/yaroslav/anaconda/envs/sep22/lib/python3.5/site-packages/botocore/client.py\u001b[0m in \u001b[0;36m_api_call\u001b[0;34m(self, *args, **kwargs)\u001b[0m\n\u001b[1;32m    310\u001b[0m                     \"%s() only accepts keyword arguments.\" % py_operation_name)\n\u001b[1;32m    311\u001b[0m             \u001b[0;31m# The \"self\" in this scope is referring to the BaseClient.\u001b[0m\u001b[0;34m\u001b[0m\u001b[0;34m\u001b[0m\u001b[0m\n\u001b[0;32m--> 312\u001b[0;31m             \u001b[0;32mreturn\u001b[0m \u001b[0mself\u001b[0m\u001b[0;34m.\u001b[0m\u001b[0m_make_api_call\u001b[0m\u001b[0;34m(\u001b[0m\u001b[0moperation_name\u001b[0m\u001b[0;34m,\u001b[0m \u001b[0mkwargs\u001b[0m\u001b[0;34m)\u001b[0m\u001b[0;34m\u001b[0m\u001b[0m\n\u001b[0m\u001b[1;32m    313\u001b[0m \u001b[0;34m\u001b[0m\u001b[0m\n\u001b[1;32m    314\u001b[0m         \u001b[0m_api_call\u001b[0m\u001b[0;34m.\u001b[0m\u001b[0m__name__\u001b[0m \u001b[0;34m=\u001b[0m \u001b[0mstr\u001b[0m\u001b[0;34m(\u001b[0m\u001b[0mpy_operation_name\u001b[0m\u001b[0;34m)\u001b[0m\u001b[0;34m\u001b[0m\u001b[0m\n",
      "\u001b[0;32m/Users/yaroslav/anaconda/envs/sep22/lib/python3.5/site-packages/botocore/client.py\u001b[0m in \u001b[0;36m_make_api_call\u001b[0;34m(self, operation_name, api_params)\u001b[0m\n\u001b[1;32m    603\u001b[0m             \u001b[0merror_code\u001b[0m \u001b[0;34m=\u001b[0m \u001b[0mparsed_response\u001b[0m\u001b[0;34m.\u001b[0m\u001b[0mget\u001b[0m\u001b[0;34m(\u001b[0m\u001b[0;34m\"Error\"\u001b[0m\u001b[0;34m,\u001b[0m \u001b[0;34m{\u001b[0m\u001b[0;34m}\u001b[0m\u001b[0;34m)\u001b[0m\u001b[0;34m.\u001b[0m\u001b[0mget\u001b[0m\u001b[0;34m(\u001b[0m\u001b[0;34m\"Code\"\u001b[0m\u001b[0;34m)\u001b[0m\u001b[0;34m\u001b[0m\u001b[0m\n\u001b[1;32m    604\u001b[0m             \u001b[0merror_class\u001b[0m \u001b[0;34m=\u001b[0m \u001b[0mself\u001b[0m\u001b[0;34m.\u001b[0m\u001b[0mexceptions\u001b[0m\u001b[0;34m.\u001b[0m\u001b[0mfrom_code\u001b[0m\u001b[0;34m(\u001b[0m\u001b[0merror_code\u001b[0m\u001b[0;34m)\u001b[0m\u001b[0;34m\u001b[0m\u001b[0m\n\u001b[0;32m--> 605\u001b[0;31m             \u001b[0;32mraise\u001b[0m \u001b[0merror_class\u001b[0m\u001b[0;34m(\u001b[0m\u001b[0mparsed_response\u001b[0m\u001b[0;34m,\u001b[0m \u001b[0moperation_name\u001b[0m\u001b[0;34m)\u001b[0m\u001b[0;34m\u001b[0m\u001b[0m\n\u001b[0m\u001b[1;32m    606\u001b[0m         \u001b[0;32melse\u001b[0m\u001b[0;34m:\u001b[0m\u001b[0;34m\u001b[0m\u001b[0m\n\u001b[1;32m    607\u001b[0m             \u001b[0;32mreturn\u001b[0m \u001b[0mparsed_response\u001b[0m\u001b[0;34m\u001b[0m\u001b[0m\n",
      "\u001b[0;31mClientError\u001b[0m: An error occurred (CannotDelete) when calling the DeleteSecurityGroup operation: the specified group: \"sg-4e8c6c37\" name: \"default\" cannot be deleted by a user"
     ]
    }
   ],
   "source": [
    "security_groups[0].delete()"
   ]
  },
  {
   "cell_type": "code",
   "execution_count": 170,
   "metadata": {
    "collapsed": false
   },
   "outputs": [
    {
     "data": {
      "text/plain": [
       "[ec2.Route(route_table_id='rtb-f4ba3693', destination_cidr_block='192.168.0.0/16')]"
      ]
     },
     "execution_count": 170,
     "metadata": {},
     "output_type": "execute_result"
    }
   ],
   "source": [
    "route_table.routes"
   ]
  },
  {
   "cell_type": "code",
   "execution_count": 172,
   "metadata": {
    "collapsed": false
   },
   "outputs": [
    {
     "ename": "ClientError",
     "evalue": "An error occurred (InvalidParameterValue) when calling the DeleteRoute operation: cannot remove local route 192.168.0.0/16 in route table rtb-f4ba3693",
     "output_type": "error",
     "traceback": [
      "\u001b[0;31m---------------------------------------------------------------------------\u001b[0m",
      "\u001b[0;31mClientError\u001b[0m                               Traceback (most recent call last)",
      "\u001b[0;32m<ipython-input-172-593d551f12e4>\u001b[0m in \u001b[0;36m<module>\u001b[0;34m()\u001b[0m\n\u001b[0;32m----> 1\u001b[0;31m \u001b[0mroute_table\u001b[0m\u001b[0;34m.\u001b[0m\u001b[0mroutes\u001b[0m\u001b[0;34m[\u001b[0m\u001b[0;36m0\u001b[0m\u001b[0;34m]\u001b[0m\u001b[0;34m.\u001b[0m\u001b[0mdelete\u001b[0m\u001b[0;34m(\u001b[0m\u001b[0;34m)\u001b[0m\u001b[0;34m\u001b[0m\u001b[0m\n\u001b[0m",
      "\u001b[0;32m/Users/yaroslav/anaconda/envs/sep22/lib/python3.5/site-packages/boto3/resources/factory.py\u001b[0m in \u001b[0;36mdo_action\u001b[0;34m(self, *args, **kwargs)\u001b[0m\n\u001b[1;32m    518\u001b[0m             \u001b[0;31m# instance via ``self``.\u001b[0m\u001b[0;34m\u001b[0m\u001b[0;34m\u001b[0m\u001b[0m\n\u001b[1;32m    519\u001b[0m             \u001b[0;32mdef\u001b[0m \u001b[0mdo_action\u001b[0m\u001b[0;34m(\u001b[0m\u001b[0mself\u001b[0m\u001b[0;34m,\u001b[0m \u001b[0;34m*\u001b[0m\u001b[0margs\u001b[0m\u001b[0;34m,\u001b[0m \u001b[0;34m**\u001b[0m\u001b[0mkwargs\u001b[0m\u001b[0;34m)\u001b[0m\u001b[0;34m:\u001b[0m\u001b[0;34m\u001b[0m\u001b[0m\n\u001b[0;32m--> 520\u001b[0;31m                 \u001b[0mresponse\u001b[0m \u001b[0;34m=\u001b[0m \u001b[0maction\u001b[0m\u001b[0;34m(\u001b[0m\u001b[0mself\u001b[0m\u001b[0;34m,\u001b[0m \u001b[0;34m*\u001b[0m\u001b[0margs\u001b[0m\u001b[0;34m,\u001b[0m \u001b[0;34m**\u001b[0m\u001b[0mkwargs\u001b[0m\u001b[0;34m)\u001b[0m\u001b[0;34m\u001b[0m\u001b[0m\n\u001b[0m\u001b[1;32m    521\u001b[0m \u001b[0;34m\u001b[0m\u001b[0m\n\u001b[1;32m    522\u001b[0m                 \u001b[0;32mif\u001b[0m \u001b[0mhasattr\u001b[0m\u001b[0;34m(\u001b[0m\u001b[0mself\u001b[0m\u001b[0;34m,\u001b[0m \u001b[0;34m'load'\u001b[0m\u001b[0;34m)\u001b[0m\u001b[0;34m:\u001b[0m\u001b[0;34m\u001b[0m\u001b[0m\n",
      "\u001b[0;32m/Users/yaroslav/anaconda/envs/sep22/lib/python3.5/site-packages/boto3/resources/action.py\u001b[0m in \u001b[0;36m__call__\u001b[0;34m(self, parent, *args, **kwargs)\u001b[0m\n\u001b[1;32m     81\u001b[0m                     operation_name, params)\n\u001b[1;32m     82\u001b[0m \u001b[0;34m\u001b[0m\u001b[0m\n\u001b[0;32m---> 83\u001b[0;31m         \u001b[0mresponse\u001b[0m \u001b[0;34m=\u001b[0m \u001b[0mgetattr\u001b[0m\u001b[0;34m(\u001b[0m\u001b[0mparent\u001b[0m\u001b[0;34m.\u001b[0m\u001b[0mmeta\u001b[0m\u001b[0;34m.\u001b[0m\u001b[0mclient\u001b[0m\u001b[0;34m,\u001b[0m \u001b[0moperation_name\u001b[0m\u001b[0;34m)\u001b[0m\u001b[0;34m(\u001b[0m\u001b[0;34m**\u001b[0m\u001b[0mparams\u001b[0m\u001b[0;34m)\u001b[0m\u001b[0;34m\u001b[0m\u001b[0m\n\u001b[0m\u001b[1;32m     84\u001b[0m \u001b[0;34m\u001b[0m\u001b[0m\n\u001b[1;32m     85\u001b[0m         \u001b[0mlogger\u001b[0m\u001b[0;34m.\u001b[0m\u001b[0mdebug\u001b[0m\u001b[0;34m(\u001b[0m\u001b[0;34m'Response: %r'\u001b[0m\u001b[0;34m,\u001b[0m \u001b[0mresponse\u001b[0m\u001b[0;34m)\u001b[0m\u001b[0;34m\u001b[0m\u001b[0m\n",
      "\u001b[0;32m/Users/yaroslav/anaconda/envs/sep22/lib/python3.5/site-packages/botocore/client.py\u001b[0m in \u001b[0;36m_api_call\u001b[0;34m(self, *args, **kwargs)\u001b[0m\n\u001b[1;32m    310\u001b[0m                     \"%s() only accepts keyword arguments.\" % py_operation_name)\n\u001b[1;32m    311\u001b[0m             \u001b[0;31m# The \"self\" in this scope is referring to the BaseClient.\u001b[0m\u001b[0;34m\u001b[0m\u001b[0;34m\u001b[0m\u001b[0m\n\u001b[0;32m--> 312\u001b[0;31m             \u001b[0;32mreturn\u001b[0m \u001b[0mself\u001b[0m\u001b[0;34m.\u001b[0m\u001b[0m_make_api_call\u001b[0m\u001b[0;34m(\u001b[0m\u001b[0moperation_name\u001b[0m\u001b[0;34m,\u001b[0m \u001b[0mkwargs\u001b[0m\u001b[0;34m)\u001b[0m\u001b[0;34m\u001b[0m\u001b[0m\n\u001b[0m\u001b[1;32m    313\u001b[0m \u001b[0;34m\u001b[0m\u001b[0m\n\u001b[1;32m    314\u001b[0m         \u001b[0m_api_call\u001b[0m\u001b[0;34m.\u001b[0m\u001b[0m__name__\u001b[0m \u001b[0;34m=\u001b[0m \u001b[0mstr\u001b[0m\u001b[0;34m(\u001b[0m\u001b[0mpy_operation_name\u001b[0m\u001b[0;34m)\u001b[0m\u001b[0;34m\u001b[0m\u001b[0m\n",
      "\u001b[0;32m/Users/yaroslav/anaconda/envs/sep22/lib/python3.5/site-packages/botocore/client.py\u001b[0m in \u001b[0;36m_make_api_call\u001b[0;34m(self, operation_name, api_params)\u001b[0m\n\u001b[1;32m    603\u001b[0m             \u001b[0merror_code\u001b[0m \u001b[0;34m=\u001b[0m \u001b[0mparsed_response\u001b[0m\u001b[0;34m.\u001b[0m\u001b[0mget\u001b[0m\u001b[0;34m(\u001b[0m\u001b[0;34m\"Error\"\u001b[0m\u001b[0;34m,\u001b[0m \u001b[0;34m{\u001b[0m\u001b[0;34m}\u001b[0m\u001b[0;34m)\u001b[0m\u001b[0;34m.\u001b[0m\u001b[0mget\u001b[0m\u001b[0;34m(\u001b[0m\u001b[0;34m\"Code\"\u001b[0m\u001b[0;34m)\u001b[0m\u001b[0;34m\u001b[0m\u001b[0m\n\u001b[1;32m    604\u001b[0m             \u001b[0merror_class\u001b[0m \u001b[0;34m=\u001b[0m \u001b[0mself\u001b[0m\u001b[0;34m.\u001b[0m\u001b[0mexceptions\u001b[0m\u001b[0;34m.\u001b[0m\u001b[0mfrom_code\u001b[0m\u001b[0;34m(\u001b[0m\u001b[0merror_code\u001b[0m\u001b[0;34m)\u001b[0m\u001b[0;34m\u001b[0m\u001b[0m\n\u001b[0;32m--> 605\u001b[0;31m             \u001b[0;32mraise\u001b[0m \u001b[0merror_class\u001b[0m\u001b[0;34m(\u001b[0m\u001b[0mparsed_response\u001b[0m\u001b[0;34m,\u001b[0m \u001b[0moperation_name\u001b[0m\u001b[0;34m)\u001b[0m\u001b[0;34m\u001b[0m\u001b[0m\n\u001b[0m\u001b[1;32m    606\u001b[0m         \u001b[0;32melse\u001b[0m\u001b[0;34m:\u001b[0m\u001b[0;34m\u001b[0m\u001b[0m\n\u001b[1;32m    607\u001b[0m             \u001b[0;32mreturn\u001b[0m \u001b[0mparsed_response\u001b[0m\u001b[0;34m\u001b[0m\u001b[0m\n",
      "\u001b[0;31mClientError\u001b[0m: An error occurred (InvalidParameterValue) when calling the DeleteRoute operation: cannot remove local route 192.168.0.0/16 in route table rtb-f4ba3693"
     ]
    }
   ],
   "source": [
    "route_table.routes[0].delete()"
   ]
  },
  {
   "cell_type": "code",
   "execution_count": 175,
   "metadata": {
    "collapsed": true
   },
   "outputs": [],
   "source": [
    "gateways = list(vpc.internet_gateways.all())"
   ]
  },
  {
   "cell_type": "code",
   "execution_count": 176,
   "metadata": {
    "collapsed": true
   },
   "outputs": [],
   "source": [
    "gateway = gateways[0]"
   ]
  },
  {
   "cell_type": "code",
   "execution_count": 180,
   "metadata": {
    "collapsed": false
   },
   "outputs": [
    {
     "data": {
      "text/plain": [
       "{'ResponseMetadata': {'HTTPHeaders': {'content-type': 'text/xml;charset=UTF-8',\n",
       "   'date': 'Tue, 19 Dec 2017 01:51:15 GMT',\n",
       "   'server': 'AmazonEC2',\n",
       "   'transfer-encoding': 'chunked',\n",
       "   'vary': 'Accept-Encoding'},\n",
       "  'HTTPStatusCode': 200,\n",
       "  'RequestId': '230d20fa-3cf3-4344-afe6-159d0ac6f522',\n",
       "  'RetryAttempts': 0}}"
      ]
     },
     "execution_count": 180,
     "metadata": {},
     "output_type": "execute_result"
    }
   ],
   "source": [
    "gateway.detach_from_vpc(VpcId=vpc.id)"
   ]
  },
  {
   "cell_type": "code",
   "execution_count": 186,
   "metadata": {
    "collapsed": false
   },
   "outputs": [
    {
     "data": {
      "text/plain": [
       "[]"
      ]
     },
     "execution_count": 186,
     "metadata": {},
     "output_type": "execute_result"
    }
   ],
   "source": [
    "list(vpc.internet_gateways.all())"
   ]
  },
  {
   "cell_type": "code",
   "execution_count": 193,
   "metadata": {
    "collapsed": true
   },
   "outputs": [],
   "source": [
    "route_tables = list(vpc.route_tables.all())"
   ]
  },
  {
   "cell_type": "code",
   "execution_count": 195,
   "metadata": {
    "collapsed": true
   },
   "outputs": [],
   "source": [
    "route_table = route_tables[0]"
   ]
  },
  {
   "cell_type": "code",
   "execution_count": 199,
   "metadata": {
    "collapsed": true
   },
   "outputs": [],
   "source": [
    "route = route_table.routes[0]"
   ]
  },
  {
   "cell_type": "code",
   "execution_count": 200,
   "metadata": {
    "collapsed": false
   },
   "outputs": [
    {
     "data": {
      "text/plain": [
       "ec2.Route(route_table_id='rtb-f4ba3693', destination_cidr_block='192.168.0.0/16')"
      ]
     },
     "execution_count": 200,
     "metadata": {},
     "output_type": "execute_result"
    }
   ],
   "source": [
    "route"
   ]
  },
  {
   "cell_type": "code",
   "execution_count": 201,
   "metadata": {
    "collapsed": false
   },
   "outputs": [
    {
     "ename": "ClientError",
     "evalue": "An error occurred (InvalidParameterValue) when calling the DeleteRoute operation: cannot remove local route 192.168.0.0/16 in route table rtb-f4ba3693",
     "output_type": "error",
     "traceback": [
      "\u001b[0;31m---------------------------------------------------------------------------\u001b[0m",
      "\u001b[0;31mClientError\u001b[0m                               Traceback (most recent call last)",
      "\u001b[0;32m<ipython-input-201-a85a3a3f7fa5>\u001b[0m in \u001b[0;36m<module>\u001b[0;34m()\u001b[0m\n\u001b[0;32m----> 1\u001b[0;31m \u001b[0mroute\u001b[0m\u001b[0;34m.\u001b[0m\u001b[0mdelete\u001b[0m\u001b[0;34m(\u001b[0m\u001b[0;34m)\u001b[0m\u001b[0;34m\u001b[0m\u001b[0m\n\u001b[0m",
      "\u001b[0;32m/Users/yaroslav/anaconda/envs/sep22/lib/python3.5/site-packages/boto3/resources/factory.py\u001b[0m in \u001b[0;36mdo_action\u001b[0;34m(self, *args, **kwargs)\u001b[0m\n\u001b[1;32m    518\u001b[0m             \u001b[0;31m# instance via ``self``.\u001b[0m\u001b[0;34m\u001b[0m\u001b[0;34m\u001b[0m\u001b[0m\n\u001b[1;32m    519\u001b[0m             \u001b[0;32mdef\u001b[0m \u001b[0mdo_action\u001b[0m\u001b[0;34m(\u001b[0m\u001b[0mself\u001b[0m\u001b[0;34m,\u001b[0m \u001b[0;34m*\u001b[0m\u001b[0margs\u001b[0m\u001b[0;34m,\u001b[0m \u001b[0;34m**\u001b[0m\u001b[0mkwargs\u001b[0m\u001b[0;34m)\u001b[0m\u001b[0;34m:\u001b[0m\u001b[0;34m\u001b[0m\u001b[0m\n\u001b[0;32m--> 520\u001b[0;31m                 \u001b[0mresponse\u001b[0m \u001b[0;34m=\u001b[0m \u001b[0maction\u001b[0m\u001b[0;34m(\u001b[0m\u001b[0mself\u001b[0m\u001b[0;34m,\u001b[0m \u001b[0;34m*\u001b[0m\u001b[0margs\u001b[0m\u001b[0;34m,\u001b[0m \u001b[0;34m**\u001b[0m\u001b[0mkwargs\u001b[0m\u001b[0;34m)\u001b[0m\u001b[0;34m\u001b[0m\u001b[0m\n\u001b[0m\u001b[1;32m    521\u001b[0m \u001b[0;34m\u001b[0m\u001b[0m\n\u001b[1;32m    522\u001b[0m                 \u001b[0;32mif\u001b[0m \u001b[0mhasattr\u001b[0m\u001b[0;34m(\u001b[0m\u001b[0mself\u001b[0m\u001b[0;34m,\u001b[0m \u001b[0;34m'load'\u001b[0m\u001b[0;34m)\u001b[0m\u001b[0;34m:\u001b[0m\u001b[0;34m\u001b[0m\u001b[0m\n",
      "\u001b[0;32m/Users/yaroslav/anaconda/envs/sep22/lib/python3.5/site-packages/boto3/resources/action.py\u001b[0m in \u001b[0;36m__call__\u001b[0;34m(self, parent, *args, **kwargs)\u001b[0m\n\u001b[1;32m     81\u001b[0m                     operation_name, params)\n\u001b[1;32m     82\u001b[0m \u001b[0;34m\u001b[0m\u001b[0m\n\u001b[0;32m---> 83\u001b[0;31m         \u001b[0mresponse\u001b[0m \u001b[0;34m=\u001b[0m \u001b[0mgetattr\u001b[0m\u001b[0;34m(\u001b[0m\u001b[0mparent\u001b[0m\u001b[0;34m.\u001b[0m\u001b[0mmeta\u001b[0m\u001b[0;34m.\u001b[0m\u001b[0mclient\u001b[0m\u001b[0;34m,\u001b[0m \u001b[0moperation_name\u001b[0m\u001b[0;34m)\u001b[0m\u001b[0;34m(\u001b[0m\u001b[0;34m**\u001b[0m\u001b[0mparams\u001b[0m\u001b[0;34m)\u001b[0m\u001b[0;34m\u001b[0m\u001b[0m\n\u001b[0m\u001b[1;32m     84\u001b[0m \u001b[0;34m\u001b[0m\u001b[0m\n\u001b[1;32m     85\u001b[0m         \u001b[0mlogger\u001b[0m\u001b[0;34m.\u001b[0m\u001b[0mdebug\u001b[0m\u001b[0;34m(\u001b[0m\u001b[0;34m'Response: %r'\u001b[0m\u001b[0;34m,\u001b[0m \u001b[0mresponse\u001b[0m\u001b[0;34m)\u001b[0m\u001b[0;34m\u001b[0m\u001b[0m\n",
      "\u001b[0;32m/Users/yaroslav/anaconda/envs/sep22/lib/python3.5/site-packages/botocore/client.py\u001b[0m in \u001b[0;36m_api_call\u001b[0;34m(self, *args, **kwargs)\u001b[0m\n\u001b[1;32m    310\u001b[0m                     \"%s() only accepts keyword arguments.\" % py_operation_name)\n\u001b[1;32m    311\u001b[0m             \u001b[0;31m# The \"self\" in this scope is referring to the BaseClient.\u001b[0m\u001b[0;34m\u001b[0m\u001b[0;34m\u001b[0m\u001b[0m\n\u001b[0;32m--> 312\u001b[0;31m             \u001b[0;32mreturn\u001b[0m \u001b[0mself\u001b[0m\u001b[0;34m.\u001b[0m\u001b[0m_make_api_call\u001b[0m\u001b[0;34m(\u001b[0m\u001b[0moperation_name\u001b[0m\u001b[0;34m,\u001b[0m \u001b[0mkwargs\u001b[0m\u001b[0;34m)\u001b[0m\u001b[0;34m\u001b[0m\u001b[0m\n\u001b[0m\u001b[1;32m    313\u001b[0m \u001b[0;34m\u001b[0m\u001b[0m\n\u001b[1;32m    314\u001b[0m         \u001b[0m_api_call\u001b[0m\u001b[0;34m.\u001b[0m\u001b[0m__name__\u001b[0m \u001b[0;34m=\u001b[0m \u001b[0mstr\u001b[0m\u001b[0;34m(\u001b[0m\u001b[0mpy_operation_name\u001b[0m\u001b[0;34m)\u001b[0m\u001b[0;34m\u001b[0m\u001b[0m\n",
      "\u001b[0;32m/Users/yaroslav/anaconda/envs/sep22/lib/python3.5/site-packages/botocore/client.py\u001b[0m in \u001b[0;36m_make_api_call\u001b[0;34m(self, operation_name, api_params)\u001b[0m\n\u001b[1;32m    603\u001b[0m             \u001b[0merror_code\u001b[0m \u001b[0;34m=\u001b[0m \u001b[0mparsed_response\u001b[0m\u001b[0;34m.\u001b[0m\u001b[0mget\u001b[0m\u001b[0;34m(\u001b[0m\u001b[0;34m\"Error\"\u001b[0m\u001b[0;34m,\u001b[0m \u001b[0;34m{\u001b[0m\u001b[0;34m}\u001b[0m\u001b[0;34m)\u001b[0m\u001b[0;34m.\u001b[0m\u001b[0mget\u001b[0m\u001b[0;34m(\u001b[0m\u001b[0;34m\"Code\"\u001b[0m\u001b[0;34m)\u001b[0m\u001b[0;34m\u001b[0m\u001b[0m\n\u001b[1;32m    604\u001b[0m             \u001b[0merror_class\u001b[0m \u001b[0;34m=\u001b[0m \u001b[0mself\u001b[0m\u001b[0;34m.\u001b[0m\u001b[0mexceptions\u001b[0m\u001b[0;34m.\u001b[0m\u001b[0mfrom_code\u001b[0m\u001b[0;34m(\u001b[0m\u001b[0merror_code\u001b[0m\u001b[0;34m)\u001b[0m\u001b[0;34m\u001b[0m\u001b[0m\n\u001b[0;32m--> 605\u001b[0;31m             \u001b[0;32mraise\u001b[0m \u001b[0merror_class\u001b[0m\u001b[0;34m(\u001b[0m\u001b[0mparsed_response\u001b[0m\u001b[0;34m,\u001b[0m \u001b[0moperation_name\u001b[0m\u001b[0;34m)\u001b[0m\u001b[0;34m\u001b[0m\u001b[0m\n\u001b[0m\u001b[1;32m    606\u001b[0m         \u001b[0;32melse\u001b[0m\u001b[0;34m:\u001b[0m\u001b[0;34m\u001b[0m\u001b[0m\n\u001b[1;32m    607\u001b[0m             \u001b[0;32mreturn\u001b[0m \u001b[0mparsed_response\u001b[0m\u001b[0;34m\u001b[0m\u001b[0m\n",
      "\u001b[0;31mClientError\u001b[0m: An error occurred (InvalidParameterValue) when calling the DeleteRoute operation: cannot remove local route 192.168.0.0/16 in route table rtb-f4ba3693"
     ]
    }
   ],
   "source": [
    "route.delete()"
   ]
  },
  {
   "cell_type": "code",
   "execution_count": 206,
   "metadata": {
    "collapsed": false
   },
   "outputs": [
    {
     "data": {
      "text/plain": [
       "[ec2.SecurityGroup(id='sg-4e8c6c37')]"
      ]
     },
     "execution_count": 206,
     "metadata": {},
     "output_type": "execute_result"
    }
   ],
   "source": [
    "list(vpc.security_groups.all())"
   ]
  },
  {
   "cell_type": "code",
   "execution_count": 104,
   "metadata": {
    "collapsed": true
   },
   "outputs": [],
   "source": [
    "vpc.create_subnet?"
   ]
  },
  {
   "cell_type": "code",
   "execution_count": 97,
   "metadata": {
    "collapsed": true
   },
   "outputs": [],
   "source": [
    "rr = route_table.routes[1]"
   ]
  },
  {
   "cell_type": "code",
   "execution_count": 99,
   "metadata": {
    "collapsed": false
   },
   "outputs": [
    {
     "data": {
      "text/plain": [
       "'0.0.0.0/0'"
      ]
     },
     "execution_count": 99,
     "metadata": {},
     "output_type": "execute_result"
    }
   ],
   "source": [
    "rr.destination_cidr_block"
   ]
  },
  {
   "cell_type": "code",
   "execution_count": null,
   "metadata": {
    "collapsed": true
   },
   "outputs": [],
   "source": [
    "ec.RouteTable('rtb-3b530d5d').routes"
   ]
  },
  {
   "cell_type": "code",
   "execution_count": 92,
   "metadata": {
    "collapsed": false
   },
   "outputs": [
    {
     "ename": "ResourceLoadException",
     "evalue": "ec2.Route has no load method",
     "output_type": "error",
     "traceback": [
      "\u001b[0;31m---------------------------------------------------------------------------\u001b[0m",
      "\u001b[0;31mResourceLoadException\u001b[0m                     Traceback (most recent call last)",
      "\u001b[0;32m<ipython-input-92-9fe40fcb58d9>\u001b[0m in \u001b[0;36m<module>\u001b[0;34m()\u001b[0m\n\u001b[0;32m----> 1\u001b[0;31m \u001b[0mroute\u001b[0m\u001b[0;34m.\u001b[0m\u001b[0mstate\u001b[0m\u001b[0;34m\u001b[0m\u001b[0m\n\u001b[0m",
      "\u001b[0;32m/Users/yaroslav/anaconda/envs/sep22/lib/python3.5/site-packages/boto3/resources/factory.py\u001b[0m in \u001b[0;36mproperty_loader\u001b[0;34m(self)\u001b[0m\n\u001b[1;32m    341\u001b[0m                     raise ResourceLoadException(\n\u001b[1;32m    342\u001b[0m                         '{0} has no load method'.format(\n\u001b[0;32m--> 343\u001b[0;31m                             self.__class__.__name__))\n\u001b[0m\u001b[1;32m    344\u001b[0m \u001b[0;34m\u001b[0m\u001b[0m\n\u001b[1;32m    345\u001b[0m             \u001b[0;32mreturn\u001b[0m \u001b[0mself\u001b[0m\u001b[0;34m.\u001b[0m\u001b[0mmeta\u001b[0m\u001b[0;34m.\u001b[0m\u001b[0mdata\u001b[0m\u001b[0;34m.\u001b[0m\u001b[0mget\u001b[0m\u001b[0;34m(\u001b[0m\u001b[0mname\u001b[0m\u001b[0;34m)\u001b[0m\u001b[0;34m\u001b[0m\u001b[0m\n",
      "\u001b[0;31mResourceLoadException\u001b[0m: ec2.Route has no load method"
     ]
    }
   ],
   "source": [
    "route.state"
   ]
  },
  {
   "cell_type": "code",
   "execution_count": 58,
   "metadata": {
    "collapsed": true
   },
   "outputs": [],
   "source": [
    "response = client.describe_vpcs()"
   ]
  },
  {
   "cell_type": "code",
   "execution_count": 63,
   "metadata": {
    "collapsed": false
   },
   "outputs": [
    {
     "data": {
      "text/plain": [
       "200"
      ]
     },
     "execution_count": 63,
     "metadata": {},
     "output_type": "execute_result"
    }
   ],
   "source": [
    "response[\"ResponseMetadata\"]['HTTPStatusCode']"
   ]
  },
  {
   "cell_type": "code",
   "execution_count": 64,
   "metadata": {
    "collapsed": false
   },
   "outputs": [
    {
     "data": {
      "text/plain": [
       "[{'CidrBlock': '172.31.0.0/16',\n",
       "  'CidrBlockAssociationSet': [{'AssociationId': 'vpc-cidr-assoc-984c4ff1',\n",
       "    'CidrBlock': '172.31.0.0/16',\n",
       "    'CidrBlockState': {'State': 'associated'}}],\n",
       "  'DhcpOptionsId': 'dopt-4689da22',\n",
       "  'InstanceTenancy': 'default',\n",
       "  'IsDefault': True,\n",
       "  'State': 'available',\n",
       "  'VpcId': 'vpc-79c4f61d'},\n",
       " {'CidrBlock': '192.168.0.0/16',\n",
       "  'CidrBlockAssociationSet': [{'AssociationId': 'vpc-cidr-assoc-35a2505d',\n",
       "    'CidrBlock': '192.168.0.0/16',\n",
       "    'CidrBlockState': {'State': 'associated'}}],\n",
       "  'DhcpOptionsId': 'dopt-4689da22',\n",
       "  'InstanceTenancy': 'default',\n",
       "  'IsDefault': False,\n",
       "  'State': 'available',\n",
       "  'Tags': [{'Key': 'Name', 'Value': 'nexus_vpc'}],\n",
       "  'VpcId': 'vpc-14876473'}]"
      ]
     },
     "execution_count": 64,
     "metadata": {},
     "output_type": "execute_result"
    }
   ],
   "source": [
    "response['Vpcs']"
   ]
  },
  {
   "cell_type": "code",
   "execution_count": 80,
   "metadata": {
    "collapsed": true
   },
   "outputs": [],
   "source": [
    "os.environ['AWS_DEFAULT_REGION']='us-west-1'"
   ]
  },
  {
   "cell_type": "code",
   "execution_count": 77,
   "metadata": {
    "collapsed": true
   },
   "outputs": [],
   "source": [
    "def get_name(tags):\n",
    "  \"\"\"[{'Key': 'Name', 'Value': 'nexus'}] -> 'nexus'\"\"\"\n",
    "  names = [entry['Value'] for entry in tags if entry['Key']=='Name']\n",
    "  if not names:\n",
    "    names = ['']\n",
    "  assert len(names)==1, \"have more than one name: \"+str(names)\n",
    "  return names[0]\n",
    "\n",
    "def create_ec2_client():\n",
    "  REGION = os.environ['AWS_DEFAULT_REGION']\n",
    "  return boto3.client('ec2', region_name=REGION)\n",
    "\n",
    "def create_ec2_resource():\n",
    "  REGION = os.environ['AWS_DEFAULT_REGION']\n",
    "  return boto3.resource('ec2',region_name=REGION)\n",
    "\n",
    "def get_vpc_dict():\n",
    "  \"\"\"Returns dictionary of {name:[vpc1,vpc2, ],...} \"\"\"\n",
    "  from collections import defaultdict\n",
    "  result = defaultdict(list)\n",
    "  client = create_ec2_client()\n",
    "  response = client.describe_vpcs()\n",
    "  assert response[\"ResponseMetadata\"]['HTTPStatusCode'] == 200\n",
    "  for vpc_response in response['Vpcs']:\n",
    "    result[get_name(vpc_response.get('Tags', []))].append(vpc_response)\n",
    "  return result"
   ]
  },
  {
   "cell_type": "code",
   "execution_count": 85,
   "metadata": {
    "collapsed": false
   },
   "outputs": [
    {
     "data": {
      "text/plain": [
       "'vpc-14876473'"
      ]
     },
     "execution_count": 85,
     "metadata": {},
     "output_type": "execute_result"
    }
   ],
   "source": [
    "vpc.id"
   ]
  },
  {
   "cell_type": "code",
   "execution_count": 82,
   "metadata": {
    "collapsed": false
   },
   "outputs": [
    {
     "data": {
      "text/plain": [
       "defaultdict(list,\n",
       "            {'': [{'CidrBlock': '172.31.0.0/16',\n",
       "               'CidrBlockAssociationSet': [{'AssociationId': 'vpc-cidr-assoc-984c4ff1',\n",
       "                 'CidrBlock': '172.31.0.0/16',\n",
       "                 'CidrBlockState': {'State': 'associated'}}],\n",
       "               'DhcpOptionsId': 'dopt-4689da22',\n",
       "               'InstanceTenancy': 'default',\n",
       "               'IsDefault': True,\n",
       "               'State': 'available',\n",
       "               'VpcId': 'vpc-79c4f61d'}],\n",
       "             'nexus_vpc': [{'CidrBlock': '192.168.0.0/16',\n",
       "               'CidrBlockAssociationSet': [{'AssociationId': 'vpc-cidr-assoc-35a2505d',\n",
       "                 'CidrBlock': '192.168.0.0/16',\n",
       "                 'CidrBlockState': {'State': 'associated'}}],\n",
       "               'DhcpOptionsId': 'dopt-4689da22',\n",
       "               'InstanceTenancy': 'default',\n",
       "               'IsDefault': False,\n",
       "               'State': 'available',\n",
       "               'Tags': [{'Key': 'Name', 'Value': 'nexus_vpc'}],\n",
       "               'VpcId': 'vpc-14876473'}]})"
      ]
     },
     "execution_count": 82,
     "metadata": {},
     "output_type": "execute_result"
    }
   ],
   "source": [
    "get_vpc_dict()"
   ]
  },
  {
   "cell_type": "code",
   "execution_count": 84,
   "metadata": {
    "collapsed": false
   },
   "outputs": [
    {
     "data": {
      "text/plain": [
       "False"
      ]
     },
     "execution_count": 84,
     "metadata": {},
     "output_type": "execute_result"
    }
   ],
   "source": [
    "'nexus' in get_vpc_dict()"
   ]
  },
  {
   "cell_type": "code",
   "execution_count": 79,
   "metadata": {
    "collapsed": false
   },
   "outputs": [
    {
     "data": {
      "text/plain": [
       "{'ResponseMetadata': {'HTTPHeaders': {'content-type': 'text/xml;charset=UTF-8',\n",
       "   'date': 'Tue, 12 Dec 2017 05:20:58 GMT',\n",
       "   'server': 'AmazonEC2',\n",
       "   'transfer-encoding': 'chunked',\n",
       "   'vary': 'Accept-Encoding'},\n",
       "  'HTTPStatusCode': 200,\n",
       "  'RequestId': '1fe9496b-f3af-4c48-9841-35c9b0172bf6',\n",
       "  'RetryAttempts': 0},\n",
       " 'Vpcs': [{'CidrBlock': '172.31.0.0/16',\n",
       "   'CidrBlockAssociationSet': [{'AssociationId': 'vpc-cidr-assoc-4805d222',\n",
       "     'CidrBlock': '172.31.0.0/16',\n",
       "     'CidrBlockState': {'State': 'associated'}}],\n",
       "   'DhcpOptionsId': 'dopt-fcb80385',\n",
       "   'InstanceTenancy': 'default',\n",
       "   'IsDefault': True,\n",
       "   'State': 'available',\n",
       "   'VpcId': 'vpc-2b72a053'}]}"
      ]
     },
     "execution_count": 79,
     "metadata": {},
     "output_type": "execute_result"
    }
   ],
   "source": [
    "client = create_ec2_client()\n",
    "response = client.describe_vpcs()\n",
    "response  "
   ]
  },
  {
   "cell_type": "code",
   "execution_count": 55,
   "metadata": {
    "collapsed": false
   },
   "outputs": [
    {
     "data": {
      "text/plain": [
       "{'ResponseMetadata': {'HTTPHeaders': {'content-type': 'text/xml;charset=UTF-8',\n",
       "   'date': 'Tue, 12 Dec 2017 05:06:27 GMT',\n",
       "   'server': 'AmazonEC2',\n",
       "   'transfer-encoding': 'chunked',\n",
       "   'vary': 'Accept-Encoding'},\n",
       "  'HTTPStatusCode': 200,\n",
       "  'RequestId': 'aaf8c91c-8ef1-425b-87e9-e8c13a17ecf5',\n",
       "  'RetryAttempts': 0},\n",
       " 'Vpcs': [{'CidrBlock': '192.168.0.0/16',\n",
       "   'CidrBlockAssociationSet': [{'AssociationId': 'vpc-cidr-assoc-35a2505d',\n",
       "     'CidrBlock': '192.168.0.0/16',\n",
       "     'CidrBlockState': {'State': 'associated'}}],\n",
       "   'DhcpOptionsId': 'dopt-4689da22',\n",
       "   'InstanceTenancy': 'default',\n",
       "   'IsDefault': False,\n",
       "   'State': 'available',\n",
       "   'Tags': [{'Key': 'Name', 'Value': 'nexus_vpc'}],\n",
       "   'VpcId': 'vpc-14876473'}]}"
      ]
     },
     "execution_count": 55,
     "metadata": {},
     "output_type": "execute_result"
    }
   ],
   "source": [
    "client.describe_vpcs(VpcIds=[vpc.id])"
   ]
  },
  {
   "cell_type": "code",
   "execution_count": 187,
   "metadata": {
    "collapsed": true
   },
   "outputs": [],
   "source": [
    "def get_vpc_dict():\n",
    "  \"\"\"Returns dictionary of named VPCs {name: vpc_id}\n",
    "\n",
    "  Assert fails if there's more than one VPC with same name.\"\"\"\n",
    "\n",
    "  client = _create_ec2_client()\n",
    "  response = client.describe_vpcs()\n",
    "  assert _is_good_response(response)\n",
    "\n",
    "  result = OrderedDict()\n",
    "  for vpc_response in response['Vpcs']:\n",
    "    key = _get_name(vpc_response.get('Tags', []))\n",
    "    if not key:  # skip VPC's that don't have a name assigned\n",
    "      continue\n",
    "    \n",
    "    assert key not in result, (\"Duplicate VPC group \" + key)\n",
    "    result[key] = vpc_response['VpcId']\n",
    "    \n",
    "  return result\n"
   ]
  },
  {
   "cell_type": "code",
   "execution_count": 189,
   "metadata": {
    "collapsed": false
   },
   "outputs": [
    {
     "data": {
      "text/plain": [
       "OrderedDict([('282e747a-pachydermcluster.kubernetes.com', 'vpc-f683678f'),\n",
       "             ('yong', 'vpc-d91a23bf'),\n",
       "             ('0726aa4c-pachydermcluster.kubernetes.com', 'vpc-14500972')])"
      ]
     },
     "execution_count": 189,
     "metadata": {},
     "output_type": "execute_result"
    }
   ],
   "source": [
    "def _get_name(tags):\n",
    "  \"\"\"Helper utility to extract name out of tags dictionary.\n",
    "      [{'Key': 'Name', 'Value': 'nexus'}] -> 'nexus'\n",
    " \n",
    "     Assert fails if there's more than one name.\n",
    "     Returns '' if there's less than one name.\n",
    "  \"\"\"\n",
    "  \n",
    "  names = [entry['Value'] for entry in tags if entry['Key']=='Name']\n",
    "  if not names:\n",
    "    names = ['']\n",
    "  assert len(names)==1, \"have more than one name: \"+str(names)\n",
    "  return names[0]\n",
    "\n",
    "get_vpc_dict()"
   ]
  },
  {
   "cell_type": "code",
   "execution_count": 191,
   "metadata": {
    "collapsed": true
   },
   "outputs": [],
   "source": [
    "vvv=ec2.Vpc('vpc-d91a23bf')"
   ]
  },
  {
   "cell_type": "code",
   "execution_count": 192,
   "metadata": {
    "collapsed": false
   },
   "outputs": [
    {
     "data": {
      "text/plain": [
       "'vpc-d91a23bf'"
      ]
     },
     "execution_count": 192,
     "metadata": {},
     "output_type": "execute_result"
    }
   ],
   "source": [
    "vvv.id"
   ]
  },
  {
   "cell_type": "code",
   "execution_count": null,
   "metadata": {
    "collapsed": true
   },
   "outputs": [],
   "source": [
    "ec2.SecurityGroup"
   ]
  },
  {
   "cell_type": "code",
   "execution_count": 186,
   "metadata": {
    "collapsed": false
   },
   "outputs": [
    {
     "ename": "ClientError",
     "evalue": "An error occurred (InvalidPlacementGroup.Duplicate) when calling the CreatePlacementGroup operation: The placement group 'hi' already exists.",
     "output_type": "error",
     "traceback": [
      "\u001b[0;31m---------------------------------------------------------------------------\u001b[0m",
      "\u001b[0;31mClientError\u001b[0m                               Traceback (most recent call last)",
      "\u001b[0;32m<ipython-input-186-3bfce4a03614>\u001b[0m in \u001b[0;36m<module>\u001b[0;34m()\u001b[0m\n\u001b[0;32m----> 1\u001b[0;31m \u001b[0mec2\u001b[0m\u001b[0;34m.\u001b[0m\u001b[0mcreate_placement_group\u001b[0m\u001b[0;34m(\u001b[0m\u001b[0mGroupName\u001b[0m\u001b[0;34m=\u001b[0m\u001b[0;34m'hi'\u001b[0m\u001b[0;34m,\u001b[0m\u001b[0mStrategy\u001b[0m\u001b[0;34m=\u001b[0m\u001b[0;34m'cluster'\u001b[0m\u001b[0;34m)\u001b[0m\u001b[0;34m\u001b[0m\u001b[0m\n\u001b[0m",
      "\u001b[0;32m/Users/yaroslav/anaconda/envs/sep22/lib/python3.5/site-packages/boto3/resources/factory.py\u001b[0m in \u001b[0;36mdo_action\u001b[0;34m(self, *args, **kwargs)\u001b[0m\n\u001b[1;32m    518\u001b[0m             \u001b[0;31m# instance via ``self``.\u001b[0m\u001b[0;34m\u001b[0m\u001b[0;34m\u001b[0m\u001b[0m\n\u001b[1;32m    519\u001b[0m             \u001b[0;32mdef\u001b[0m \u001b[0mdo_action\u001b[0m\u001b[0;34m(\u001b[0m\u001b[0mself\u001b[0m\u001b[0;34m,\u001b[0m \u001b[0;34m*\u001b[0m\u001b[0margs\u001b[0m\u001b[0;34m,\u001b[0m \u001b[0;34m**\u001b[0m\u001b[0mkwargs\u001b[0m\u001b[0;34m)\u001b[0m\u001b[0;34m:\u001b[0m\u001b[0;34m\u001b[0m\u001b[0m\n\u001b[0;32m--> 520\u001b[0;31m                 \u001b[0mresponse\u001b[0m \u001b[0;34m=\u001b[0m \u001b[0maction\u001b[0m\u001b[0;34m(\u001b[0m\u001b[0mself\u001b[0m\u001b[0;34m,\u001b[0m \u001b[0;34m*\u001b[0m\u001b[0margs\u001b[0m\u001b[0;34m,\u001b[0m \u001b[0;34m**\u001b[0m\u001b[0mkwargs\u001b[0m\u001b[0;34m)\u001b[0m\u001b[0;34m\u001b[0m\u001b[0m\n\u001b[0m\u001b[1;32m    521\u001b[0m \u001b[0;34m\u001b[0m\u001b[0m\n\u001b[1;32m    522\u001b[0m                 \u001b[0;32mif\u001b[0m \u001b[0mhasattr\u001b[0m\u001b[0;34m(\u001b[0m\u001b[0mself\u001b[0m\u001b[0;34m,\u001b[0m \u001b[0;34m'load'\u001b[0m\u001b[0;34m)\u001b[0m\u001b[0;34m:\u001b[0m\u001b[0;34m\u001b[0m\u001b[0m\n",
      "\u001b[0;32m/Users/yaroslav/anaconda/envs/sep22/lib/python3.5/site-packages/boto3/resources/action.py\u001b[0m in \u001b[0;36m__call__\u001b[0;34m(self, parent, *args, **kwargs)\u001b[0m\n\u001b[1;32m     81\u001b[0m                     operation_name, params)\n\u001b[1;32m     82\u001b[0m \u001b[0;34m\u001b[0m\u001b[0m\n\u001b[0;32m---> 83\u001b[0;31m         \u001b[0mresponse\u001b[0m \u001b[0;34m=\u001b[0m \u001b[0mgetattr\u001b[0m\u001b[0;34m(\u001b[0m\u001b[0mparent\u001b[0m\u001b[0;34m.\u001b[0m\u001b[0mmeta\u001b[0m\u001b[0;34m.\u001b[0m\u001b[0mclient\u001b[0m\u001b[0;34m,\u001b[0m \u001b[0moperation_name\u001b[0m\u001b[0;34m)\u001b[0m\u001b[0;34m(\u001b[0m\u001b[0;34m**\u001b[0m\u001b[0mparams\u001b[0m\u001b[0;34m)\u001b[0m\u001b[0;34m\u001b[0m\u001b[0m\n\u001b[0m\u001b[1;32m     84\u001b[0m \u001b[0;34m\u001b[0m\u001b[0m\n\u001b[1;32m     85\u001b[0m         \u001b[0mlogger\u001b[0m\u001b[0;34m.\u001b[0m\u001b[0mdebug\u001b[0m\u001b[0;34m(\u001b[0m\u001b[0;34m'Response: %r'\u001b[0m\u001b[0;34m,\u001b[0m \u001b[0mresponse\u001b[0m\u001b[0;34m)\u001b[0m\u001b[0;34m\u001b[0m\u001b[0m\n",
      "\u001b[0;32m/Users/yaroslav/anaconda/envs/sep22/lib/python3.5/site-packages/botocore/client.py\u001b[0m in \u001b[0;36m_api_call\u001b[0;34m(self, *args, **kwargs)\u001b[0m\n\u001b[1;32m    310\u001b[0m                     \"%s() only accepts keyword arguments.\" % py_operation_name)\n\u001b[1;32m    311\u001b[0m             \u001b[0;31m# The \"self\" in this scope is referring to the BaseClient.\u001b[0m\u001b[0;34m\u001b[0m\u001b[0;34m\u001b[0m\u001b[0m\n\u001b[0;32m--> 312\u001b[0;31m             \u001b[0;32mreturn\u001b[0m \u001b[0mself\u001b[0m\u001b[0;34m.\u001b[0m\u001b[0m_make_api_call\u001b[0m\u001b[0;34m(\u001b[0m\u001b[0moperation_name\u001b[0m\u001b[0;34m,\u001b[0m \u001b[0mkwargs\u001b[0m\u001b[0;34m)\u001b[0m\u001b[0;34m\u001b[0m\u001b[0m\n\u001b[0m\u001b[1;32m    313\u001b[0m \u001b[0;34m\u001b[0m\u001b[0m\n\u001b[1;32m    314\u001b[0m         \u001b[0m_api_call\u001b[0m\u001b[0;34m.\u001b[0m\u001b[0m__name__\u001b[0m \u001b[0;34m=\u001b[0m \u001b[0mstr\u001b[0m\u001b[0;34m(\u001b[0m\u001b[0mpy_operation_name\u001b[0m\u001b[0;34m)\u001b[0m\u001b[0;34m\u001b[0m\u001b[0m\n",
      "\u001b[0;32m/Users/yaroslav/anaconda/envs/sep22/lib/python3.5/site-packages/botocore/client.py\u001b[0m in \u001b[0;36m_make_api_call\u001b[0;34m(self, operation_name, api_params)\u001b[0m\n\u001b[1;32m    603\u001b[0m             \u001b[0merror_code\u001b[0m \u001b[0;34m=\u001b[0m \u001b[0mparsed_response\u001b[0m\u001b[0;34m.\u001b[0m\u001b[0mget\u001b[0m\u001b[0;34m(\u001b[0m\u001b[0;34m\"Error\"\u001b[0m\u001b[0;34m,\u001b[0m \u001b[0;34m{\u001b[0m\u001b[0;34m}\u001b[0m\u001b[0;34m)\u001b[0m\u001b[0;34m.\u001b[0m\u001b[0mget\u001b[0m\u001b[0;34m(\u001b[0m\u001b[0;34m\"Code\"\u001b[0m\u001b[0;34m)\u001b[0m\u001b[0;34m\u001b[0m\u001b[0m\n\u001b[1;32m    604\u001b[0m             \u001b[0merror_class\u001b[0m \u001b[0;34m=\u001b[0m \u001b[0mself\u001b[0m\u001b[0;34m.\u001b[0m\u001b[0mexceptions\u001b[0m\u001b[0;34m.\u001b[0m\u001b[0mfrom_code\u001b[0m\u001b[0;34m(\u001b[0m\u001b[0merror_code\u001b[0m\u001b[0;34m)\u001b[0m\u001b[0;34m\u001b[0m\u001b[0m\n\u001b[0;32m--> 605\u001b[0;31m             \u001b[0;32mraise\u001b[0m \u001b[0merror_class\u001b[0m\u001b[0;34m(\u001b[0m\u001b[0mparsed_response\u001b[0m\u001b[0;34m,\u001b[0m \u001b[0moperation_name\u001b[0m\u001b[0;34m)\u001b[0m\u001b[0;34m\u001b[0m\u001b[0m\n\u001b[0m\u001b[1;32m    606\u001b[0m         \u001b[0;32melse\u001b[0m\u001b[0;34m:\u001b[0m\u001b[0;34m\u001b[0m\u001b[0m\n\u001b[1;32m    607\u001b[0m             \u001b[0;32mreturn\u001b[0m \u001b[0mparsed_response\u001b[0m\u001b[0;34m\u001b[0m\u001b[0m\n",
      "\u001b[0;31mClientError\u001b[0m: An error occurred (InvalidPlacementGroup.Duplicate) when calling the CreatePlacementGroup operation: The placement group 'hi' already exists."
     ]
    }
   ],
   "source": [
    "ec2.create_placement_group(GroupName='hi',Strategy='cluster')"
   ]
  },
  {
   "cell_type": "code",
   "execution_count": 19,
   "metadata": {
    "collapsed": false
   },
   "outputs": [
    {
     "name": "stdout",
     "output_type": "stream",
     "text": [
      "igw-f976c69d\n",
      "rtb-eea42389\n"
     ]
    }
   ],
   "source": [
    "ig = ec2.create_internet_gateway()\n",
    "vpc.attach_internet_gateway(InternetGatewayId=ig.id)\n",
    "print(ig.id)\n",
    "\n",
    "route_table = vpc.create_route_table()\n",
    "route = route_table.create_route(\n",
    "    DestinationCidrBlock='0.0.0.0/0',\n",
    "    GatewayId=ig.id\n",
    ")\n",
    "print(route_table.id)"
   ]
  },
  {
   "cell_type": "code",
   "execution_count": 161,
   "metadata": {
    "collapsed": true
   },
   "outputs": [],
   "source": [
    "gateway = ec2.create_internet_gateway()"
   ]
  },
  {
   "cell_type": "code",
   "execution_count": 312,
   "metadata": {
    "collapsed": true
   },
   "outputs": [],
   "source": [
    "gateway.attach_to_vpc?"
   ]
  },
  {
   "cell_type": "code",
   "execution_count": 163,
   "metadata": {
    "collapsed": false
   },
   "outputs": [
    {
     "data": {
      "text/plain": [
       "'vpc-14876473'"
      ]
     },
     "execution_count": 163,
     "metadata": {},
     "output_type": "execute_result"
    }
   ],
   "source": [
    "vpc.id"
   ]
  },
  {
   "cell_type": "code",
   "execution_count": 165,
   "metadata": {
    "collapsed": true
   },
   "outputs": [],
   "source": [
    "  subnet = vpc.create_subnet(CidrBlock='192.168.2.0/24')"
   ]
  },
  {
   "cell_type": "code",
   "execution_count": 166,
   "metadata": {
    "collapsed": false
   },
   "outputs": [
    {
     "data": {
      "text/plain": [
       "'pending'"
      ]
     },
     "execution_count": 166,
     "metadata": {},
     "output_type": "execute_result"
    }
   ],
   "source": [
    "subnet.state"
   ]
  },
  {
   "cell_type": "code",
   "execution_count": 195,
   "metadata": {
    "collapsed": false
   },
   "outputs": [
    {
     "data": {
      "text/plain": [
       "{'KeyPairs': [{'KeyFingerprint': '28:6e:51:d6:81:3d:51:22:4b:20:4a:fb:cf:9b:1f:9f:1d:2a:a9:94',\n",
       "   'KeyName': 'aws_pach_api_service'},\n",
       "  {'KeyFingerprint': '6b:07:eb:f9:ab:ff:4f:18:3c:65:6e:99:05:01:21:fc:71:be:be:13',\n",
       "   'KeyName': 'aws_pach_api_service_stage'},\n",
       "  {'KeyFingerprint': 'f7:9a:33:d7:72:63:fe:27:30:9a:3b:49:e5:fa:dd:0b:9a:31:77:7a',\n",
       "   'KeyName': 'brendan'},\n",
       "  {'KeyFingerprint': '1d:61:59:c6:eb:c3:ca:c4:a9:7a:7a:19:8d:1c:6d:4a',\n",
       "   'KeyName': 'kubernetes.0726aa4c-pachydermcluster.kubernetes.com-79:6b:55:2e:89:4d:be:42:29:3b:ba:cd:22:c8:ee:58'},\n",
       "  {'KeyFingerprint': '1d:61:59:c6:eb:c3:ca:c4:a9:7a:7a:19:8d:1c:6d:4a',\n",
       "   'KeyName': 'kubernetes.282e747a-pachydermcluster.kubernetes.com-79:6b:55:2e:89:4d:be:42:29:3b:ba:cd:22:c8:ee:58'},\n",
       "  {'KeyFingerprint': '1d:61:59:c6:eb:c3:ca:c4:a9:7a:7a:19:8d:1c:6d:4a',\n",
       "   'KeyName': 'kubernetes.6dbcbbe2-pachydermcluster.kubernetes.com-79:6b:55:2e:89:4d:be:42:29:3b:ba:cd:22:c8:ee:58'},\n",
       "  {'KeyFingerprint': '1d:61:59:c6:eb:c3:ca:c4:a9:7a:7a:19:8d:1c:6d:4a',\n",
       "   'KeyName': 'kubernetes.db5d0d76-pachydermcluster.kubernetes.com-79:6b:55:2e:89:4d:be:42:29:3b:ba:cd:22:c8:ee:58'},\n",
       "  {'KeyFingerprint': '42:79:9a:be:17:03:c9:de:dd:05:92:de:85:d7:29:07:cd:b7:a0:5b',\n",
       "   'KeyName': 'nexus-oregon'},\n",
       "  {'KeyFingerprint': '4e:2b:72:59:5f:11:94:2d:5a:92:ba:10:2e:f0:10:da:22:03:d3:30',\n",
       "   'KeyName': 'pach_service_stage'},\n",
       "  {'KeyFingerprint': '43:fe:a7:51:d7:ad:26:7c:ce:0e:94:53:31:36:9f:38:9f:63:17:1c',\n",
       "   'KeyName': 'yaroslav'}],\n",
       " 'ResponseMetadata': {'HTTPHeaders': {'content-type': 'text/xml;charset=UTF-8',\n",
       "   'date': 'Wed, 13 Dec 2017 21:38:18 GMT',\n",
       "   'server': 'AmazonEC2',\n",
       "   'transfer-encoding': 'chunked',\n",
       "   'vary': 'Accept-Encoding'},\n",
       "  'HTTPStatusCode': 200,\n",
       "  'RequestId': '040f83ac-0c84-4f31-b6fa-9205581c6fae',\n",
       "  'RetryAttempts': 0}}"
      ]
     },
     "execution_count": 195,
     "metadata": {},
     "output_type": "execute_result"
    }
   ],
   "source": [
    "client.describe_key_pairs()"
   ]
  },
  {
   "cell_type": "code",
   "execution_count": 197,
   "metadata": {
    "collapsed": true
   },
   "outputs": [],
   "source": [
    "keypair=ec2.KeyPair('yaroslav')"
   ]
  },
  {
   "cell_type": "code",
   "execution_count": 199,
   "metadata": {
    "collapsed": false
   },
   "outputs": [
    {
     "data": {
      "text/plain": [
       "{'PlacementGroups': [{'GroupName': 'beefy3',\n",
       "   'State': 'available',\n",
       "   'Strategy': 'cluster'},\n",
       "  {'GroupName': 'beefy2', 'State': 'available', 'Strategy': 'cluster'},\n",
       "  {'GroupName': 'amazon', 'State': 'available', 'Strategy': 'cluster'},\n",
       "  {'GroupName': 'amazon3', 'State': 'available', 'Strategy': 'cluster'},\n",
       "  {'GroupName': 'inet', 'State': 'available', 'Strategy': 'cluster'},\n",
       "  {'GroupName': 'sharded2', 'State': 'available', 'Strategy': 'cluster'},\n",
       "  {'GroupName': 'amazon2', 'State': 'available', 'Strategy': 'cluster'},\n",
       "  {'GroupName': 'beefy_head', 'State': 'available', 'Strategy': 'cluster'},\n",
       "  {'GroupName': 'default', 'State': 'available', 'Strategy': 'cluster'},\n",
       "  {'GroupName': 'inet3', 'State': 'available', 'Strategy': 'cluster'},\n",
       "  {'GroupName': 'test3', 'State': 'available', 'Strategy': 'cluster'},\n",
       "  {'GroupName': 'amazon1', 'State': 'available', 'Strategy': 'cluster'},\n",
       "  {'GroupName': 'sharded', 'State': 'available', 'Strategy': 'cluster'}],\n",
       " 'ResponseMetadata': {'HTTPHeaders': {'content-type': 'text/xml;charset=UTF-8',\n",
       "   'date': 'Wed, 13 Dec 2017 21:40:06 GMT',\n",
       "   'server': 'AmazonEC2',\n",
       "   'transfer-encoding': 'chunked',\n",
       "   'vary': 'Accept-Encoding'},\n",
       "  'HTTPStatusCode': 200,\n",
       "  'RequestId': 'fb2119d5-8ed3-4077-90ef-9dc4785755b5',\n",
       "  'RetryAttempts': 0}}"
      ]
     },
     "execution_count": 199,
     "metadata": {},
     "output_type": "execute_result"
    }
   ],
   "source": [
    "client.describe_placement_groups()"
   ]
  },
  {
   "cell_type": "code",
   "execution_count": 205,
   "metadata": {
    "collapsed": true
   },
   "outputs": [],
   "source": [
    "plgroup=ec2.PlacementGroup('beefy2')"
   ]
  },
  {
   "cell_type": "code",
   "execution_count": 209,
   "metadata": {
    "collapsed": true
   },
   "outputs": [],
   "source": [
    "grp=ec2.PlacementGroup('amazon')"
   ]
  },
  {
   "cell_type": "code",
   "execution_count": 210,
   "metadata": {
    "collapsed": false
   },
   "outputs": [
    {
     "ename": "ClientError",
     "evalue": "An error occurred (InvalidPlacementGroup.Unknown) when calling the DescribePlacementGroups operation: The Placement Group 'amazon' is unknown.",
     "output_type": "error",
     "traceback": [
      "\u001b[0;31m---------------------------------------------------------------------------\u001b[0m",
      "\u001b[0;31mClientError\u001b[0m                               Traceback (most recent call last)",
      "\u001b[0;32m<ipython-input-210-df4f78d74a33>\u001b[0m in \u001b[0;36m<module>\u001b[0;34m()\u001b[0m\n\u001b[0;32m----> 1\u001b[0;31m \u001b[0mgrp\u001b[0m\u001b[0;34m.\u001b[0m\u001b[0mload\u001b[0m\u001b[0;34m(\u001b[0m\u001b[0;34m)\u001b[0m\u001b[0;34m\u001b[0m\u001b[0m\n\u001b[0m",
      "\u001b[0;32m/Users/yaroslav/anaconda/envs/sep22/lib/python3.5/site-packages/boto3/resources/factory.py\u001b[0m in \u001b[0;36mdo_action\u001b[0;34m(self, *args, **kwargs)\u001b[0m\n\u001b[1;32m    503\u001b[0m             \u001b[0;31m# instance via ``self``.\u001b[0m\u001b[0;34m\u001b[0m\u001b[0;34m\u001b[0m\u001b[0m\n\u001b[1;32m    504\u001b[0m             \u001b[0;32mdef\u001b[0m \u001b[0mdo_action\u001b[0m\u001b[0;34m(\u001b[0m\u001b[0mself\u001b[0m\u001b[0;34m,\u001b[0m \u001b[0;34m*\u001b[0m\u001b[0margs\u001b[0m\u001b[0;34m,\u001b[0m \u001b[0;34m**\u001b[0m\u001b[0mkwargs\u001b[0m\u001b[0;34m)\u001b[0m\u001b[0;34m:\u001b[0m\u001b[0;34m\u001b[0m\u001b[0m\n\u001b[0;32m--> 505\u001b[0;31m                 \u001b[0mresponse\u001b[0m \u001b[0;34m=\u001b[0m \u001b[0maction\u001b[0m\u001b[0;34m(\u001b[0m\u001b[0mself\u001b[0m\u001b[0;34m,\u001b[0m \u001b[0;34m*\u001b[0m\u001b[0margs\u001b[0m\u001b[0;34m,\u001b[0m \u001b[0;34m**\u001b[0m\u001b[0mkwargs\u001b[0m\u001b[0;34m)\u001b[0m\u001b[0;34m\u001b[0m\u001b[0m\n\u001b[0m\u001b[1;32m    506\u001b[0m                 \u001b[0mself\u001b[0m\u001b[0;34m.\u001b[0m\u001b[0mmeta\u001b[0m\u001b[0;34m.\u001b[0m\u001b[0mdata\u001b[0m \u001b[0;34m=\u001b[0m \u001b[0mresponse\u001b[0m\u001b[0;34m\u001b[0m\u001b[0m\n\u001b[1;32m    507\u001b[0m             \u001b[0;31m# Create the docstring for the load/reload mehtods.\u001b[0m\u001b[0;34m\u001b[0m\u001b[0;34m\u001b[0m\u001b[0m\n",
      "\u001b[0;32m/Users/yaroslav/anaconda/envs/sep22/lib/python3.5/site-packages/boto3/resources/action.py\u001b[0m in \u001b[0;36m__call__\u001b[0;34m(self, parent, *args, **kwargs)\u001b[0m\n\u001b[1;32m     81\u001b[0m                     operation_name, params)\n\u001b[1;32m     82\u001b[0m \u001b[0;34m\u001b[0m\u001b[0m\n\u001b[0;32m---> 83\u001b[0;31m         \u001b[0mresponse\u001b[0m \u001b[0;34m=\u001b[0m \u001b[0mgetattr\u001b[0m\u001b[0;34m(\u001b[0m\u001b[0mparent\u001b[0m\u001b[0;34m.\u001b[0m\u001b[0mmeta\u001b[0m\u001b[0;34m.\u001b[0m\u001b[0mclient\u001b[0m\u001b[0;34m,\u001b[0m \u001b[0moperation_name\u001b[0m\u001b[0;34m)\u001b[0m\u001b[0;34m(\u001b[0m\u001b[0;34m**\u001b[0m\u001b[0mparams\u001b[0m\u001b[0;34m)\u001b[0m\u001b[0;34m\u001b[0m\u001b[0m\n\u001b[0m\u001b[1;32m     84\u001b[0m \u001b[0;34m\u001b[0m\u001b[0m\n\u001b[1;32m     85\u001b[0m         \u001b[0mlogger\u001b[0m\u001b[0;34m.\u001b[0m\u001b[0mdebug\u001b[0m\u001b[0;34m(\u001b[0m\u001b[0;34m'Response: %r'\u001b[0m\u001b[0;34m,\u001b[0m \u001b[0mresponse\u001b[0m\u001b[0;34m)\u001b[0m\u001b[0;34m\u001b[0m\u001b[0m\n",
      "\u001b[0;32m/Users/yaroslav/anaconda/envs/sep22/lib/python3.5/site-packages/botocore/client.py\u001b[0m in \u001b[0;36m_api_call\u001b[0;34m(self, *args, **kwargs)\u001b[0m\n\u001b[1;32m    310\u001b[0m                     \"%s() only accepts keyword arguments.\" % py_operation_name)\n\u001b[1;32m    311\u001b[0m             \u001b[0;31m# The \"self\" in this scope is referring to the BaseClient.\u001b[0m\u001b[0;34m\u001b[0m\u001b[0;34m\u001b[0m\u001b[0m\n\u001b[0;32m--> 312\u001b[0;31m             \u001b[0;32mreturn\u001b[0m \u001b[0mself\u001b[0m\u001b[0;34m.\u001b[0m\u001b[0m_make_api_call\u001b[0m\u001b[0;34m(\u001b[0m\u001b[0moperation_name\u001b[0m\u001b[0;34m,\u001b[0m \u001b[0mkwargs\u001b[0m\u001b[0;34m)\u001b[0m\u001b[0;34m\u001b[0m\u001b[0m\n\u001b[0m\u001b[1;32m    313\u001b[0m \u001b[0;34m\u001b[0m\u001b[0m\n\u001b[1;32m    314\u001b[0m         \u001b[0m_api_call\u001b[0m\u001b[0;34m.\u001b[0m\u001b[0m__name__\u001b[0m \u001b[0;34m=\u001b[0m \u001b[0mstr\u001b[0m\u001b[0;34m(\u001b[0m\u001b[0mpy_operation_name\u001b[0m\u001b[0;34m)\u001b[0m\u001b[0;34m\u001b[0m\u001b[0m\n",
      "\u001b[0;32m/Users/yaroslav/anaconda/envs/sep22/lib/python3.5/site-packages/botocore/client.py\u001b[0m in \u001b[0;36m_make_api_call\u001b[0;34m(self, operation_name, api_params)\u001b[0m\n\u001b[1;32m    603\u001b[0m             \u001b[0merror_code\u001b[0m \u001b[0;34m=\u001b[0m \u001b[0mparsed_response\u001b[0m\u001b[0;34m.\u001b[0m\u001b[0mget\u001b[0m\u001b[0;34m(\u001b[0m\u001b[0;34m\"Error\"\u001b[0m\u001b[0;34m,\u001b[0m \u001b[0;34m{\u001b[0m\u001b[0;34m}\u001b[0m\u001b[0;34m)\u001b[0m\u001b[0;34m.\u001b[0m\u001b[0mget\u001b[0m\u001b[0;34m(\u001b[0m\u001b[0;34m\"Code\"\u001b[0m\u001b[0;34m)\u001b[0m\u001b[0;34m\u001b[0m\u001b[0m\n\u001b[1;32m    604\u001b[0m             \u001b[0merror_class\u001b[0m \u001b[0;34m=\u001b[0m \u001b[0mself\u001b[0m\u001b[0;34m.\u001b[0m\u001b[0mexceptions\u001b[0m\u001b[0;34m.\u001b[0m\u001b[0mfrom_code\u001b[0m\u001b[0;34m(\u001b[0m\u001b[0merror_code\u001b[0m\u001b[0;34m)\u001b[0m\u001b[0;34m\u001b[0m\u001b[0m\n\u001b[0;32m--> 605\u001b[0;31m             \u001b[0;32mraise\u001b[0m \u001b[0merror_class\u001b[0m\u001b[0;34m(\u001b[0m\u001b[0mparsed_response\u001b[0m\u001b[0;34m,\u001b[0m \u001b[0moperation_name\u001b[0m\u001b[0;34m)\u001b[0m\u001b[0;34m\u001b[0m\u001b[0m\n\u001b[0m\u001b[1;32m    606\u001b[0m         \u001b[0;32melse\u001b[0m\u001b[0;34m:\u001b[0m\u001b[0;34m\u001b[0m\u001b[0m\n\u001b[1;32m    607\u001b[0m             \u001b[0;32mreturn\u001b[0m \u001b[0mparsed_response\u001b[0m\u001b[0;34m\u001b[0m\u001b[0m\n",
      "\u001b[0;31mClientError\u001b[0m: An error occurred (InvalidPlacementGroup.Unknown) when calling the DescribePlacementGroups operation: The Placement Group 'amazon' is unknown."
     ]
    }
   ],
   "source": [
    "grp.load()"
   ]
  },
  {
   "cell_type": "code",
   "execution_count": 214,
   "metadata": {
    "collapsed": false
   },
   "outputs": [
    {
     "data": {
      "text/plain": [
       "ec2.PlacementGroup(name='somegroup')"
      ]
     },
     "execution_count": 214,
     "metadata": {},
     "output_type": "execute_result"
    }
   ],
   "source": [
    "ec2.create_placement_group(GroupName=\"somegroup\",Strategy=\"cluster\")"
   ]
  },
  {
   "cell_type": "code",
   "execution_count": 217,
   "metadata": {
    "collapsed": true
   },
   "outputs": [],
   "source": [
    "grp=ec2.PlacementGroup('somegroup')"
   ]
  },
  {
   "cell_type": "code",
   "execution_count": 218,
   "metadata": {
    "collapsed": true
   },
   "outputs": [],
   "source": [
    "grp.load()"
   ]
  },
  {
   "cell_type": "code",
   "execution_count": 222,
   "metadata": {
    "collapsed": false
   },
   "outputs": [
    {
     "data": {
      "text/plain": [
       "'somegroup'"
      ]
     },
     "execution_count": 222,
     "metadata": {},
     "output_type": "execute_result"
    }
   ],
   "source": [
    "grp.name"
   ]
  },
  {
   "cell_type": "code",
   "execution_count": 216,
   "metadata": {
    "collapsed": false
   },
   "outputs": [
    {
     "data": {
      "text/plain": [
       "{'PlacementGroups': [{'GroupName': 'beefy2',\n",
       "   'State': 'available',\n",
       "   'Strategy': 'cluster'},\n",
       "  {'GroupName': 'sharded', 'State': 'available', 'Strategy': 'cluster'},\n",
       "  {'GroupName': 'beefy3', 'State': 'available', 'Strategy': 'cluster'},\n",
       "  {'GroupName': 'inet3', 'State': 'available', 'Strategy': 'cluster'},\n",
       "  {'GroupName': 'beefy_head', 'State': 'available', 'Strategy': 'cluster'},\n",
       "  {'GroupName': 'inet', 'State': 'available', 'Strategy': 'cluster'},\n",
       "  {'GroupName': 'amazon1', 'State': 'available', 'Strategy': 'cluster'},\n",
       "  {'GroupName': 'test3', 'State': 'available', 'Strategy': 'cluster'},\n",
       "  {'GroupName': 'sharded2', 'State': 'available', 'Strategy': 'cluster'},\n",
       "  {'GroupName': 'amazon2', 'State': 'available', 'Strategy': 'cluster'},\n",
       "  {'GroupName': 'amazon', 'State': 'available', 'Strategy': 'cluster'},\n",
       "  {'GroupName': 'default', 'State': 'available', 'Strategy': 'cluster'},\n",
       "  {'GroupName': 'amazon3', 'State': 'available', 'Strategy': 'cluster'}],\n",
       " 'ResponseMetadata': {'HTTPHeaders': {'content-type': 'text/xml;charset=UTF-8',\n",
       "   'date': 'Wed, 13 Dec 2017 21:44:32 GMT',\n",
       "   'server': 'AmazonEC2',\n",
       "   'transfer-encoding': 'chunked',\n",
       "   'vary': 'Accept-Encoding'},\n",
       "  'HTTPStatusCode': 200,\n",
       "  'RequestId': '27bb8855-4926-4b52-9cdf-f8c2e2556861',\n",
       "  'RetryAttempts': 0}}"
      ]
     },
     "execution_count": 216,
     "metadata": {},
     "output_type": "execute_result"
    }
   ],
   "source": [
    "client.describe_placement_groups()"
   ]
  },
  {
   "cell_type": "code",
   "execution_count": 182,
   "metadata": {
    "collapsed": false
   },
   "outputs": [
    {
     "data": {
      "text/plain": [
       "[ec2.Tag(resource_id='sg-c58e97a3', key='Name', value='default_vpc')]"
      ]
     },
     "execution_count": 182,
     "metadata": {},
     "output_type": "execute_result"
    }
   ],
   "source": [
    "security_group.create_tags(Tags=[{\"Key\": \"Name\", \"Value\": \"default_vpc\"}])"
   ]
  },
  {
   "cell_type": "code",
   "execution_count": 194,
   "metadata": {
    "collapsed": false
   },
   "outputs": [
    {
     "data": {
      "text/plain": [
       "ec2.SecurityGroup(id='sg-c58e97a3')"
      ]
     },
     "execution_count": 194,
     "metadata": {},
     "output_type": "execute_result"
    }
   ],
   "source": [
    "ec2.SecurityGroup('sg-c58e97a3')"
   ]
  },
  {
   "cell_type": "code",
   "execution_count": 183,
   "metadata": {
    "collapsed": true
   },
   "outputs": [],
   "source": [
    "security_group.create_tags?"
   ]
  },
  {
   "cell_type": "code",
   "execution_count": 170,
   "metadata": {
    "collapsed": true
   },
   "outputs": [],
   "source": [
    "route_tables = list(vpc.route_tables.all())"
   ]
  },
  {
   "cell_type": "code",
   "execution_count": 172,
   "metadata": {
    "collapsed": false
   },
   "outputs": [
    {
     "data": {
      "text/plain": [
       "[ec2.Route(route_table_id='rtb-45a42322', destination_cidr_block='192.168.0.0/16')]"
      ]
     },
     "execution_count": 172,
     "metadata": {},
     "output_type": "execute_result"
    }
   ],
   "source": [
    "route_tables[0].routes"
   ]
  },
  {
   "cell_type": "code",
   "execution_count": 20,
   "metadata": {
    "collapsed": false
   },
   "outputs": [
    {
     "name": "stdout",
     "output_type": "stream",
     "text": [
      "subnet-0d1f9c6a\n"
     ]
    }
   ],
   "source": [
    "# create subnet\n",
    "subnet = ec2.create_subnet(CidrBlock='192.168.1.0/24', VpcId=vpc.id)\n",
    "print(subnet.id)"
   ]
  },
  {
   "cell_type": "code",
   "execution_count": 21,
   "metadata": {
    "collapsed": false
   },
   "outputs": [
    {
     "data": {
      "text/plain": [
       "ec2.RouteTableAssociation(id='rtbassoc-680ae60e')"
      ]
     },
     "execution_count": 21,
     "metadata": {},
     "output_type": "execute_result"
    }
   ],
   "source": [
    "# associate the route table with the subnet\n",
    "route_table.associate_with_subnet(SubnetId=subnet.id)"
   ]
  },
  {
   "cell_type": "code",
   "execution_count": 29,
   "metadata": {
    "collapsed": true
   },
   "outputs": [],
   "source": [
    "# Create sec group\n",
    "sec_group = ec2.create_security_group(\n",
    "    GroupName='nexus', Description='nexus group', VpcId=vpc.id)"
   ]
  },
  {
   "cell_type": "code",
   "execution_count": 30,
   "metadata": {
    "collapsed": false
   },
   "outputs": [
    {
     "data": {
      "text/plain": [
       "{'ResponseMetadata': {'HTTPHeaders': {'content-type': 'text/xml;charset=UTF-8',\n",
       "   'date': 'Tue, 12 Dec 2017 02:56:09 GMT',\n",
       "   'server': 'AmazonEC2',\n",
       "   'transfer-encoding': 'chunked',\n",
       "   'vary': 'Accept-Encoding'},\n",
       "  'HTTPStatusCode': 200,\n",
       "  'RequestId': '9be7631e-7150-4029-98d3-5aac5e6d36b8',\n",
       "  'RetryAttempts': 0}}"
      ]
     },
     "execution_count": 30,
     "metadata": {},
     "output_type": "execute_result"
    }
   ],
   "source": [
    "# enable pinging\n",
    "sec_group.authorize_ingress(\n",
    "    CidrIp='0.0.0.0/0',\n",
    "    IpProtocol='icmp',\n",
    "    FromPort=-1,\n",
    "    ToPort=-1\n",
    ")"
   ]
  },
  {
   "cell_type": "code",
   "execution_count": null,
   "metadata": {
    "collapsed": true
   },
   "outputs": [],
   "source": [
    "de"
   ]
  },
  {
   "cell_type": "code",
   "execution_count": 106,
   "metadata": {
    "collapsed": false
   },
   "outputs": [
    {
     "data": {
      "text/plain": [
       "{'ResponseMetadata': {'HTTPHeaders': {'content-type': 'text/xml;charset=UTF-8',\n",
       "   'date': 'Tue, 12 Dec 2017 05:57:22 GMT',\n",
       "   'server': 'AmazonEC2',\n",
       "   'transfer-encoding': 'chunked',\n",
       "   'vary': 'Accept-Encoding'},\n",
       "  'HTTPStatusCode': 200,\n",
       "  'RequestId': '73a07462-2f68-4655-b0d6-a41eea1c4db1',\n",
       "  'RetryAttempts': 0},\n",
       " 'SecurityGroups': [{'Description': 'slice_0 sec group',\n",
       "   'GroupId': 'sg-39f9e55f',\n",
       "   'GroupName': 'slice_0',\n",
       "   'IpPermissions': [{'FromPort': 8888,\n",
       "     'IpProtocol': 'tcp',\n",
       "     'IpRanges': [{'CidrIp': '0.0.0.0/0'}],\n",
       "     'Ipv6Ranges': [],\n",
       "     'PrefixListIds': [],\n",
       "     'ToPort': 8888,\n",
       "     'UserIdGroupPairs': []},\n",
       "    {'FromPort': 22,\n",
       "     'IpProtocol': 'tcp',\n",
       "     'IpRanges': [{'CidrIp': '0.0.0.0/0'}],\n",
       "     'Ipv6Ranges': [],\n",
       "     'PrefixListIds': [],\n",
       "     'ToPort': 22,\n",
       "     'UserIdGroupPairs': []},\n",
       "    {'FromPort': -1,\n",
       "     'IpProtocol': 'icmp',\n",
       "     'IpRanges': [{'CidrIp': '0.0.0.0/0'}],\n",
       "     'Ipv6Ranges': [],\n",
       "     'PrefixListIds': [],\n",
       "     'ToPort': -1,\n",
       "     'UserIdGroupPairs': []}],\n",
       "   'IpPermissionsEgress': [{'IpProtocol': '-1',\n",
       "     'IpRanges': [{'CidrIp': '0.0.0.0/0'}],\n",
       "     'Ipv6Ranges': [],\n",
       "     'PrefixListIds': [],\n",
       "     'UserIdGroupPairs': []}],\n",
       "   'OwnerId': '316880547378',\n",
       "   'VpcId': 'vpc-14876473'},\n",
       "  {'Description': 'nexus group',\n",
       "   'GroupId': 'sg-4af9e52c',\n",
       "   'GroupName': 'nexus',\n",
       "   'IpPermissions': [{'FromPort': 8888,\n",
       "     'IpProtocol': 'tcp',\n",
       "     'IpRanges': [{'CidrIp': '0.0.0.0/0'}],\n",
       "     'Ipv6Ranges': [],\n",
       "     'PrefixListIds': [],\n",
       "     'ToPort': 8888,\n",
       "     'UserIdGroupPairs': []},\n",
       "    {'FromPort': 22,\n",
       "     'IpProtocol': 'tcp',\n",
       "     'IpRanges': [{'CidrIp': '0.0.0.0/0'}],\n",
       "     'Ipv6Ranges': [],\n",
       "     'PrefixListIds': [],\n",
       "     'ToPort': 22,\n",
       "     'UserIdGroupPairs': []},\n",
       "    {'FromPort': -1,\n",
       "     'IpProtocol': 'icmp',\n",
       "     'IpRanges': [{'CidrIp': '0.0.0.0/0'}],\n",
       "     'Ipv6Ranges': [],\n",
       "     'PrefixListIds': [],\n",
       "     'ToPort': -1,\n",
       "     'UserIdGroupPairs': []}],\n",
       "   'IpPermissionsEgress': [{'IpProtocol': '-1',\n",
       "     'IpRanges': [{'CidrIp': '0.0.0.0/0'}],\n",
       "     'Ipv6Ranges': [],\n",
       "     'PrefixListIds': [],\n",
       "     'UserIdGroupPairs': []}],\n",
       "   'OwnerId': '316880547378',\n",
       "   'VpcId': 'vpc-14876473'},\n",
       "  {'Description': 'launch-wizard-1 created 2017-12-11T19:01:58.747-08:00',\n",
       "   'GroupId': 'sg-61f6ea07',\n",
       "   'GroupName': 'launch-wizard-1',\n",
       "   'IpPermissions': [{'FromPort': 22,\n",
       "     'IpProtocol': 'tcp',\n",
       "     'IpRanges': [{'CidrIp': '0.0.0.0/0'}],\n",
       "     'Ipv6Ranges': [],\n",
       "     'PrefixListIds': [],\n",
       "     'ToPort': 22,\n",
       "     'UserIdGroupPairs': []}],\n",
       "   'IpPermissionsEgress': [{'IpProtocol': '-1',\n",
       "     'IpRanges': [{'CidrIp': '0.0.0.0/0'}],\n",
       "     'Ipv6Ranges': [],\n",
       "     'PrefixListIds': [],\n",
       "     'UserIdGroupPairs': []}],\n",
       "   'OwnerId': '316880547378',\n",
       "   'VpcId': 'vpc-79c4f61d'},\n",
       "  {'Description': 'default VPC security group',\n",
       "   'GroupId': 'sg-73f8e415',\n",
       "   'GroupName': 'default',\n",
       "   'IpPermissions': [{'IpProtocol': '-1',\n",
       "     'IpRanges': [],\n",
       "     'Ipv6Ranges': [],\n",
       "     'PrefixListIds': [],\n",
       "     'UserIdGroupPairs': [{'GroupId': 'sg-73f8e415',\n",
       "       'UserId': '316880547378'}]}],\n",
       "   'IpPermissionsEgress': [{'IpProtocol': '-1',\n",
       "     'IpRanges': [{'CidrIp': '0.0.0.0/0'}],\n",
       "     'Ipv6Ranges': [],\n",
       "     'PrefixListIds': [],\n",
       "     'UserIdGroupPairs': []}],\n",
       "   'OwnerId': '316880547378',\n",
       "   'VpcId': 'vpc-14876473'},\n",
       "  {'Description': 'default VPC security group',\n",
       "   'GroupId': 'sg-899ddbef',\n",
       "   'GroupName': 'default',\n",
       "   'IpPermissions': [{'IpProtocol': '-1',\n",
       "     'IpRanges': [],\n",
       "     'Ipv6Ranges': [],\n",
       "     'PrefixListIds': [],\n",
       "     'UserIdGroupPairs': [{'GroupId': 'sg-899ddbef',\n",
       "       'UserId': '316880547378'}]}],\n",
       "   'IpPermissionsEgress': [{'IpProtocol': '-1',\n",
       "     'IpRanges': [{'CidrIp': '0.0.0.0/0'}],\n",
       "     'Ipv6Ranges': [],\n",
       "     'PrefixListIds': [],\n",
       "     'UserIdGroupPairs': []}],\n",
       "   'OwnerId': '316880547378',\n",
       "   'VpcId': 'vpc-79c4f61d'}]}"
      ]
     },
     "execution_count": 106,
     "metadata": {},
     "output_type": "execute_result"
    }
   ],
   "source": [
    "client.describe_security_groups()"
   ]
  },
  {
   "cell_type": "code",
   "execution_count": 31,
   "metadata": {
    "collapsed": false
   },
   "outputs": [
    {
     "data": {
      "text/plain": [
       "{'ResponseMetadata': {'HTTPHeaders': {'content-type': 'text/xml;charset=UTF-8',\n",
       "   'date': 'Tue, 12 Dec 2017 02:56:10 GMT',\n",
       "   'server': 'AmazonEC2',\n",
       "   'transfer-encoding': 'chunked',\n",
       "   'vary': 'Accept-Encoding'},\n",
       "  'HTTPStatusCode': 200,\n",
       "  'RequestId': '0ce3a5f7-7922-4f59-a1f6-0a61f5924b40',\n",
       "  'RetryAttempts': 0}}"
      ]
     },
     "execution_count": 31,
     "metadata": {},
     "output_type": "execute_result"
    }
   ],
   "source": [
    "# enable SSH\n",
    "sec_group.authorize_ingress(IpProtocol=\"tcp\",CidrIp=\"0.0.0.0/0\",FromPort=22,ToPort=22)"
   ]
  },
  {
   "cell_type": "code",
   "execution_count": null,
   "metadata": {
    "collapsed": true
   },
   "outputs": [],
   "source": []
  },
  {
   "cell_type": "code",
   "execution_count": 32,
   "metadata": {
    "collapsed": true
   },
   "outputs": [],
   "source": [
    "# ipython notebook and tensorboard ports\n",
    "response = sec_group.authorize_ingress(IpProtocol=\"tcp\",CidrIp=\"0.0.0.0/0\",FromPort=8888,ToPort=8888)"
   ]
  },
  {
   "cell_type": "code",
   "execution_count": 33,
   "metadata": {
    "collapsed": false
   },
   "outputs": [
    {
     "data": {
      "text/plain": [
       "200"
      ]
     },
     "execution_count": 33,
     "metadata": {},
     "output_type": "execute_result"
    }
   ],
   "source": [
    "response['ResponseMetadata']['HTTPStatusCode']"
   ]
  },
  {
   "cell_type": "code",
   "execution_count": 103,
   "metadata": {
    "collapsed": false
   },
   "outputs": [
    {
     "data": {
      "text/plain": [
       "'sg-4af9e52c'"
      ]
     },
     "execution_count": 103,
     "metadata": {},
     "output_type": "execute_result"
    }
   ],
   "source": [
    "sec_group.group_id"
   ]
  },
  {
   "cell_type": "code",
   "execution_count": 177,
   "metadata": {
    "collapsed": true
   },
   "outputs": [],
   "source": [
    "  security_group = ec2.create_security_group(\n",
    "    GroupName=\"hi\", Description=\"hi\",\n",
    "    VpcId=vpc.id)\n"
   ]
  },
  {
   "cell_type": "code",
   "execution_count": 179,
   "metadata": {
    "collapsed": true
   },
   "outputs": [],
   "source": [
    "    response = security_group.authorize_ingress(IpProtocol=\"tcp\",\n",
    "                                                CidrIp=\"0.0.0.0/0\",\n",
    "                                                FromPort=8888,ToPort=8888)\n"
   ]
  },
  {
   "cell_type": "code",
   "execution_count": 180,
   "metadata": {
    "collapsed": false
   },
   "outputs": [
    {
     "data": {
      "text/plain": [
       "{'ResponseMetadata': {'HTTPHeaders': {'content-type': 'text/xml;charset=UTF-8',\n",
       "   'date': 'Wed, 13 Dec 2017 21:20:45 GMT',\n",
       "   'server': 'AmazonEC2',\n",
       "   'transfer-encoding': 'chunked',\n",
       "   'vary': 'Accept-Encoding'},\n",
       "  'HTTPStatusCode': 200,\n",
       "  'RequestId': '14897fbc-151a-4c7f-b6a0-3f6d6edc0294',\n",
       "  'RetryAttempts': 0}}"
      ]
     },
     "execution_count": 180,
     "metadata": {},
     "output_type": "execute_result"
    }
   ],
   "source": [
    "response"
   ]
  },
  {
   "cell_type": "code",
   "execution_count": 181,
   "metadata": {
    "collapsed": true
   },
   "outputs": [],
   "source": [
    "security_group.authorize_ingress?"
   ]
  },
  {
   "cell_type": "code",
   "execution_count": 224,
   "metadata": {
    "collapsed": false
   },
   "outputs": [
    {
     "data": {
      "text/plain": [
       "'somegroup'"
      ]
     },
     "execution_count": 224,
     "metadata": {},
     "output_type": "execute_result"
    }
   ],
   "source": [
    "grp.group_name"
   ]
  },
  {
   "cell_type": "code",
   "execution_count": 229,
   "metadata": {
    "collapsed": true
   },
   "outputs": [],
   "source": [
    "from pprint import pprint as pp"
   ]
  },
  {
   "cell_type": "code",
   "execution_count": 233,
   "metadata": {
    "collapsed": false
   },
   "outputs": [
    {
     "data": {
      "text/plain": [
       "['amazon',\n",
       " 'sharded',\n",
       " 'inet3',\n",
       " 'amazon1',\n",
       " 'amazon2',\n",
       " 'sharded2',\n",
       " 'default',\n",
       " 'beefy_head',\n",
       " 'beefy3',\n",
       " 'amazon3',\n",
       " 'test3',\n",
       " 'inet',\n",
       " 'beefy2']"
      ]
     },
     "execution_count": 233,
     "metadata": {},
     "output_type": "execute_result"
    }
   ],
   "source": [
    "[a['GroupName'] for a in client.describe_placement_groups()['PlacementGroups']]"
   ]
  },
  {
   "cell_type": "code",
   "execution_count": 241,
   "metadata": {
    "collapsed": false
   },
   "outputs": [
    {
     "ename": "NameError",
     "evalue": "name 'name' is not defined",
     "output_type": "error",
     "traceback": [
      "\u001b[0;31m---------------------------------------------------------------------------\u001b[0m",
      "\u001b[0;31mNameError\u001b[0m                                 Traceback (most recent call last)",
      "\u001b[0;32m<ipython-input-241-0e590ed9c94f>\u001b[0m in \u001b[0;36m<module>\u001b[0;34m()\u001b[0m\n\u001b[0;32m----> 1\u001b[0;31m \u001b[0mgroup\u001b[0m \u001b[0;34m=\u001b[0m \u001b[0mec2\u001b[0m\u001b[0;34m.\u001b[0m\u001b[0mcreate_placement_group\u001b[0m\u001b[0;34m(\u001b[0m\u001b[0mGroupName\u001b[0m\u001b[0;34m=\u001b[0m\u001b[0mname\u001b[0m\u001b[0;34m,\u001b[0m \u001b[0mStrategy\u001b[0m\u001b[0;34m=\u001b[0m\u001b[0;34m'cluster'\u001b[0m\u001b[0;34m)\u001b[0m\u001b[0;34m\u001b[0m\u001b[0m\n\u001b[0m",
      "\u001b[0;31mNameError\u001b[0m: name 'name' is not defined"
     ]
    }
   ],
   "source": []
  },
  {
   "cell_type": "code",
   "execution_count": 253,
   "metadata": {
    "collapsed": false
   },
   "outputs": [
    {
     "data": {
      "text/plain": [
       "{'PlacementGroups': [{'GroupName': 'default',\n",
       "   'State': 'available',\n",
       "   'Strategy': 'cluster'},\n",
       "  {'GroupName': 'test3', 'State': 'available', 'Strategy': 'cluster'},\n",
       "  {'GroupName': 'amazon1', 'State': 'available', 'Strategy': 'cluster'},\n",
       "  {'GroupName': 'beefy2', 'State': 'available', 'Strategy': 'cluster'},\n",
       "  {'GroupName': 'inet3', 'State': 'available', 'Strategy': 'cluster'},\n",
       "  {'GroupName': 'amazon3', 'State': 'available', 'Strategy': 'cluster'},\n",
       "  {'GroupName': 'amazon2', 'State': 'available', 'Strategy': 'cluster'},\n",
       "  {'GroupName': 'beefy_head', 'State': 'available', 'Strategy': 'cluster'},\n",
       "  {'GroupName': 'beefy3', 'State': 'available', 'Strategy': 'cluster'},\n",
       "  {'GroupName': 'sharded', 'State': 'available', 'Strategy': 'cluster'},\n",
       "  {'GroupName': 'sharded2', 'State': 'available', 'Strategy': 'cluster'},\n",
       "  {'GroupName': 'inet', 'State': 'available', 'Strategy': 'cluster'},\n",
       "  {'GroupName': 'amazon', 'State': 'available', 'Strategy': 'cluster'}],\n",
       " 'ResponseMetadata': {'HTTPHeaders': {'content-type': 'text/xml;charset=UTF-8',\n",
       "   'date': 'Wed, 13 Dec 2017 21:56:15 GMT',\n",
       "   'server': 'AmazonEC2',\n",
       "   'transfer-encoding': 'chunked',\n",
       "   'vary': 'Accept-Encoding'},\n",
       "  'HTTPStatusCode': 200,\n",
       "  'RequestId': '25c1b8d6-9b87-4eb4-92cc-7321229f4e75',\n",
       "  'RetryAttempts': 0}}"
      ]
     },
     "execution_count": 253,
     "metadata": {},
     "output_type": "execute_result"
    }
   ],
   "source": [
    "client.describe_placement_groups()"
   ]
  },
  {
   "cell_type": "code",
   "execution_count": null,
   "metadata": {
    "collapsed": true
   },
   "outputs": [],
   "source": [
    "ec2."
   ]
  },
  {
   "cell_type": "code",
   "execution_count": 251,
   "metadata": {
    "collapsed": true
   },
   "outputs": [],
   "source": [
    "group = ec2.create_placement_group(GroupName='default', Strategy='cluster')"
   ]
  },
  {
   "cell_type": "code",
   "execution_count": 252,
   "metadata": {
    "collapsed": false
   },
   "outputs": [
    {
     "data": {
      "text/plain": [
       "'cluster'"
      ]
     },
     "execution_count": 252,
     "metadata": {},
     "output_type": "execute_result"
    }
   ],
   "source": [
    "group.strategy"
   ]
  },
  {
   "cell_type": "code",
   "execution_count": 245,
   "metadata": {
    "collapsed": true
   },
   "outputs": [],
   "source": [
    "group = ec2.PlacementGroup('test_group')"
   ]
  },
  {
   "cell_type": "code",
   "execution_count": 246,
   "metadata": {
    "collapsed": false
   },
   "outputs": [
    {
     "data": {
      "text/plain": [
       "'cluster'"
      ]
     },
     "execution_count": 246,
     "metadata": {},
     "output_type": "execute_result"
    }
   ],
   "source": [
    "group.strategy"
   ]
  },
  {
   "cell_type": "code",
   "execution_count": 313,
   "metadata": {
    "collapsed": true
   },
   "outputs": [],
   "source": [
    "ec2.create_instances?"
   ]
  },
  {
   "cell_type": "code",
   "execution_count": 424,
   "metadata": {
    "collapsed": false
   },
   "outputs": [
    {
     "ename": "NameError",
     "evalue": "name 'sec_group' is not defined",
     "output_type": "error",
     "traceback": [
      "\u001b[0;31m---------------------------------------------------------------------------\u001b[0m",
      "\u001b[0;31mNameError\u001b[0m                                 Traceback (most recent call last)",
      "\u001b[0;32m<ipython-input-424-ddc497f06e70>\u001b[0m in \u001b[0;36m<module>\u001b[0;34m()\u001b[0m\n\u001b[1;32m      4\u001b[0m instances = ec2.create_instances(\n\u001b[1;32m      5\u001b[0m     \u001b[0mImageId\u001b[0m\u001b[0;34m=\u001b[0m\u001b[0mami\u001b[0m\u001b[0;34m,\u001b[0m \u001b[0mInstanceType\u001b[0m\u001b[0;34m=\u001b[0m\u001b[0;34m'c5.large'\u001b[0m\u001b[0;34m,\u001b[0m \u001b[0mMaxCount\u001b[0m\u001b[0;34m=\u001b[0m\u001b[0;36m1\u001b[0m\u001b[0;34m,\u001b[0m \u001b[0mMinCount\u001b[0m\u001b[0;34m=\u001b[0m\u001b[0;36m1\u001b[0m\u001b[0;34m,\u001b[0m\u001b[0;34m\u001b[0m\u001b[0m\n\u001b[0;32m----> 6\u001b[0;31m     \u001b[0mNetworkInterfaces\u001b[0m\u001b[0;34m=\u001b[0m\u001b[0;34m[\u001b[0m\u001b[0;34m{\u001b[0m\u001b[0;34m'SubnetId'\u001b[0m\u001b[0;34m:\u001b[0m \u001b[0msubnet\u001b[0m\u001b[0;34m.\u001b[0m\u001b[0mid\u001b[0m\u001b[0;34m,\u001b[0m \u001b[0;34m'DeviceIndex'\u001b[0m\u001b[0;34m:\u001b[0m \u001b[0;36m0\u001b[0m\u001b[0;34m,\u001b[0m \u001b[0;34m'AssociatePublicIpAddress'\u001b[0m\u001b[0;34m:\u001b[0m \u001b[0;32mTrue\u001b[0m\u001b[0;34m,\u001b[0m \u001b[0;34m'Groups'\u001b[0m\u001b[0;34m:\u001b[0m \u001b[0;34m[\u001b[0m\u001b[0msec_group\u001b[0m\u001b[0;34m.\u001b[0m\u001b[0mgroup_id\u001b[0m\u001b[0;34m]\u001b[0m\u001b[0;34m}\u001b[0m\u001b[0;34m]\u001b[0m\u001b[0;34m,\u001b[0m\u001b[0;34m\u001b[0m\u001b[0m\n\u001b[0m\u001b[1;32m      7\u001b[0m     Placement={'GroupName': grp.group_name})\n",
      "\u001b[0;31mNameError\u001b[0m: name 'sec_group' is not defined"
     ]
    }
   ],
   "source": [
    "grp = ec2.create_placement_group(GroupName=\"somegroup\",Strategy=\"cluster\")\n",
    "\n",
    "ami=\"ami-45ead225\"\n",
    "instances = ec2.create_instances(\n",
    "    ImageId=ami, InstanceType='c5.large', MaxCount=1, MinCount=1,\n",
    "    NetworkInterfaces=[{'SubnetId': subnet.id, 'DeviceIndex': 0, 'AssociatePublicIpAddress': True, 'Groups': [sec_group.group_id]}],\n",
    "    Placement={'GroupName': grp.group_name})"
   ]
  },
  {
   "cell_type": "code",
   "execution_count": 173,
   "metadata": {
    "collapsed": false,
    "scrolled": false
   },
   "outputs": [
    {
     "data": {
      "text/plain": [
       "{'ResponseMetadata': {'HTTPHeaders': {'content-type': 'text/xml;charset=UTF-8',\n",
       "   'date': 'Wed, 13 Dec 2017 21:16:43 GMT',\n",
       "   'server': 'AmazonEC2',\n",
       "   'transfer-encoding': 'chunked',\n",
       "   'vary': 'Accept-Encoding'},\n",
       "  'HTTPStatusCode': 200,\n",
       "  'RequestId': '8be31302-d613-4b55-b0b5-33c984f2c84f',\n",
       "  'RetryAttempts': 0},\n",
       " 'SecurityGroups': [{'Description': 'default VPC security group',\n",
       "   'GroupId': 'sg-019aea7c',\n",
       "   'GroupName': 'default',\n",
       "   'IpPermissions': [{'IpProtocol': '-1',\n",
       "     'IpRanges': [],\n",
       "     'Ipv6Ranges': [],\n",
       "     'PrefixListIds': [],\n",
       "     'UserIdGroupPairs': [{'GroupId': 'sg-019aea7c',\n",
       "       'UserId': '316880547378'}]}],\n",
       "   'IpPermissionsEgress': [{'IpProtocol': '-1',\n",
       "     'IpRanges': [{'CidrIp': '0.0.0.0/0'}],\n",
       "     'Ipv6Ranges': [],\n",
       "     'PrefixListIds': [],\n",
       "     'UserIdGroupPairs': []}],\n",
       "   'OwnerId': '316880547378',\n",
       "   'VpcId': 'vpc-14500972'},\n",
       "  {'Description': 'CVC-baseline.  Allows SSH, tensorboard, and jupyter access',\n",
       "   'GroupId': 'sg-05aeb178',\n",
       "   'GroupName': 'CVC',\n",
       "   'IpPermissions': [{'FromPort': 22,\n",
       "     'IpProtocol': 'tcp',\n",
       "     'IpRanges': [{'CidrIp': '0.0.0.0/0'}],\n",
       "     'Ipv6Ranges': [],\n",
       "     'PrefixListIds': [],\n",
       "     'ToPort': 22,\n",
       "     'UserIdGroupPairs': []},\n",
       "    {'FromPort': 8880,\n",
       "     'IpProtocol': 'tcp',\n",
       "     'IpRanges': [{'CidrIp': '0.0.0.0/0'}],\n",
       "     'Ipv6Ranges': [],\n",
       "     'PrefixListIds': [],\n",
       "     'ToPort': 8890,\n",
       "     'UserIdGroupPairs': []},\n",
       "    {'FromPort': 6000,\n",
       "     'IpProtocol': 'tcp',\n",
       "     'IpRanges': [{'CidrIp': '0.0.0.0/0'}],\n",
       "     'Ipv6Ranges': [],\n",
       "     'PrefixListIds': [],\n",
       "     'ToPort': 6010,\n",
       "     'UserIdGroupPairs': []}],\n",
       "   'IpPermissionsEgress': [{'IpProtocol': '-1',\n",
       "     'IpRanges': [{'CidrIp': '0.0.0.0/0'}],\n",
       "     'Ipv6Ranges': [],\n",
       "     'PrefixListIds': [],\n",
       "     'UserIdGroupPairs': []}],\n",
       "   'OwnerId': '316880547378',\n",
       "   'VpcId': 'vpc-fe722098'},\n",
       "  {'Description': 'launch-wizard-9 created 2017-10-31T15:56:03.606-04:00',\n",
       "   'GroupId': 'sg-1036606d',\n",
       "   'GroupName': 'launch-wizard-9',\n",
       "   'IpPermissions': [{'FromPort': 22,\n",
       "     'IpProtocol': 'tcp',\n",
       "     'IpRanges': [{'CidrIp': '0.0.0.0/0'}],\n",
       "     'Ipv6Ranges': [],\n",
       "     'PrefixListIds': [],\n",
       "     'ToPort': 22,\n",
       "     'UserIdGroupPairs': []},\n",
       "    {'FromPort': 3000,\n",
       "     'IpProtocol': 'tcp',\n",
       "     'IpRanges': [{'CidrIp': '0.0.0.0/0', 'Description': 'API web service'}],\n",
       "     'Ipv6Ranges': [],\n",
       "     'PrefixListIds': [],\n",
       "     'ToPort': 3000,\n",
       "     'UserIdGroupPairs': []}],\n",
       "   'IpPermissionsEgress': [{'IpProtocol': '-1',\n",
       "     'IpRanges': [{'CidrIp': '0.0.0.0/0'}],\n",
       "     'Ipv6Ranges': [],\n",
       "     'PrefixListIds': [],\n",
       "     'UserIdGroupPairs': []}],\n",
       "   'OwnerId': '316880547378',\n",
       "   'VpcId': 'vpc-fe722098'},\n",
       "  {'Description': 'default VPC security group',\n",
       "   'GroupId': 'sg-15c96969',\n",
       "   'GroupName': 'default',\n",
       "   'IpPermissions': [{'IpProtocol': '-1',\n",
       "     'IpRanges': [],\n",
       "     'Ipv6Ranges': [],\n",
       "     'PrefixListIds': [],\n",
       "     'UserIdGroupPairs': [{'GroupId': 'sg-15c96969',\n",
       "       'UserId': '316880547378'}]}],\n",
       "   'IpPermissionsEgress': [{'IpProtocol': '-1',\n",
       "     'IpRanges': [{'CidrIp': '0.0.0.0/0'}],\n",
       "     'Ipv6Ranges': [],\n",
       "     'PrefixListIds': [],\n",
       "     'UserIdGroupPairs': []}],\n",
       "   'OwnerId': '316880547378',\n",
       "   'VpcId': 'vpc-f683678f'},\n",
       "  {'Description': 'group to provide ssh access to studioml workers',\n",
       "   'GroupId': 'sg-1c440761',\n",
       "   'GroupName': 'a22039ad-c92c-42a2-84eb-812dc4485f66',\n",
       "   'IpPermissions': [{'FromPort': 22,\n",
       "     'IpProtocol': 'udp',\n",
       "     'IpRanges': [{'CidrIp': '0.0.0.0/0'}],\n",
       "     'Ipv6Ranges': [],\n",
       "     'PrefixListIds': [],\n",
       "     'ToPort': 65000,\n",
       "     'UserIdGroupPairs': []},\n",
       "    {'FromPort': 22,\n",
       "     'IpProtocol': 'tcp',\n",
       "     'IpRanges': [{'CidrIp': '0.0.0.0/0'}],\n",
       "     'Ipv6Ranges': [],\n",
       "     'PrefixListIds': [],\n",
       "     'ToPort': 65000,\n",
       "     'UserIdGroupPairs': []}],\n",
       "   'IpPermissionsEgress': [{'IpProtocol': '-1',\n",
       "     'IpRanges': [{'CidrIp': '0.0.0.0/0'}],\n",
       "     'Ipv6Ranges': [],\n",
       "     'PrefixListIds': [],\n",
       "     'UserIdGroupPairs': []}],\n",
       "   'OwnerId': '316880547378',\n",
       "   'VpcId': 'vpc-fe722098'},\n",
       "  {'Description': 'launch-wizard-7 created 2017-10-24T14:09:55.984-07:00',\n",
       "   'GroupId': 'sg-23cfb35e',\n",
       "   'GroupName': 'launch-wizard-7',\n",
       "   'IpPermissions': [{'IpProtocol': '-1',\n",
       "     'IpRanges': [{'CidrIp': '0.0.0.0/0'}],\n",
       "     'Ipv6Ranges': [],\n",
       "     'PrefixListIds': [],\n",
       "     'UserIdGroupPairs': []}],\n",
       "   'IpPermissionsEgress': [{'IpProtocol': '-1',\n",
       "     'IpRanges': [{'CidrIp': '0.0.0.0/0'}],\n",
       "     'Ipv6Ranges': [],\n",
       "     'PrefixListIds': [],\n",
       "     'UserIdGroupPairs': []}],\n",
       "   'OwnerId': '316880547378',\n",
       "   'VpcId': 'vpc-fe722098'},\n",
       "  {'Description': 'group to provide ssh access to studioml workers',\n",
       "   'GroupId': 'sg-2d460550',\n",
       "   'GroupName': '73c391ed-8ad5-4edb-a588-a424006d0b72',\n",
       "   'IpPermissions': [{'FromPort': 22,\n",
       "     'IpProtocol': 'tcp',\n",
       "     'IpRanges': [{'CidrIp': '0.0.0.0/0'}],\n",
       "     'Ipv6Ranges': [],\n",
       "     'PrefixListIds': [],\n",
       "     'ToPort': 22,\n",
       "     'UserIdGroupPairs': []}],\n",
       "   'IpPermissionsEgress': [{'IpProtocol': '-1',\n",
       "     'IpRanges': [{'CidrIp': '0.0.0.0/0'}],\n",
       "     'Ipv6Ranges': [],\n",
       "     'PrefixListIds': [],\n",
       "     'UserIdGroupPairs': []}],\n",
       "   'OwnerId': '316880547378',\n",
       "   'VpcId': 'vpc-fe722098'},\n",
       "  {'Description': 'default VPC security group',\n",
       "   'GroupId': 'sg-331a744e',\n",
       "   'GroupName': 'default',\n",
       "   'IpPermissions': [{'IpProtocol': '-1',\n",
       "     'IpRanges': [],\n",
       "     'Ipv6Ranges': [],\n",
       "     'PrefixListIds': [],\n",
       "     'UserIdGroupPairs': [{'GroupId': 'sg-331a744e',\n",
       "       'UserId': '316880547378'}]},\n",
       "    {'FromPort': 22,\n",
       "     'IpProtocol': 'tcp',\n",
       "     'IpRanges': [{'CidrIp': '24.5.69.107/32', 'Description': 'SSH rule'}],\n",
       "     'Ipv6Ranges': [],\n",
       "     'PrefixListIds': [],\n",
       "     'ToPort': 22,\n",
       "     'UserIdGroupPairs': []},\n",
       "    {'FromPort': 2049,\n",
       "     'IpProtocol': 'udp',\n",
       "     'IpRanges': [{'CidrIp': '203.0.113.0/24'}],\n",
       "     'Ipv6Ranges': [],\n",
       "     'PrefixListIds': [],\n",
       "     'ToPort': 2049,\n",
       "     'UserIdGroupPairs': [{'GroupId': 'sg-51fc832c', 'UserId': '316880547378'},\n",
       "      {'GroupId': 'sg-6f582012', 'UserId': '316880547378'}]},\n",
       "    {'FromPort': 2049,\n",
       "     'IpProtocol': 'tcp',\n",
       "     'IpRanges': [{'CidrIp': '203.0.113.0/24'}],\n",
       "     'Ipv6Ranges': [],\n",
       "     'PrefixListIds': [],\n",
       "     'ToPort': 2049,\n",
       "     'UserIdGroupPairs': [{'GroupId': 'sg-51fc832c', 'UserId': '316880547378'},\n",
       "      {'GroupId': 'sg-6f582012', 'UserId': '316880547378'}]}],\n",
       "   'IpPermissionsEgress': [{'IpProtocol': '-1',\n",
       "     'IpRanges': [{'CidrIp': '0.0.0.0/0'}],\n",
       "     'Ipv6Ranges': [],\n",
       "     'PrefixListIds': [],\n",
       "     'UserIdGroupPairs': []},\n",
       "    {'FromPort': 2049,\n",
       "     'IpProtocol': 'udp',\n",
       "     'IpRanges': [{'CidrIp': '203.0.113.0/24'}],\n",
       "     'Ipv6Ranges': [],\n",
       "     'PrefixListIds': [],\n",
       "     'ToPort': 2049,\n",
       "     'UserIdGroupPairs': [{'GroupId': 'sg-51fc832c', 'UserId': '316880547378'},\n",
       "      {'GroupId': 'sg-6f582012', 'UserId': '316880547378'}]},\n",
       "    {'FromPort': 2049,\n",
       "     'IpProtocol': 'tcp',\n",
       "     'IpRanges': [{'CidrIp': '203.0.113.0/24'}],\n",
       "     'Ipv6Ranges': [],\n",
       "     'PrefixListIds': [],\n",
       "     'ToPort': 2049,\n",
       "     'UserIdGroupPairs': [{'GroupId': 'sg-51fc832c', 'UserId': '316880547378'},\n",
       "      {'GroupId': 'sg-6f582012', 'UserId': '316880547378'}]}],\n",
       "   'OwnerId': '316880547378',\n",
       "   'VpcId': 'vpc-fe722098'},\n",
       "  {'Description': 'launch-wizard-8 created 2017-10-24T14:33:17.105-07:00',\n",
       "   'GroupId': 'sg-3e384743',\n",
       "   'GroupName': 'launch-wizard-8',\n",
       "   'IpPermissions': [{'IpProtocol': '-1',\n",
       "     'IpRanges': [{'CidrIp': '0.0.0.0/0'}],\n",
       "     'Ipv6Ranges': [],\n",
       "     'PrefixListIds': [],\n",
       "     'UserIdGroupPairs': []}],\n",
       "   'IpPermissionsEgress': [{'IpProtocol': '-1',\n",
       "     'IpRanges': [{'CidrIp': '0.0.0.0/0'}],\n",
       "     'Ipv6Ranges': [],\n",
       "     'PrefixListIds': [],\n",
       "     'UserIdGroupPairs': []}],\n",
       "   'OwnerId': '316880547378',\n",
       "   'VpcId': 'vpc-fe722098'},\n",
       "  {'Description': 'Pachyderm API services security rules for stage env',\n",
       "   'GroupId': 'sg-4a7aff36',\n",
       "   'GroupName': 'pach_api_service_stage',\n",
       "   'IpPermissions': [{'FromPort': 22,\n",
       "     'IpProtocol': 'tcp',\n",
       "     'IpRanges': [{'CidrIp': '0.0.0.0/0', 'Description': 'SSH for admin'}],\n",
       "     'Ipv6Ranges': [],\n",
       "     'PrefixListIds': [],\n",
       "     'ToPort': 22,\n",
       "     'UserIdGroupPairs': []},\n",
       "    {'FromPort': 3000,\n",
       "     'IpProtocol': 'tcp',\n",
       "     'IpRanges': [{'CidrIp': '0.0.0.0/0',\n",
       "       'Description': 'incoming HTTP requests'}],\n",
       "     'Ipv6Ranges': [],\n",
       "     'PrefixListIds': [],\n",
       "     'ToPort': 3000,\n",
       "     'UserIdGroupPairs': []}],\n",
       "   'IpPermissionsEgress': [{'IpProtocol': '-1',\n",
       "     'IpRanges': [{'CidrIp': '0.0.0.0/0'}],\n",
       "     'Ipv6Ranges': [],\n",
       "     'PrefixListIds': [],\n",
       "     'UserIdGroupPairs': []}],\n",
       "   'OwnerId': '316880547378',\n",
       "   'VpcId': 'vpc-f683678f'},\n",
       "  {'Description': 'group to provide ssh access to studioml workers',\n",
       "   'GroupId': 'sg-51fc832c',\n",
       "   'GroupName': '046109af-bd00-45d3-bebb-cd5494da35b5',\n",
       "   'IpPermissions': [{'FromPort': 22,\n",
       "     'IpProtocol': 'tcp',\n",
       "     'IpRanges': [{'CidrIp': '0.0.0.0/0'}],\n",
       "     'Ipv6Ranges': [],\n",
       "     'PrefixListIds': [],\n",
       "     'ToPort': 22,\n",
       "     'UserIdGroupPairs': []}],\n",
       "   'IpPermissionsEgress': [{'IpProtocol': '-1',\n",
       "     'IpRanges': [{'CidrIp': '0.0.0.0/0'}],\n",
       "     'Ipv6Ranges': [],\n",
       "     'PrefixListIds': [],\n",
       "     'UserIdGroupPairs': []}],\n",
       "   'OwnerId': '316880547378',\n",
       "   'VpcId': 'vpc-fe722098'},\n",
       "  {'Description': 'Security group for nodes',\n",
       "   'GroupId': 'sg-56c7672a',\n",
       "   'GroupName': 'nodes.282e747a-pachydermcluster.kubernetes.com',\n",
       "   'IpPermissions': [{'FromPort': 30080,\n",
       "     'IpProtocol': 'tcp',\n",
       "     'IpRanges': [{'CidrIp': '0.0.0.0/0',\n",
       "       'Description': 'pachyderm dashboard/UI'}],\n",
       "     'Ipv6Ranges': [],\n",
       "     'PrefixListIds': [],\n",
       "     'ToPort': 30081,\n",
       "     'UserIdGroupPairs': []},\n",
       "    {'IpProtocol': '-1',\n",
       "     'IpRanges': [],\n",
       "     'Ipv6Ranges': [],\n",
       "     'PrefixListIds': [],\n",
       "     'UserIdGroupPairs': [{'GroupId': 'sg-56c7672a', 'UserId': '316880547378'},\n",
       "      {'GroupId': 'sg-78c66604', 'UserId': '316880547378'}]},\n",
       "    {'FromPort': 22,\n",
       "     'IpProtocol': 'tcp',\n",
       "     'IpRanges': [{'CidrIp': '0.0.0.0/0'}],\n",
       "     'Ipv6Ranges': [],\n",
       "     'PrefixListIds': [],\n",
       "     'ToPort': 22,\n",
       "     'UserIdGroupPairs': []},\n",
       "    {'FromPort': 30650,\n",
       "     'IpProtocol': 'tcp',\n",
       "     'IpRanges': [{'CidrIp': '0.0.0.0/0', 'Description': 'API requests'}],\n",
       "     'Ipv6Ranges': [],\n",
       "     'PrefixListIds': [],\n",
       "     'ToPort': 30650,\n",
       "     'UserIdGroupPairs': []}],\n",
       "   'IpPermissionsEgress': [{'IpProtocol': '-1',\n",
       "     'IpRanges': [{'CidrIp': '0.0.0.0/0'}],\n",
       "     'Ipv6Ranges': [],\n",
       "     'PrefixListIds': [],\n",
       "     'UserIdGroupPairs': []}],\n",
       "   'OwnerId': '316880547378',\n",
       "   'Tags': [{'Key': 'Name',\n",
       "     'Value': 'nodes.282e747a-pachydermcluster.kubernetes.com'},\n",
       "    {'Key': 'KubernetesCluster',\n",
       "     'Value': '282e747a-pachydermcluster.kubernetes.com'}],\n",
       "   'VpcId': 'vpc-f683678f'},\n",
       "  {'Description': 'launch-wizard-5 created 2017-10-24T13:51:09.540-07:00',\n",
       "   'GroupId': 'sg-5cdca021',\n",
       "   'GroupName': 'launch-wizard-5',\n",
       "   'IpPermissions': [{'IpProtocol': '-1',\n",
       "     'IpRanges': [{'CidrIp': '0.0.0.0/0'}],\n",
       "     'Ipv6Ranges': [],\n",
       "     'PrefixListIds': [],\n",
       "     'UserIdGroupPairs': []}],\n",
       "   'IpPermissionsEgress': [{'IpProtocol': '-1',\n",
       "     'IpRanges': [{'CidrIp': '0.0.0.0/0'}],\n",
       "     'Ipv6Ranges': [],\n",
       "     'PrefixListIds': [],\n",
       "     'UserIdGroupPairs': []}],\n",
       "   'OwnerId': '316880547378',\n",
       "   'VpcId': 'vpc-fe722098'},\n",
       "  {'Description': 'launch-wizard-10 created 2017-11-17T10:38:33.585-08:00',\n",
       "   'GroupId': 'sg-6e7c6f13',\n",
       "   'GroupName': 'launch-wizard-10',\n",
       "   'IpPermissions': [{'FromPort': 22,\n",
       "     'IpProtocol': 'tcp',\n",
       "     'IpRanges': [{'CidrIp': '0.0.0.0/0'}],\n",
       "     'Ipv6Ranges': [],\n",
       "     'PrefixListIds': [],\n",
       "     'ToPort': 22,\n",
       "     'UserIdGroupPairs': []}],\n",
       "   'IpPermissionsEgress': [{'IpProtocol': '-1',\n",
       "     'IpRanges': [{'CidrIp': '0.0.0.0/0'}],\n",
       "     'Ipv6Ranges': [],\n",
       "     'PrefixListIds': [],\n",
       "     'UserIdGroupPairs': []}],\n",
       "   'OwnerId': '316880547378',\n",
       "   'VpcId': 'vpc-fe722098'},\n",
       "  {'Description': 'all traffic',\n",
       "   'GroupId': 'sg-6f582012',\n",
       "   'GroupName': 'open',\n",
       "   'IpPermissions': [{'IpProtocol': '-1',\n",
       "     'IpRanges': [{'CidrIp': '0.0.0.0/0'}],\n",
       "     'Ipv6Ranges': [],\n",
       "     'PrefixListIds': [],\n",
       "     'UserIdGroupPairs': []}],\n",
       "   'IpPermissionsEgress': [{'IpProtocol': '-1',\n",
       "     'IpRanges': [{'CidrIp': '0.0.0.0/0'}],\n",
       "     'Ipv6Ranges': [],\n",
       "     'PrefixListIds': [],\n",
       "     'UserIdGroupPairs': []}],\n",
       "   'OwnerId': '316880547378',\n",
       "   'VpcId': 'vpc-fe722098'},\n",
       "  {'Description': 'launch-wizard-6 created 2017-10-24T13:55:45.047-07:00',\n",
       "   'GroupId': 'sg-71daa60c',\n",
       "   'GroupName': 'launch-wizard-6',\n",
       "   'IpPermissions': [{'IpProtocol': '-1',\n",
       "     'IpRanges': [{'CidrIp': '0.0.0.0/0'}],\n",
       "     'Ipv6Ranges': [],\n",
       "     'PrefixListIds': [],\n",
       "     'UserIdGroupPairs': []}],\n",
       "   'IpPermissionsEgress': [{'IpProtocol': '-1',\n",
       "     'IpRanges': [{'CidrIp': '0.0.0.0/0'}],\n",
       "     'Ipv6Ranges': [],\n",
       "     'PrefixListIds': [],\n",
       "     'UserIdGroupPairs': []}],\n",
       "   'OwnerId': '316880547378',\n",
       "   'VpcId': 'vpc-fe722098'},\n",
       "  {'Description': 'group to provide ssh access to studioml workers',\n",
       "   'GroupId': 'sg-724b340f',\n",
       "   'GroupName': 'c4d6e81b-b660-429b-a9ab-000146fee87d',\n",
       "   'IpPermissions': [{'FromPort': 22,\n",
       "     'IpProtocol': 'tcp',\n",
       "     'IpRanges': [{'CidrIp': '0.0.0.0/0'}],\n",
       "     'Ipv6Ranges': [],\n",
       "     'PrefixListIds': [],\n",
       "     'ToPort': 22,\n",
       "     'UserIdGroupPairs': []}],\n",
       "   'IpPermissionsEgress': [{'IpProtocol': '-1',\n",
       "     'IpRanges': [{'CidrIp': '0.0.0.0/0'}],\n",
       "     'Ipv6Ranges': [],\n",
       "     'PrefixListIds': [],\n",
       "     'UserIdGroupPairs': []}],\n",
       "   'OwnerId': '316880547378',\n",
       "   'VpcId': 'vpc-fe722098'},\n",
       "  {'Description': 'launch-wizard-12 created 2017-11-22T16:23:41.264-05:00',\n",
       "   'GroupId': 'sg-736c830f',\n",
       "   'GroupName': 'pachyderm_REST_service',\n",
       "   'IpPermissions': [{'FromPort': 22,\n",
       "     'IpProtocol': 'tcp',\n",
       "     'IpRanges': [{'CidrIp': '0.0.0.0/0'}],\n",
       "     'Ipv6Ranges': [],\n",
       "     'PrefixListIds': [],\n",
       "     'ToPort': 22,\n",
       "     'UserIdGroupPairs': []},\n",
       "    {'FromPort': 3000,\n",
       "     'IpProtocol': 'tcp',\n",
       "     'IpRanges': [{'CidrIp': '0.0.0.0/0', 'Description': 'HTTP requests'}],\n",
       "     'Ipv6Ranges': [],\n",
       "     'PrefixListIds': [],\n",
       "     'ToPort': 3000,\n",
       "     'UserIdGroupPairs': []}],\n",
       "   'IpPermissionsEgress': [{'IpProtocol': '-1',\n",
       "     'IpRanges': [{'CidrIp': '0.0.0.0/0'}],\n",
       "     'Ipv6Ranges': [],\n",
       "     'PrefixListIds': [],\n",
       "     'UserIdGroupPairs': []}],\n",
       "   'OwnerId': '316880547378',\n",
       "   'VpcId': 'vpc-14500972'},\n",
       "  {'Description': 'launch-wizard-2 created 2017-10-20T17:08:42.881-07:00',\n",
       "   'GroupId': 'sg-73c1a80e',\n",
       "   'GroupName': 'launch-wizard-2',\n",
       "   'IpPermissions': [{'FromPort': 22,\n",
       "     'IpProtocol': 'tcp',\n",
       "     'IpRanges': [{'CidrIp': '0.0.0.0/0'}],\n",
       "     'Ipv6Ranges': [],\n",
       "     'PrefixListIds': [],\n",
       "     'ToPort': 22,\n",
       "     'UserIdGroupPairs': []}],\n",
       "   'IpPermissionsEgress': [{'IpProtocol': '-1',\n",
       "     'IpRanges': [{'CidrIp': '0.0.0.0/0'}],\n",
       "     'Ipv6Ranges': [],\n",
       "     'PrefixListIds': [],\n",
       "     'UserIdGroupPairs': []}],\n",
       "   'OwnerId': '316880547378',\n",
       "   'VpcId': 'vpc-fe722098'},\n",
       "  {'Description': 'Security group for masters',\n",
       "   'GroupId': 'sg-78c66604',\n",
       "   'GroupName': 'masters.282e747a-pachydermcluster.kubernetes.com',\n",
       "   'IpPermissions': [{'FromPort': 1,\n",
       "     'IpProtocol': 'tcp',\n",
       "     'IpRanges': [],\n",
       "     'Ipv6Ranges': [],\n",
       "     'PrefixListIds': [],\n",
       "     'ToPort': 4000,\n",
       "     'UserIdGroupPairs': [{'GroupId': 'sg-56c7672a',\n",
       "       'UserId': '316880547378'}]},\n",
       "    {'FromPort': 4003,\n",
       "     'IpProtocol': 'tcp',\n",
       "     'IpRanges': [],\n",
       "     'Ipv6Ranges': [],\n",
       "     'PrefixListIds': [],\n",
       "     'ToPort': 65535,\n",
       "     'UserIdGroupPairs': [{'GroupId': 'sg-56c7672a',\n",
       "       'UserId': '316880547378'}]},\n",
       "    {'FromPort': 8080,\n",
       "     'IpProtocol': 'tcp',\n",
       "     'IpRanges': [{'CidrIp': '0.0.0.0/0'}],\n",
       "     'Ipv6Ranges': [],\n",
       "     'PrefixListIds': [],\n",
       "     'ToPort': 8080,\n",
       "     'UserIdGroupPairs': []},\n",
       "    {'IpProtocol': '-1',\n",
       "     'IpRanges': [],\n",
       "     'Ipv6Ranges': [],\n",
       "     'PrefixListIds': [],\n",
       "     'UserIdGroupPairs': [{'GroupId': 'sg-78c66604',\n",
       "       'UserId': '316880547378'}]},\n",
       "    {'FromPort': 22,\n",
       "     'IpProtocol': 'tcp',\n",
       "     'IpRanges': [{'CidrIp': '0.0.0.0/0'}],\n",
       "     'Ipv6Ranges': [],\n",
       "     'PrefixListIds': [],\n",
       "     'ToPort': 22,\n",
       "     'UserIdGroupPairs': []},\n",
       "    {'FromPort': 1,\n",
       "     'IpProtocol': 'udp',\n",
       "     'IpRanges': [],\n",
       "     'Ipv6Ranges': [],\n",
       "     'PrefixListIds': [],\n",
       "     'ToPort': 65535,\n",
       "     'UserIdGroupPairs': [{'GroupId': 'sg-56c7672a',\n",
       "       'UserId': '316880547378'}]},\n",
       "    {'FromPort': 30650,\n",
       "     'IpProtocol': 'tcp',\n",
       "     'IpRanges': [{'CidrIp': '0.0.0.0/0'}],\n",
       "     'Ipv6Ranges': [],\n",
       "     'PrefixListIds': [],\n",
       "     'ToPort': 30650,\n",
       "     'UserIdGroupPairs': []},\n",
       "    {'FromPort': 443,\n",
       "     'IpProtocol': 'tcp',\n",
       "     'IpRanges': [{'CidrIp': '0.0.0.0/0'}],\n",
       "     'Ipv6Ranges': [],\n",
       "     'PrefixListIds': [],\n",
       "     'ToPort': 443,\n",
       "     'UserIdGroupPairs': []}],\n",
       "   'IpPermissionsEgress': [{'IpProtocol': '-1',\n",
       "     'IpRanges': [{'CidrIp': '0.0.0.0/0'}],\n",
       "     'Ipv6Ranges': [],\n",
       "     'PrefixListIds': [],\n",
       "     'UserIdGroupPairs': []}],\n",
       "   'OwnerId': '316880547378',\n",
       "   'Tags': [{'Key': 'KubernetesCluster',\n",
       "     'Value': '282e747a-pachydermcluster.kubernetes.com'},\n",
       "    {'Key': 'Name',\n",
       "     'Value': 'masters.282e747a-pachydermcluster.kubernetes.com'}],\n",
       "   'VpcId': 'vpc-f683678f'},\n",
       "  {'Description': 'launch-wizard-11 created 2017-11-17T13:48:16.930-08:00',\n",
       "   'GroupId': 'sg-908596ed',\n",
       "   'GroupName': 'launch-wizard-11',\n",
       "   'IpPermissions': [{'FromPort': 22,\n",
       "     'IpProtocol': 'tcp',\n",
       "     'IpRanges': [{'CidrIp': '0.0.0.0/0'}],\n",
       "     'Ipv6Ranges': [],\n",
       "     'PrefixListIds': [],\n",
       "     'ToPort': 22,\n",
       "     'UserIdGroupPairs': []}],\n",
       "   'IpPermissionsEgress': [{'IpProtocol': '-1',\n",
       "     'IpRanges': [{'CidrIp': '0.0.0.0/0'}],\n",
       "     'Ipv6Ranges': [],\n",
       "     'PrefixListIds': [],\n",
       "     'UserIdGroupPairs': []}],\n",
       "   'OwnerId': '316880547378',\n",
       "   'VpcId': 'vpc-fe722098'},\n",
       "  {'Description': 'default VPC security group',\n",
       "   'GroupId': 'sg-a0d4d4dd',\n",
       "   'GroupName': 'default',\n",
       "   'IpPermissions': [{'IpProtocol': '-1',\n",
       "     'IpRanges': [],\n",
       "     'Ipv6Ranges': [],\n",
       "     'PrefixListIds': [],\n",
       "     'UserIdGroupPairs': [{'GroupId': 'sg-a0d4d4dd',\n",
       "       'UserId': '316880547378'}]}],\n",
       "   'IpPermissionsEgress': [{'IpProtocol': '-1',\n",
       "     'IpRanges': [{'CidrIp': '0.0.0.0/0'}],\n",
       "     'Ipv6Ranges': [],\n",
       "     'PrefixListIds': [],\n",
       "     'UserIdGroupPairs': []}],\n",
       "   'OwnerId': '316880547378',\n",
       "   'VpcId': 'vpc-d91a23bf'},\n",
       "  {'Description': 'Security group for nodes',\n",
       "   'GroupId': 'sg-af9dedd2',\n",
       "   'GroupName': 'nodes.0726aa4c-pachydermcluster.kubernetes.com',\n",
       "   'IpPermissions': [{'FromPort': 30080,\n",
       "     'IpProtocol': 'tcp',\n",
       "     'IpRanges': [{'CidrIp': '0.0.0.0/0',\n",
       "       'Description': 'Pachyderm Dashboard'}],\n",
       "     'Ipv6Ranges': [{'CidrIpv6': '::/0',\n",
       "       'Description': 'Pachyderm Dashboard'}],\n",
       "     'PrefixListIds': [],\n",
       "     'ToPort': 30081,\n",
       "     'UserIdGroupPairs': []},\n",
       "    {'IpProtocol': '-1',\n",
       "     'IpRanges': [],\n",
       "     'Ipv6Ranges': [],\n",
       "     'PrefixListIds': [],\n",
       "     'UserIdGroupPairs': [{'GroupId': 'sg-af9dedd2', 'UserId': '316880547378'},\n",
       "      {'GroupId': 'sg-eb9eee96', 'UserId': '316880547378'}]},\n",
       "    {'FromPort': 22,\n",
       "     'IpProtocol': 'tcp',\n",
       "     'IpRanges': [{'CidrIp': '0.0.0.0/0'}],\n",
       "     'Ipv6Ranges': [],\n",
       "     'PrefixListIds': [],\n",
       "     'ToPort': 22,\n",
       "     'UserIdGroupPairs': []},\n",
       "    {'FromPort': 30650,\n",
       "     'IpProtocol': 'tcp',\n",
       "     'IpRanges': [{'CidrIp': '0.0.0.0/0', 'Description': 'pachyderm service'}],\n",
       "     'Ipv6Ranges': [],\n",
       "     'PrefixListIds': [],\n",
       "     'ToPort': 30650,\n",
       "     'UserIdGroupPairs': []}],\n",
       "   'IpPermissionsEgress': [{'IpProtocol': '-1',\n",
       "     'IpRanges': [{'CidrIp': '0.0.0.0/0'}],\n",
       "     'Ipv6Ranges': [],\n",
       "     'PrefixListIds': [],\n",
       "     'UserIdGroupPairs': []}],\n",
       "   'OwnerId': '316880547378',\n",
       "   'Tags': [{'Key': 'Name',\n",
       "     'Value': 'nodes.0726aa4c-pachydermcluster.kubernetes.com'},\n",
       "    {'Key': 'KubernetesCluster',\n",
       "     'Value': '0726aa4c-pachydermcluster.kubernetes.com'}],\n",
       "   'VpcId': 'vpc-14500972'},\n",
       "  {'Description': 'group to provide ssh access to studioml workers',\n",
       "   'GroupId': 'sg-ca2b6bb7',\n",
       "   'GroupName': '78768c8a-287a-4be4-bbb0-6d531317f8d5',\n",
       "   'IpPermissions': [{'FromPort': 22,\n",
       "     'IpProtocol': 'tcp',\n",
       "     'IpRanges': [{'CidrIp': '0.0.0.0/0'}],\n",
       "     'Ipv6Ranges': [],\n",
       "     'PrefixListIds': [],\n",
       "     'ToPort': 22,\n",
       "     'UserIdGroupPairs': []}],\n",
       "   'IpPermissionsEgress': [{'IpProtocol': '-1',\n",
       "     'IpRanges': [{'CidrIp': '0.0.0.0/0'}],\n",
       "     'Ipv6Ranges': [],\n",
       "     'PrefixListIds': [],\n",
       "     'UserIdGroupPairs': []}],\n",
       "   'OwnerId': '316880547378',\n",
       "   'VpcId': 'vpc-fe722098'},\n",
       "  {'Description': 'launch-wizard-1 created 2017-10-20T15:57:51.300-07:00',\n",
       "   'GroupId': 'sg-cdb5dcb0',\n",
       "   'GroupName': 'launch-wizard-1',\n",
       "   'IpPermissions': [{'FromPort': 22,\n",
       "     'IpProtocol': 'tcp',\n",
       "     'IpRanges': [{'CidrIp': '0.0.0.0/0'}],\n",
       "     'Ipv6Ranges': [],\n",
       "     'PrefixListIds': [],\n",
       "     'ToPort': 22,\n",
       "     'UserIdGroupPairs': []}],\n",
       "   'IpPermissionsEgress': [{'IpProtocol': '-1',\n",
       "     'IpRanges': [{'CidrIp': '0.0.0.0/0'}],\n",
       "     'Ipv6Ranges': [],\n",
       "     'PrefixListIds': [],\n",
       "     'UserIdGroupPairs': []}],\n",
       "   'OwnerId': '316880547378',\n",
       "   'VpcId': 'vpc-fe722098'},\n",
       "  {'Description': 'launch-wizard-3 created 2017-10-24T13:43:54.899-07:00',\n",
       "   'GroupId': 'sg-cee498b3',\n",
       "   'GroupName': 'launch-wizard-3',\n",
       "   'IpPermissions': [{'IpProtocol': '-1',\n",
       "     'IpRanges': [{'CidrIp': '0.0.0.0/0'}],\n",
       "     'Ipv6Ranges': [],\n",
       "     'PrefixListIds': [],\n",
       "     'UserIdGroupPairs': []}],\n",
       "   'IpPermissionsEgress': [{'IpProtocol': '-1',\n",
       "     'IpRanges': [{'CidrIp': '0.0.0.0/0'}],\n",
       "     'Ipv6Ranges': [],\n",
       "     'PrefixListIds': [],\n",
       "     'UserIdGroupPairs': []}],\n",
       "   'OwnerId': '316880547378',\n",
       "   'VpcId': 'vpc-fe722098'},\n",
       "  {'Description': 'group to provide ssh access to studioml workers',\n",
       "   'GroupId': 'sg-dc601fa1',\n",
       "   'GroupName': 'b10e3d58-b97f-4e9d-82f4-bd0cdad239f1',\n",
       "   'IpPermissions': [{'FromPort': 22,\n",
       "     'IpProtocol': 'tcp',\n",
       "     'IpRanges': [{'CidrIp': '0.0.0.0/0'}],\n",
       "     'Ipv6Ranges': [],\n",
       "     'PrefixListIds': [],\n",
       "     'ToPort': 22,\n",
       "     'UserIdGroupPairs': []}],\n",
       "   'IpPermissionsEgress': [{'IpProtocol': '-1',\n",
       "     'IpRanges': [{'CidrIp': '0.0.0.0/0'}],\n",
       "     'Ipv6Ranges': [],\n",
       "     'PrefixListIds': [],\n",
       "     'UserIdGroupPairs': []}],\n",
       "   'OwnerId': '316880547378',\n",
       "   'VpcId': 'vpc-fe722098'},\n",
       "  {'Description': 'Security group for masters',\n",
       "   'GroupId': 'sg-eb9eee96',\n",
       "   'GroupName': 'masters.0726aa4c-pachydermcluster.kubernetes.com',\n",
       "   'IpPermissions': [{'FromPort': 1,\n",
       "     'IpProtocol': 'tcp',\n",
       "     'IpRanges': [],\n",
       "     'Ipv6Ranges': [],\n",
       "     'PrefixListIds': [],\n",
       "     'ToPort': 4000,\n",
       "     'UserIdGroupPairs': [{'GroupId': 'sg-af9dedd2',\n",
       "       'UserId': '316880547378'}]},\n",
       "    {'FromPort': 4003,\n",
       "     'IpProtocol': 'tcp',\n",
       "     'IpRanges': [],\n",
       "     'Ipv6Ranges': [],\n",
       "     'PrefixListIds': [],\n",
       "     'ToPort': 65535,\n",
       "     'UserIdGroupPairs': [{'GroupId': 'sg-af9dedd2',\n",
       "       'UserId': '316880547378'}]},\n",
       "    {'FromPort': 8080,\n",
       "     'IpProtocol': 'tcp',\n",
       "     'IpRanges': [{'CidrIp': '0.0.0.0/0'}],\n",
       "     'Ipv6Ranges': [],\n",
       "     'PrefixListIds': [],\n",
       "     'ToPort': 8080,\n",
       "     'UserIdGroupPairs': []},\n",
       "    {'IpProtocol': '-1',\n",
       "     'IpRanges': [],\n",
       "     'Ipv6Ranges': [],\n",
       "     'PrefixListIds': [],\n",
       "     'UserIdGroupPairs': [{'GroupId': 'sg-eb9eee96',\n",
       "       'UserId': '316880547378'}]},\n",
       "    {'FromPort': 22,\n",
       "     'IpProtocol': 'tcp',\n",
       "     'IpRanges': [{'CidrIp': '0.0.0.0/0'}],\n",
       "     'Ipv6Ranges': [],\n",
       "     'PrefixListIds': [],\n",
       "     'ToPort': 22,\n",
       "     'UserIdGroupPairs': []},\n",
       "    {'FromPort': 1,\n",
       "     'IpProtocol': 'udp',\n",
       "     'IpRanges': [],\n",
       "     'Ipv6Ranges': [],\n",
       "     'PrefixListIds': [],\n",
       "     'ToPort': 65535,\n",
       "     'UserIdGroupPairs': [{'GroupId': 'sg-af9dedd2',\n",
       "       'UserId': '316880547378'}]},\n",
       "    {'FromPort': 30650,\n",
       "     'IpProtocol': 'tcp',\n",
       "     'IpRanges': [{'CidrIp': '0.0.0.0/0'}],\n",
       "     'Ipv6Ranges': [],\n",
       "     'PrefixListIds': [],\n",
       "     'ToPort': 30650,\n",
       "     'UserIdGroupPairs': []},\n",
       "    {'FromPort': 443,\n",
       "     'IpProtocol': 'tcp',\n",
       "     'IpRanges': [{'CidrIp': '0.0.0.0/0'}],\n",
       "     'Ipv6Ranges': [],\n",
       "     'PrefixListIds': [],\n",
       "     'ToPort': 443,\n",
       "     'UserIdGroupPairs': []}],\n",
       "   'IpPermissionsEgress': [{'IpProtocol': '-1',\n",
       "     'IpRanges': [{'CidrIp': '0.0.0.0/0'}],\n",
       "     'Ipv6Ranges': [],\n",
       "     'PrefixListIds': [],\n",
       "     'UserIdGroupPairs': []}],\n",
       "   'OwnerId': '316880547378',\n",
       "   'Tags': [{'Key': 'Name',\n",
       "     'Value': 'masters.0726aa4c-pachydermcluster.kubernetes.com'},\n",
       "    {'Key': 'KubernetesCluster',\n",
       "     'Value': '0726aa4c-pachydermcluster.kubernetes.com'}],\n",
       "   'VpcId': 'vpc-14500972'},\n",
       "  {'Description': 'group to provide ssh access to studioml workers',\n",
       "   'GroupId': 'sg-ef4f3092',\n",
       "   'GroupName': '079a259c-2d0e-45da-916c-1fb855ae2344',\n",
       "   'IpPermissions': [{'FromPort': 22,\n",
       "     'IpProtocol': 'tcp',\n",
       "     'IpRanges': [{'CidrIp': '0.0.0.0/0'}],\n",
       "     'Ipv6Ranges': [],\n",
       "     'PrefixListIds': [],\n",
       "     'ToPort': 22,\n",
       "     'UserIdGroupPairs': []}],\n",
       "   'IpPermissionsEgress': [{'IpProtocol': '-1',\n",
       "     'IpRanges': [{'CidrIp': '0.0.0.0/0'}],\n",
       "     'Ipv6Ranges': [],\n",
       "     'PrefixListIds': [],\n",
       "     'UserIdGroupPairs': []}],\n",
       "   'OwnerId': '316880547378',\n",
       "   'VpcId': 'vpc-fe722098'},\n",
       "  {'Description': 'launch-wizard-12 created 2017-12-08T16:19:44.702-05:00',\n",
       "   'GroupId': 'sg-f750fa8b',\n",
       "   'GroupName': 'launch-wizard-12',\n",
       "   'IpPermissions': [{'FromPort': 22,\n",
       "     'IpProtocol': 'tcp',\n",
       "     'IpRanges': [{'CidrIp': '0.0.0.0/0'}],\n",
       "     'Ipv6Ranges': [],\n",
       "     'PrefixListIds': [],\n",
       "     'ToPort': 22,\n",
       "     'UserIdGroupPairs': []},\n",
       "    {'FromPort': 3000,\n",
       "     'IpProtocol': 'tcp',\n",
       "     'IpRanges': [{'CidrIp': '0.0.0.0/0', 'Description': 'HTTP requests'}],\n",
       "     'Ipv6Ranges': [],\n",
       "     'PrefixListIds': [],\n",
       "     'ToPort': 3000,\n",
       "     'UserIdGroupPairs': []}],\n",
       "   'IpPermissionsEgress': [{'IpProtocol': '-1',\n",
       "     'IpRanges': [{'CidrIp': '0.0.0.0/0'}],\n",
       "     'Ipv6Ranges': [],\n",
       "     'PrefixListIds': [],\n",
       "     'UserIdGroupPairs': []}],\n",
       "   'OwnerId': '316880547378',\n",
       "   'VpcId': 'vpc-f683678f'},\n",
       "  {'Description': 'launch-wizard-4 created 2017-10-24T13:48:12.400-07:00',\n",
       "   'GroupId': 'sg-fde79b80',\n",
       "   'GroupName': 'launch-wizard-4',\n",
       "   'IpPermissions': [{'IpProtocol': '-1',\n",
       "     'IpRanges': [{'CidrIp': '0.0.0.0/0'}],\n",
       "     'Ipv6Ranges': [],\n",
       "     'PrefixListIds': [],\n",
       "     'UserIdGroupPairs': []}],\n",
       "   'IpPermissionsEgress': [{'IpProtocol': '-1',\n",
       "     'IpRanges': [{'CidrIp': '0.0.0.0/0'}],\n",
       "     'Ipv6Ranges': [],\n",
       "     'PrefixListIds': [],\n",
       "     'UserIdGroupPairs': []}],\n",
       "   'OwnerId': '316880547378',\n",
       "   'VpcId': 'vpc-fe722098'}]}"
      ]
     },
     "execution_count": 173,
     "metadata": {},
     "output_type": "execute_result"
    }
   ],
   "source": [
    "client.describe_security_groups()"
   ]
  },
  {
   "cell_type": "code",
   "execution_count": 147,
   "metadata": {
    "collapsed": false
   },
   "outputs": [
    {
     "data": {
      "text/plain": [
       "ec2.Instance(id='i-07adfb26e0fd845a9')"
      ]
     },
     "execution_count": 147,
     "metadata": {},
     "output_type": "execute_result"
    }
   ],
   "source": [
    "instances[0]"
   ]
  },
  {
   "cell_type": "code",
   "execution_count": 150,
   "metadata": {
    "collapsed": true
   },
   "outputs": [],
   "source": [
    "ii.load()"
   ]
  },
  {
   "cell_type": "code",
   "execution_count": 151,
   "metadata": {
    "collapsed": false
   },
   "outputs": [
    {
     "data": {
      "text/plain": [
       "'13.56.149.107'"
      ]
     },
     "execution_count": 151,
     "metadata": {},
     "output_type": "execute_result"
    }
   ],
   "source": [
    "ii.public_ip_address"
   ]
  },
  {
   "cell_type": "code",
   "execution_count": 146,
   "metadata": {
    "collapsed": true
   },
   "outputs": [],
   "source": [
    "ii.wait_until_running()"
   ]
  },
  {
   "cell_type": "code",
   "execution_count": 140,
   "metadata": {
    "collapsed": false
   },
   "outputs": [
    {
     "data": {
      "text/plain": [
       "[ec2.Instance(id='i-07adfb26e0fd845a9')]"
      ]
     },
     "execution_count": 140,
     "metadata": {},
     "output_type": "execute_result"
    }
   ],
   "source": [
    "list(instances)"
   ]
  },
  {
   "cell_type": "code",
   "execution_count": 47,
   "metadata": {
    "collapsed": true
   },
   "outputs": [],
   "source": [
    "import os\n",
    "# http://boto3.readthedocs.io/en/latest/guide/ec2-example-key-pairs.html\n",
    "KEY_PAIR_LOCATION=os.environ[\"HOME\"]+'/.nexus.pem'\n",
    "KEY_PAIR_NAME='nexus'"
   ]
  },
  {
   "cell_type": "code",
   "execution_count": 37,
   "metadata": {
    "collapsed": true
   },
   "outputs": [],
   "source": [
    "keypair = ec2.create_key_pair(KeyName='nexus')"
   ]
  },
  {
   "cell_type": "code",
   "execution_count": null,
   "metadata": {
    "collapsed": true
   },
   "outputs": [],
   "source": [
    "boto3.client('ec2', region_name=REGION)"
   ]
  },
  {
   "cell_type": "code",
   "execution_count": 41,
   "metadata": {
    "collapsed": false
   },
   "outputs": [
    {
     "data": {
      "text/plain": [
       "1670"
      ]
     },
     "execution_count": 41,
     "metadata": {},
     "output_type": "execute_result"
    }
   ],
   "source": [
    "open(KEY_PAIR_LOCATION, 'w').write(keypair.key_material)"
   ]
  },
  {
   "cell_type": "code",
   "execution_count": 51,
   "metadata": {
    "collapsed": false
   },
   "outputs": [
    {
     "data": {
      "text/plain": [
       "'/Users/yaroslav/.nexus.pem'"
      ]
     },
     "execution_count": 51,
     "metadata": {},
     "output_type": "execute_result"
    }
   ],
   "source": [
    "KEY_PAIR_LOCATION"
   ]
  },
  {
   "cell_type": "code",
   "execution_count": 110,
   "metadata": {
    "collapsed": false
   },
   "outputs": [
    {
     "data": {
      "text/plain": [
       "{'PlacementGroups': [{'GroupName': 'test',\n",
       "   'State': 'available',\n",
       "   'Strategy': 'cluster'}],\n",
       " 'ResponseMetadata': {'HTTPHeaders': {'content-type': 'text/xml;charset=UTF-8',\n",
       "   'date': 'Tue, 12 Dec 2017 14:39:41 GMT',\n",
       "   'server': 'AmazonEC2',\n",
       "   'transfer-encoding': 'chunked',\n",
       "   'vary': 'Accept-Encoding'},\n",
       "  'HTTPStatusCode': 200,\n",
       "  'RequestId': '38ed4769-7f17-4a46-ba69-0c25a623959c',\n",
       "  'RetryAttempts': 0}}"
      ]
     },
     "execution_count": 110,
     "metadata": {},
     "output_type": "execute_result"
    }
   ],
   "source": [
    "client.describe_placement_groups()"
   ]
  },
  {
   "cell_type": "code",
   "execution_count": 116,
   "metadata": {
    "collapsed": true
   },
   "outputs": [],
   "source": [
    "from collections import OrderedDict\n",
    "def get_placement_group_dict():\n",
    "  \"\"\"Returns dictionary of {placement_group_name: state}\"\"\"\n",
    "\n",
    "  client = create_ec2_client()\n",
    "  response = client.describe_placement_groups()\n",
    "  assert _is_good_response(response)\n",
    "\n",
    "  result = OrderedDict()\n",
    "  for placement_group_response in response['PlacementGroups']:\n",
    "    key = placement_group_response['GroupName']\n",
    "    assert key not in result, (\"Duplicate placement group \" +\n",
    "                               placement_group_name)\n",
    "    result[key] = placement_group_response['State']\n",
    "  return result\n"
   ]
  },
  {
   "cell_type": "code",
   "execution_count": 117,
   "metadata": {
    "collapsed": false
   },
   "outputs": [
    {
     "data": {
      "text/plain": [
       "OrderedDict([('amazon2', 'available'),\n",
       "             ('inet3', 'available'),\n",
       "             ('default', 'available'),\n",
       "             ('amazon3', 'available'),\n",
       "             ('beefy', 'available'),\n",
       "             ('inet', 'available'),\n",
       "             ('amazon1', 'available'),\n",
       "             ('beefy3', 'available'),\n",
       "             ('beefy2', 'available')])"
      ]
     },
     "execution_count": 117,
     "metadata": {},
     "output_type": "execute_result"
    }
   ],
   "source": [
    "get_placement_group_dict()"
   ]
  },
  {
   "cell_type": "code",
   "execution_count": 108,
   "metadata": {
    "collapsed": false
   },
   "outputs": [
    {
     "data": {
      "text/plain": [
       "{'ResponseMetadata': {'HTTPHeaders': {'content-type': 'text/xml;charset=UTF-8',\n",
       "   'date': 'Tue, 12 Dec 2017 14:25:45 GMT',\n",
       "   'server': 'AmazonEC2',\n",
       "   'transfer-encoding': 'chunked',\n",
       "   'vary': 'Accept-Encoding'},\n",
       "  'HTTPStatusCode': 200,\n",
       "  'RequestId': 'd28f424e-d4da-4227-a25b-0d45155136b8',\n",
       "  'RetryAttempts': 0}}"
      ]
     },
     "execution_count": 108,
     "metadata": {},
     "output_type": "execute_result"
    }
   ],
   "source": [
    "client.create_placement_group(GroupName=\"test\",Strategy=\"cluster\")"
   ]
  },
  {
   "cell_type": "code",
   "execution_count": null,
   "metadata": {
    "collapsed": true
   },
   "outputs": [],
   "source": [
    "def _maybe_create_placement_group(name):\n",
    "  client = boto3.client('ec2')\n",
    "  try:\n",
    "    client.describe_placement_groups(GroupNames=[name])\n",
    "  except boto3.exceptions.botocore.exceptions.ClientError as e:\n",
    "    print(\"Creating placement group: \"+name)\n",
    "    res = client.create_placement_group(GroupName=name, Strategy='cluster')\n",
    "\n",
    "  counter = 0\n",
    "  while True:\n",
    "    try:\n",
    "      res = client.describe_placement_groups(GroupNames=[name])\n",
    "      if res['PlacementGroups'][0]['State'] == 'available':\n",
    "        print(\"Found placement group: \"+name)\n",
    "        break\n",
    "    except Exception as e:\n",
    "      print(e)\n",
    "    counter = counter + 1\n",
    "    if counter >= 10:\n",
    "      print('Failed to create placement group %s' % name)\n",
    "    time.sleep(TIMEOUT_SEC)\n"
   ]
  },
  {
   "cell_type": "code",
   "execution_count": 52,
   "metadata": {
    "collapsed": false
   },
   "outputs": [
    {
     "data": {
      "text/plain": [
       "0"
      ]
     },
     "execution_count": 52,
     "metadata": {},
     "output_type": "execute_result"
    }
   ],
   "source": [
    "os.system('chmod 400 %s'%(KEY_PAIR_LOCATION,))"
   ]
  },
  {
   "cell_type": "code",
   "execution_count": null,
   "metadata": {
    "collapsed": true
   },
   "outputs": [],
   "source": [
    "# todo: assert result is 0"
   ]
  },
  {
   "cell_type": "code",
   "execution_count": 99,
   "metadata": {
    "collapsed": true
   },
   "outputs": [],
   "source": [
    "def _is_good_response(response):\n",
    "  return response[\"ResponseMetadata\"]['HTTPStatusCode'] == 200\n"
   ]
  },
  {
   "cell_type": "code",
   "execution_count": 100,
   "metadata": {
    "collapsed": true
   },
   "outputs": [],
   "source": [
    "def get_keypair_dict():\n",
    "  \"\"\"Returns dictionry of {keypairname: fingerprint}.\"\"\"\n",
    "  \n",
    "  client = create_ec2_client()\n",
    "  response=client.describe_key_pairs()\n",
    "  assert _is_good_response(response)\n",
    "  \n",
    "  from collections import defaultdict\n",
    "  result = {}\n",
    "  for keypair in response['KeyPairs']:\n",
    "    keypair_name = keypair.get('KeyName', '')\n",
    "    assert keypair_name not in result, \"Duplicate key \"+keypair_name\n",
    "    result[keypair_name] = keypair.get('KeyFingerprint','')\n",
    "  return result\n"
   ]
  },
  {
   "cell_type": "code",
   "execution_count": 101,
   "metadata": {
    "collapsed": false
   },
   "outputs": [
    {
     "data": {
      "text/plain": [
       "{'aws_pach_api_service': '28:6e:51:d6:81:3d:51:22:4b:20:4a:fb:cf:9b:1f:9f:1d:2a:a9:94',\n",
       " 'brendan': 'f7:9a:33:d7:72:63:fe:27:30:9a:3b:49:e5:fa:dd:0b:9a:31:77:7a',\n",
       " 'kubernetes.0726aa4c-pachydermcluster.kubernetes.com-79:6b:55:2e:89:4d:be:42:29:3b:ba:cd:22:c8:ee:58': '1d:61:59:c6:eb:c3:ca:c4:a9:7a:7a:19:8d:1c:6d:4a',\n",
       " 'kubernetes.282e747a-pachydermcluster.kubernetes.com-79:6b:55:2e:89:4d:be:42:29:3b:ba:cd:22:c8:ee:58': '1d:61:59:c6:eb:c3:ca:c4:a9:7a:7a:19:8d:1c:6d:4a',\n",
       " 'kubernetes.6dbcbbe2-pachydermcluster.kubernetes.com-79:6b:55:2e:89:4d:be:42:29:3b:ba:cd:22:c8:ee:58': '1d:61:59:c6:eb:c3:ca:c4:a9:7a:7a:19:8d:1c:6d:4a',\n",
       " 'kubernetes.db5d0d76-pachydermcluster.kubernetes.com-79:6b:55:2e:89:4d:be:42:29:3b:ba:cd:22:c8:ee:58': '1d:61:59:c6:eb:c3:ca:c4:a9:7a:7a:19:8d:1c:6d:4a',\n",
       " 'nexus-oregon': '42:79:9a:be:17:03:c9:de:dd:05:92:de:85:d7:29:07:cd:b7:a0:5b',\n",
       " 'pach_service_stage': '4e:2b:72:59:5f:11:94:2d:5a:92:ba:10:2e:f0:10:da:22:03:d3:30',\n",
       " 'yaroslav': '43:fe:a7:51:d7:ad:26:7c:ce:0e:94:53:31:36:9f:38:9f:63:17:1c'}"
      ]
     },
     "execution_count": 101,
     "metadata": {},
     "output_type": "execute_result"
    }
   ],
   "source": [
    "get_keypair_dict()"
   ]
  },
  {
   "cell_type": "code",
   "execution_count": 96,
   "metadata": {
    "collapsed": false
   },
   "outputs": [
    {
     "data": {
      "text/plain": [
       "{'KeyPairs': [{'KeyFingerprint': 'e4:fc:cf:7f:78:f2:ce:0d:5e:c9:e3:12:85:72:68:b1:ad:47:38:55',\n",
       "   'KeyName': 'nexus'}],\n",
       " 'ResponseMetadata': {'HTTPHeaders': {'content-type': 'text/xml;charset=UTF-8',\n",
       "   'date': 'Tue, 12 Dec 2017 05:42:01 GMT',\n",
       "   'server': 'AmazonEC2',\n",
       "   'transfer-encoding': 'chunked',\n",
       "   'vary': 'Accept-Encoding'},\n",
       "  'HTTPStatusCode': 200,\n",
       "  'RequestId': 'a765e248-3fe2-4d41-b854-2d5eba7a2114',\n",
       "  'RetryAttempts': 0}}"
      ]
     },
     "execution_count": 96,
     "metadata": {},
     "output_type": "execute_result"
    }
   ],
   "source": [
    "client=boto3.client('ec2', region_name='us-west-1')\n",
    "response=client.describe_key_pairs()\n",
    "response"
   ]
  },
  {
   "cell_type": "code",
   "execution_count": null,
   "metadata": {
    "collapsed": true
   },
   "outputs": [],
   "source": []
  },
  {
   "cell_type": "code",
   "execution_count": 46,
   "metadata": {
    "collapsed": false
   },
   "outputs": [
    {
     "name": "stdout",
     "output_type": "stream",
     "text": [
      "nexus\n"
     ]
    }
   ],
   "source": [
    "for r in response['KeyPairs']:\n",
    "  print(r['KeyName'])"
   ]
  },
  {
   "cell_type": "code",
   "execution_count": 102,
   "metadata": {
    "collapsed": false
   },
   "outputs": [
    {
     "data": {
      "text/plain": [
       "ec2.SecurityGroup(id='sg-4af9e52c')"
      ]
     },
     "execution_count": 102,
     "metadata": {},
     "output_type": "execute_result"
    }
   ],
   "source": [
    "vpc"
   ]
  },
  {
   "cell_type": "code",
   "execution_count": 265,
   "metadata": {
    "collapsed": false
   },
   "outputs": [
    {
     "data": {
      "text/plain": [
       "ec2.Subnet(id='subnet-bca924db')"
      ]
     },
     "execution_count": 265,
     "metadata": {},
     "output_type": "execute_result"
    }
   ],
   "source": [
    "subnet"
   ]
  },
  {
   "cell_type": "code",
   "execution_count": 274,
   "metadata": {
    "collapsed": false
   },
   "outputs": [
    {
     "data": {
      "text/plain": [
       "[]"
      ]
     },
     "execution_count": 274,
     "metadata": {},
     "output_type": "execute_result"
    }
   ],
   "source": [
    "vpc.get_available_subresources()"
   ]
  },
  {
   "cell_type": "code",
   "execution_count": 278,
   "metadata": {
    "collapsed": true
   },
   "outputs": [],
   "source": [
    "subnets=list(vpc.subnets.all())"
   ]
  },
  {
   "cell_type": "code",
   "execution_count": 279,
   "metadata": {
    "collapsed": false
   },
   "outputs": [
    {
     "data": {
      "text/plain": [
       "ec2.Subnet(id='subnet-bca924db')"
      ]
     },
     "execution_count": 279,
     "metadata": {},
     "output_type": "execute_result"
    }
   ],
   "source": [
    "subnets[0]"
   ]
  },
  {
   "cell_type": "code",
   "execution_count": 268,
   "metadata": {
    "collapsed": false
   },
   "outputs": [
    {
     "data": {
      "text/plain": [
       "[{'Key': 'Name', 'Value': 'nexus_vpc'}]"
      ]
     },
     "execution_count": 268,
     "metadata": {},
     "output_type": "execute_result"
    }
   ],
   "source": [
    "vpc.tags"
   ]
  },
  {
   "cell_type": "code",
   "execution_count": 48,
   "metadata": {
    "collapsed": true
   },
   "outputs": [],
   "source": [
    "# create again with security key\n",
    "ami=\"ami-45ead225\"\n",
    "instances = ec2.create_instances(\n",
    "    ImageId=ami, InstanceType='t2.micro', MaxCount=1, MinCount=1,KeyName=KEY_PAIR_NAME,\n",
    "    NetworkInterfaces=[{'SubnetId': subnet.id, 'DeviceIndex': 0, 'AssociatePublicIpAddress': True, 'Groups': [sec_group.group_id]}])"
   ]
  },
  {
   "cell_type": "code",
   "execution_count": 49,
   "metadata": {
    "collapsed": true
   },
   "outputs": [],
   "source": [
    "# create again with security key\n",
    "ami=\"ami-45ead225\"\n",
    "instances = ec2.create_instances(\n",
    "    ImageId=ami, InstanceType='t2.micro', MaxCount=1, MinCount=1,KeyName=KEY_PAIR_NAME,\n",
    "    NetworkInterfaces=[{'SubnetId': subnet.id, 'DeviceIndex': 0, 'AssociatePublicIpAddress': True, 'Groups': [sec_group.group_id]}])"
   ]
  },
  {
   "cell_type": "markdown",
   "metadata": {},
   "source": [
    "## List/delete vpc's"
   ]
  },
  {
   "cell_type": "code",
   "execution_count": 305,
   "metadata": {
    "collapsed": true
   },
   "outputs": [],
   "source": [
    "def _create_ec2_client():\n",
    "  REGION = os.environ['AWS_DEFAULT_REGION']\n",
    "  return boto3.client('ec2', region_name=REGION)\n",
    "\n",
    "\n",
    "def _create_ec2_resource():\n",
    "  REGION = os.environ['AWS_DEFAULT_REGION']\n",
    "  return boto3.resource('ec2',region_name=REGION)\n",
    "\n",
    "def get_vpc_dict():\n",
    "  \"\"\"Returns dictionary of named VPCs {name: vpc}\n",
    "\n",
    "  Assert fails if there's more than one VPC with same name.\"\"\"\n",
    "\n",
    "  client = _create_ec2_client()\n",
    "  response = client.describe_vpcs()\n",
    "  assert _is_good_response(response)\n",
    "\n",
    "  result = OrderedDict()\n",
    "  ec2 = _create_ec2_resource()\n",
    "  for vpc_response in response['Vpcs']:\n",
    "    key = _get_name(vpc_response.get('Tags', []))\n",
    "    if not key:  # skip VPC's that don't have a name assigned\n",
    "      continue\n",
    "      \n",
    "    assert key not in result, (\"Duplicate VPC group \" + key)\n",
    "    result[key] = ec2.Vpc(vpc_response['VpcId'])\n",
    "\n",
    "  return result\n",
    "\n",
    "def _get_name(tags):\n",
    "  \"\"\"Helper utility to extract name out of tags dictionary.\n",
    "      [{'Key': 'Name', 'Value': 'nexus'}] -> 'nexus'\n",
    " \n",
    "     Assert fails if there's more than one name.\n",
    "     Returns '' if there's less than one name.\n",
    "  \"\"\"\n",
    "  \n",
    "  names = [entry['Value'] for entry in tags if entry['Key']=='Name']\n",
    "  if not names:\n",
    "    names = ['']\n",
    "  assert len(names)==1, \"have more than one name: \"+str(names)\n",
    "  return names[0]\n",
    "\n"
   ]
  },
  {
   "cell_type": "code",
   "execution_count": 290,
   "metadata": {
    "collapsed": false
   },
   "outputs": [
    {
     "data": {
      "text/plain": [
       "{'AvailabilityZones': [{'Messages': [],\n",
       "   'RegionName': 'us-west-1',\n",
       "   'State': 'available',\n",
       "   'ZoneName': 'us-west-1a'},\n",
       "  {'Messages': [],\n",
       "   'RegionName': 'us-west-1',\n",
       "   'State': 'available',\n",
       "   'ZoneName': 'us-west-1c'}],\n",
       " 'ResponseMetadata': {'HTTPHeaders': {'content-type': 'text/xml;charset=UTF-8',\n",
       "   'date': 'Tue, 19 Dec 2017 17:22:45 GMT',\n",
       "   'server': 'AmazonEC2',\n",
       "   'transfer-encoding': 'chunked',\n",
       "   'vary': 'Accept-Encoding'},\n",
       "  'HTTPStatusCode': 200,\n",
       "  'RequestId': '329b7ce0-1020-48f3-9751-516408b14097',\n",
       "  'RetryAttempts': 0}}"
      ]
     },
     "execution_count": 290,
     "metadata": {},
     "output_type": "execute_result"
    }
   ],
   "source": [
    "client.describe_availability_zones()"
   ]
  },
  {
   "cell_type": "code",
   "execution_count": 310,
   "metadata": {
    "collapsed": true
   },
   "outputs": [],
   "source": [
    "vpc=d['nexus']"
   ]
  },
  {
   "cell_type": "code",
   "execution_count": 311,
   "metadata": {
    "collapsed": false
   },
   "outputs": [
    {
     "ename": "ClientError",
     "evalue": "An error occurred (DependencyViolation) when calling the DeleteVpc operation: The vpc 'vpc-febcfd86' has dependencies and cannot be deleted.",
     "output_type": "error",
     "traceback": [
      "\u001b[0;31m---------------------------------------------------------------------------\u001b[0m",
      "\u001b[0;31mClientError\u001b[0m                               Traceback (most recent call last)",
      "\u001b[0;32m<ipython-input-311-5817a2b5d85f>\u001b[0m in \u001b[0;36m<module>\u001b[0;34m()\u001b[0m\n\u001b[0;32m----> 1\u001b[0;31m \u001b[0mvpc\u001b[0m\u001b[0;34m.\u001b[0m\u001b[0mdelete\u001b[0m\u001b[0;34m(\u001b[0m\u001b[0;34m)\u001b[0m\u001b[0;34m\u001b[0m\u001b[0m\n\u001b[0m",
      "\u001b[0;32m/Users/yaroslav/anaconda/envs/sep22/lib/python3.5/site-packages/boto3/resources/factory.py\u001b[0m in \u001b[0;36mdo_action\u001b[0;34m(self, *args, **kwargs)\u001b[0m\n\u001b[1;32m    518\u001b[0m             \u001b[0;31m# instance via ``self``.\u001b[0m\u001b[0;34m\u001b[0m\u001b[0;34m\u001b[0m\u001b[0m\n\u001b[1;32m    519\u001b[0m             \u001b[0;32mdef\u001b[0m \u001b[0mdo_action\u001b[0m\u001b[0;34m(\u001b[0m\u001b[0mself\u001b[0m\u001b[0;34m,\u001b[0m \u001b[0;34m*\u001b[0m\u001b[0margs\u001b[0m\u001b[0;34m,\u001b[0m \u001b[0;34m**\u001b[0m\u001b[0mkwargs\u001b[0m\u001b[0;34m)\u001b[0m\u001b[0;34m:\u001b[0m\u001b[0;34m\u001b[0m\u001b[0m\n\u001b[0;32m--> 520\u001b[0;31m                 \u001b[0mresponse\u001b[0m \u001b[0;34m=\u001b[0m \u001b[0maction\u001b[0m\u001b[0;34m(\u001b[0m\u001b[0mself\u001b[0m\u001b[0;34m,\u001b[0m \u001b[0;34m*\u001b[0m\u001b[0margs\u001b[0m\u001b[0;34m,\u001b[0m \u001b[0;34m**\u001b[0m\u001b[0mkwargs\u001b[0m\u001b[0;34m)\u001b[0m\u001b[0;34m\u001b[0m\u001b[0m\n\u001b[0m\u001b[1;32m    521\u001b[0m \u001b[0;34m\u001b[0m\u001b[0m\n\u001b[1;32m    522\u001b[0m                 \u001b[0;32mif\u001b[0m \u001b[0mhasattr\u001b[0m\u001b[0;34m(\u001b[0m\u001b[0mself\u001b[0m\u001b[0;34m,\u001b[0m \u001b[0;34m'load'\u001b[0m\u001b[0;34m)\u001b[0m\u001b[0;34m:\u001b[0m\u001b[0;34m\u001b[0m\u001b[0m\n",
      "\u001b[0;32m/Users/yaroslav/anaconda/envs/sep22/lib/python3.5/site-packages/boto3/resources/action.py\u001b[0m in \u001b[0;36m__call__\u001b[0;34m(self, parent, *args, **kwargs)\u001b[0m\n\u001b[1;32m     81\u001b[0m                     operation_name, params)\n\u001b[1;32m     82\u001b[0m \u001b[0;34m\u001b[0m\u001b[0m\n\u001b[0;32m---> 83\u001b[0;31m         \u001b[0mresponse\u001b[0m \u001b[0;34m=\u001b[0m \u001b[0mgetattr\u001b[0m\u001b[0;34m(\u001b[0m\u001b[0mparent\u001b[0m\u001b[0;34m.\u001b[0m\u001b[0mmeta\u001b[0m\u001b[0;34m.\u001b[0m\u001b[0mclient\u001b[0m\u001b[0;34m,\u001b[0m \u001b[0moperation_name\u001b[0m\u001b[0;34m)\u001b[0m\u001b[0;34m(\u001b[0m\u001b[0;34m**\u001b[0m\u001b[0mparams\u001b[0m\u001b[0;34m)\u001b[0m\u001b[0;34m\u001b[0m\u001b[0m\n\u001b[0m\u001b[1;32m     84\u001b[0m \u001b[0;34m\u001b[0m\u001b[0m\n\u001b[1;32m     85\u001b[0m         \u001b[0mlogger\u001b[0m\u001b[0;34m.\u001b[0m\u001b[0mdebug\u001b[0m\u001b[0;34m(\u001b[0m\u001b[0;34m'Response: %r'\u001b[0m\u001b[0;34m,\u001b[0m \u001b[0mresponse\u001b[0m\u001b[0;34m)\u001b[0m\u001b[0;34m\u001b[0m\u001b[0m\n",
      "\u001b[0;32m/Users/yaroslav/anaconda/envs/sep22/lib/python3.5/site-packages/botocore/client.py\u001b[0m in \u001b[0;36m_api_call\u001b[0;34m(self, *args, **kwargs)\u001b[0m\n\u001b[1;32m    310\u001b[0m                     \"%s() only accepts keyword arguments.\" % py_operation_name)\n\u001b[1;32m    311\u001b[0m             \u001b[0;31m# The \"self\" in this scope is referring to the BaseClient.\u001b[0m\u001b[0;34m\u001b[0m\u001b[0;34m\u001b[0m\u001b[0m\n\u001b[0;32m--> 312\u001b[0;31m             \u001b[0;32mreturn\u001b[0m \u001b[0mself\u001b[0m\u001b[0;34m.\u001b[0m\u001b[0m_make_api_call\u001b[0m\u001b[0;34m(\u001b[0m\u001b[0moperation_name\u001b[0m\u001b[0;34m,\u001b[0m \u001b[0mkwargs\u001b[0m\u001b[0;34m)\u001b[0m\u001b[0;34m\u001b[0m\u001b[0m\n\u001b[0m\u001b[1;32m    313\u001b[0m \u001b[0;34m\u001b[0m\u001b[0m\n\u001b[1;32m    314\u001b[0m         \u001b[0m_api_call\u001b[0m\u001b[0;34m.\u001b[0m\u001b[0m__name__\u001b[0m \u001b[0;34m=\u001b[0m \u001b[0mstr\u001b[0m\u001b[0;34m(\u001b[0m\u001b[0mpy_operation_name\u001b[0m\u001b[0;34m)\u001b[0m\u001b[0;34m\u001b[0m\u001b[0m\n",
      "\u001b[0;32m/Users/yaroslav/anaconda/envs/sep22/lib/python3.5/site-packages/botocore/client.py\u001b[0m in \u001b[0;36m_make_api_call\u001b[0;34m(self, operation_name, api_params)\u001b[0m\n\u001b[1;32m    603\u001b[0m             \u001b[0merror_code\u001b[0m \u001b[0;34m=\u001b[0m \u001b[0mparsed_response\u001b[0m\u001b[0;34m.\u001b[0m\u001b[0mget\u001b[0m\u001b[0;34m(\u001b[0m\u001b[0;34m\"Error\"\u001b[0m\u001b[0;34m,\u001b[0m \u001b[0;34m{\u001b[0m\u001b[0;34m}\u001b[0m\u001b[0;34m)\u001b[0m\u001b[0;34m.\u001b[0m\u001b[0mget\u001b[0m\u001b[0;34m(\u001b[0m\u001b[0;34m\"Code\"\u001b[0m\u001b[0;34m)\u001b[0m\u001b[0;34m\u001b[0m\u001b[0m\n\u001b[1;32m    604\u001b[0m             \u001b[0merror_class\u001b[0m \u001b[0;34m=\u001b[0m \u001b[0mself\u001b[0m\u001b[0;34m.\u001b[0m\u001b[0mexceptions\u001b[0m\u001b[0;34m.\u001b[0m\u001b[0mfrom_code\u001b[0m\u001b[0;34m(\u001b[0m\u001b[0merror_code\u001b[0m\u001b[0;34m)\u001b[0m\u001b[0;34m\u001b[0m\u001b[0m\n\u001b[0;32m--> 605\u001b[0;31m             \u001b[0;32mraise\u001b[0m \u001b[0merror_class\u001b[0m\u001b[0;34m(\u001b[0m\u001b[0mparsed_response\u001b[0m\u001b[0;34m,\u001b[0m \u001b[0moperation_name\u001b[0m\u001b[0;34m)\u001b[0m\u001b[0;34m\u001b[0m\u001b[0m\n\u001b[0m\u001b[1;32m    606\u001b[0m         \u001b[0;32melse\u001b[0m\u001b[0;34m:\u001b[0m\u001b[0;34m\u001b[0m\u001b[0m\n\u001b[1;32m    607\u001b[0m             \u001b[0;32mreturn\u001b[0m \u001b[0mparsed_response\u001b[0m\u001b[0;34m\u001b[0m\u001b[0m\n",
      "\u001b[0;31mClientError\u001b[0m: An error occurred (DependencyViolation) when calling the DeleteVpc operation: The vpc 'vpc-febcfd86' has dependencies and cannot be deleted."
     ]
    }
   ],
   "source": [
    "vpc.delete()  # not working, delete through console instead https://console.aws.amazon.com/vpc/home?region=us-east-1#vpcs:"
   ]
  },
  {
   "cell_type": "markdown",
   "metadata": {},
   "source": [
    "## Delete some vpc stuff"
   ]
  },
  {
   "cell_type": "code",
   "execution_count": 216,
   "metadata": {
    "collapsed": true
   },
   "outputs": [],
   "source": [
    "os.environ['AWS_DEFAULT_REGION']='us-east-1'"
   ]
  },
  {
   "cell_type": "code",
   "execution_count": 219,
   "metadata": {
    "collapsed": true
   },
   "outputs": [],
   "source": [
    "import sys\n",
    "sys.path.insert(0, os.environ[\"HOME\"]+'/git0/cluster')\n",
    "import common_resources as c"
   ]
  },
  {
   "cell_type": "code",
   "execution_count": 233,
   "metadata": {
    "collapsed": true
   },
   "outputs": [],
   "source": [
    "  existing_vpcs = c.get_vpc_dict()"
   ]
  },
  {
   "cell_type": "code",
   "execution_count": 234,
   "metadata": {
    "collapsed": false
   },
   "outputs": [
    {
     "data": {
      "text/plain": [
       "OrderedDict([('nexus', ec2.Vpc(id='vpc-1a054562')),\n",
       "             ('nexus01', ec2.Vpc(id='vpc-c6c388be')),\n",
       "             ('nexus2', ec2.Vpc(id='vpc-cbffbeb3')),\n",
       "             ('nexus00', ec2.Vpc(id='vpc-58f3b820'))])"
      ]
     },
     "execution_count": 234,
     "metadata": {},
     "output_type": "execute_result"
    }
   ],
   "source": [
    "existing_vpcs"
   ]
  },
  {
   "cell_type": "code",
   "execution_count": 236,
   "metadata": {
    "collapsed": true
   },
   "outputs": [],
   "source": [
    "vpc=existing_vpcs['nexus00']"
   ]
  },
  {
   "cell_type": "code",
   "execution_count": 237,
   "metadata": {
    "collapsed": true
   },
   "outputs": [],
   "source": [
    "vpc.load()\n",
    "route_tables = list(vpc.route_tables.all())"
   ]
  },
  {
   "cell_type": "code",
   "execution_count": 238,
   "metadata": {
    "collapsed": false
   },
   "outputs": [
    {
     "ename": "ClientError",
     "evalue": "An error occurred (DependencyViolation) when calling the DeleteRouteTable operation: The routeTable 'rtb-8b57acf6' has dependencies and cannot be deleted.",
     "output_type": "error",
     "traceback": [
      "\u001b[0;31m---------------------------------------------------------------------------\u001b[0m",
      "\u001b[0;31mClientError\u001b[0m                               Traceback (most recent call last)",
      "\u001b[0;32m<ipython-input-238-9392dfa267ca>\u001b[0m in \u001b[0;36m<module>\u001b[0;34m()\u001b[0m\n\u001b[0;32m----> 1\u001b[0;31m \u001b[0mroute_tables\u001b[0m\u001b[0;34m[\u001b[0m\u001b[0;36m0\u001b[0m\u001b[0;34m]\u001b[0m\u001b[0;34m.\u001b[0m\u001b[0mdelete\u001b[0m\u001b[0;34m(\u001b[0m\u001b[0;34m)\u001b[0m\u001b[0;34m\u001b[0m\u001b[0m\n\u001b[0m",
      "\u001b[0;32m/Users/yaroslav/anaconda/envs/sep22/lib/python3.5/site-packages/boto3/resources/factory.py\u001b[0m in \u001b[0;36mdo_action\u001b[0;34m(self, *args, **kwargs)\u001b[0m\n\u001b[1;32m    518\u001b[0m             \u001b[0;31m# instance via ``self``.\u001b[0m\u001b[0;34m\u001b[0m\u001b[0;34m\u001b[0m\u001b[0m\n\u001b[1;32m    519\u001b[0m             \u001b[0;32mdef\u001b[0m \u001b[0mdo_action\u001b[0m\u001b[0;34m(\u001b[0m\u001b[0mself\u001b[0m\u001b[0;34m,\u001b[0m \u001b[0;34m*\u001b[0m\u001b[0margs\u001b[0m\u001b[0;34m,\u001b[0m \u001b[0;34m**\u001b[0m\u001b[0mkwargs\u001b[0m\u001b[0;34m)\u001b[0m\u001b[0;34m:\u001b[0m\u001b[0;34m\u001b[0m\u001b[0m\n\u001b[0;32m--> 520\u001b[0;31m                 \u001b[0mresponse\u001b[0m \u001b[0;34m=\u001b[0m \u001b[0maction\u001b[0m\u001b[0;34m(\u001b[0m\u001b[0mself\u001b[0m\u001b[0;34m,\u001b[0m \u001b[0;34m*\u001b[0m\u001b[0margs\u001b[0m\u001b[0;34m,\u001b[0m \u001b[0;34m**\u001b[0m\u001b[0mkwargs\u001b[0m\u001b[0;34m)\u001b[0m\u001b[0;34m\u001b[0m\u001b[0m\n\u001b[0m\u001b[1;32m    521\u001b[0m \u001b[0;34m\u001b[0m\u001b[0m\n\u001b[1;32m    522\u001b[0m                 \u001b[0;32mif\u001b[0m \u001b[0mhasattr\u001b[0m\u001b[0;34m(\u001b[0m\u001b[0mself\u001b[0m\u001b[0;34m,\u001b[0m \u001b[0;34m'load'\u001b[0m\u001b[0;34m)\u001b[0m\u001b[0;34m:\u001b[0m\u001b[0;34m\u001b[0m\u001b[0m\n",
      "\u001b[0;32m/Users/yaroslav/anaconda/envs/sep22/lib/python3.5/site-packages/boto3/resources/action.py\u001b[0m in \u001b[0;36m__call__\u001b[0;34m(self, parent, *args, **kwargs)\u001b[0m\n\u001b[1;32m     81\u001b[0m                     operation_name, params)\n\u001b[1;32m     82\u001b[0m \u001b[0;34m\u001b[0m\u001b[0m\n\u001b[0;32m---> 83\u001b[0;31m         \u001b[0mresponse\u001b[0m \u001b[0;34m=\u001b[0m \u001b[0mgetattr\u001b[0m\u001b[0;34m(\u001b[0m\u001b[0mparent\u001b[0m\u001b[0;34m.\u001b[0m\u001b[0mmeta\u001b[0m\u001b[0;34m.\u001b[0m\u001b[0mclient\u001b[0m\u001b[0;34m,\u001b[0m \u001b[0moperation_name\u001b[0m\u001b[0;34m)\u001b[0m\u001b[0;34m(\u001b[0m\u001b[0;34m**\u001b[0m\u001b[0mparams\u001b[0m\u001b[0;34m)\u001b[0m\u001b[0;34m\u001b[0m\u001b[0m\n\u001b[0m\u001b[1;32m     84\u001b[0m \u001b[0;34m\u001b[0m\u001b[0m\n\u001b[1;32m     85\u001b[0m         \u001b[0mlogger\u001b[0m\u001b[0;34m.\u001b[0m\u001b[0mdebug\u001b[0m\u001b[0;34m(\u001b[0m\u001b[0;34m'Response: %r'\u001b[0m\u001b[0;34m,\u001b[0m \u001b[0mresponse\u001b[0m\u001b[0;34m)\u001b[0m\u001b[0;34m\u001b[0m\u001b[0m\n",
      "\u001b[0;32m/Users/yaroslav/anaconda/envs/sep22/lib/python3.5/site-packages/botocore/client.py\u001b[0m in \u001b[0;36m_api_call\u001b[0;34m(self, *args, **kwargs)\u001b[0m\n\u001b[1;32m    310\u001b[0m                     \"%s() only accepts keyword arguments.\" % py_operation_name)\n\u001b[1;32m    311\u001b[0m             \u001b[0;31m# The \"self\" in this scope is referring to the BaseClient.\u001b[0m\u001b[0;34m\u001b[0m\u001b[0;34m\u001b[0m\u001b[0m\n\u001b[0;32m--> 312\u001b[0;31m             \u001b[0;32mreturn\u001b[0m \u001b[0mself\u001b[0m\u001b[0;34m.\u001b[0m\u001b[0m_make_api_call\u001b[0m\u001b[0;34m(\u001b[0m\u001b[0moperation_name\u001b[0m\u001b[0;34m,\u001b[0m \u001b[0mkwargs\u001b[0m\u001b[0;34m)\u001b[0m\u001b[0;34m\u001b[0m\u001b[0m\n\u001b[0m\u001b[1;32m    313\u001b[0m \u001b[0;34m\u001b[0m\u001b[0m\n\u001b[1;32m    314\u001b[0m         \u001b[0m_api_call\u001b[0m\u001b[0;34m.\u001b[0m\u001b[0m__name__\u001b[0m \u001b[0;34m=\u001b[0m \u001b[0mstr\u001b[0m\u001b[0;34m(\u001b[0m\u001b[0mpy_operation_name\u001b[0m\u001b[0;34m)\u001b[0m\u001b[0;34m\u001b[0m\u001b[0m\n",
      "\u001b[0;32m/Users/yaroslav/anaconda/envs/sep22/lib/python3.5/site-packages/botocore/client.py\u001b[0m in \u001b[0;36m_make_api_call\u001b[0;34m(self, operation_name, api_params)\u001b[0m\n\u001b[1;32m    603\u001b[0m             \u001b[0merror_code\u001b[0m \u001b[0;34m=\u001b[0m \u001b[0mparsed_response\u001b[0m\u001b[0;34m.\u001b[0m\u001b[0mget\u001b[0m\u001b[0;34m(\u001b[0m\u001b[0;34m\"Error\"\u001b[0m\u001b[0;34m,\u001b[0m \u001b[0;34m{\u001b[0m\u001b[0;34m}\u001b[0m\u001b[0;34m)\u001b[0m\u001b[0;34m.\u001b[0m\u001b[0mget\u001b[0m\u001b[0;34m(\u001b[0m\u001b[0;34m\"Code\"\u001b[0m\u001b[0;34m)\u001b[0m\u001b[0;34m\u001b[0m\u001b[0m\n\u001b[1;32m    604\u001b[0m             \u001b[0merror_class\u001b[0m \u001b[0;34m=\u001b[0m \u001b[0mself\u001b[0m\u001b[0;34m.\u001b[0m\u001b[0mexceptions\u001b[0m\u001b[0;34m.\u001b[0m\u001b[0mfrom_code\u001b[0m\u001b[0;34m(\u001b[0m\u001b[0merror_code\u001b[0m\u001b[0;34m)\u001b[0m\u001b[0;34m\u001b[0m\u001b[0m\n\u001b[0;32m--> 605\u001b[0;31m             \u001b[0;32mraise\u001b[0m \u001b[0merror_class\u001b[0m\u001b[0;34m(\u001b[0m\u001b[0mparsed_response\u001b[0m\u001b[0;34m,\u001b[0m \u001b[0moperation_name\u001b[0m\u001b[0;34m)\u001b[0m\u001b[0;34m\u001b[0m\u001b[0m\n\u001b[0m\u001b[1;32m    606\u001b[0m         \u001b[0;32melse\u001b[0m\u001b[0;34m:\u001b[0m\u001b[0;34m\u001b[0m\u001b[0m\n\u001b[1;32m    607\u001b[0m             \u001b[0;32mreturn\u001b[0m \u001b[0mparsed_response\u001b[0m\u001b[0;34m\u001b[0m\u001b[0m\n",
      "\u001b[0;31mClientError\u001b[0m: An error occurred (DependencyViolation) when calling the DeleteRouteTable operation: The routeTable 'rtb-8b57acf6' has dependencies and cannot be deleted."
     ]
    }
   ],
   "source": [
    "route_tables[0].delete()"
   ]
  },
  {
   "cell_type": "code",
   "execution_count": null,
   "metadata": {
    "collapsed": true
   },
   "outputs": [],
   "source": []
  },
  {
   "cell_type": "code",
   "execution_count": 240,
   "metadata": {
    "collapsed": false
   },
   "outputs": [
    {
     "data": {
      "text/plain": [
       "[ec2.Route(route_table_id='rtb-8b57acf6', destination_cidr_block='192.168.0.0/16')]"
      ]
     },
     "execution_count": 240,
     "metadata": {},
     "output_type": "execute_result"
    }
   ],
   "source": [
    "route_tables[0].routes."
   ]
  },
  {
   "cell_type": "code",
   "execution_count": 239,
   "metadata": {
    "collapsed": false
   },
   "outputs": [
    {
     "ename": "ClientError",
     "evalue": "An error occurred (DependencyViolation) when calling the DeleteRouteTable operation: The routeTable 'rtb-9043b8ed' has dependencies and cannot be deleted.",
     "output_type": "error",
     "traceback": [
      "\u001b[0;31m---------------------------------------------------------------------------\u001b[0m",
      "\u001b[0;31mClientError\u001b[0m                               Traceback (most recent call last)",
      "\u001b[0;32m<ipython-input-239-5d17817be023>\u001b[0m in \u001b[0;36m<module>\u001b[0;34m()\u001b[0m\n\u001b[0;32m----> 1\u001b[0;31m \u001b[0mroute_tables\u001b[0m\u001b[0;34m[\u001b[0m\u001b[0;36m1\u001b[0m\u001b[0;34m]\u001b[0m\u001b[0;34m.\u001b[0m\u001b[0mdelete\u001b[0m\u001b[0;34m(\u001b[0m\u001b[0;34m)\u001b[0m\u001b[0;34m\u001b[0m\u001b[0m\n\u001b[0m",
      "\u001b[0;32m/Users/yaroslav/anaconda/envs/sep22/lib/python3.5/site-packages/boto3/resources/factory.py\u001b[0m in \u001b[0;36mdo_action\u001b[0;34m(self, *args, **kwargs)\u001b[0m\n\u001b[1;32m    518\u001b[0m             \u001b[0;31m# instance via ``self``.\u001b[0m\u001b[0;34m\u001b[0m\u001b[0;34m\u001b[0m\u001b[0m\n\u001b[1;32m    519\u001b[0m             \u001b[0;32mdef\u001b[0m \u001b[0mdo_action\u001b[0m\u001b[0;34m(\u001b[0m\u001b[0mself\u001b[0m\u001b[0;34m,\u001b[0m \u001b[0;34m*\u001b[0m\u001b[0margs\u001b[0m\u001b[0;34m,\u001b[0m \u001b[0;34m**\u001b[0m\u001b[0mkwargs\u001b[0m\u001b[0;34m)\u001b[0m\u001b[0;34m:\u001b[0m\u001b[0;34m\u001b[0m\u001b[0m\n\u001b[0;32m--> 520\u001b[0;31m                 \u001b[0mresponse\u001b[0m \u001b[0;34m=\u001b[0m \u001b[0maction\u001b[0m\u001b[0;34m(\u001b[0m\u001b[0mself\u001b[0m\u001b[0;34m,\u001b[0m \u001b[0;34m*\u001b[0m\u001b[0margs\u001b[0m\u001b[0;34m,\u001b[0m \u001b[0;34m**\u001b[0m\u001b[0mkwargs\u001b[0m\u001b[0;34m)\u001b[0m\u001b[0;34m\u001b[0m\u001b[0m\n\u001b[0m\u001b[1;32m    521\u001b[0m \u001b[0;34m\u001b[0m\u001b[0m\n\u001b[1;32m    522\u001b[0m                 \u001b[0;32mif\u001b[0m \u001b[0mhasattr\u001b[0m\u001b[0;34m(\u001b[0m\u001b[0mself\u001b[0m\u001b[0;34m,\u001b[0m \u001b[0;34m'load'\u001b[0m\u001b[0;34m)\u001b[0m\u001b[0;34m:\u001b[0m\u001b[0;34m\u001b[0m\u001b[0m\n",
      "\u001b[0;32m/Users/yaroslav/anaconda/envs/sep22/lib/python3.5/site-packages/boto3/resources/action.py\u001b[0m in \u001b[0;36m__call__\u001b[0;34m(self, parent, *args, **kwargs)\u001b[0m\n\u001b[1;32m     81\u001b[0m                     operation_name, params)\n\u001b[1;32m     82\u001b[0m \u001b[0;34m\u001b[0m\u001b[0m\n\u001b[0;32m---> 83\u001b[0;31m         \u001b[0mresponse\u001b[0m \u001b[0;34m=\u001b[0m \u001b[0mgetattr\u001b[0m\u001b[0;34m(\u001b[0m\u001b[0mparent\u001b[0m\u001b[0;34m.\u001b[0m\u001b[0mmeta\u001b[0m\u001b[0;34m.\u001b[0m\u001b[0mclient\u001b[0m\u001b[0;34m,\u001b[0m \u001b[0moperation_name\u001b[0m\u001b[0;34m)\u001b[0m\u001b[0;34m(\u001b[0m\u001b[0;34m**\u001b[0m\u001b[0mparams\u001b[0m\u001b[0;34m)\u001b[0m\u001b[0;34m\u001b[0m\u001b[0m\n\u001b[0m\u001b[1;32m     84\u001b[0m \u001b[0;34m\u001b[0m\u001b[0m\n\u001b[1;32m     85\u001b[0m         \u001b[0mlogger\u001b[0m\u001b[0;34m.\u001b[0m\u001b[0mdebug\u001b[0m\u001b[0;34m(\u001b[0m\u001b[0;34m'Response: %r'\u001b[0m\u001b[0;34m,\u001b[0m \u001b[0mresponse\u001b[0m\u001b[0;34m)\u001b[0m\u001b[0;34m\u001b[0m\u001b[0m\n",
      "\u001b[0;32m/Users/yaroslav/anaconda/envs/sep22/lib/python3.5/site-packages/botocore/client.py\u001b[0m in \u001b[0;36m_api_call\u001b[0;34m(self, *args, **kwargs)\u001b[0m\n\u001b[1;32m    310\u001b[0m                     \"%s() only accepts keyword arguments.\" % py_operation_name)\n\u001b[1;32m    311\u001b[0m             \u001b[0;31m# The \"self\" in this scope is referring to the BaseClient.\u001b[0m\u001b[0;34m\u001b[0m\u001b[0;34m\u001b[0m\u001b[0m\n\u001b[0;32m--> 312\u001b[0;31m             \u001b[0;32mreturn\u001b[0m \u001b[0mself\u001b[0m\u001b[0;34m.\u001b[0m\u001b[0m_make_api_call\u001b[0m\u001b[0;34m(\u001b[0m\u001b[0moperation_name\u001b[0m\u001b[0;34m,\u001b[0m \u001b[0mkwargs\u001b[0m\u001b[0;34m)\u001b[0m\u001b[0;34m\u001b[0m\u001b[0m\n\u001b[0m\u001b[1;32m    313\u001b[0m \u001b[0;34m\u001b[0m\u001b[0m\n\u001b[1;32m    314\u001b[0m         \u001b[0m_api_call\u001b[0m\u001b[0;34m.\u001b[0m\u001b[0m__name__\u001b[0m \u001b[0;34m=\u001b[0m \u001b[0mstr\u001b[0m\u001b[0;34m(\u001b[0m\u001b[0mpy_operation_name\u001b[0m\u001b[0;34m)\u001b[0m\u001b[0;34m\u001b[0m\u001b[0m\n",
      "\u001b[0;32m/Users/yaroslav/anaconda/envs/sep22/lib/python3.5/site-packages/botocore/client.py\u001b[0m in \u001b[0;36m_make_api_call\u001b[0;34m(self, operation_name, api_params)\u001b[0m\n\u001b[1;32m    603\u001b[0m             \u001b[0merror_code\u001b[0m \u001b[0;34m=\u001b[0m \u001b[0mparsed_response\u001b[0m\u001b[0;34m.\u001b[0m\u001b[0mget\u001b[0m\u001b[0;34m(\u001b[0m\u001b[0;34m\"Error\"\u001b[0m\u001b[0;34m,\u001b[0m \u001b[0;34m{\u001b[0m\u001b[0;34m}\u001b[0m\u001b[0;34m)\u001b[0m\u001b[0;34m.\u001b[0m\u001b[0mget\u001b[0m\u001b[0;34m(\u001b[0m\u001b[0;34m\"Code\"\u001b[0m\u001b[0;34m)\u001b[0m\u001b[0;34m\u001b[0m\u001b[0m\n\u001b[1;32m    604\u001b[0m             \u001b[0merror_class\u001b[0m \u001b[0;34m=\u001b[0m \u001b[0mself\u001b[0m\u001b[0;34m.\u001b[0m\u001b[0mexceptions\u001b[0m\u001b[0;34m.\u001b[0m\u001b[0mfrom_code\u001b[0m\u001b[0;34m(\u001b[0m\u001b[0merror_code\u001b[0m\u001b[0;34m)\u001b[0m\u001b[0;34m\u001b[0m\u001b[0m\n\u001b[0;32m--> 605\u001b[0;31m             \u001b[0;32mraise\u001b[0m \u001b[0merror_class\u001b[0m\u001b[0;34m(\u001b[0m\u001b[0mparsed_response\u001b[0m\u001b[0;34m,\u001b[0m \u001b[0moperation_name\u001b[0m\u001b[0;34m)\u001b[0m\u001b[0;34m\u001b[0m\u001b[0m\n\u001b[0m\u001b[1;32m    606\u001b[0m         \u001b[0;32melse\u001b[0m\u001b[0;34m:\u001b[0m\u001b[0;34m\u001b[0m\u001b[0m\n\u001b[1;32m    607\u001b[0m             \u001b[0;32mreturn\u001b[0m \u001b[0mparsed_response\u001b[0m\u001b[0;34m\u001b[0m\u001b[0m\n",
      "\u001b[0;31mClientError\u001b[0m: An error occurred (DependencyViolation) when calling the DeleteRouteTable operation: The routeTable 'rtb-9043b8ed' has dependencies and cannot be deleted."
     ]
    }
   ],
   "source": [
    "route_tables[1].delete()"
   ]
  },
  {
   "cell_type": "markdown",
   "metadata": {},
   "source": [
    "## Route tables"
   ]
  },
  {
   "cell_type": "code",
   "execution_count": 267,
   "metadata": {
    "collapsed": true
   },
   "outputs": [],
   "source": [
    "route_tables = list(d['nexus'].route_tables.all())"
   ]
  },
  {
   "cell_type": "code",
   "execution_count": 269,
   "metadata": {
    "collapsed": true
   },
   "outputs": [],
   "source": [
    "route_table = route_tables[0]"
   ]
  },
  {
   "cell_type": "code",
   "execution_count": 271,
   "metadata": {
    "collapsed": false
   },
   "outputs": [
    {
     "data": {
      "text/plain": [
       "'rtb-aeaa5cd3'"
      ]
     },
     "execution_count": 271,
     "metadata": {},
     "output_type": "execute_result"
    }
   ],
   "source": [
    "route_table.id"
   ]
  },
  {
   "cell_type": "code",
   "execution_count": 272,
   "metadata": {
    "collapsed": false
   },
   "outputs": [
    {
     "data": {
      "text/plain": [
       "[]"
      ]
     },
     "execution_count": 272,
     "metadata": {},
     "output_type": "execute_result"
    }
   ],
   "source": [
    "route_table.tags"
   ]
  },
  {
   "cell_type": "code",
   "execution_count": 278,
   "metadata": {
    "collapsed": false
   },
   "outputs": [
    {
     "data": {
      "text/plain": [
       "ResourceMeta('ec2', identifiers=['id'])"
      ]
     },
     "execution_count": 278,
     "metadata": {},
     "output_type": "execute_result"
    }
   ],
   "source": [
    "route_table.meta"
   ]
  },
  {
   "cell_type": "markdown",
   "metadata": {},
   "source": [
    "## Internet gateways"
   ]
  },
  {
   "cell_type": "code",
   "execution_count": 274,
   "metadata": {
    "collapsed": true
   },
   "outputs": [],
   "source": [
    "internet_gateways = list(vpc.internet_gateways.all())"
   ]
  },
  {
   "cell_type": "code",
   "execution_count": 276,
   "metadata": {
    "collapsed": true
   },
   "outputs": [],
   "source": [
    "iga = internet_gateways[0]"
   ]
  },
  {
   "cell_type": "code",
   "execution_count": 277,
   "metadata": {
    "collapsed": true
   },
   "outputs": [],
   "source": [
    "iga.create_tags"
   ]
  },
  {
   "cell_type": "markdown",
   "metadata": {},
   "source": [
    "## Keypairs"
   ]
  },
  {
   "cell_type": "code",
   "execution_count": 3,
   "metadata": {
    "collapsed": false
   },
   "outputs": [
    {
     "data": {
      "text/plain": [
       "{'KeyPairs': [{'KeyFingerprint': '28:6e:51:d6:81:3d:51:22:4b:20:4a:fb:cf:9b:1f:9f:1d:2a:a9:94',\n",
       "   'KeyName': 'aws_pach_api_service'},\n",
       "  {'KeyFingerprint': '6b:07:eb:f9:ab:ff:4f:18:3c:65:6e:99:05:01:21:fc:71:be:be:13',\n",
       "   'KeyName': 'aws_pach_api_service_stage'},\n",
       "  {'KeyFingerprint': 'f7:9a:33:d7:72:63:fe:27:30:9a:3b:49:e5:fa:dd:0b:9a:31:77:7a',\n",
       "   'KeyName': 'brendan'},\n",
       "  {'KeyFingerprint': '1d:61:59:c6:eb:c3:ca:c4:a9:7a:7a:19:8d:1c:6d:4a',\n",
       "   'KeyName': 'kubernetes.0726aa4c-pachydermcluster.kubernetes.com-79:6b:55:2e:89:4d:be:42:29:3b:ba:cd:22:c8:ee:58'},\n",
       "  {'KeyFingerprint': '1d:61:59:c6:eb:c3:ca:c4:a9:7a:7a:19:8d:1c:6d:4a',\n",
       "   'KeyName': 'kubernetes.282e747a-pachydermcluster.kubernetes.com-79:6b:55:2e:89:4d:be:42:29:3b:ba:cd:22:c8:ee:58'},\n",
       "  {'KeyFingerprint': '1d:61:59:c6:eb:c3:ca:c4:a9:7a:7a:19:8d:1c:6d:4a',\n",
       "   'KeyName': 'kubernetes.6dbcbbe2-pachydermcluster.kubernetes.com-79:6b:55:2e:89:4d:be:42:29:3b:ba:cd:22:c8:ee:58'},\n",
       "  {'KeyFingerprint': '1d:61:59:c6:eb:c3:ca:c4:a9:7a:7a:19:8d:1c:6d:4a',\n",
       "   'KeyName': 'kubernetes.db5d0d76-pachydermcluster.kubernetes.com-79:6b:55:2e:89:4d:be:42:29:3b:ba:cd:22:c8:ee:58'},\n",
       "  {'KeyFingerprint': '96:c7:f9:66:ad:29:2f:e6:56:06:89:c1:5e:d6:c9:53:07:67:9b:dd',\n",
       "   'KeyName': 'nexus'},\n",
       "  {'KeyFingerprint': '42:79:9a:be:17:03:c9:de:dd:05:92:de:85:d7:29:07:cd:b7:a0:5b',\n",
       "   'KeyName': 'nexus-oregon'},\n",
       "  {'KeyFingerprint': '4e:2b:72:59:5f:11:94:2d:5a:92:ba:10:2e:f0:10:da:22:03:d3:30',\n",
       "   'KeyName': 'pach_service_stage'},\n",
       "  {'KeyFingerprint': '43:fe:a7:51:d7:ad:26:7c:ce:0e:94:53:31:36:9f:38:9f:63:17:1c',\n",
       "   'KeyName': 'yaroslav'}],\n",
       " 'ResponseMetadata': {'HTTPHeaders': {'content-type': 'text/xml;charset=UTF-8',\n",
       "   'date': 'Wed, 10 Jan 2018 05:13:06 GMT',\n",
       "   'server': 'AmazonEC2',\n",
       "   'transfer-encoding': 'chunked',\n",
       "   'vary': 'Accept-Encoding'},\n",
       "  'HTTPStatusCode': 200,\n",
       "  'RequestId': 'dadac7c2-0f45-4eb9-8737-33da2175062a',\n",
       "  'RetryAttempts': 0}}"
      ]
     },
     "execution_count": 3,
     "metadata": {},
     "output_type": "execute_result"
    }
   ],
   "source": [
    "client.describe_key_pairs()"
   ]
  },
  {
   "cell_type": "code",
   "execution_count": 2,
   "metadata": {
    "collapsed": false
   },
   "outputs": [],
   "source": [
    "keypairs = u.get_keypair_dict()"
   ]
  },
  {
   "cell_type": "code",
   "execution_count": 4,
   "metadata": {
    "collapsed": false
   },
   "outputs": [],
   "source": [
    "keypair = keypairs['nexus']"
   ]
  },
  {
   "cell_type": "code",
   "execution_count": 5,
   "metadata": {
    "collapsed": false
   },
   "outputs": [
    {
     "data": {
      "text/plain": [
       "'nexus'"
      ]
     },
     "execution_count": 5,
     "metadata": {},
     "output_type": "execute_result"
    }
   ],
   "source": [
    "keypair.name"
   ]
  },
  {
   "cell_type": "code",
   "execution_count": 6,
   "metadata": {
    "collapsed": false
   },
   "outputs": [
    {
     "data": {
      "text/plain": [
       "'2e:b3:5b:59:62:a4:b2:21:51:71:e3:88:3c:27:33:bb:3c:76:ea:63'"
      ]
     },
     "execution_count": 6,
     "metadata": {},
     "output_type": "execute_result"
    }
   ],
   "source": [
    "keypair.key_fingerprint"
   ]
  },
  {
   "cell_type": "code",
   "execution_count": 9,
   "metadata": {
    "collapsed": false
   },
   "outputs": [
    {
     "data": {
      "text/plain": [
       "'mac.local'"
      ]
     },
     "execution_count": 9,
     "metadata": {},
     "output_type": "execute_result"
    }
   ],
   "source": [
    "import socket\n",
    "#socket.gethostname()\n",
    "socket.getfqdn()"
   ]
  },
  {
   "cell_type": "code",
   "execution_count": 16,
   "metadata": {
    "collapsed": false
   },
   "outputs": [
    {
     "data": {
      "text/plain": [
       "'b0207aa6d182a61fb2a886607b046e11'"
      ]
     },
     "execution_count": 16,
     "metadata": {},
     "output_type": "execute_result"
    }
   ],
   "source": [
    "import hashlib\n",
    "hash_object = hashlib.md5(socket.gethostname().encode('ascii'))\n",
    "hash_object.hexdigest()"
   ]
  },
  {
   "cell_type": "code",
   "execution_count": 13,
   "metadata": {
    "collapsed": false
   },
   "outputs": [
    {
     "data": {
      "text/plain": [
       "'b0207aa6d182a61fb2a886607b046e11'"
      ]
     },
     "execution_count": 13,
     "metadata": {},
     "output_type": "execute_result"
    }
   ],
   "source": []
  },
  {
   "cell_type": "code",
   "execution_count": 14,
   "metadata": {
    "collapsed": true
   },
   "outputs": [],
   "source": [
    "import getpass\n",
    "username = getpass.getuser()"
   ]
  },
  {
   "cell_type": "code",
   "execution_count": 15,
   "metadata": {
    "collapsed": false
   },
   "outputs": [
    {
     "data": {
      "text/plain": [
       "'yaroslav'"
      ]
     },
     "execution_count": 15,
     "metadata": {},
     "output_type": "execute_result"
    }
   ],
   "source": [
    "username"
   ]
  },
  {
   "cell_type": "markdown",
   "metadata": {},
   "source": [
    "## Enable DNS on VPC"
   ]
  },
  {
   "cell_type": "code",
   "execution_count": 437,
   "metadata": {
    "collapsed": true
   },
   "outputs": [],
   "source": [
    "vpc = u.get_vpc_dict()['nexus']"
   ]
  },
  {
   "cell_type": "code",
   "execution_count": 440,
   "metadata": {
    "collapsed": true
   },
   "outputs": [],
   "source": [
    "response = vpc.modify_attribute(EnableDnsHostnames={\"Value\":True})\n",
    "response = vpc.modify_attribute(EnableDnsSupport={\"Value\":True})"
   ]
  },
  {
   "cell_type": "code",
   "execution_count": 441,
   "metadata": {
    "collapsed": false
   },
   "outputs": [
    {
     "data": {
      "text/plain": [
       "{'ResponseMetadata': {'HTTPHeaders': {'content-type': 'text/xml;charset=UTF-8',\n",
       "   'date': 'Wed, 20 Dec 2017 01:37:16 GMT',\n",
       "   'server': 'AmazonEC2',\n",
       "   'transfer-encoding': 'chunked',\n",
       "   'vary': 'Accept-Encoding'},\n",
       "  'HTTPStatusCode': 200,\n",
       "  'RequestId': 'e52ad0de-54d2-4962-87d1-d59384c0bbf9',\n",
       "  'RetryAttempts': 0}}"
      ]
     },
     "execution_count": 441,
     "metadata": {},
     "output_type": "execute_result"
    }
   ],
   "source": [
    "response"
   ]
  },
  {
   "cell_type": "code",
   "execution_count": null,
   "metadata": {
    "collapsed": true
   },
   "outputs": [],
   "source": [
    "ec2.Vpc('vpc-aaaaaaaa').describe_attribute(Attribute='enableDnsHostnames')['EnableDnsHostnames']['Value']\n"
   ]
  },
  {
   "cell_type": "markdown",
   "metadata": {},
   "source": [
    "# Efs troubleshooting"
   ]
  },
  {
   "cell_type": "code",
   "execution_count": 442,
   "metadata": {
    "collapsed": false
   },
   "outputs": [
    {
     "data": {
      "text/plain": [
       "'us-east-1'"
      ]
     },
     "execution_count": 442,
     "metadata": {},
     "output_type": "execute_result"
    }
   ],
   "source": [
    "os.environ['AWS_DEFAULT_REGION']"
   ]
  },
  {
   "cell_type": "code",
   "execution_count": 443,
   "metadata": {
    "collapsed": true
   },
   "outputs": [],
   "source": [
    "vpc = u.get_vpc_dict()['nexus']"
   ]
  },
  {
   "cell_type": "code",
   "execution_count": 446,
   "metadata": {
    "collapsed": false
   },
   "outputs": [
    {
     "data": {
      "text/plain": [
       "{'EnableDnsSupport': {'Value': True},\n",
       " 'ResponseMetadata': {'HTTPHeaders': {'content-type': 'text/xml;charset=UTF-8',\n",
       "   'date': 'Wed, 20 Dec 2017 01:44:55 GMT',\n",
       "   'server': 'AmazonEC2',\n",
       "   'transfer-encoding': 'chunked',\n",
       "   'vary': 'Accept-Encoding'},\n",
       "  'HTTPStatusCode': 200,\n",
       "  'RequestId': '5e54000b-525f-42ce-a27f-ccfc34b1d4b3',\n",
       "  'RetryAttempts': 0},\n",
       " 'VpcId': 'vpc-26e6b35e'}"
      ]
     },
     "execution_count": 446,
     "metadata": {},
     "output_type": "execute_result"
    }
   ],
   "source": [
    "vpc.describe_attribute(Attribute='enableDnsSupport')"
   ]
  },
  {
   "cell_type": "code",
   "execution_count": 447,
   "metadata": {
    "collapsed": false
   },
   "outputs": [
    {
     "data": {
      "text/plain": [
       "{'EnableDnsHostnames': {'Value': True},\n",
       " 'ResponseMetadata': {'HTTPHeaders': {'content-type': 'text/xml;charset=UTF-8',\n",
       "   'date': 'Wed, 20 Dec 2017 01:45:12 GMT',\n",
       "   'server': 'AmazonEC2',\n",
       "   'transfer-encoding': 'chunked',\n",
       "   'vary': 'Accept-Encoding'},\n",
       "  'HTTPStatusCode': 200,\n",
       "  'RequestId': 'c9fbb240-0ad9-4072-970d-ea2643176410',\n",
       "  'RetryAttempts': 0},\n",
       " 'VpcId': 'vpc-26e6b35e'}"
      ]
     },
     "execution_count": 447,
     "metadata": {},
     "output_type": "execute_result"
    }
   ],
   "source": [
    "vpc.describe_attribute(Attribute='enableDnsHostnames')"
   ]
  },
  {
   "cell_type": "code",
   "execution_count": 448,
   "metadata": {
    "collapsed": true
   },
   "outputs": [],
   "source": [
    "efs_id = u.get_efs_dict()['nexus']"
   ]
  },
  {
   "cell_type": "code",
   "execution_count": 449,
   "metadata": {
    "collapsed": true
   },
   "outputs": [],
   "source": [
    "ec2 = u.create_ec2_resource()"
   ]
  },
  {
   "cell_type": "code",
   "execution_count": 450,
   "metadata": {
    "collapsed": true
   },
   "outputs": [],
   "source": [
    "instances = list(ec2.instances.all())"
   ]
  },
  {
   "cell_type": "code",
   "execution_count": 451,
   "metadata": {
    "collapsed": true
   },
   "outputs": [],
   "source": [
    "instance = instances[0]"
   ]
  },
  {
   "cell_type": "code",
   "execution_count": 482,
   "metadata": {
    "collapsed": true
   },
   "outputs": [],
   "source": [
    "zone = instance.placement['AvailabilityZone']"
   ]
  },
  {
   "cell_type": "code",
   "execution_count": 480,
   "metadata": {
    "collapsed": false
   },
   "outputs": [
    {
     "data": {
      "text/plain": [
       "OrderedDict([('us-east-1c', 'fsmt-c5454a8c'),\n",
       "             ('us-east-1b', 'fsmt-c7454a8e'),\n",
       "             ('us-east-1f', 'fsmt-d8454a91'),\n",
       "             ('us-east-1a', 'fsmt-d9454a90'),\n",
       "             ('us-east-1e', 'fsmt-da454a93'),\n",
       "             ('us-east-1d', 'fsmt-db454a92')])"
      ]
     },
     "execution_count": 480,
     "metadata": {},
     "output_type": "execute_result"
    }
   ],
   "source": [
    "importlib.reload(u)\n",
    "u.get_mount_targets_dict(efs_id)"
   ]
  },
  {
   "cell_type": "code",
   "execution_count": 472,
   "metadata": {
    "collapsed": false
   },
   "outputs": [
    {
     "data": {
      "text/plain": [
       "[{'GroupId': 'sg-3d2a2148', 'GroupName': 'nexus'}]"
      ]
     },
     "execution_count": 472,
     "metadata": {},
     "output_type": "execute_result"
    }
   ],
   "source": [
    "instance.security_groups"
   ]
  },
  {
   "cell_type": "code",
   "execution_count": 484,
   "metadata": {
    "collapsed": true
   },
   "outputs": [],
   "source": [
    "mount_target = u.get_mount_targets_dict(efs_id)[zone]"
   ]
  },
  {
   "cell_type": "code",
   "execution_count": 474,
   "metadata": {
    "collapsed": true
   },
   "outputs": [],
   "source": [
    "efs_client = u.create_efs_client()"
   ]
  },
  {
   "cell_type": "code",
   "execution_count": 486,
   "metadata": {
    "collapsed": false
   },
   "outputs": [
    {
     "data": {
      "text/plain": [
       "{'ResponseMetadata': {'HTTPHeaders': {'content-length': '34',\n",
       "   'content-type': 'application/json',\n",
       "   'date': 'Wed, 20 Dec 2017 02:04:55 GMT',\n",
       "   'x-amzn-requestid': '2c486ab4-e52a-11e7-9043-3787982a1618'},\n",
       "  'HTTPStatusCode': 200,\n",
       "  'RequestId': '2c486ab4-e52a-11e7-9043-3787982a1618',\n",
       "  'RetryAttempts': 0},\n",
       " 'SecurityGroups': ['sg-3d2a2148']}"
      ]
     },
     "execution_count": 486,
     "metadata": {},
     "output_type": "execute_result"
    }
   ],
   "source": [
    "efs_client.describe_mount_target_security_groups(MountTargetId=mount_target)"
   ]
  },
  {
   "cell_type": "code",
   "execution_count": 488,
   "metadata": {
    "collapsed": true
   },
   "outputs": [],
   "source": [
    "security_group = u.get_security_group_dict()['nexus']"
   ]
  },
  {
   "cell_type": "code",
   "execution_count": 489,
   "metadata": {
    "collapsed": false
   },
   "outputs": [
    {
     "data": {
      "text/plain": [
       "[{'FromPort': 8890,\n",
       "  'IpProtocol': 'tcp',\n",
       "  'IpRanges': [{'CidrIp': '0.0.0.0/0'}],\n",
       "  'Ipv6Ranges': [],\n",
       "  'PrefixListIds': [],\n",
       "  'ToPort': 8890,\n",
       "  'UserIdGroupPairs': []},\n",
       " {'FromPort': 8888,\n",
       "  'IpProtocol': 'tcp',\n",
       "  'IpRanges': [{'CidrIp': '0.0.0.0/0'}],\n",
       "  'Ipv6Ranges': [],\n",
       "  'PrefixListIds': [],\n",
       "  'ToPort': 8888,\n",
       "  'UserIdGroupPairs': []},\n",
       " {'FromPort': 6006,\n",
       "  'IpProtocol': 'tcp',\n",
       "  'IpRanges': [{'CidrIp': '0.0.0.0/0'}],\n",
       "  'Ipv6Ranges': [],\n",
       "  'PrefixListIds': [],\n",
       "  'ToPort': 6006,\n",
       "  'UserIdGroupPairs': []},\n",
       " {'FromPort': 22,\n",
       "  'IpProtocol': 'tcp',\n",
       "  'IpRanges': [{'CidrIp': '0.0.0.0/0'}],\n",
       "  'Ipv6Ranges': [],\n",
       "  'PrefixListIds': [],\n",
       "  'ToPort': 22,\n",
       "  'UserIdGroupPairs': []},\n",
       " {'FromPort': 6379,\n",
       "  'IpProtocol': 'tcp',\n",
       "  'IpRanges': [{'CidrIp': '0.0.0.0/0'}],\n",
       "  'Ipv6Ranges': [],\n",
       "  'PrefixListIds': [],\n",
       "  'ToPort': 6379,\n",
       "  'UserIdGroupPairs': []},\n",
       " {'FromPort': 6008,\n",
       "  'IpProtocol': 'tcp',\n",
       "  'IpRanges': [{'CidrIp': '0.0.0.0/0'}],\n",
       "  'Ipv6Ranges': [],\n",
       "  'PrefixListIds': [],\n",
       "  'ToPort': 6008,\n",
       "  'UserIdGroupPairs': []},\n",
       " {'FromPort': 6007,\n",
       "  'IpProtocol': 'tcp',\n",
       "  'IpRanges': [{'CidrIp': '0.0.0.0/0'}],\n",
       "  'Ipv6Ranges': [],\n",
       "  'PrefixListIds': [],\n",
       "  'ToPort': 6007,\n",
       "  'UserIdGroupPairs': []},\n",
       " {'FromPort': -1,\n",
       "  'IpProtocol': 'icmp',\n",
       "  'IpRanges': [{'CidrIp': '0.0.0.0/0'}],\n",
       "  'Ipv6Ranges': [],\n",
       "  'PrefixListIds': [],\n",
       "  'ToPort': -1,\n",
       "  'UserIdGroupPairs': []},\n",
       " {'FromPort': 8889,\n",
       "  'IpProtocol': 'tcp',\n",
       "  'IpRanges': [{'CidrIp': '0.0.0.0/0'}],\n",
       "  'Ipv6Ranges': [],\n",
       "  'PrefixListIds': [],\n",
       "  'ToPort': 8889,\n",
       "  'UserIdGroupPairs': []}]"
      ]
     },
     "execution_count": 489,
     "metadata": {},
     "output_type": "execute_result"
    }
   ],
   "source": [
    "security_group.ip_permissions"
   ]
  },
  {
   "cell_type": "code",
   "execution_count": 490,
   "metadata": {
    "collapsed": true
   },
   "outputs": [],
   "source": [
    "security_group.authorize_ingress()\n",
    "\n",
    "--source-group sg-1a2b3c4d"
   ]
  },
  {
   "cell_type": "code",
   "execution_count": 494,
   "metadata": {
    "collapsed": false
   },
   "outputs": [
    {
     "data": {
      "text/plain": [
       "'nexus'"
      ]
     },
     "execution_count": 494,
     "metadata": {},
     "output_type": "execute_result"
    }
   ],
   "source": [
    "security_group.group_name"
   ]
  },
  {
   "cell_type": "code",
   "execution_count": 496,
   "metadata": {
    "collapsed": true
   },
   "outputs": [],
   "source": [
    "security_group.authorize_ingress?"
   ]
  },
  {
   "cell_type": "code",
   "execution_count": 497,
   "metadata": {
    "collapsed": true
   },
   "outputs": [],
   "source": [
    "security_group.authorize_ingress?"
   ]
  },
  {
   "cell_type": "code",
   "execution_count": 507,
   "metadata": {
    "collapsed": false
   },
   "outputs": [
    {
     "ename": "ClientError",
     "evalue": "An error occurred (InvalidGroup.NotFound) when calling the AuthorizeSecurityGroupIngress operation: The security group 'sg-3d2a2148' does not exist in default VPC 'vpc-79c4f61d'",
     "output_type": "error",
     "traceback": [
      "\u001b[0;31m---------------------------------------------------------------------------\u001b[0m",
      "\u001b[0;31mClientError\u001b[0m                               Traceback (most recent call last)",
      "\u001b[0;32m<ipython-input-507-907a5c9aaed3>\u001b[0m in \u001b[0;36m<module>\u001b[0;34m()\u001b[0m\n\u001b[1;32m      2\u001b[0m                                         \u001b[0mGroupId\u001b[0m\u001b[0;34m=\u001b[0m\u001b[0msecurity_group\u001b[0m\u001b[0;34m.\u001b[0m\u001b[0mid\u001b[0m\u001b[0;34m,\u001b[0m\u001b[0;34m\u001b[0m\u001b[0m\n\u001b[1;32m      3\u001b[0m                                         \u001b[0mIpProtocol\u001b[0m\u001b[0;34m=\u001b[0m\u001b[0;34m'all'\u001b[0m\u001b[0;34m,\u001b[0m \u001b[0mFromPort\u001b[0m\u001b[0;34m=\u001b[0m\u001b[0;36m0\u001b[0m\u001b[0;34m,\u001b[0m\u001b[0;34m\u001b[0m\u001b[0m\n\u001b[0;32m----> 4\u001b[0;31m ToPort=0,SourceSecurityGroupName=security_group.group_id)\n\u001b[0m",
      "\u001b[0;32m/Users/yaroslav/anaconda/envs/sep22/lib/python3.5/site-packages/botocore/client.py\u001b[0m in \u001b[0;36m_api_call\u001b[0;34m(self, *args, **kwargs)\u001b[0m\n\u001b[1;32m    310\u001b[0m                     \"%s() only accepts keyword arguments.\" % py_operation_name)\n\u001b[1;32m    311\u001b[0m             \u001b[0;31m# The \"self\" in this scope is referring to the BaseClient.\u001b[0m\u001b[0;34m\u001b[0m\u001b[0;34m\u001b[0m\u001b[0m\n\u001b[0;32m--> 312\u001b[0;31m             \u001b[0;32mreturn\u001b[0m \u001b[0mself\u001b[0m\u001b[0;34m.\u001b[0m\u001b[0m_make_api_call\u001b[0m\u001b[0;34m(\u001b[0m\u001b[0moperation_name\u001b[0m\u001b[0;34m,\u001b[0m \u001b[0mkwargs\u001b[0m\u001b[0;34m)\u001b[0m\u001b[0;34m\u001b[0m\u001b[0m\n\u001b[0m\u001b[1;32m    313\u001b[0m \u001b[0;34m\u001b[0m\u001b[0m\n\u001b[1;32m    314\u001b[0m         \u001b[0m_api_call\u001b[0m\u001b[0;34m.\u001b[0m\u001b[0m__name__\u001b[0m \u001b[0;34m=\u001b[0m \u001b[0mstr\u001b[0m\u001b[0;34m(\u001b[0m\u001b[0mpy_operation_name\u001b[0m\u001b[0;34m)\u001b[0m\u001b[0;34m\u001b[0m\u001b[0m\n",
      "\u001b[0;32m/Users/yaroslav/anaconda/envs/sep22/lib/python3.5/site-packages/botocore/client.py\u001b[0m in \u001b[0;36m_make_api_call\u001b[0;34m(self, operation_name, api_params)\u001b[0m\n\u001b[1;32m    603\u001b[0m             \u001b[0merror_code\u001b[0m \u001b[0;34m=\u001b[0m \u001b[0mparsed_response\u001b[0m\u001b[0;34m.\u001b[0m\u001b[0mget\u001b[0m\u001b[0;34m(\u001b[0m\u001b[0;34m\"Error\"\u001b[0m\u001b[0;34m,\u001b[0m \u001b[0;34m{\u001b[0m\u001b[0;34m}\u001b[0m\u001b[0;34m)\u001b[0m\u001b[0;34m.\u001b[0m\u001b[0mget\u001b[0m\u001b[0;34m(\u001b[0m\u001b[0;34m\"Code\"\u001b[0m\u001b[0;34m)\u001b[0m\u001b[0;34m\u001b[0m\u001b[0m\n\u001b[1;32m    604\u001b[0m             \u001b[0merror_class\u001b[0m \u001b[0;34m=\u001b[0m \u001b[0mself\u001b[0m\u001b[0;34m.\u001b[0m\u001b[0mexceptions\u001b[0m\u001b[0;34m.\u001b[0m\u001b[0mfrom_code\u001b[0m\u001b[0;34m(\u001b[0m\u001b[0merror_code\u001b[0m\u001b[0;34m)\u001b[0m\u001b[0;34m\u001b[0m\u001b[0m\n\u001b[0;32m--> 605\u001b[0;31m             \u001b[0;32mraise\u001b[0m \u001b[0merror_class\u001b[0m\u001b[0;34m(\u001b[0m\u001b[0mparsed_response\u001b[0m\u001b[0;34m,\u001b[0m \u001b[0moperation_name\u001b[0m\u001b[0;34m)\u001b[0m\u001b[0;34m\u001b[0m\u001b[0m\n\u001b[0m\u001b[1;32m    606\u001b[0m         \u001b[0;32melse\u001b[0m\u001b[0;34m:\u001b[0m\u001b[0;34m\u001b[0m\u001b[0m\n\u001b[1;32m    607\u001b[0m             \u001b[0;32mreturn\u001b[0m \u001b[0mparsed_response\u001b[0m\u001b[0;34m\u001b[0m\u001b[0m\n",
      "\u001b[0;31mClientError\u001b[0m: An error occurred (InvalidGroup.NotFound) when calling the AuthorizeSecurityGroupIngress operation: The security group 'sg-3d2a2148' does not exist in default VPC 'vpc-79c4f61d'"
     ]
    }
   ],
   "source": [
    "client.authorize_security_group_ingress(\n",
    "                                        GroupId=security_group.id,\n",
    "                                        IpProtocol='all', FromPort=0,\n",
    "ToPort=0,SourceSecurityGroupName=security_group.group_id)"
   ]
  },
  {
   "cell_type": "code",
   "execution_count": 514,
   "metadata": {
    "collapsed": false
   },
   "outputs": [
    {
     "data": {
      "text/plain": [
       "65535"
      ]
     },
     "execution_count": 514,
     "metadata": {},
     "output_type": "execute_result"
    }
   ],
   "source": [
    "2**16-1"
   ]
  },
  {
   "cell_type": "code",
   "execution_count": 517,
   "metadata": {
    "collapsed": false
   },
   "outputs": [
    {
     "data": {
      "text/plain": [
       "{'ResponseMetadata': {'HTTPHeaders': {'content-type': 'text/xml;charset=UTF-8',\n",
       "   'date': 'Wed, 20 Dec 2017 02:35:26 GMT',\n",
       "   'server': 'AmazonEC2',\n",
       "   'transfer-encoding': 'chunked',\n",
       "   'vary': 'Accept-Encoding'},\n",
       "  'HTTPStatusCode': 200,\n",
       "  'RequestId': '14836c3f-0ad1-4c14-9d93-332c642480e9',\n",
       "  'RetryAttempts': 0}}"
      ]
     },
     "execution_count": 517,
     "metadata": {},
     "output_type": "execute_result"
    }
   ],
   "source": [
    "new_rule ={'FromPort': 0,\n",
    " 'IpProtocol': 'tcp',\n",
    " 'IpRanges': [],\n",
    " 'PrefixListIds': [],\n",
    " 'ToPort': 65535,\n",
    " 'UserIdGroupPairs': [{'GroupId': security_group.id}]} #id in VPC2\n",
    "security_group.authorize_ingress(IpPermissions=[new_rule]) "
   ]
  },
  {
   "cell_type": "code",
   "execution_count": 526,
   "metadata": {
    "collapsed": false
   },
   "outputs": [
    {
     "name": "stdout",
     "output_type": "stream",
     "text": [
      "Warning, got An error occurred (InvalidPermission.Duplicate) when calling the AuthorizeSecurityGroupIngress operation: the specified rule \"peer: sg-3d2a2148, UDP, from port: 0, to port: 65535, ALLOW\" already exists\n",
      "Warning, got An error occurred (InvalidPermission.Duplicate) when calling the AuthorizeSecurityGroupIngress operation: the specified rule \"peer: sg-3d2a2148, UDP, from port: 0, to port: 65535, ALLOW\" already exists\n",
      "Warning, got An error occurred (InvalidPermission.Duplicate) when calling the AuthorizeSecurityGroupIngress operation: the specified rule \"peer: sg-3d2a2148, UDP, from port: 0, to port: 65535, ALLOW\" already exists\n"
     ]
    }
   ],
   "source": [
    "    for protocol in ['tcp', 'udp', 'icmp']:\n",
    "      try:\n",
    "        rule ={'FromPort': 0,\n",
    "               'IpProtocol': protocol,\n",
    "               'IpRanges': [],\n",
    "               'PrefixListIds': [],\n",
    "               'ToPort': 65535,\n",
    "               'UserIdGroupPairs': [{'GroupId': security_group.id}]}\n",
    "        security_group.authorize_ingress(IpPermissions=[new_rule])\n",
    "      except Exception as e:\n",
    "        if e.response['Error']['Code']=='InvalidPermission.Duplicate':\n",
    "          print(\"Warning, got \"+str(e))\n",
    "        else:\n",
    "          assert False, \"Failed while authorizing ingress with \"+str(e)\n",
    "      \n"
   ]
  },
  {
   "cell_type": "code",
   "execution_count": 527,
   "metadata": {
    "collapsed": false
   },
   "outputs": [
    {
     "data": {
      "text/plain": [
       "OrderedDict([('nexus', 'fs-fa5b62b3')])"
      ]
     },
     "execution_count": 527,
     "metadata": {},
     "output_type": "execute_result"
    }
   ],
   "source": [
    "u.get_efs_dict()"
   ]
  },
  {
   "cell_type": "code",
   "execution_count": 536,
   "metadata": {
    "collapsed": true
   },
   "outputs": [],
   "source": [
    "  efs_id = u.get_efs_dict()[\"nexus\"]\n",
    "  region = 'us-east-1'\n",
    "  dns = \"{efs_id}.efs.{region}.amazonaws.com\".format(**locals())\n"
   ]
  },
  {
   "cell_type": "code",
   "execution_count": 537,
   "metadata": {
    "collapsed": false
   },
   "outputs": [
    {
     "data": {
      "text/plain": [
       "'fs-fa5b62b3.efs.us-east-1.amazonaws.com'"
      ]
     },
     "execution_count": 537,
     "metadata": {},
     "output_type": "execute_result"
    }
   ],
   "source": [
    "dns"
   ]
  },
  {
   "cell_type": "code",
   "execution_count": 534,
   "metadata": {
    "collapsed": false
   },
   "outputs": [
    {
     "data": {
      "text/plain": [
       "'5'"
      ]
     },
     "execution_count": 534,
     "metadata": {},
     "output_type": "execute_result"
    }
   ],
   "source": [
    "\"{a}\".format(**locals())"
   ]
  },
  {
   "cell_type": "code",
   "execution_count": 530,
   "metadata": {
    "collapsed": false
   },
   "outputs": [
    {
     "data": {
      "text/plain": [
       "'fs-fa5b62b3'"
      ]
     },
     "execution_count": 530,
     "metadata": {},
     "output_type": "execute_result"
    }
   ],
   "source": [
    "locals()[\"efs_id\"]"
   ]
  },
  {
   "cell_type": "code",
   "execution_count": 525,
   "metadata": {
    "collapsed": false
   },
   "outputs": [
    {
     "data": {
      "text/plain": [
       "True"
      ]
     },
     "execution_count": 525,
     "metadata": {},
     "output_type": "execute_result"
    }
   ],
   "source": [
    "a.response['Error']['Code']=='InvalidPermission.Duplicate'"
   ]
  },
  {
   "cell_type": "code",
   "execution_count": null,
   "metadata": {
    "collapsed": true
   },
   "outputs": [],
   "source": [
    "new_rule ={'FromPort': 0,\n",
    " 'IpProtocol': 'udp',\n",
    " 'IpRanges': [],\n",
    " 'PrefixListIds': [],\n",
    " 'ToPort': 65535,\n",
    " 'UserIdGroupPairs': [{'GroupId': security_group.id}]} #id in VPC2\n",
    "security_group.authorize_ingress(IpPermissions=[new_rule]) "
   ]
  },
  {
   "cell_type": "code",
   "execution_count": 511,
   "metadata": {
    "collapsed": true
   },
   "outputs": [],
   "source": [
    "client.authorize_security_group_ingress?"
   ]
  },
  {
   "cell_type": "code",
   "execution_count": 505,
   "metadata": {
    "collapsed": false
   },
   "outputs": [
    {
     "data": {
      "text/plain": [
       "'sg-3d2a2148'"
      ]
     },
     "execution_count": 505,
     "metadata": {},
     "output_type": "execute_result"
    }
   ],
   "source": [
    "security_group.id"
   ]
  },
  {
   "cell_type": "code",
   "execution_count": null,
   "metadata": {
    "collapsed": true
   },
   "outputs": [],
   "source": [
    "aws ec2 authorize-security-group-ingress --group-id sg-3d2a2148 --protocol tcp --port 80 --source-group sg-3d2a2148"
   ]
  },
  {
   "cell_type": "code",
   "execution_count": 501,
   "metadata": {
    "collapsed": true
   },
   "outputs": [],
   "source": [
    "client.authorize_security_group_ingress()"
   ]
  },
  {
   "cell_type": "code",
   "execution_count": 498,
   "metadata": {
    "collapsed": false
   },
   "outputs": [
    {
     "ename": "ClientError",
     "evalue": "An error occurred (VPCIdNotSpecified) when calling the AuthorizeSecurityGroupIngress operation: No default VPC for this user",
     "output_type": "error",
     "traceback": [
      "\u001b[0;31m---------------------------------------------------------------------------\u001b[0m",
      "\u001b[0;31mClientError\u001b[0m                               Traceback (most recent call last)",
      "\u001b[0;32m<ipython-input-498-881650adb4f4>\u001b[0m in \u001b[0;36m<module>\u001b[0;34m()\u001b[0m\n\u001b[1;32m      3\u001b[0m   \u001b[0mIpProtocol\u001b[0m\u001b[0;34m=\u001b[0m\u001b[0;34m'All'\u001b[0m\u001b[0;34m,\u001b[0m\u001b[0;34m\u001b[0m\u001b[0m\n\u001b[1;32m      4\u001b[0m   \u001b[0mFromPort\u001b[0m\u001b[0;34m=\u001b[0m\u001b[0;34m-\u001b[0m\u001b[0;36m1\u001b[0m\u001b[0;34m,\u001b[0m\u001b[0;34m\u001b[0m\u001b[0m\n\u001b[0;32m----> 5\u001b[0;31m   \u001b[0mToPort\u001b[0m\u001b[0;34m=\u001b[0m\u001b[0;34m-\u001b[0m\u001b[0;36m1\u001b[0m\u001b[0;34m\u001b[0m\u001b[0m\n\u001b[0m\u001b[1;32m      6\u001b[0m )\n",
      "\u001b[0;32m/Users/yaroslav/anaconda/envs/sep22/lib/python3.5/site-packages/boto3/resources/factory.py\u001b[0m in \u001b[0;36mdo_action\u001b[0;34m(self, *args, **kwargs)\u001b[0m\n\u001b[1;32m    518\u001b[0m             \u001b[0;31m# instance via ``self``.\u001b[0m\u001b[0;34m\u001b[0m\u001b[0;34m\u001b[0m\u001b[0m\n\u001b[1;32m    519\u001b[0m             \u001b[0;32mdef\u001b[0m \u001b[0mdo_action\u001b[0m\u001b[0;34m(\u001b[0m\u001b[0mself\u001b[0m\u001b[0;34m,\u001b[0m \u001b[0;34m*\u001b[0m\u001b[0margs\u001b[0m\u001b[0;34m,\u001b[0m \u001b[0;34m**\u001b[0m\u001b[0mkwargs\u001b[0m\u001b[0;34m)\u001b[0m\u001b[0;34m:\u001b[0m\u001b[0;34m\u001b[0m\u001b[0m\n\u001b[0;32m--> 520\u001b[0;31m                 \u001b[0mresponse\u001b[0m \u001b[0;34m=\u001b[0m \u001b[0maction\u001b[0m\u001b[0;34m(\u001b[0m\u001b[0mself\u001b[0m\u001b[0;34m,\u001b[0m \u001b[0;34m*\u001b[0m\u001b[0margs\u001b[0m\u001b[0;34m,\u001b[0m \u001b[0;34m**\u001b[0m\u001b[0mkwargs\u001b[0m\u001b[0;34m)\u001b[0m\u001b[0;34m\u001b[0m\u001b[0m\n\u001b[0m\u001b[1;32m    521\u001b[0m \u001b[0;34m\u001b[0m\u001b[0m\n\u001b[1;32m    522\u001b[0m                 \u001b[0;32mif\u001b[0m \u001b[0mhasattr\u001b[0m\u001b[0;34m(\u001b[0m\u001b[0mself\u001b[0m\u001b[0;34m,\u001b[0m \u001b[0;34m'load'\u001b[0m\u001b[0;34m)\u001b[0m\u001b[0;34m:\u001b[0m\u001b[0;34m\u001b[0m\u001b[0m\n",
      "\u001b[0;32m/Users/yaroslav/anaconda/envs/sep22/lib/python3.5/site-packages/boto3/resources/action.py\u001b[0m in \u001b[0;36m__call__\u001b[0;34m(self, parent, *args, **kwargs)\u001b[0m\n\u001b[1;32m     81\u001b[0m                     operation_name, params)\n\u001b[1;32m     82\u001b[0m \u001b[0;34m\u001b[0m\u001b[0m\n\u001b[0;32m---> 83\u001b[0;31m         \u001b[0mresponse\u001b[0m \u001b[0;34m=\u001b[0m \u001b[0mgetattr\u001b[0m\u001b[0;34m(\u001b[0m\u001b[0mparent\u001b[0m\u001b[0;34m.\u001b[0m\u001b[0mmeta\u001b[0m\u001b[0;34m.\u001b[0m\u001b[0mclient\u001b[0m\u001b[0;34m,\u001b[0m \u001b[0moperation_name\u001b[0m\u001b[0;34m)\u001b[0m\u001b[0;34m(\u001b[0m\u001b[0;34m**\u001b[0m\u001b[0mparams\u001b[0m\u001b[0;34m)\u001b[0m\u001b[0;34m\u001b[0m\u001b[0m\n\u001b[0m\u001b[1;32m     84\u001b[0m \u001b[0;34m\u001b[0m\u001b[0m\n\u001b[1;32m     85\u001b[0m         \u001b[0mlogger\u001b[0m\u001b[0;34m.\u001b[0m\u001b[0mdebug\u001b[0m\u001b[0;34m(\u001b[0m\u001b[0;34m'Response: %r'\u001b[0m\u001b[0;34m,\u001b[0m \u001b[0mresponse\u001b[0m\u001b[0;34m)\u001b[0m\u001b[0;34m\u001b[0m\u001b[0m\n",
      "\u001b[0;32m/Users/yaroslav/anaconda/envs/sep22/lib/python3.5/site-packages/botocore/client.py\u001b[0m in \u001b[0;36m_api_call\u001b[0;34m(self, *args, **kwargs)\u001b[0m\n\u001b[1;32m    310\u001b[0m                     \"%s() only accepts keyword arguments.\" % py_operation_name)\n\u001b[1;32m    311\u001b[0m             \u001b[0;31m# The \"self\" in this scope is referring to the BaseClient.\u001b[0m\u001b[0;34m\u001b[0m\u001b[0;34m\u001b[0m\u001b[0m\n\u001b[0;32m--> 312\u001b[0;31m             \u001b[0;32mreturn\u001b[0m \u001b[0mself\u001b[0m\u001b[0;34m.\u001b[0m\u001b[0m_make_api_call\u001b[0m\u001b[0;34m(\u001b[0m\u001b[0moperation_name\u001b[0m\u001b[0;34m,\u001b[0m \u001b[0mkwargs\u001b[0m\u001b[0;34m)\u001b[0m\u001b[0;34m\u001b[0m\u001b[0m\n\u001b[0m\u001b[1;32m    313\u001b[0m \u001b[0;34m\u001b[0m\u001b[0m\n\u001b[1;32m    314\u001b[0m         \u001b[0m_api_call\u001b[0m\u001b[0;34m.\u001b[0m\u001b[0m__name__\u001b[0m \u001b[0;34m=\u001b[0m \u001b[0mstr\u001b[0m\u001b[0;34m(\u001b[0m\u001b[0mpy_operation_name\u001b[0m\u001b[0;34m)\u001b[0m\u001b[0;34m\u001b[0m\u001b[0m\n",
      "\u001b[0;32m/Users/yaroslav/anaconda/envs/sep22/lib/python3.5/site-packages/botocore/client.py\u001b[0m in \u001b[0;36m_make_api_call\u001b[0;34m(self, operation_name, api_params)\u001b[0m\n\u001b[1;32m    603\u001b[0m             \u001b[0merror_code\u001b[0m \u001b[0;34m=\u001b[0m \u001b[0mparsed_response\u001b[0m\u001b[0;34m.\u001b[0m\u001b[0mget\u001b[0m\u001b[0;34m(\u001b[0m\u001b[0;34m\"Error\"\u001b[0m\u001b[0;34m,\u001b[0m \u001b[0;34m{\u001b[0m\u001b[0;34m}\u001b[0m\u001b[0;34m)\u001b[0m\u001b[0;34m.\u001b[0m\u001b[0mget\u001b[0m\u001b[0;34m(\u001b[0m\u001b[0;34m\"Code\"\u001b[0m\u001b[0;34m)\u001b[0m\u001b[0;34m\u001b[0m\u001b[0m\n\u001b[1;32m    604\u001b[0m             \u001b[0merror_class\u001b[0m \u001b[0;34m=\u001b[0m \u001b[0mself\u001b[0m\u001b[0;34m.\u001b[0m\u001b[0mexceptions\u001b[0m\u001b[0;34m.\u001b[0m\u001b[0mfrom_code\u001b[0m\u001b[0;34m(\u001b[0m\u001b[0merror_code\u001b[0m\u001b[0;34m)\u001b[0m\u001b[0;34m\u001b[0m\u001b[0m\n\u001b[0;32m--> 605\u001b[0;31m             \u001b[0;32mraise\u001b[0m \u001b[0merror_class\u001b[0m\u001b[0;34m(\u001b[0m\u001b[0mparsed_response\u001b[0m\u001b[0;34m,\u001b[0m \u001b[0moperation_name\u001b[0m\u001b[0;34m)\u001b[0m\u001b[0;34m\u001b[0m\u001b[0m\n\u001b[0m\u001b[1;32m    606\u001b[0m         \u001b[0;32melse\u001b[0m\u001b[0;34m:\u001b[0m\u001b[0;34m\u001b[0m\u001b[0m\n\u001b[1;32m    607\u001b[0m             \u001b[0;32mreturn\u001b[0m \u001b[0mparsed_response\u001b[0m\u001b[0;34m\u001b[0m\u001b[0m\n",
      "\u001b[0;31mClientError\u001b[0m: An error occurred (VPCIdNotSpecified) when calling the AuthorizeSecurityGroupIngress operation: No default VPC for this user"
     ]
    }
   ],
   "source": [
    "    security_group.authorize_ingress(\n",
    "      SourceSecurityGroupName=security_group.id,\n",
    "      IpProtocol='All',\n",
    "      FromPort=-1,\n",
    "      ToPort=-1\n",
    "    )\n"
   ]
  },
  {
   "cell_type": "code",
   "execution_count": 500,
   "metadata": {
    "collapsed": false
   },
   "outputs": [
    {
     "data": {
      "text/plain": [
       "'vpc-26e6b35e'"
      ]
     },
     "execution_count": 500,
     "metadata": {},
     "output_type": "execute_result"
    }
   ],
   "source": [
    "security_group.vpc_id"
   ]
  },
  {
   "cell_type": "code",
   "execution_count": null,
   "metadata": {
    "collapsed": true
   },
   "outputs": [],
   "source": [
    "  ec2 = boto3.resource('ec2')\n",
    "\n",
    "  # TODO: add waiting so that instances that \"initializing\" are supported\n",
    "  instances = ec2.instances.filter(\n",
    "    Filters=[{'Name': 'instance-state-name', 'Values': ['running']}])\n",
    "\n",
    "  result = []\n",
    "  for i in instances.all():\n",
    "    inst_name = u.get_name(i.tags)\n",
    "    key_name = i.key_name\n",
    "\n",
    "    if inst_name == name:\n",
    "      if key_name != KEY_NAME:\n",
    "        print(\"name matches, but key name %s doesn't match %s, skipping\"%(key_name, KEY_NAME))\n",
    "        continue\n",
    "      result.append(i)\n",
    "\n",
    "    ec2 = boto3.resource('ec2')\n",
    "  instances = ec2.instances.filter(\n",
    "    Filters=[{'Name': 'instance-state-name', 'Values': ['running']}])\n",
    "\n",
    "  result = []\n",
    "  for i in instances:\n",
    "    names = []\n",
    "    if i.tags:\n",
    "      names = [tag['Value'] for tag in i.tags if tag['Key'] == 'Name']\n",
    "    key_name = i.key_name\n",
    "\n",
    "    assert len(names) <= 1\n",
    "    if names:\n",
    "      inst_name = names[0]\n",
    "    else:\n",
    "      inst_name = ''\n",
    "    if inst_name == name:\n",
    "      if key_name != KEY_NAME:\n",
    "        print(\"name matches, but key name %s doesn't match %s, skipping\"%(key_name, KEY_NAME))\n",
    "        continue\n",
    "      result.append(i)\n",
    "  return result\n"
   ]
  },
  {
   "cell_type": "markdown",
   "metadata": {},
   "source": [
    "## Create EFS"
   ]
  },
  {
   "cell_type": "code",
   "execution_count": 291,
   "metadata": {
    "collapsed": true
   },
   "outputs": [],
   "source": [
    "os.environ['AWS_DEFAULT_REGION']='us-east-1'\n",
    "efs_client=_create_efs_client()"
   ]
  },
  {
   "cell_type": "code",
   "execution_count": 292,
   "metadata": {
    "collapsed": false
   },
   "outputs": [
    {
     "data": {
      "text/plain": [
       "{'FileSystems': [],\n",
       " 'ResponseMetadata': {'HTTPHeaders': {'content-length': '50',\n",
       "   'content-type': 'application/json',\n",
       "   'date': 'Tue, 19 Dec 2017 17:23:01 GMT',\n",
       "   'x-amzn-requestid': '439df84c-e4e1-11e7-bfec-e1d94534db9c'},\n",
       "  'HTTPStatusCode': 200,\n",
       "  'RequestId': '439df84c-e4e1-11e7-bfec-e1d94534db9c',\n",
       "  'RetryAttempts': 0}}"
      ]
     },
     "execution_count": 292,
     "metadata": {},
     "output_type": "execute_result"
    }
   ],
   "source": [
    "efs_client.describe_file_systems()"
   ]
  },
  {
   "cell_type": "code",
   "execution_count": 293,
   "metadata": {
    "collapsed": false
   },
   "outputs": [
    {
     "data": {
      "text/plain": [
       "OrderedDict([('nexus2', ec2.SecurityGroup(id='sg-50cfe125')),\n",
       "             ('nexus00', ec2.SecurityGroup(id='sg-891a13fc')),\n",
       "             ('nexus', ec2.SecurityGroup(id='sg-d0cae4a5'))])"
      ]
     },
     "execution_count": 293,
     "metadata": {},
     "output_type": "execute_result"
    }
   ],
   "source": [
    "c.get_security_group_dict()"
   ]
  },
  {
   "cell_type": "code",
   "execution_count": 340,
   "metadata": {
    "collapsed": true
   },
   "outputs": [],
   "source": [
    "token = str(int(time.time()*1e6)) # epoch usec"
   ]
  },
  {
   "cell_type": "code",
   "execution_count": 346,
   "metadata": {
    "collapsed": false
   },
   "outputs": [
    {
     "name": "stdout",
     "output_type": "stream",
     "text": [
      "An error occurred (FileSystemAlreadyExists) when calling the CreateFileSystem operation: None\n"
     ]
    }
   ],
   "source": [
    "a = None\n",
    "try:\n",
    "  response = efs_client.create_file_system(CreationToken=token, PerformanceMode='generalPurpose')\n",
    "except Exception as e:\n",
    "  print(e)\n",
    "  a = e"
   ]
  },
  {
   "cell_type": "code",
   "execution_count": 351,
   "metadata": {
    "collapsed": false
   },
   "outputs": [
    {
     "data": {
      "text/plain": [
       "'FileSystemAlreadyExists'"
      ]
     },
     "execution_count": 351,
     "metadata": {},
     "output_type": "execute_result"
    }
   ],
   "source": [
    "a.response['Error']['Code']"
   ]
  },
  {
   "cell_type": "code",
   "execution_count": 366,
   "metadata": {
    "collapsed": false
   },
   "outputs": [
    {
     "data": {
      "text/plain": [
       "<module 'util' from '/Users/yaroslav/git0/cluster/util.py'>"
      ]
     },
     "execution_count": 366,
     "metadata": {},
     "output_type": "execute_result"
    }
   ],
   "source": [
    "importlib.reload(u)"
   ]
  },
  {
   "cell_type": "code",
   "execution_count": 367,
   "metadata": {
    "collapsed": true
   },
   "outputs": [],
   "source": [
    "u.create_efs('nexus01')"
   ]
  },
  {
   "cell_type": "code",
   "execution_count": 368,
   "metadata": {
    "collapsed": false
   },
   "outputs": [
    {
     "data": {
      "text/plain": [
       "OrderedDict([('nexus01', 'fs-0f95ab46'), ('nexus00', 'fs-8397a9ca')])"
      ]
     },
     "execution_count": 368,
     "metadata": {},
     "output_type": "execute_result"
    }
   ],
   "source": [
    "u.get_efs_dict()"
   ]
  },
  {
   "cell_type": "code",
   "execution_count": 352,
   "metadata": {
    "collapsed": false
   },
   "outputs": [
    {
     "data": {
      "text/plain": [
       "<botocore.client.EFS at 0x107418c50>"
      ]
     },
     "execution_count": 352,
     "metadata": {},
     "output_type": "execute_result"
    }
   ],
   "source": [
    "efs."
   ]
  },
  {
   "cell_type": "code",
   "execution_count": 32,
   "metadata": {
    "collapsed": true
   },
   "outputs": [],
   "source": [
    "response = efs_client.create_tags(FileSystemId=fs_id, Tags=[{\"Key\":\"name\", \"Value\":\"test_efs\"}])"
   ]
  },
  {
   "cell_type": "code",
   "execution_count": 34,
   "metadata": {
    "collapsed": false
   },
   "outputs": [
    {
     "data": {
      "text/plain": [
       "'fs-4bf940e2'"
      ]
     },
     "execution_count": 34,
     "metadata": {},
     "output_type": "execute_result"
    }
   ],
   "source": [
    "fs_id"
   ]
  },
  {
   "cell_type": "code",
   "execution_count": 363,
   "metadata": {
    "collapsed": true
   },
   "outputs": [],
   "source": [
    "fs_id = u.get1(efs_client.describe_file_systems()['FileSystems'], FileSystemId=-1, CreationToken=token)"
   ]
  },
  {
   "cell_type": "code",
   "execution_count": 364,
   "metadata": {
    "collapsed": false
   },
   "outputs": [
    {
     "data": {
      "text/plain": [
       "{'ResponseMetadata': {'HTTPHeaders': {'content-type': 'application/json',\n",
       "   'date': 'Tue, 19 Dec 2017 18:02:12 GMT',\n",
       "   'x-amzn-requestid': 'bd865df2-e4e6-11e7-9a73-2b548ec68a6f'},\n",
       "  'HTTPStatusCode': 204,\n",
       "  'RequestId': 'bd865df2-e4e6-11e7-9a73-2b548ec68a6f',\n",
       "  'RetryAttempts': 0}}"
      ]
     },
     "execution_count": 364,
     "metadata": {},
     "output_type": "execute_result"
    }
   ],
   "source": [
    "efs_client.create_tags(FileSystemId=fs_id, Tags=u.make_name('nexus00'))"
   ]
  },
  {
   "cell_type": "code",
   "execution_count": 365,
   "metadata": {
    "collapsed": false
   },
   "outputs": [
    {
     "data": {
      "text/plain": [
       "OrderedDict([('nexus00', 'fs-8397a9ca')])"
      ]
     },
     "execution_count": 365,
     "metadata": {},
     "output_type": "execute_result"
    }
   ],
   "source": [
    "u.get_efs_dict()"
   ]
  },
  {
   "cell_type": "code",
   "execution_count": 307,
   "metadata": {
    "collapsed": true
   },
   "outputs": [],
   "source": [
    "fs_id = c.get1(efs_client.describe_file_systems()['FileSystems'], FileSystemId=-1, CreationToken=token)"
   ]
  },
  {
   "cell_type": "code",
   "execution_count": 310,
   "metadata": {
    "collapsed": false
   },
   "outputs": [
    {
     "data": {
      "text/plain": [
       "{'ResponseMetadata': {'HTTPHeaders': {'content-type': 'application/json',\n",
       "   'date': 'Tue, 19 Dec 2017 17:29:19 GMT',\n",
       "   'x-amzn-requestid': '25dd20d1-e4e2-11e7-851c-5bda6b65b79c'},\n",
       "  'HTTPStatusCode': 204,\n",
       "  'RequestId': '25dd20d1-e4e2-11e7-851c-5bda6b65b79c',\n",
       "  'RetryAttempts': 0}}"
      ]
     },
     "execution_count": 310,
     "metadata": {},
     "output_type": "execute_result"
    }
   ],
   "source": [
    "efs_client.create_tags(FileSystemId=fs_id, Tags=c.make_name('nexus00'))"
   ]
  },
  {
   "cell_type": "code",
   "execution_count": 313,
   "metadata": {
    "collapsed": false
   },
   "outputs": [
    {
     "name": "stdout",
     "output_type": "stream",
     "text": [
      "fs-4498a60d\n",
      "{'ResponseMetadata': {'RetryAttempts': 0, 'HTTPStatusCode': 200, 'RequestId': '46bef164-e4e2-11e7-978b-8d2563c5a66a', 'HTTPHeaders': {'x-amzn-requestid': '46bef164-e4e2-11e7-978b-8d2563c5a66a', 'content-type': 'application/json', 'date': 'Tue, 19 Dec 2017 17:30:15 GMT', 'content-length': '75'}}, 'Tags': [{'Value': 'nexus00', 'Key': 'Name'}]}\n"
     ]
    }
   ],
   "source": [
    "response = efs_client.describe_file_systems()\n",
    "for efs_response in response['FileSystems']:\n",
    "  print(efs_response['FileSystemId'])\n",
    "  print(efs_client.describe_tags(FileSystemId=efs_response['FileSystemId']))"
   ]
  },
  {
   "cell_type": "code",
   "execution_count": 326,
   "metadata": {
    "collapsed": true
   },
   "outputs": [],
   "source": [
    "import util as u"
   ]
  },
  {
   "cell_type": "code",
   "execution_count": 334,
   "metadata": {
    "collapsed": true
   },
   "outputs": [],
   "source": [
    "  \"\"\"Returns dictionary of {efs_name: efs_id}\"\"\"\n",
    "  # there's no EC2 resource for EFS objects, so return EFS_ID instead\n",
    "  # https://stackoverflow.com/questions/47870342/no-ec2-resource-for-efs-objects\n",
    "\n",
    "  efs_client = u.create_efs_client()\n",
    "  response = efs_client.describe_file_systems()\n",
    "  assert u.is_good_response(response)\n",
    "  result = OrderedDict()\n",
    "  for efs_response in response['FileSystems']:\n",
    "    fs_id = efs_response['FileSystemId']\n",
    "    tag_response = efs_client.describe_tags(FileSystemId=fs_id)\n",
    "    assert u.is_good_response(tag_response)\n",
    "    key = u.get_name(tag_response['Tags'])\n",
    "    if not key:   # skip EFS's without a name\n",
    "      continue\n",
    "    assert key not in result\n",
    "    result[key] = fs_id\n"
   ]
  },
  {
   "cell_type": "code",
   "execution_count": 370,
   "metadata": {
    "collapsed": false
   },
   "outputs": [
    {
     "data": {
      "text/plain": [
       "'fs-8397a9ca'"
      ]
     },
     "execution_count": 370,
     "metadata": {},
     "output_type": "execute_result"
    }
   ],
   "source": [
    "fs_id"
   ]
  },
  {
   "cell_type": "code",
   "execution_count": 371,
   "metadata": {
    "collapsed": true
   },
   "outputs": [],
   "source": [
    "efs_client.create_mount_target?"
   ]
  },
  {
   "cell_type": "code",
   "execution_count": 373,
   "metadata": {
    "collapsed": false
   },
   "outputs": [
    {
     "data": {
      "text/plain": [
       "[ec2.Subnet(id='subnet-f5e248a8')]"
      ]
     },
     "execution_count": 373,
     "metadata": {},
     "output_type": "execute_result"
    }
   ],
   "source": [
    "list(vpc.subnets.all())"
   ]
  },
  {
   "cell_type": "code",
   "execution_count": 374,
   "metadata": {
    "collapsed": false
   },
   "outputs": [
    {
     "name": "stdout",
     "output_type": "stream",
     "text": [
      "subnet-f5e248a8\n"
     ]
    }
   ],
   "source": [
    "for subnet in vpc.subnets.all():\n",
    "  print(subnet.id)"
   ]
  },
  {
   "cell_type": "code",
   "execution_count": 388,
   "metadata": {
    "collapsed": false
   },
   "outputs": [
    {
     "data": {
      "text/plain": [
       "{'ResponseMetadata': {'HTTPHeaders': {'content-length': '75',\n",
       "   'content-type': 'application/json',\n",
       "   'date': 'Tue, 19 Dec 2017 18:17:51 GMT',\n",
       "   'x-amzn-requestid': 'ece8b9f3-e4e8-11e7-8125-435d90b564e8'},\n",
       "  'HTTPStatusCode': 200,\n",
       "  'RequestId': 'ece8b9f3-e4e8-11e7-8125-435d90b564e8',\n",
       "  'RetryAttempts': 0},\n",
       " 'Tags': [{'Key': 'Name', 'Value': 'nexus00'}]}"
      ]
     },
     "execution_count": 388,
     "metadata": {},
     "output_type": "execute_result"
    }
   ],
   "source": [
    "efs_client.describe_tags(FileSystemId='fs-8397a9ca')"
   ]
  },
  {
   "cell_type": "code",
   "execution_count": 386,
   "metadata": {
    "collapsed": false
   },
   "outputs": [
    {
     "data": {
      "text/plain": [
       "{'FileSystems': [{'CreationTime': datetime.datetime(2017, 12, 19, 10, 3, 44, tzinfo=tzlocal()),\n",
       "   'CreationToken': '1513706624330134',\n",
       "   'Encrypted': False,\n",
       "   'FileSystemId': 'fs-0f95ab46',\n",
       "   'LifeCycleState': 'available',\n",
       "   'Name': 'nexus01',\n",
       "   'NumberOfMountTargets': 0,\n",
       "   'OwnerId': '316880547378',\n",
       "   'PerformanceMode': 'generalPurpose',\n",
       "   'SizeInBytes': {'Value': 6144}},\n",
       "  {'CreationTime': datetime.datetime(2017, 12, 19, 9, 52, 33, tzinfo=tzlocal()),\n",
       "   'CreationToken': '1513705952536349',\n",
       "   'Encrypted': False,\n",
       "   'FileSystemId': 'fs-8397a9ca',\n",
       "   'LifeCycleState': 'available',\n",
       "   'Name': 'nexus00',\n",
       "   'NumberOfMountTargets': 1,\n",
       "   'OwnerId': '316880547378',\n",
       "   'PerformanceMode': 'generalPurpose',\n",
       "   'SizeInBytes': {'Value': 6144}},\n",
       "  {'CreationTime': datetime.datetime(2017, 12, 19, 9, 52, 18, tzinfo=tzlocal()),\n",
       "   'CreationToken': '1513704300869863',\n",
       "   'Encrypted': False,\n",
       "   'FileSystemId': 'fs-8897a9c1',\n",
       "   'LifeCycleState': 'available',\n",
       "   'NumberOfMountTargets': 0,\n",
       "   'OwnerId': '316880547378',\n",
       "   'PerformanceMode': 'generalPurpose',\n",
       "   'SizeInBytes': {'Value': 6144}}],\n",
       " 'ResponseMetadata': {'HTTPHeaders': {'content-length': '914',\n",
       "   'content-type': 'application/json',\n",
       "   'date': 'Tue, 19 Dec 2017 18:14:06 GMT',\n",
       "   'x-amzn-requestid': '666a7d7f-e4e8-11e7-b698-09471602bb2e'},\n",
       "  'HTTPStatusCode': 200,\n",
       "  'RequestId': '666a7d7f-e4e8-11e7-b698-09471602bb2e',\n",
       "  'RetryAttempts': 0}}"
      ]
     },
     "execution_count": 386,
     "metadata": {},
     "output_type": "execute_result"
    }
   ],
   "source": [
    "efs_client.describe_file_systems()"
   ]
  },
  {
   "cell_type": "code",
   "execution_count": null,
   "metadata": {
    "collapsed": true
   },
   "outputs": [],
   "source": [
    "efs_client.create_mount_target(fs_id"
   ]
  },
  {
   "cell_type": "code",
   "execution_count": 379,
   "metadata": {
    "collapsed": true
   },
   "outputs": [],
   "source": [
    "security_group=u.get_security_group_dict()['nexus']\n",
    "subnet = list(vpc.subnets.all())[0]"
   ]
  },
  {
   "cell_type": "code",
   "execution_count": 380,
   "metadata": {
    "collapsed": false
   },
   "outputs": [
    {
     "data": {
      "text/plain": [
       "{'FileSystemId': 'fs-8397a9ca',\n",
       " 'IpAddress': '192.168.1.217',\n",
       " 'LifeCycleState': 'creating',\n",
       " 'MountTargetId': 'fsmt-be9c90f7',\n",
       " 'NetworkInterfaceId': 'eni-6083e1cd',\n",
       " 'OwnerId': '316880547378',\n",
       " 'ResponseMetadata': {'HTTPHeaders': {'content-length': '208',\n",
       "   'content-type': 'application/json',\n",
       "   'date': 'Tue, 19 Dec 2017 18:10:36 GMT',\n",
       "   'x-amzn-requestid': 'e96b9703-e4e7-11e7-8125-435d90b564e8'},\n",
       "  'HTTPStatusCode': 200,\n",
       "  'RequestId': 'e96b9703-e4e7-11e7-8125-435d90b564e8',\n",
       "  'RetryAttempts': 0},\n",
       " 'SubnetId': 'subnet-f5e248a8'}"
      ]
     },
     "execution_count": 380,
     "metadata": {},
     "output_type": "execute_result"
    }
   ],
   "source": [
    "efs_client.create_mount_target(FileSystemId=fs_id, SubnetId=subnet.id, SecurityGroups=[security_group.id])"
   ]
  },
  {
   "cell_type": "code",
   "execution_count": 393,
   "metadata": {
    "collapsed": false
   },
   "outputs": [
    {
     "data": {
      "text/plain": [
       "{'MountTargets': [{'FileSystemId': 'fs-8397a9ca',\n",
       "   'IpAddress': '192.168.1.217',\n",
       "   'LifeCycleState': 'available',\n",
       "   'MountTargetId': 'fsmt-be9c90f7',\n",
       "   'NetworkInterfaceId': 'eni-6083e1cd',\n",
       "   'OwnerId': '316880547378',\n",
       "   'SubnetId': 'subnet-f5e248a8'}],\n",
       " 'ResponseMetadata': {'HTTPHeaders': {'content-length': '260',\n",
       "   'content-type': 'application/json',\n",
       "   'date': 'Tue, 19 Dec 2017 18:23:30 GMT',\n",
       "   'x-amzn-requestid': 'b765e2c5-e4e9-11e7-a0f8-71380bab6b2b'},\n",
       "  'HTTPStatusCode': 200,\n",
       "  'RequestId': 'b765e2c5-e4e9-11e7-a0f8-71380bab6b2b',\n",
       "  'RetryAttempts': 0}}"
      ]
     },
     "execution_count": 393,
     "metadata": {},
     "output_type": "execute_result"
    }
   ],
   "source": [
    "efs_client.describe_mount_targets(FileSystemId=fs_id)"
   ]
  },
  {
   "cell_type": "code",
   "execution_count": 406,
   "metadata": {
    "collapsed": false
   },
   "outputs": [
    {
     "data": {
      "text/plain": [
       "{'ResponseMetadata': {'HTTPHeaders': {'content-type': 'application/json',\n",
       "   'date': 'Tue, 19 Dec 2017 18:34:11 GMT',\n",
       "   'x-amzn-requestid': '34e2dd88-e4eb-11e7-9723-2f715784a176'},\n",
       "  'HTTPStatusCode': 204,\n",
       "  'RequestId': '34e2dd88-e4eb-11e7-9723-2f715784a176',\n",
       "  'RetryAttempts': 0}}"
      ]
     },
     "execution_count": 406,
     "metadata": {},
     "output_type": "execute_result"
    }
   ],
   "source": [
    "efs_client.delete_file_system(FileSystemId='fs-8397a9ca')"
   ]
  },
  {
   "cell_type": "code",
   "execution_count": 407,
   "metadata": {
    "collapsed": false
   },
   "outputs": [
    {
     "data": {
      "text/plain": [
       "'us-east-1c'"
      ]
     },
     "execution_count": 407,
     "metadata": {},
     "output_type": "execute_result"
    }
   ],
   "source": [
    "subnet.availability_zone"
   ]
  },
  {
   "cell_type": "code",
   "execution_count": 405,
   "metadata": {
    "collapsed": false
   },
   "outputs": [
    {
     "ename": "MountTargetNotFound",
     "evalue": "An error occurred (MountTargetNotFound) when calling the DeleteMountTarget operation: mount target does not exist",
     "output_type": "error",
     "traceback": [
      "\u001b[0;31m---------------------------------------------------------------------------\u001b[0m",
      "\u001b[0;31mMountTargetNotFound\u001b[0m                       Traceback (most recent call last)",
      "\u001b[0;32m<ipython-input-405-81caba2497b5>\u001b[0m in \u001b[0;36m<module>\u001b[0;34m()\u001b[0m\n\u001b[0;32m----> 1\u001b[0;31m \u001b[0mefs_client\u001b[0m\u001b[0;34m.\u001b[0m\u001b[0mdelete_mount_target\u001b[0m\u001b[0;34m(\u001b[0m\u001b[0mMountTargetId\u001b[0m\u001b[0;34m=\u001b[0m\u001b[0;34m'fsmt-be9c90f7'\u001b[0m\u001b[0;34m)\u001b[0m\u001b[0;34m\u001b[0m\u001b[0m\n\u001b[0m",
      "\u001b[0;32m/Users/yaroslav/anaconda/envs/sep22/lib/python3.5/site-packages/botocore/client.py\u001b[0m in \u001b[0;36m_api_call\u001b[0;34m(self, *args, **kwargs)\u001b[0m\n\u001b[1;32m    310\u001b[0m                     \"%s() only accepts keyword arguments.\" % py_operation_name)\n\u001b[1;32m    311\u001b[0m             \u001b[0;31m# The \"self\" in this scope is referring to the BaseClient.\u001b[0m\u001b[0;34m\u001b[0m\u001b[0;34m\u001b[0m\u001b[0m\n\u001b[0;32m--> 312\u001b[0;31m             \u001b[0;32mreturn\u001b[0m \u001b[0mself\u001b[0m\u001b[0;34m.\u001b[0m\u001b[0m_make_api_call\u001b[0m\u001b[0;34m(\u001b[0m\u001b[0moperation_name\u001b[0m\u001b[0;34m,\u001b[0m \u001b[0mkwargs\u001b[0m\u001b[0;34m)\u001b[0m\u001b[0;34m\u001b[0m\u001b[0m\n\u001b[0m\u001b[1;32m    313\u001b[0m \u001b[0;34m\u001b[0m\u001b[0m\n\u001b[1;32m    314\u001b[0m         \u001b[0m_api_call\u001b[0m\u001b[0;34m.\u001b[0m\u001b[0m__name__\u001b[0m \u001b[0;34m=\u001b[0m \u001b[0mstr\u001b[0m\u001b[0;34m(\u001b[0m\u001b[0mpy_operation_name\u001b[0m\u001b[0;34m)\u001b[0m\u001b[0;34m\u001b[0m\u001b[0m\n",
      "\u001b[0;32m/Users/yaroslav/anaconda/envs/sep22/lib/python3.5/site-packages/botocore/client.py\u001b[0m in \u001b[0;36m_make_api_call\u001b[0;34m(self, operation_name, api_params)\u001b[0m\n\u001b[1;32m    603\u001b[0m             \u001b[0merror_code\u001b[0m \u001b[0;34m=\u001b[0m \u001b[0mparsed_response\u001b[0m\u001b[0;34m.\u001b[0m\u001b[0mget\u001b[0m\u001b[0;34m(\u001b[0m\u001b[0;34m\"Error\"\u001b[0m\u001b[0;34m,\u001b[0m \u001b[0;34m{\u001b[0m\u001b[0;34m}\u001b[0m\u001b[0;34m)\u001b[0m\u001b[0;34m.\u001b[0m\u001b[0mget\u001b[0m\u001b[0;34m(\u001b[0m\u001b[0;34m\"Code\"\u001b[0m\u001b[0;34m)\u001b[0m\u001b[0;34m\u001b[0m\u001b[0m\n\u001b[1;32m    604\u001b[0m             \u001b[0merror_class\u001b[0m \u001b[0;34m=\u001b[0m \u001b[0mself\u001b[0m\u001b[0;34m.\u001b[0m\u001b[0mexceptions\u001b[0m\u001b[0;34m.\u001b[0m\u001b[0mfrom_code\u001b[0m\u001b[0;34m(\u001b[0m\u001b[0merror_code\u001b[0m\u001b[0;34m)\u001b[0m\u001b[0;34m\u001b[0m\u001b[0m\n\u001b[0;32m--> 605\u001b[0;31m             \u001b[0;32mraise\u001b[0m \u001b[0merror_class\u001b[0m\u001b[0;34m(\u001b[0m\u001b[0mparsed_response\u001b[0m\u001b[0;34m,\u001b[0m \u001b[0moperation_name\u001b[0m\u001b[0;34m)\u001b[0m\u001b[0;34m\u001b[0m\u001b[0m\n\u001b[0m\u001b[1;32m    606\u001b[0m         \u001b[0;32melse\u001b[0m\u001b[0;34m:\u001b[0m\u001b[0;34m\u001b[0m\u001b[0m\n\u001b[1;32m    607\u001b[0m             \u001b[0;32mreturn\u001b[0m \u001b[0mparsed_response\u001b[0m\u001b[0;34m\u001b[0m\u001b[0m\n",
      "\u001b[0;31mMountTargetNotFound\u001b[0m: An error occurred (MountTargetNotFound) when calling the DeleteMountTarget operation: mount target does not exist"
     ]
    }
   ],
   "source": [
    "efs_client.delete_mount_target(MountTargetId='fsmt-be9c90f7')"
   ]
  },
  {
   "cell_type": "code",
   "execution_count": 409,
   "metadata": {
    "collapsed": false
   },
   "outputs": [
    {
     "ename": "TypeError",
     "evalue": "get_waiter() missing 1 required positional argument: 'waiter_name'",
     "output_type": "error",
     "traceback": [
      "\u001b[0;31m---------------------------------------------------------------------------\u001b[0m",
      "\u001b[0;31mTypeError\u001b[0m                                 Traceback (most recent call last)",
      "\u001b[0;32m<ipython-input-409-254777339a85>\u001b[0m in \u001b[0;36m<module>\u001b[0;34m()\u001b[0m\n\u001b[0;32m----> 1\u001b[0;31m \u001b[0mefs_client\u001b[0m\u001b[0;34m.\u001b[0m\u001b[0mget_waiter\u001b[0m\u001b[0;34m(\u001b[0m\u001b[0;34m)\u001b[0m\u001b[0;34m\u001b[0m\u001b[0m\n\u001b[0m",
      "\u001b[0;31mTypeError\u001b[0m: get_waiter() missing 1 required positional argument: 'waiter_name'"
     ]
    }
   ],
   "source": [
    "efs_client."
   ]
  },
  {
   "cell_type": "code",
   "execution_count": 396,
   "metadata": {
    "collapsed": true
   },
   "outputs": [],
   "source": [
    "ec2 = u.create_ec2_resource()"
   ]
  },
  {
   "cell_type": "code",
   "execution_count": 397,
   "metadata": {
    "collapsed": true
   },
   "outputs": [],
   "source": [
    "subnet = ec2.Subnet('subnet-f5e248a8')"
   ]
  },
  {
   "cell_type": "code",
   "execution_count": 398,
   "metadata": {
    "collapsed": false
   },
   "outputs": [
    {
     "data": {
      "text/plain": [
       "'us-east-1c'"
      ]
     },
     "execution_count": 398,
     "metadata": {},
     "output_type": "execute_result"
    }
   ],
   "source": [
    "subnet.availability_zone"
   ]
  },
  {
   "cell_type": "markdown",
   "metadata": {},
   "source": [
    "# Subnet troubleshooting"
   ]
  },
  {
   "cell_type": "code",
   "execution_count": 4,
   "metadata": {
    "collapsed": true
   },
   "outputs": [],
   "source": [
    "good_subnet_id='subnet-4862bf20'\n",
    "bad_subnet_id='subnet-79920c56'"
   ]
  },
  {
   "cell_type": "code",
   "execution_count": 20,
   "metadata": {
    "collapsed": false
   },
   "outputs": [],
   "source": [
    "ec2_resource1=boto3.resource('ec2', 'us-east-1')\n",
    "bad_subnet=ec2_resource1.Subnet('subnet-79920c56')\n",
    "client1 = boto3.client('ec2', 'us-east-1')\n",
    "\n",
    "ec2_resource2=boto3.resource('ec2', 'us-east-2')\n",
    "good_subnet=ec2_resource2.Subnet('subnet-4862bf20')"
   ]
  },
  {
   "cell_type": "code",
   "execution_count": 22,
   "metadata": {
    "collapsed": false
   },
   "outputs": [
    {
     "data": {
      "text/plain": [
       "True"
      ]
     },
     "execution_count": 22,
     "metadata": {},
     "output_type": "execute_result"
    }
   ],
   "source": [
    "bad_subnet.map_public_ip_on_launch"
   ]
  },
  {
   "cell_type": "code",
   "execution_count": 16,
   "metadata": {
    "collapsed": false
   },
   "outputs": [
    {
     "data": {
      "text/plain": [
       "False"
      ]
     },
     "execution_count": 16,
     "metadata": {},
     "output_type": "execute_result"
    }
   ],
   "source": [
    "good_subnet.map_public_ip_on_launch"
   ]
  },
  {
   "cell_type": "code",
   "execution_count": 17,
   "metadata": {
    "collapsed": false
   },
   "outputs": [
    {
     "ename": "AttributeError",
     "evalue": "can't set attribute",
     "output_type": "error",
     "traceback": [
      "\u001b[0;31m---------------------------------------------------------------------------\u001b[0m",
      "\u001b[0;31mAttributeError\u001b[0m                            Traceback (most recent call last)",
      "\u001b[0;32m<ipython-input-17-68a7034042ff>\u001b[0m in \u001b[0;36m<module>\u001b[0;34m()\u001b[0m\n\u001b[0;32m----> 1\u001b[0;31m \u001b[0mgood_subnet\u001b[0m\u001b[0;34m.\u001b[0m\u001b[0mmap_public_ip_on_launch\u001b[0m\u001b[0;34m=\u001b[0m\u001b[0;32mTrue\u001b[0m\u001b[0;34m\u001b[0m\u001b[0m\n\u001b[0m",
      "\u001b[0;31mAttributeError\u001b[0m: can't set attribute"
     ]
    }
   ],
   "source": [
    "good_subnet.map_public_ip_on_launch=True"
   ]
  },
  {
   "cell_type": "code",
   "execution_count": 21,
   "metadata": {
    "collapsed": false
   },
   "outputs": [],
   "source": [
    "response = client1.modify_subnet_attribute(\n",
    "    MapPublicIpOnLaunch={\n",
    "        'Value': True\n",
    "    },\n",
    "    SubnetId='subnet-79920c56'\n",
    ")\n"
   ]
  },
  {
   "cell_type": "code",
   "execution_count": null,
   "metadata": {
    "collapsed": true
   },
   "outputs": [],
   "source": [
    "boto3.resource('ec2', 'us-east-1')"
   ]
  },
  {
   "cell_type": "markdown",
   "metadata": {
    "collapsed": true
   },
   "source": [
    "# Queryin instances"
   ]
  },
  {
   "cell_type": "code",
   "execution_count": 4,
   "metadata": {
    "collapsed": true
   },
   "outputs": [],
   "source": [
    "import os, sys, boto3\n",
    "os.environ['AWS_DEFAULT_REGION']='us-west-2'\n",
    "region = os.environ['AWS_DEFAULT_REGION']\n",
    "client = boto3.client('ec2', region_name=region)\n",
    "ec2 = u.create_ec2_resource()\n",
    "response = client.describe_instances()"
   ]
  },
  {
   "cell_type": "code",
   "execution_count": 5,
   "metadata": {
    "collapsed": false
   },
   "outputs": [],
   "source": [
    "instances = list(ec2.instances.all())"
   ]
  },
  {
   "cell_type": "code",
   "execution_count": 6,
   "metadata": {
    "collapsed": true
   },
   "outputs": [],
   "source": [
    "instance=instances[0]"
   ]
  },
  {
   "cell_type": "code",
   "execution_count": 7,
   "metadata": {
    "collapsed": false
   },
   "outputs": [
    {
     "data": {
      "text/plain": [
       "'34.216.9.68'"
      ]
     },
     "execution_count": 7,
     "metadata": {},
     "output_type": "execute_result"
    }
   ],
   "source": [
    "instance.public_ip_address"
   ]
  },
  {
   "cell_type": "code",
   "execution_count": 9,
   "metadata": {
    "collapsed": false
   },
   "outputs": [
    {
     "data": {
      "text/plain": [
       "'r4.xlarge'"
      ]
     },
     "execution_count": 9,
     "metadata": {},
     "output_type": "execute_result"
    }
   ],
   "source": [
    "instance.instance_type"
   ]
  },
  {
   "cell_type": "code",
   "execution_count": 31,
   "metadata": {
    "collapsed": true
   },
   "outputs": [],
   "source": [
    "ec2.create_instances?"
   ]
  },
  {
   "cell_type": "code",
   "execution_count": 2,
   "metadata": {
    "collapsed": false,
    "scrolled": false
   },
   "outputs": [
    {
     "data": {
      "text/plain": [
       "{'Reservations': [{'Groups': [],\n",
       "   'Instances': [{'AmiLaunchIndex': 0,\n",
       "     'Architecture': 'x86_64',\n",
       "     'BlockDeviceMappings': [{'DeviceName': '/dev/xvda',\n",
       "       'Ebs': {'AttachTime': datetime.datetime(2017, 12, 26, 4, 19, 12, tzinfo=tzutc()),\n",
       "        'DeleteOnTermination': True,\n",
       "        'Status': 'attached',\n",
       "        'VolumeId': 'vol-08604c56267074557'}},\n",
       "      {'DeviceName': '/dev/xvdbo',\n",
       "       'Ebs': {'AttachTime': datetime.datetime(2017, 12, 26, 4, 25, 16, tzinfo=tzutc()),\n",
       "        'DeleteOnTermination': False,\n",
       "        'Status': 'attached',\n",
       "        'VolumeId': 'vol-031c9be6d29b8fac4'}}],\n",
       "     'ClientToken': '21d58244-2ecc-0d59-b648-a3f5eb6950c9_subnet-117af859_1',\n",
       "     'EbsOptimized': False,\n",
       "     'Hypervisor': 'xen',\n",
       "     'IamInstanceProfile': {'Arn': 'arn:aws:iam::316880547378:instance-profile/nodes.0726aa4c-pachydermcluster.kubernetes.com',\n",
       "      'Id': 'AIPAJVWHPW5ZLSTJ2MT3Y'},\n",
       "     'ImageId': 'ami-2fa0ba56',\n",
       "     'InstanceId': 'i-056c288cf6677c393',\n",
       "     'InstanceType': 'r4.xlarge',\n",
       "     'KeyName': 'kubernetes.0726aa4c-pachydermcluster.kubernetes.com-79:6b:55:2e:89:4d:be:42:29:3b:ba:cd:22:c8:ee:58',\n",
       "     'LaunchTime': datetime.datetime(2017, 12, 26, 4, 19, 12, tzinfo=tzutc()),\n",
       "     'Monitoring': {'State': 'enabled'},\n",
       "     'NetworkInterfaces': [{'Association': {'IpOwnerId': 'amazon',\n",
       "        'PublicDnsName': 'ec2-34-216-9-68.us-west-2.compute.amazonaws.com',\n",
       "        'PublicIp': '34.216.9.68'},\n",
       "       'Attachment': {'AttachTime': datetime.datetime(2017, 12, 26, 4, 19, 12, tzinfo=tzutc()),\n",
       "        'AttachmentId': 'eni-attach-bbaf024b',\n",
       "        'DeleteOnTermination': True,\n",
       "        'DeviceIndex': 0,\n",
       "        'Status': 'attached'},\n",
       "       'Description': '',\n",
       "       'Groups': [{'GroupId': 'sg-af9dedd2',\n",
       "         'GroupName': 'nodes.0726aa4c-pachydermcluster.kubernetes.com'}],\n",
       "       'Ipv6Addresses': [],\n",
       "       'MacAddress': '06:d3:b4:36:b7:9c',\n",
       "       'NetworkInterfaceId': 'eni-a1ede693',\n",
       "       'OwnerId': '316880547378',\n",
       "       'PrivateDnsName': 'ip-172-20-34-224.us-west-2.compute.internal',\n",
       "       'PrivateIpAddress': '172.20.34.224',\n",
       "       'PrivateIpAddresses': [{'Association': {'IpOwnerId': 'amazon',\n",
       "          'PublicDnsName': 'ec2-34-216-9-68.us-west-2.compute.amazonaws.com',\n",
       "          'PublicIp': '34.216.9.68'},\n",
       "         'Primary': True,\n",
       "         'PrivateDnsName': 'ip-172-20-34-224.us-west-2.compute.internal',\n",
       "         'PrivateIpAddress': '172.20.34.224'}],\n",
       "       'SourceDestCheck': False,\n",
       "       'Status': 'in-use',\n",
       "       'SubnetId': 'subnet-117af859',\n",
       "       'VpcId': 'vpc-14500972'}],\n",
       "     'Placement': {'AvailabilityZone': 'us-west-2a',\n",
       "      'GroupName': '',\n",
       "      'Tenancy': 'default'},\n",
       "     'PrivateDnsName': 'ip-172-20-34-224.us-west-2.compute.internal',\n",
       "     'PrivateIpAddress': '172.20.34.224',\n",
       "     'ProductCodes': [],\n",
       "     'PublicDnsName': 'ec2-34-216-9-68.us-west-2.compute.amazonaws.com',\n",
       "     'PublicIpAddress': '34.216.9.68',\n",
       "     'RootDeviceName': '/dev/xvda',\n",
       "     'RootDeviceType': 'ebs',\n",
       "     'SecurityGroups': [{'GroupId': 'sg-af9dedd2',\n",
       "       'GroupName': 'nodes.0726aa4c-pachydermcluster.kubernetes.com'}],\n",
       "     'SourceDestCheck': False,\n",
       "     'State': {'Code': 16, 'Name': 'running'},\n",
       "     'StateTransitionReason': '',\n",
       "     'SubnetId': 'subnet-117af859',\n",
       "     'Tags': [{'Key': 'k8s.io/role/node', 'Value': '1'},\n",
       "      {'Key': 'Name',\n",
       "       'Value': 'nodes.0726aa4c-pachydermcluster.kubernetes.com'},\n",
       "      {'Key': 'KubernetesCluster',\n",
       "       'Value': '0726aa4c-pachydermcluster.kubernetes.com'},\n",
       "      {'Key': 'aws:autoscaling:groupName',\n",
       "       'Value': 'nodes.0726aa4c-pachydermcluster.kubernetes.com'}],\n",
       "     'VirtualizationType': 'hvm',\n",
       "     'VpcId': 'vpc-14500972'}],\n",
       "   'OwnerId': '316880547378',\n",
       "   'RequesterId': '226008221399',\n",
       "   'ReservationId': 'r-072746a0bbd36c0cb'},\n",
       "  {'Groups': [],\n",
       "   'Instances': [{'AmiLaunchIndex': 0,\n",
       "     'Architecture': 'x86_64',\n",
       "     'BlockDeviceMappings': [{'DeviceName': '/dev/xvda',\n",
       "       'Ebs': {'AttachTime': datetime.datetime(2017, 12, 26, 4, 19, 14, tzinfo=tzutc()),\n",
       "        'DeleteOnTermination': True,\n",
       "        'Status': 'attached',\n",
       "        'VolumeId': 'vol-0ce1c1c25a016e374'}}],\n",
       "     'ClientToken': 'a5858244-2ee4-7132-15ac-5dab66c51cd1_subnet-40dcfc26_1',\n",
       "     'EbsOptimized': False,\n",
       "     'Hypervisor': 'xen',\n",
       "     'IamInstanceProfile': {'Arn': 'arn:aws:iam::316880547378:instance-profile/nodes.282e747a-pachydermcluster.kubernetes.com',\n",
       "      'Id': 'AIPAIAJQXKIXJTIS7DJ36'},\n",
       "     'ImageId': 'ami-3fa07b47',\n",
       "     'InstanceId': 'i-02df584528e76280e',\n",
       "     'InstanceType': 'r4.xlarge',\n",
       "     'KeyName': 'kubernetes.282e747a-pachydermcluster.kubernetes.com-79:6b:55:2e:89:4d:be:42:29:3b:ba:cd:22:c8:ee:58',\n",
       "     'LaunchTime': datetime.datetime(2017, 12, 26, 4, 19, 13, tzinfo=tzutc()),\n",
       "     'Monitoring': {'State': 'enabled'},\n",
       "     'NetworkInterfaces': [{'Association': {'IpOwnerId': 'amazon',\n",
       "        'PublicDnsName': 'ec2-34-213-240-110.us-west-2.compute.amazonaws.com',\n",
       "        'PublicIp': '34.213.240.110'},\n",
       "       'Attachment': {'AttachTime': datetime.datetime(2017, 12, 26, 4, 19, 13, tzinfo=tzutc()),\n",
       "        'AttachmentId': 'eni-attach-bf7aded8',\n",
       "        'DeleteOnTermination': True,\n",
       "        'DeviceIndex': 0,\n",
       "        'Status': 'attached'},\n",
       "       'Description': '',\n",
       "       'Groups': [{'GroupId': 'sg-56c7672a',\n",
       "         'GroupName': 'nodes.282e747a-pachydermcluster.kubernetes.com'}],\n",
       "       'Ipv6Addresses': [],\n",
       "       'MacAddress': '02:c9:e8:90:63:50',\n",
       "       'NetworkInterfaceId': 'eni-7e05045d',\n",
       "       'OwnerId': '316880547378',\n",
       "       'PrivateDnsName': 'ip-172-20-36-46.us-west-2.compute.internal',\n",
       "       'PrivateIpAddress': '172.20.36.46',\n",
       "       'PrivateIpAddresses': [{'Association': {'IpOwnerId': 'amazon',\n",
       "          'PublicDnsName': 'ec2-34-213-240-110.us-west-2.compute.amazonaws.com',\n",
       "          'PublicIp': '34.213.240.110'},\n",
       "         'Primary': True,\n",
       "         'PrivateDnsName': 'ip-172-20-36-46.us-west-2.compute.internal',\n",
       "         'PrivateIpAddress': '172.20.36.46'}],\n",
       "       'SourceDestCheck': False,\n",
       "       'Status': 'in-use',\n",
       "       'SubnetId': 'subnet-40dcfc26',\n",
       "       'VpcId': 'vpc-f683678f'}],\n",
       "     'Placement': {'AvailabilityZone': 'us-west-2b',\n",
       "      'GroupName': '',\n",
       "      'Tenancy': 'default'},\n",
       "     'PrivateDnsName': 'ip-172-20-36-46.us-west-2.compute.internal',\n",
       "     'PrivateIpAddress': '172.20.36.46',\n",
       "     'ProductCodes': [],\n",
       "     'PublicDnsName': 'ec2-34-213-240-110.us-west-2.compute.amazonaws.com',\n",
       "     'PublicIpAddress': '34.213.240.110',\n",
       "     'RootDeviceName': '/dev/xvda',\n",
       "     'RootDeviceType': 'ebs',\n",
       "     'SecurityGroups': [{'GroupId': 'sg-56c7672a',\n",
       "       'GroupName': 'nodes.282e747a-pachydermcluster.kubernetes.com'}],\n",
       "     'SourceDestCheck': False,\n",
       "     'State': {'Code': 16, 'Name': 'running'},\n",
       "     'StateTransitionReason': '',\n",
       "     'SubnetId': 'subnet-40dcfc26',\n",
       "     'Tags': [{'Key': 'KubernetesCluster',\n",
       "       'Value': '282e747a-pachydermcluster.kubernetes.com'},\n",
       "      {'Key': 'aws:autoscaling:groupName',\n",
       "       'Value': 'nodes.282e747a-pachydermcluster.kubernetes.com'},\n",
       "      {'Key': 'k8s.io/role/node', 'Value': '1'},\n",
       "      {'Key': 'Name',\n",
       "       'Value': 'nodes.282e747a-pachydermcluster.kubernetes.com'}],\n",
       "     'VirtualizationType': 'hvm',\n",
       "     'VpcId': 'vpc-f683678f'}],\n",
       "   'OwnerId': '316880547378',\n",
       "   'RequesterId': '226008221399',\n",
       "   'ReservationId': 'r-00ef06eaae6bddc8a'},\n",
       "  {'Groups': [],\n",
       "   'Instances': [{'AmiLaunchIndex': 0,\n",
       "     'Architecture': 'x86_64',\n",
       "     'BlockDeviceMappings': [{'DeviceName': '/dev/sda1',\n",
       "       'Ebs': {'AttachTime': datetime.datetime(2018, 1, 9, 1, 1, 34, tzinfo=tzutc()),\n",
       "        'DeleteOnTermination': True,\n",
       "        'Status': 'attached',\n",
       "        'VolumeId': 'vol-0d50c1afd6dd8a330'}}],\n",
       "     'ClientToken': '',\n",
       "     'EbsOptimized': False,\n",
       "     'EnaSupport': True,\n",
       "     'Hypervisor': 'xen',\n",
       "     'ImageId': 'ami-3b6bce43',\n",
       "     'InstanceId': 'i-0a2f3e7fec4e72026',\n",
       "     'InstanceType': 'p2.xlarge',\n",
       "     'KeyName': 'nexus',\n",
       "     'LaunchTime': datetime.datetime(2018, 1, 9, 1, 1, 34, tzinfo=tzutc()),\n",
       "     'Monitoring': {'State': 'disabled'},\n",
       "     'NetworkInterfaces': [{'Association': {'IpOwnerId': 'amazon',\n",
       "        'PublicDnsName': 'ec2-52-26-179-153.us-west-2.compute.amazonaws.com',\n",
       "        'PublicIp': '52.26.179.153'},\n",
       "       'Attachment': {'AttachTime': datetime.datetime(2018, 1, 9, 1, 1, 34, tzinfo=tzutc()),\n",
       "        'AttachmentId': 'eni-attach-7b02478b',\n",
       "        'DeleteOnTermination': True,\n",
       "        'DeviceIndex': 0,\n",
       "        'Status': 'attached'},\n",
       "       'Description': '',\n",
       "       'Groups': [{'GroupId': 'sg-0eb0c072', 'GroupName': 'nexus'}],\n",
       "       'Ipv6Addresses': [],\n",
       "       'MacAddress': '06:00:cc:2d:07:78',\n",
       "       'NetworkInterfaceId': 'eni-b631b783',\n",
       "       'OwnerId': '316880547378',\n",
       "       'PrivateDnsName': 'ip-192-168-11-77.us-west-2.compute.internal',\n",
       "       'PrivateIpAddress': '192.168.11.77',\n",
       "       'PrivateIpAddresses': [{'Association': {'IpOwnerId': 'amazon',\n",
       "          'PublicDnsName': 'ec2-52-26-179-153.us-west-2.compute.amazonaws.com',\n",
       "          'PublicIp': '52.26.179.153'},\n",
       "         'Primary': True,\n",
       "         'PrivateDnsName': 'ip-192-168-11-77.us-west-2.compute.internal',\n",
       "         'PrivateIpAddress': '192.168.11.77'}],\n",
       "       'SourceDestCheck': True,\n",
       "       'Status': 'in-use',\n",
       "       'SubnetId': 'subnet-3787dd7f',\n",
       "       'VpcId': 'vpc-7b679f02'}],\n",
       "     'Placement': {'AvailabilityZone': 'us-west-2a',\n",
       "      'GroupName': '',\n",
       "      'Tenancy': 'default'},\n",
       "     'PrivateDnsName': 'ip-192-168-11-77.us-west-2.compute.internal',\n",
       "     'PrivateIpAddress': '192.168.11.77',\n",
       "     'ProductCodes': [],\n",
       "     'PublicDnsName': 'ec2-52-26-179-153.us-west-2.compute.amazonaws.com',\n",
       "     'PublicIpAddress': '52.26.179.153',\n",
       "     'RootDeviceName': '/dev/sda1',\n",
       "     'RootDeviceType': 'ebs',\n",
       "     'SecurityGroups': [{'GroupId': 'sg-0eb0c072', 'GroupName': 'nexus'}],\n",
       "     'SourceDestCheck': True,\n",
       "     'State': {'Code': 16, 'Name': 'running'},\n",
       "     'StateTransitionReason': '',\n",
       "     'SubnetId': 'subnet-3787dd7f',\n",
       "     'Tags': [{'Key': 'Name', 'Value': 'gpubox00'}],\n",
       "     'VirtualizationType': 'hvm',\n",
       "     'VpcId': 'vpc-7b679f02'}],\n",
       "   'OwnerId': '316880547378',\n",
       "   'ReservationId': 'r-0d6bae0e0c7b9625b'},\n",
       "  {'Groups': [],\n",
       "   'Instances': [{'AmiLaunchIndex': 0,\n",
       "     'Architecture': 'x86_64',\n",
       "     'BlockDeviceMappings': [{'DeviceName': '/dev/xvda',\n",
       "       'Ebs': {'AttachTime': datetime.datetime(2017, 12, 26, 4, 18, 2, tzinfo=tzutc()),\n",
       "        'DeleteOnTermination': True,\n",
       "        'Status': 'attached',\n",
       "        'VolumeId': 'vol-00840a058bf987b36'}},\n",
       "      {'DeviceName': '/dev/xvdu',\n",
       "       'Ebs': {'AttachTime': datetime.datetime(2017, 12, 26, 4, 19, 49, tzinfo=tzutc()),\n",
       "        'DeleteOnTermination': False,\n",
       "        'Status': 'attached',\n",
       "        'VolumeId': 'vol-0b48118aff3f6cf73'}},\n",
       "      {'DeviceName': '/dev/xvdv',\n",
       "       'Ebs': {'AttachTime': datetime.datetime(2017, 12, 26, 4, 19, 49, tzinfo=tzutc()),\n",
       "        'DeleteOnTermination': False,\n",
       "        'Status': 'attached',\n",
       "        'VolumeId': 'vol-025053f4080390b0c'}}],\n",
       "     'ClientToken': 'e0058244-2a7d-1aab-75e6-4e2a4571137e_subnet-117af859_1',\n",
       "     'EbsOptimized': False,\n",
       "     'Hypervisor': 'xen',\n",
       "     'IamInstanceProfile': {'Arn': 'arn:aws:iam::316880547378:instance-profile/masters.0726aa4c-pachydermcluster.kubernetes.com',\n",
       "      'Id': 'AIPAJSAE24GJL3XSEIAWY'},\n",
       "     'ImageId': 'ami-2fa0ba56',\n",
       "     'InstanceId': 'i-0dd736f656a6dd117',\n",
       "     'InstanceType': 'r4.xlarge',\n",
       "     'KeyName': 'kubernetes.0726aa4c-pachydermcluster.kubernetes.com-79:6b:55:2e:89:4d:be:42:29:3b:ba:cd:22:c8:ee:58',\n",
       "     'LaunchTime': datetime.datetime(2017, 12, 26, 4, 18, 1, tzinfo=tzutc()),\n",
       "     'Monitoring': {'State': 'enabled'},\n",
       "     'NetworkInterfaces': [{'Association': {'IpOwnerId': 'amazon',\n",
       "        'PublicDnsName': 'ec2-35-165-58-53.us-west-2.compute.amazonaws.com',\n",
       "        'PublicIp': '35.165.58.53'},\n",
       "       'Attachment': {'AttachTime': datetime.datetime(2017, 12, 26, 4, 18, 1, tzinfo=tzutc()),\n",
       "        'AttachmentId': 'eni-attach-f4ae0304',\n",
       "        'DeleteOnTermination': True,\n",
       "        'DeviceIndex': 0,\n",
       "        'Status': 'attached'},\n",
       "       'Description': '',\n",
       "       'Groups': [{'GroupId': 'sg-eb9eee96',\n",
       "         'GroupName': 'masters.0726aa4c-pachydermcluster.kubernetes.com'}],\n",
       "       'Ipv6Addresses': [],\n",
       "       'MacAddress': '06:a4:aa:bb:8d:34',\n",
       "       'NetworkInterfaceId': 'eni-d5e2e9e7',\n",
       "       'OwnerId': '316880547378',\n",
       "       'PrivateDnsName': 'ip-172-20-62-172.us-west-2.compute.internal',\n",
       "       'PrivateIpAddress': '172.20.62.172',\n",
       "       'PrivateIpAddresses': [{'Association': {'IpOwnerId': 'amazon',\n",
       "          'PublicDnsName': 'ec2-35-165-58-53.us-west-2.compute.amazonaws.com',\n",
       "          'PublicIp': '35.165.58.53'},\n",
       "         'Primary': True,\n",
       "         'PrivateDnsName': 'ip-172-20-62-172.us-west-2.compute.internal',\n",
       "         'PrivateIpAddress': '172.20.62.172'}],\n",
       "       'SourceDestCheck': False,\n",
       "       'Status': 'in-use',\n",
       "       'SubnetId': 'subnet-117af859',\n",
       "       'VpcId': 'vpc-14500972'}],\n",
       "     'Placement': {'AvailabilityZone': 'us-west-2a',\n",
       "      'GroupName': '',\n",
       "      'Tenancy': 'default'},\n",
       "     'PrivateDnsName': 'ip-172-20-62-172.us-west-2.compute.internal',\n",
       "     'PrivateIpAddress': '172.20.62.172',\n",
       "     'ProductCodes': [],\n",
       "     'PublicDnsName': 'ec2-35-165-58-53.us-west-2.compute.amazonaws.com',\n",
       "     'PublicIpAddress': '35.165.58.53',\n",
       "     'RootDeviceName': '/dev/xvda',\n",
       "     'RootDeviceType': 'ebs',\n",
       "     'SecurityGroups': [{'GroupId': 'sg-eb9eee96',\n",
       "       'GroupName': 'masters.0726aa4c-pachydermcluster.kubernetes.com'}],\n",
       "     'SourceDestCheck': False,\n",
       "     'State': {'Code': 16, 'Name': 'running'},\n",
       "     'StateTransitionReason': '',\n",
       "     'SubnetId': 'subnet-117af859',\n",
       "     'Tags': [{'Key': 'KubernetesCluster',\n",
       "       'Value': '0726aa4c-pachydermcluster.kubernetes.com'},\n",
       "      {'Key': 'aws:autoscaling:groupName',\n",
       "       'Value': 'master-us-west-2a.masters.0726aa4c-pachydermcluster.kubernetes.com'},\n",
       "      {'Key': 'k8s.io/role/master', 'Value': '1'},\n",
       "      {'Key': 'Name',\n",
       "       'Value': 'master-us-west-2a.masters.0726aa4c-pachydermcluster.kubernetes.com'}],\n",
       "     'VirtualizationType': 'hvm',\n",
       "     'VpcId': 'vpc-14500972'}],\n",
       "   'OwnerId': '316880547378',\n",
       "   'RequesterId': '226008221399',\n",
       "   'ReservationId': 'r-0a4225e61cd8753fd'},\n",
       "  {'Groups': [],\n",
       "   'Instances': [{'AmiLaunchIndex': 0,\n",
       "     'Architecture': 'x86_64',\n",
       "     'BlockDeviceMappings': [{'DeviceName': '/dev/xvda',\n",
       "       'Ebs': {'AttachTime': datetime.datetime(2017, 12, 26, 4, 21, 15, tzinfo=tzutc()),\n",
       "        'DeleteOnTermination': True,\n",
       "        'Status': 'attached',\n",
       "        'VolumeId': 'vol-008d30557600ab11f'}},\n",
       "      {'DeviceName': '/dev/xvdbq',\n",
       "       'Ebs': {'AttachTime': datetime.datetime(2017, 12, 26, 4, 23, 48, tzinfo=tzutc()),\n",
       "        'DeleteOnTermination': False,\n",
       "        'Status': 'attached',\n",
       "        'VolumeId': 'vol-08f0480a25691c38d'}},\n",
       "      {'DeviceName': '/dev/xvdbc',\n",
       "       'Ebs': {'AttachTime': datetime.datetime(2017, 12, 26, 4, 26, 2, tzinfo=tzutc()),\n",
       "        'DeleteOnTermination': False,\n",
       "        'Status': 'attached',\n",
       "        'VolumeId': 'vol-08e03e6997f8bab56'}}],\n",
       "     'ClientToken': '7a958244-363c-b05c-6d9f-53dcbee593a5_subnet-117af859_1',\n",
       "     'EbsOptimized': False,\n",
       "     'Hypervisor': 'xen',\n",
       "     'IamInstanceProfile': {'Arn': 'arn:aws:iam::316880547378:instance-profile/nodes.0726aa4c-pachydermcluster.kubernetes.com',\n",
       "      'Id': 'AIPAJVWHPW5ZLSTJ2MT3Y'},\n",
       "     'ImageId': 'ami-2fa0ba56',\n",
       "     'InstanceId': 'i-08f4f4c45eb0742fd',\n",
       "     'InstanceType': 'r4.xlarge',\n",
       "     'KeyName': 'kubernetes.0726aa4c-pachydermcluster.kubernetes.com-79:6b:55:2e:89:4d:be:42:29:3b:ba:cd:22:c8:ee:58',\n",
       "     'LaunchTime': datetime.datetime(2017, 12, 26, 4, 21, 14, tzinfo=tzutc()),\n",
       "     'Monitoring': {'State': 'enabled'},\n",
       "     'NetworkInterfaces': [{'Association': {'IpOwnerId': 'amazon',\n",
       "        'PublicDnsName': 'ec2-34-214-16-119.us-west-2.compute.amazonaws.com',\n",
       "        'PublicIp': '34.214.16.119'},\n",
       "       'Attachment': {'AttachTime': datetime.datetime(2017, 12, 26, 4, 21, 14, tzinfo=tzutc()),\n",
       "        'AttachmentId': 'eni-attach-8fae037f',\n",
       "        'DeleteOnTermination': True,\n",
       "        'DeviceIndex': 0,\n",
       "        'Status': 'attached'},\n",
       "       'Description': '',\n",
       "       'Groups': [{'GroupId': 'sg-af9dedd2',\n",
       "         'GroupName': 'nodes.0726aa4c-pachydermcluster.kubernetes.com'}],\n",
       "       'Ipv6Addresses': [],\n",
       "       'MacAddress': '06:27:71:53:cb:7c',\n",
       "       'NetworkInterfaceId': 'eni-3bfaf109',\n",
       "       'OwnerId': '316880547378',\n",
       "       'PrivateDnsName': 'ip-172-20-53-19.us-west-2.compute.internal',\n",
       "       'PrivateIpAddress': '172.20.53.19',\n",
       "       'PrivateIpAddresses': [{'Association': {'IpOwnerId': 'amazon',\n",
       "          'PublicDnsName': 'ec2-34-214-16-119.us-west-2.compute.amazonaws.com',\n",
       "          'PublicIp': '34.214.16.119'},\n",
       "         'Primary': True,\n",
       "         'PrivateDnsName': 'ip-172-20-53-19.us-west-2.compute.internal',\n",
       "         'PrivateIpAddress': '172.20.53.19'}],\n",
       "       'SourceDestCheck': False,\n",
       "       'Status': 'in-use',\n",
       "       'SubnetId': 'subnet-117af859',\n",
       "       'VpcId': 'vpc-14500972'}],\n",
       "     'Placement': {'AvailabilityZone': 'us-west-2a',\n",
       "      'GroupName': '',\n",
       "      'Tenancy': 'default'},\n",
       "     'PrivateDnsName': 'ip-172-20-53-19.us-west-2.compute.internal',\n",
       "     'PrivateIpAddress': '172.20.53.19',\n",
       "     'ProductCodes': [],\n",
       "     'PublicDnsName': 'ec2-34-214-16-119.us-west-2.compute.amazonaws.com',\n",
       "     'PublicIpAddress': '34.214.16.119',\n",
       "     'RootDeviceName': '/dev/xvda',\n",
       "     'RootDeviceType': 'ebs',\n",
       "     'SecurityGroups': [{'GroupId': 'sg-af9dedd2',\n",
       "       'GroupName': 'nodes.0726aa4c-pachydermcluster.kubernetes.com'}],\n",
       "     'SourceDestCheck': False,\n",
       "     'State': {'Code': 16, 'Name': 'running'},\n",
       "     'StateTransitionReason': '',\n",
       "     'SubnetId': 'subnet-117af859',\n",
       "     'Tags': [{'Key': 'Name',\n",
       "       'Value': 'nodes.0726aa4c-pachydermcluster.kubernetes.com'},\n",
       "      {'Key': 'aws:autoscaling:groupName',\n",
       "       'Value': 'nodes.0726aa4c-pachydermcluster.kubernetes.com'},\n",
       "      {'Key': 'KubernetesCluster',\n",
       "       'Value': '0726aa4c-pachydermcluster.kubernetes.com'},\n",
       "      {'Key': 'k8s.io/role/node', 'Value': '1'}],\n",
       "     'VirtualizationType': 'hvm',\n",
       "     'VpcId': 'vpc-14500972'}],\n",
       "   'OwnerId': '316880547378',\n",
       "   'RequesterId': '226008221399',\n",
       "   'ReservationId': 'r-07b06627df74ab1f2'},\n",
       "  {'Groups': [],\n",
       "   'Instances': [{'AmiLaunchIndex': 0,\n",
       "     'Architecture': 'x86_64',\n",
       "     'BlockDeviceMappings': [{'DeviceName': '/dev/xvda',\n",
       "       'Ebs': {'AttachTime': datetime.datetime(2017, 12, 26, 4, 21, 40, tzinfo=tzutc()),\n",
       "        'DeleteOnTermination': True,\n",
       "        'Status': 'attached',\n",
       "        'VolumeId': 'vol-06cea5f32e34cd630'}},\n",
       "      {'DeviceName': '/dev/xvdbp',\n",
       "       'Ebs': {'AttachTime': datetime.datetime(2017, 12, 26, 4, 24, 11, tzinfo=tzutc()),\n",
       "        'DeleteOnTermination': False,\n",
       "        'Status': 'attached',\n",
       "        'VolumeId': 'vol-0bc2438247b84fc0c'}}],\n",
       "     'ClientToken': '85958244-37c9-062f-3f0b-b14aec86d951_subnet-40dcfc26_1',\n",
       "     'EbsOptimized': False,\n",
       "     'Hypervisor': 'xen',\n",
       "     'IamInstanceProfile': {'Arn': 'arn:aws:iam::316880547378:instance-profile/nodes.282e747a-pachydermcluster.kubernetes.com',\n",
       "      'Id': 'AIPAIAJQXKIXJTIS7DJ36'},\n",
       "     'ImageId': 'ami-3fa07b47',\n",
       "     'InstanceId': 'i-08b2664ccbc3e51f7',\n",
       "     'InstanceType': 'r4.xlarge',\n",
       "     'KeyName': 'kubernetes.282e747a-pachydermcluster.kubernetes.com-79:6b:55:2e:89:4d:be:42:29:3b:ba:cd:22:c8:ee:58',\n",
       "     'LaunchTime': datetime.datetime(2017, 12, 26, 4, 21, 39, tzinfo=tzutc()),\n",
       "     'Monitoring': {'State': 'enabled'},\n",
       "     'NetworkInterfaces': [{'Association': {'IpOwnerId': 'amazon',\n",
       "        'PublicDnsName': 'ec2-54-148-55-168.us-west-2.compute.amazonaws.com',\n",
       "        'PublicIp': '54.148.55.168'},\n",
       "       'Attachment': {'AttachTime': datetime.datetime(2017, 12, 26, 4, 21, 39, tzinfo=tzutc()),\n",
       "        'AttachmentId': 'eni-attach-8944e0ee',\n",
       "        'DeleteOnTermination': True,\n",
       "        'DeviceIndex': 0,\n",
       "        'Status': 'attached'},\n",
       "       'Description': '',\n",
       "       'Groups': [{'GroupId': 'sg-56c7672a',\n",
       "         'GroupName': 'nodes.282e747a-pachydermcluster.kubernetes.com'}],\n",
       "       'Ipv6Addresses': [],\n",
       "       'MacAddress': '02:ea:dd:5a:b7:de',\n",
       "       'NetworkInterfaceId': 'eni-3e05041d',\n",
       "       'OwnerId': '316880547378',\n",
       "       'PrivateDnsName': 'ip-172-20-61-239.us-west-2.compute.internal',\n",
       "       'PrivateIpAddress': '172.20.61.239',\n",
       "       'PrivateIpAddresses': [{'Association': {'IpOwnerId': 'amazon',\n",
       "          'PublicDnsName': 'ec2-54-148-55-168.us-west-2.compute.amazonaws.com',\n",
       "          'PublicIp': '54.148.55.168'},\n",
       "         'Primary': True,\n",
       "         'PrivateDnsName': 'ip-172-20-61-239.us-west-2.compute.internal',\n",
       "         'PrivateIpAddress': '172.20.61.239'}],\n",
       "       'SourceDestCheck': False,\n",
       "       'Status': 'in-use',\n",
       "       'SubnetId': 'subnet-40dcfc26',\n",
       "       'VpcId': 'vpc-f683678f'}],\n",
       "     'Placement': {'AvailabilityZone': 'us-west-2b',\n",
       "      'GroupName': '',\n",
       "      'Tenancy': 'default'},\n",
       "     'PrivateDnsName': 'ip-172-20-61-239.us-west-2.compute.internal',\n",
       "     'PrivateIpAddress': '172.20.61.239',\n",
       "     'ProductCodes': [],\n",
       "     'PublicDnsName': 'ec2-54-148-55-168.us-west-2.compute.amazonaws.com',\n",
       "     'PublicIpAddress': '54.148.55.168',\n",
       "     'RootDeviceName': '/dev/xvda',\n",
       "     'RootDeviceType': 'ebs',\n",
       "     'SecurityGroups': [{'GroupId': 'sg-56c7672a',\n",
       "       'GroupName': 'nodes.282e747a-pachydermcluster.kubernetes.com'}],\n",
       "     'SourceDestCheck': False,\n",
       "     'State': {'Code': 16, 'Name': 'running'},\n",
       "     'StateTransitionReason': '',\n",
       "     'SubnetId': 'subnet-40dcfc26',\n",
       "     'Tags': [{'Key': 'k8s.io/role/node', 'Value': '1'},\n",
       "      {'Key': 'Name',\n",
       "       'Value': 'nodes.282e747a-pachydermcluster.kubernetes.com'},\n",
       "      {'Key': 'KubernetesCluster',\n",
       "       'Value': '282e747a-pachydermcluster.kubernetes.com'},\n",
       "      {'Key': 'aws:autoscaling:groupName',\n",
       "       'Value': 'nodes.282e747a-pachydermcluster.kubernetes.com'}],\n",
       "     'VirtualizationType': 'hvm',\n",
       "     'VpcId': 'vpc-f683678f'}],\n",
       "   'OwnerId': '316880547378',\n",
       "   'RequesterId': '226008221399',\n",
       "   'ReservationId': 'r-002b24a4f9ea0d6ac'},\n",
       "  {'Groups': [],\n",
       "   'Instances': [{'AmiLaunchIndex': 0,\n",
       "     'Architecture': 'x86_64',\n",
       "     'BlockDeviceMappings': [{'DeviceName': '/dev/xvda',\n",
       "       'Ebs': {'AttachTime': datetime.datetime(2017, 12, 26, 4, 18, 47, tzinfo=tzutc()),\n",
       "        'DeleteOnTermination': True,\n",
       "        'Status': 'attached',\n",
       "        'VolumeId': 'vol-0d2b1a12eee59fde7'}},\n",
       "      {'DeviceName': '/dev/xvdu',\n",
       "       'Ebs': {'AttachTime': datetime.datetime(2017, 12, 26, 4, 21, 9, tzinfo=tzutc()),\n",
       "        'DeleteOnTermination': False,\n",
       "        'Status': 'attached',\n",
       "        'VolumeId': 'vol-0f5f2efeef56aabc5'}},\n",
       "      {'DeviceName': '/dev/xvdv',\n",
       "       'Ebs': {'AttachTime': datetime.datetime(2017, 12, 26, 4, 21, 9, tzinfo=tzutc()),\n",
       "        'DeleteOnTermination': False,\n",
       "        'Status': 'attached',\n",
       "        'VolumeId': 'vol-0511a82cb21d7c038'}}],\n",
       "     'ClientToken': '91c58244-2d40-61b7-0393-daa08f957908_subnet-40dcfc26_1',\n",
       "     'EbsOptimized': False,\n",
       "     'Hypervisor': 'xen',\n",
       "     'IamInstanceProfile': {'Arn': 'arn:aws:iam::316880547378:instance-profile/masters.282e747a-pachydermcluster.kubernetes.com',\n",
       "      'Id': 'AIPAIVSSNE6EH2S57SNZG'},\n",
       "     'ImageId': 'ami-3fa07b47',\n",
       "     'InstanceId': 'i-0b186c01e65d805c0',\n",
       "     'InstanceType': 'r4.xlarge',\n",
       "     'KeyName': 'kubernetes.282e747a-pachydermcluster.kubernetes.com-79:6b:55:2e:89:4d:be:42:29:3b:ba:cd:22:c8:ee:58',\n",
       "     'LaunchTime': datetime.datetime(2017, 12, 26, 4, 18, 46, tzinfo=tzutc()),\n",
       "     'Monitoring': {'State': 'enabled'},\n",
       "     'NetworkInterfaces': [{'Association': {'IpOwnerId': 'amazon',\n",
       "        'PublicDnsName': 'ec2-34-214-219-29.us-west-2.compute.amazonaws.com',\n",
       "        'PublicIp': '34.214.219.29'},\n",
       "       'Attachment': {'AttachTime': datetime.datetime(2017, 12, 26, 4, 18, 46, tzinfo=tzutc()),\n",
       "        'AttachmentId': 'eni-attach-cc7adeab',\n",
       "        'DeleteOnTermination': True,\n",
       "        'DeviceIndex': 0,\n",
       "        'Status': 'attached'},\n",
       "       'Description': '',\n",
       "       'Groups': [{'GroupId': 'sg-78c66604',\n",
       "         'GroupName': 'masters.282e747a-pachydermcluster.kubernetes.com'}],\n",
       "       'Ipv6Addresses': [],\n",
       "       'MacAddress': '02:f8:fb:30:3e:56',\n",
       "       'NetworkInterfaceId': 'eni-ca0100e9',\n",
       "       'OwnerId': '316880547378',\n",
       "       'PrivateDnsName': 'ip-172-20-60-51.us-west-2.compute.internal',\n",
       "       'PrivateIpAddress': '172.20.60.51',\n",
       "       'PrivateIpAddresses': [{'Association': {'IpOwnerId': 'amazon',\n",
       "          'PublicDnsName': 'ec2-34-214-219-29.us-west-2.compute.amazonaws.com',\n",
       "          'PublicIp': '34.214.219.29'},\n",
       "         'Primary': True,\n",
       "         'PrivateDnsName': 'ip-172-20-60-51.us-west-2.compute.internal',\n",
       "         'PrivateIpAddress': '172.20.60.51'}],\n",
       "       'SourceDestCheck': False,\n",
       "       'Status': 'in-use',\n",
       "       'SubnetId': 'subnet-40dcfc26',\n",
       "       'VpcId': 'vpc-f683678f'}],\n",
       "     'Placement': {'AvailabilityZone': 'us-west-2b',\n",
       "      'GroupName': '',\n",
       "      'Tenancy': 'default'},\n",
       "     'PrivateDnsName': 'ip-172-20-60-51.us-west-2.compute.internal',\n",
       "     'PrivateIpAddress': '172.20.60.51',\n",
       "     'ProductCodes': [],\n",
       "     'PublicDnsName': 'ec2-34-214-219-29.us-west-2.compute.amazonaws.com',\n",
       "     'PublicIpAddress': '34.214.219.29',\n",
       "     'RootDeviceName': '/dev/xvda',\n",
       "     'RootDeviceType': 'ebs',\n",
       "     'SecurityGroups': [{'GroupId': 'sg-78c66604',\n",
       "       'GroupName': 'masters.282e747a-pachydermcluster.kubernetes.com'}],\n",
       "     'SourceDestCheck': False,\n",
       "     'State': {'Code': 16, 'Name': 'running'},\n",
       "     'StateTransitionReason': '',\n",
       "     'SubnetId': 'subnet-40dcfc26',\n",
       "     'Tags': [{'Key': 'Name',\n",
       "       'Value': 'master-us-west-2b.masters.282e747a-pachydermcluster.kubernetes.com'},\n",
       "      {'Key': 'KubernetesCluster',\n",
       "       'Value': '282e747a-pachydermcluster.kubernetes.com'},\n",
       "      {'Key': 'aws:autoscaling:groupName',\n",
       "       'Value': 'master-us-west-2b.masters.282e747a-pachydermcluster.kubernetes.com'},\n",
       "      {'Key': 'k8s.io/role/master', 'Value': '1'}],\n",
       "     'VirtualizationType': 'hvm',\n",
       "     'VpcId': 'vpc-f683678f'}],\n",
       "   'OwnerId': '316880547378',\n",
       "   'RequesterId': '226008221399',\n",
       "   'ReservationId': 'r-00610366bd2fcbfc8'}],\n",
       " 'ResponseMetadata': {'HTTPHeaders': {'content-type': 'text/xml;charset=UTF-8',\n",
       "   'date': 'Tue, 09 Jan 2018 22:06:19 GMT',\n",
       "   'server': 'AmazonEC2',\n",
       "   'transfer-encoding': 'chunked',\n",
       "   'vary': 'Accept-Encoding'},\n",
       "  'HTTPStatusCode': 200,\n",
       "  'RequestId': '089bcb03-9efe-49fd-99ce-7c48f93499fb',\n",
       "  'RetryAttempts': 0}}"
      ]
     },
     "execution_count": 2,
     "metadata": {},
     "output_type": "execute_result"
    }
   ],
   "source": [
    "client.describe_instances()"
   ]
  },
  {
   "cell_type": "code",
   "execution_count": 14,
   "metadata": {
    "collapsed": true
   },
   "outputs": [],
   "source": [
    "sys.path.insert(0, os.environ['HOME']+'/git0/cluster')\n",
    "import util as u"
   ]
  },
  {
   "cell_type": "code",
   "execution_count": 15,
   "metadata": {
    "collapsed": false
   },
   "outputs": [
    {
     "data": {
      "text/plain": [
       "'sanc00'"
      ]
     },
     "execution_count": 15,
     "metadata": {},
     "output_type": "execute_result"
    }
   ],
   "source": [
    "u.get_name(instance.tags)"
   ]
  },
  {
   "cell_type": "code",
   "execution_count": 18,
   "metadata": {
    "collapsed": false
   },
   "outputs": [
    {
     "data": {
      "text/plain": [
       "datetime.datetime(2017, 12, 22, 0, 50, 10, tzinfo=tzutc())"
      ]
     },
     "execution_count": 18,
     "metadata": {},
     "output_type": "execute_result"
    }
   ],
   "source": [
    "instance.launch_time"
   ]
  },
  {
   "cell_type": "code",
   "execution_count": null,
   "metadata": {
    "collapsed": true
   },
   "outputs": [],
   "source": [
    "instance."
   ]
  },
  {
   "cell_type": "code",
   "execution_count": 16,
   "metadata": {
    "collapsed": false
   },
   "outputs": [
    {
     "data": {
      "text/plain": [
       "datetime.datetime(2017, 12, 22, 0, 50, 10, tzinfo=tzutc())"
      ]
     },
     "execution_count": 16,
     "metadata": {},
     "output_type": "execute_result"
    }
   ],
   "source": [
    "instance.launch_time"
   ]
  },
  {
   "cell_type": "code",
   "execution_count": 12,
   "metadata": {
    "collapsed": false
   },
   "outputs": [
    {
     "data": {
      "text/plain": [
       "[{'Key': 'Name', 'Value': 'sanc00'}]"
      ]
     },
     "execution_count": 12,
     "metadata": {},
     "output_type": "execute_result"
    }
   ],
   "source": [
    "instance.tags"
   ]
  },
  {
   "cell_type": "code",
   "execution_count": 155,
   "metadata": {
    "collapsed": true
   },
   "outputs": [],
   "source": [
    "ami=\"ami-45ead225\"\n",
    "instances = ec2.create_instances(\n",
    "    ImageId=ami, InstanceType='t2.micro', MaxCount=1, MinCount=1,\n",
    "    NetworkInterfaces=[{'SubnetId': subnet.id, 'DeviceIndex': 0, 'AssociatePublicIpAddress': True, 'Groups': [sec_group.group_id]}])"
   ]
  },
  {
   "cell_type": "code",
   "execution_count": 538,
   "metadata": {
    "collapsed": false
   },
   "outputs": [
    {
     "data": {
      "text/plain": [
       "'i-00b80c5e0d4981f6b'"
      ]
     },
     "execution_count": 538,
     "metadata": {},
     "output_type": "execute_result"
    }
   ],
   "source": [
    "instances[0].id"
   ]
  },
  {
   "cell_type": "code",
   "execution_count": 159,
   "metadata": {
    "collapsed": true
   },
   "outputs": [],
   "source": [
    "instance = instances[0]"
   ]
  },
  {
   "cell_type": "code",
   "execution_count": 540,
   "metadata": {
    "collapsed": true
   },
   "outputs": [],
   "source": [
    "instance.load()"
   ]
  },
  {
   "cell_type": "code",
   "execution_count": 542,
   "metadata": {
    "collapsed": false
   },
   "outputs": [
    {
     "ename": "AttributeError",
     "evalue": "'NoneType' object has no attribute 'get'",
     "output_type": "error",
     "traceback": [
      "\u001b[0;31m---------------------------------------------------------------------------\u001b[0m",
      "\u001b[0;31mAttributeError\u001b[0m                            Traceback (most recent call last)",
      "\u001b[0;32m<ipython-input-542-6b31ca56c744>\u001b[0m in \u001b[0;36m<module>\u001b[0;34m()\u001b[0m\n\u001b[0;32m----> 1\u001b[0;31m \u001b[0minstance\u001b[0m\u001b[0;34m.\u001b[0m\u001b[0miam_instance_profile\u001b[0m\u001b[0;34m\u001b[0m\u001b[0m\n\u001b[0m",
      "\u001b[0;32m/Users/yaroslav/anaconda/envs/sep22/lib/python3.5/site-packages/boto3/resources/factory.py\u001b[0m in \u001b[0;36mproperty_loader\u001b[0;34m(self)\u001b[0m\n\u001b[1;32m    343\u001b[0m                             self.__class__.__name__))\n\u001b[1;32m    344\u001b[0m \u001b[0;34m\u001b[0m\u001b[0m\n\u001b[0;32m--> 345\u001b[0;31m             \u001b[0;32mreturn\u001b[0m \u001b[0mself\u001b[0m\u001b[0;34m.\u001b[0m\u001b[0mmeta\u001b[0m\u001b[0;34m.\u001b[0m\u001b[0mdata\u001b[0m\u001b[0;34m.\u001b[0m\u001b[0mget\u001b[0m\u001b[0;34m(\u001b[0m\u001b[0mname\u001b[0m\u001b[0;34m)\u001b[0m\u001b[0;34m\u001b[0m\u001b[0m\n\u001b[0m\u001b[1;32m    346\u001b[0m \u001b[0;34m\u001b[0m\u001b[0m\n\u001b[1;32m    347\u001b[0m         \u001b[0mproperty_loader\u001b[0m\u001b[0;34m.\u001b[0m\u001b[0m__name__\u001b[0m \u001b[0;34m=\u001b[0m \u001b[0mstr\u001b[0m\u001b[0;34m(\u001b[0m\u001b[0msnake_cased\u001b[0m\u001b[0;34m)\u001b[0m\u001b[0;34m\u001b[0m\u001b[0m\n",
      "\u001b[0;31mAttributeError\u001b[0m: 'NoneType' object has no attribute 'get'"
     ]
    }
   ],
   "source": [
    "instance.iam_instance_profile"
   ]
  },
  {
   "cell_type": "markdown",
   "metadata": {},
   "source": [
    "# Uninitialize many instances"
   ]
  },
  {
   "cell_type": "code",
   "execution_count": 4,
   "metadata": {
    "collapsed": false
   },
   "outputs": [
    {
     "name": "stdout",
     "output_type": "stream",
     "text": [
      "i-05a227278056dea5e\n",
      "i-0d32740b5d1a6b0b8\n",
      "i-0f2fc22c05c1e523d\n",
      "i-02c967a42d0542711\n"
     ]
    }
   ],
   "source": [
    "import os,boto3\n",
    "os.environ['AWS_DEFAULT_REGION']='us-east-1'\n",
    "region = os.environ['AWS_DEFAULT_REGION']\n",
    "client = boto3.client('ec2', region_name=region)\n",
    "ec2 = boto3.resource('ec2', region_name=region)\n",
    "\n",
    "for instance in ec2.instances.all():\n",
    "  if instance.state['Name'] == 'running':\n",
    "    print(instance.id)\n"
   ]
  },
  {
   "cell_type": "code",
   "execution_count": 6,
   "metadata": {
    "collapsed": true
   },
   "outputs": [],
   "source": [
    "instance=list(ec2.instances.all())[0]"
   ]
  },
  {
   "cell_type": "code",
   "execution_count": 7,
   "metadata": {
    "collapsed": false
   },
   "outputs": [
    {
     "data": {
      "text/plain": [
       "'54.224.204.197'"
      ]
     },
     "execution_count": 7,
     "metadata": {},
     "output_type": "execute_result"
    }
   ],
   "source": [
    "instance.public_ip_address"
   ]
  },
  {
   "cell_type": "code",
   "execution_count": 8,
   "metadata": {
    "collapsed": false
   },
   "outputs": [
    {
     "data": {
      "text/plain": [
       "'nexus'"
      ]
     },
     "execution_count": 8,
     "metadata": {},
     "output_type": "execute_result"
    }
   ],
   "source": [
    "instance.key_name"
   ]
  },
  {
   "cell_type": "markdown",
   "metadata": {},
   "source": [
    "# Job level debugging"
   ]
  },
  {
   "cell_type": "code",
   "execution_count": 15,
   "metadata": {
    "collapsed": true
   },
   "outputs": [],
   "source": [
    "import sys\n",
    "sys.path.insert(0, os.environ['HOME']+'/git0/cluster')\n",
    "import aws"
   ]
  },
  {
   "cell_type": "code",
   "execution_count": 17,
   "metadata": {
    "collapsed": false
   },
   "outputs": [
    {
     "name": "stdout",
     "output_type": "stream",
     "text": [
      "Found existing job cifar-worker\n"
     ]
    }
   ],
   "source": [
    "worker_job = aws.server_job('cifar-worker', num_tasks=1,availability_zone='us-east-1c')"
   ]
  },
  {
   "cell_type": "code",
   "execution_count": 20,
   "metadata": {
    "collapsed": false
   },
   "outputs": [
    {
     "name": "stdout",
     "output_type": "stream",
     "text": [
      "2017-12-27 04:50:31.728987 cifar-worker:0: (192.168.35.110) Running initialize\n",
      "ssh_to_host ubuntu@54.83.131.12\n",
      "2017-12-27 04:50:33.672796 cifar-worker:0: (192.168.35.110) Checking for initialized file\n",
      "2017-12-27 04:50:34.239068 cifar-worker:0: (192.168.35.110) downloading /tmp/is_initialized to /tmp/tasklogs/0-1514346633855078.is_initialized\n",
      "2017-12-27 04:50:35.107455 cifar-worker:0: (192.168.35.110) reusing previous initialized state\n",
      "2017-12-27 04:50:35.274303 cifar-worker:0: (192.168.35.110) run_sync: tmux kill-session -t tmux\n",
      "2017-12-27 04:50:35.941431 cifar-worker:0: (192.168.35.110) run_sync returned: \n",
      "2017-12-27 04:50:36.111033 cifar-worker:0: (192.168.35.110) run_sync: tmux new-session -s tmux -n 0 -d\n",
      "2017-12-27 04:50:36.651738 cifar-worker:0: (192.168.35.110) run_sync returned: \n",
      "2017-12-27 04:50:37.012613 cifar-worker:0: (192.168.35.110) Checking for initialized file\n",
      "2017-12-27 04:50:37.528438 cifar-worker:0: (192.168.35.110) downloading /tmp/is_initialized to /tmp/tasklogs/0-1514346637184593.is_initialized\n"
     ]
    }
   ],
   "source": [
    "worker_job.wait_until_ready()\n",
    "worker_task = worker_job.tasks[0]"
   ]
  },
  {
   "cell_type": "code",
   "execution_count": 21,
   "metadata": {
    "collapsed": false
   },
   "outputs": [
    {
     "name": "stdout",
     "output_type": "stream",
     "text": [
      "2017-12-27 04:50:46.878479 cifar-worker:0: (192.168.35.110) tmux> ls\n",
      "2017-12-27 04:50:48.154443 cifar-worker:0: (192.168.35.110) run_sync: mkdir -p /tmp/tmux\n",
      "2017-12-27 04:50:48.933499 cifar-worker:0: (192.168.35.110) run_sync returned: \n",
      "2017-12-27 04:50:49.086868 cifar-worker:0: (192.168.35.110) run_sync: tmux send-keys -t tmux:0 'ls; echo $? > /tmp/tmux/2.1514346649086852.out' Enter\n",
      "2017-12-27 04:50:49.597799 cifar-worker:0: (192.168.35.110) run_sync returned: \n",
      "2017-12-27 04:50:50.730751 cifar-worker:0: (192.168.35.110) downloading /tmp/tmux/2.1514346649086852.out to /tmp/tmux/1514346650231037\n"
     ]
    }
   ],
   "source": [
    "worker_task.run('ls')"
   ]
  },
  {
   "cell_type": "code",
   "execution_count": 22,
   "metadata": {
    "collapsed": false
   },
   "outputs": [
    {
     "name": "stdout",
     "output_type": "stream",
     "text": [
      "2017-12-27 04:51:44.540383 cifar-worker:0: (192.168.35.110) Remote file cifar10_main.py exists, skipping\n"
     ]
    }
   ],
   "source": [
    "open('/tmp/hi.txt','w').write(\"hello\")\n",
    "worker_task.upload('/tmp/hi.txt', 'cifar10_main.py')"
   ]
  },
  {
   "cell_type": "markdown",
   "metadata": {},
   "source": [
    "# Time conversions"
   ]
  },
  {
   "cell_type": "code",
   "execution_count": 7,
   "metadata": {
    "collapsed": false
   },
   "outputs": [],
   "source": [
    "from operator import itemgetter\n",
    "\n",
    "ec2 = u.create_ec2_resource()\n",
    "instances = [(u.seconds_from_datetime(i.launch_time), i) for i in ec2.instances.all()]\n",
    "sorted_instances = sorted(instances, key=itemgetter(0))\n"
   ]
  },
  {
   "cell_type": "code",
   "execution_count": 9,
   "metadata": {
    "collapsed": false
   },
   "outputs": [],
   "source": [
    "inst=sorted_instances[-1][1]"
   ]
  },
  {
   "cell_type": "code",
   "execution_count": 10,
   "metadata": {
    "collapsed": false
   },
   "outputs": [
    {
     "data": {
      "text/plain": [
       "'0.gpubox.deleteme'"
      ]
     },
     "execution_count": 10,
     "metadata": {},
     "output_type": "execute_result"
    }
   ],
   "source": [
    "u.get_name(inst.tags)"
   ]
  },
  {
   "cell_type": "code",
   "execution_count": 11,
   "metadata": {
    "collapsed": false
   },
   "outputs": [
    {
     "data": {
      "text/plain": [
       "datetime.datetime(2018, 1, 27, 0, 58, 46, tzinfo=tzutc())"
      ]
     },
     "execution_count": 11,
     "metadata": {},
     "output_type": "execute_result"
    }
   ],
   "source": [
    "inst.launch_time"
   ]
  },
  {
   "cell_type": "code",
   "execution_count": 12,
   "metadata": {
    "collapsed": true
   },
   "outputs": [],
   "source": [
    "import time"
   ]
  },
  {
   "cell_type": "code",
   "execution_count": 14,
   "metadata": {
    "collapsed": false
   },
   "outputs": [
    {
     "data": {
      "text/plain": [
       "1517043526.0"
      ]
     },
     "execution_count": 14,
     "metadata": {},
     "output_type": "execute_result"
    }
   ],
   "source": [
    "dt=inst.launch_time\n",
    "time.mktime(dt.utctimetuple())"
   ]
  },
  {
   "cell_type": "code",
   "execution_count": 20,
   "metadata": {
    "collapsed": true
   },
   "outputs": [],
   "source": [
    "from datetime import date"
   ]
  },
  {
   "cell_type": "code",
   "execution_count": 21,
   "metadata": {
    "collapsed": false
   },
   "outputs": [
    {
     "ename": "AttributeError",
     "evalue": "'datetime.date' object has no attribute 'tzinfo'",
     "output_type": "error",
     "traceback": [
      "\u001b[0;31m---------------------------------------------------------------------------\u001b[0m",
      "\u001b[0;31mAttributeError\u001b[0m                            Traceback (most recent call last)",
      "\u001b[0;32m<ipython-input-21-1f073e52fb31>\u001b[0m in \u001b[0;36m<module>\u001b[0;34m()\u001b[0m\n\u001b[1;32m      1\u001b[0m \u001b[0;32mimport\u001b[0m \u001b[0mpytz\u001b[0m\u001b[0;34m\u001b[0m\u001b[0m\n\u001b[1;32m      2\u001b[0m \u001b[0mutc\u001b[0m \u001b[0;34m=\u001b[0m \u001b[0mpytz\u001b[0m\u001b[0;34m.\u001b[0m\u001b[0mUTC\u001b[0m\u001b[0;34m\u001b[0m\u001b[0m\n\u001b[0;32m----> 3\u001b[0;31m \u001b[0mutc\u001b[0m\u001b[0;34m.\u001b[0m\u001b[0mlocalize\u001b[0m\u001b[0;34m(\u001b[0m\u001b[0mdate\u001b[0m\u001b[0;34m.\u001b[0m\u001b[0mfromtimestamp\u001b[0m\u001b[0;34m(\u001b[0m\u001b[0;36m1517043526.0\u001b[0m\u001b[0;34m)\u001b[0m\u001b[0;34m)\u001b[0m\u001b[0;34m\u001b[0m\u001b[0m\n\u001b[0m",
      "\u001b[0;32m/Users/yaroslav/anaconda/lib/python3.5/site-packages/pytz/__init__.py\u001b[0m in \u001b[0;36mlocalize\u001b[0;34m(self, dt, is_dst)\u001b[0m\n\u001b[1;32m    224\u001b[0m     \u001b[0;32mdef\u001b[0m \u001b[0mlocalize\u001b[0m\u001b[0;34m(\u001b[0m\u001b[0mself\u001b[0m\u001b[0;34m,\u001b[0m \u001b[0mdt\u001b[0m\u001b[0;34m,\u001b[0m \u001b[0mis_dst\u001b[0m\u001b[0;34m=\u001b[0m\u001b[0;32mFalse\u001b[0m\u001b[0;34m)\u001b[0m\u001b[0;34m:\u001b[0m\u001b[0;34m\u001b[0m\u001b[0m\n\u001b[1;32m    225\u001b[0m         \u001b[0;34m'''Convert naive time to local time'''\u001b[0m\u001b[0;34m\u001b[0m\u001b[0m\n\u001b[0;32m--> 226\u001b[0;31m         \u001b[0;32mif\u001b[0m \u001b[0mdt\u001b[0m\u001b[0;34m.\u001b[0m\u001b[0mtzinfo\u001b[0m \u001b[0;32mis\u001b[0m \u001b[0;32mnot\u001b[0m \u001b[0;32mNone\u001b[0m\u001b[0;34m:\u001b[0m\u001b[0;34m\u001b[0m\u001b[0m\n\u001b[0m\u001b[1;32m    227\u001b[0m             \u001b[0;32mraise\u001b[0m \u001b[0mValueError\u001b[0m\u001b[0;34m(\u001b[0m\u001b[0;34m'Not naive datetime (tzinfo is already set)'\u001b[0m\u001b[0;34m)\u001b[0m\u001b[0;34m\u001b[0m\u001b[0m\n\u001b[1;32m    228\u001b[0m         \u001b[0;32mreturn\u001b[0m \u001b[0mdt\u001b[0m\u001b[0;34m.\u001b[0m\u001b[0mreplace\u001b[0m\u001b[0;34m(\u001b[0m\u001b[0mtzinfo\u001b[0m\u001b[0;34m=\u001b[0m\u001b[0mself\u001b[0m\u001b[0;34m)\u001b[0m\u001b[0;34m\u001b[0m\u001b[0m\n",
      "\u001b[0;31mAttributeError\u001b[0m: 'datetime.date' object has no attribute 'tzinfo'"
     ]
    }
   ],
   "source": [
    "     import pytz\n",
    "     utc = pytz.UTC\n",
    "     utc.localize(date.fromtimestamp(1517043526.0))\n"
   ]
  },
  {
   "cell_type": "code",
   "execution_count": null,
   "metadata": {
    "collapsed": true
   },
   "outputs": [],
   "source": [
    "inst.reboot()"
   ]
  },
  {
   "cell_type": "markdown",
   "metadata": {},
   "source": [
    "# AMI retrieval"
   ]
  },
  {
   "cell_type": "code",
   "execution_count": 9,
   "metadata": {
    "collapsed": false
   },
   "outputs": [
    {
     "name": "stdout",
     "output_type": "stream",
     "text": [
      "pytorch.imagenet.source.v2 ami-78dfe807\n",
      "pytorch.imagenet ami-a9bb9bd6\n"
     ]
    }
   ],
   "source": [
    "filter = {'Name': 'name', 'Values' : ['pytorch*']}\n",
    "for i in ec2.images.filter(Filters = [filter], Owners=['self']):\n",
    "  print(i.name, i.id)"
   ]
  },
  {
   "cell_type": "code",
   "execution_count": 8,
   "metadata": {
    "collapsed": false
   },
   "outputs": [
    {
     "data": {
      "text/plain": [
       "'ami-a9bb9bd6'"
      ]
     },
     "execution_count": 8,
     "metadata": {},
     "output_type": "execute_result"
    }
   ],
   "source": [
    "def lookup_ami(wildcard):\n",
    "  filter = {'Name': 'name', 'Values' : [wildcard]}\n",
    "  images = list(ec2.images.filter(Filters = [filter], Owners=['self']))\n",
    "  assert len(images)<=1, \"Multiple images match \"+str(wildcard)\n",
    "  assert len(images)>=0, \"No images match \"+str(wildcard)\n",
    "  return i"
   ]
  },
  {
   "cell_type": "code",
   "execution_count": null,
   "metadata": {
    "collapsed": true
   },
   "outputs": [],
   "source": [
    "i"
   ]
  },
  {
   "cell_type": "markdown",
   "metadata": {},
   "source": [
    "# Clean-up placement groups"
   ]
  },
  {
   "cell_type": "code",
   "execution_count": 10,
   "metadata": {
    "collapsed": true
   },
   "outputs": [],
   "source": [
    "client = u.create_ec2_client()"
   ]
  },
  {
   "cell_type": "code",
   "execution_count": 12,
   "metadata": {
    "collapsed": true
   },
   "outputs": [],
   "source": [
    "ec2 = u.create_ec2_resource()"
   ]
  },
  {
   "cell_type": "code",
   "execution_count": null,
   "metadata": {
    "collapsed": false
   },
   "outputs": [
    {
     "name": "stdout",
     "output_type": "stream",
     "text": [
      "Deleting tf\n",
      "   Succeeded\n",
      "Deleting run01\n",
      "   Succeeded\n",
      "Deleting c5\n",
      "   Succeeded\n",
      "Deleting psbench9\n",
      "   Succeeded\n",
      "Deleting gloop2p\n",
      "   Succeeded\n",
      "Deleting raybench44\n",
      "   Succeeded\n",
      "Deleting yaro16\n",
      "   Succeeded\n",
      "Deleting placement\n",
      "   Succeeded\n",
      "Deleting yaro_test\n",
      "   Succeeded\n",
      "Deleting tfbench\n",
      "   Succeeded\n",
      "Deleting psbench6\n",
      "   Succeeded\n",
      "Deleting psbench7\n",
      "   Succeeded\n",
      "Deleting yaro-friday-16\n",
      "   Succeeded\n",
      "Deleting simple\n",
      "   Succeeded\n",
      "Deleting tfbench44\n",
      "   Succeeded\n",
      "Deleting singlerun\n",
      "   Failed\n",
      "Deleting raybench20\n",
      "   Succeeded\n",
      "Deleting many02\n",
      "   Succeeded\n",
      "Deleting raybench2\n",
      "   Succeeded\n",
      "Deleting raybench17\n",
      "   Succeeded\n",
      "Deleting run03\n",
      "   Succeeded\n",
      "Deleting eight\n",
      "   Succeeded\n",
      "Deleting raybench3\n",
      "   Succeeded\n",
      "Deleting yaro-friday-8\n",
      "   Succeeded\n",
      "Deleting c5amazon00\n",
      "   Succeeded\n",
      "Deleting psbench13\n",
      "   Succeeded\n",
      "Deleting raybench4\n",
      "   Succeeded\n",
      "Deleting async\n",
      "   Succeeded\n",
      "Deleting psbench12\n",
      "   Succeeded\n",
      "Deleting nccl\n",
      "   Succeeded\n",
      "Deleting pytorch_cluster_f\n",
      "   Succeeded\n",
      "Deleting p2pgpu\n",
      "   Succeeded\n",
      "Deleting psbench3\n",
      "   Succeeded\n",
      "Deleting run02\n",
      "   Succeeded\n",
      "Deleting raybench19\n",
      "   Succeeded\n",
      "Deleting many01\n",
      "   Succeeded\n",
      "Deleting raybench16\n",
      "   Succeeded\n",
      "Deleting nexus00\n",
      "   Succeeded\n",
      "Deleting raybench14\n",
      "   Succeeded\n",
      "Deleting psbench5\n",
      "   Succeeded\n",
      "Deleting run\n",
      "   Succeeded\n",
      "Deleting raybench18\n",
      "   Succeeded\n",
      "Deleting somegroup\n",
      "   Succeeded\n",
      "Deleting raybench5\n",
      "   Succeeded\n",
      "Deleting sixteen\n",
      "   Succeeded\n",
      "Deleting yaro_16\n",
      "   Succeeded\n",
      "Deleting psbench11\n",
      "   Succeeded\n",
      "Deleting raybench\n",
      "   Succeeded\n",
      "Deleting raybench15\n",
      "   Succeeded\n",
      "Deleting allreduce\n",
      "   Succeeded\n",
      "Deleting tfbench4\n",
      "   Succeeded\n",
      "Deleting psbench10\n"
     ]
    }
   ],
   "source": [
    "for group in ec2.placement_groups.all():\n",
    "  try:\n",
    "    print(\"Deleting \"+group.name)\n",
    "    group.delete()\n",
    "  except:\n",
    "    print(\"   Failed\")\n",
    "  else:\n",
    "    print(\"   Succeeded\")"
   ]
  },
  {
   "cell_type": "code",
   "execution_count": 16,
   "metadata": {
    "collapsed": false
   },
   "outputs": [
    {
     "data": {
      "text/plain": [
       "'c5amazon00'"
      ]
     },
     "execution_count": 16,
     "metadata": {},
     "output_type": "execute_result"
    }
   ],
   "source": [
    "group.name"
   ]
  },
  {
   "cell_type": "code",
   "execution_count": 11,
   "metadata": {
    "collapsed": false
   },
   "outputs": [
    {
     "data": {
      "text/plain": [
       "{'PlacementGroups': [{'GroupName': 'raybench3',\n",
       "   'State': 'available',\n",
       "   'Strategy': 'cluster'},\n",
       "  {'GroupName': 'sixteen', 'State': 'available', 'Strategy': 'cluster'},\n",
       "  {'GroupName': 'singlerun', 'State': 'available', 'Strategy': 'cluster'},\n",
       "  {'GroupName': 'c5amazon00', 'State': 'available', 'Strategy': 'cluster'},\n",
       "  {'GroupName': 'tfbench', 'State': 'available', 'Strategy': 'cluster'},\n",
       "  {'GroupName': 'p2pgpu', 'State': 'available', 'Strategy': 'cluster'},\n",
       "  {'GroupName': 'tfbench4', 'State': 'available', 'Strategy': 'cluster'},\n",
       "  {'GroupName': 'psbench7', 'State': 'available', 'Strategy': 'cluster'},\n",
       "  {'GroupName': 'async', 'State': 'available', 'Strategy': 'cluster'},\n",
       "  {'GroupName': 'somegroup', 'State': 'available', 'Strategy': 'cluster'},\n",
       "  {'GroupName': 'psbench11', 'State': 'available', 'Strategy': 'cluster'},\n",
       "  {'GroupName': 'raybench16', 'State': 'available', 'Strategy': 'cluster'},\n",
       "  {'GroupName': 'raybench19', 'State': 'available', 'Strategy': 'cluster'},\n",
       "  {'GroupName': 'psbench12', 'State': 'available', 'Strategy': 'cluster'},\n",
       "  {'GroupName': 'psbench10', 'State': 'available', 'Strategy': 'cluster'},\n",
       "  {'GroupName': 'yaro-friday-8', 'State': 'available', 'Strategy': 'cluster'},\n",
       "  {'GroupName': 'run2', 'State': 'available', 'Strategy': 'cluster'},\n",
       "  {'GroupName': 'raybench15', 'State': 'available', 'Strategy': 'cluster'},\n",
       "  {'GroupName': 'psbench5', 'State': 'available', 'Strategy': 'cluster'},\n",
       "  {'GroupName': 'raybench4', 'State': 'available', 'Strategy': 'cluster'},\n",
       "  {'GroupName': 'eight', 'State': 'available', 'Strategy': 'cluster'},\n",
       "  {'GroupName': 'pytorch_cluster_f',\n",
       "   'State': 'available',\n",
       "   'Strategy': 'cluster'},\n",
       "  {'GroupName': 'tfbench44', 'State': 'available', 'Strategy': 'cluster'},\n",
       "  {'GroupName': 'psbench6', 'State': 'available', 'Strategy': 'cluster'},\n",
       "  {'GroupName': 'raybench44', 'State': 'available', 'Strategy': 'cluster'},\n",
       "  {'GroupName': 'yaro-friday-16', 'State': 'available', 'Strategy': 'cluster'},\n",
       "  {'GroupName': 'gpu', 'State': 'available', 'Strategy': 'cluster'},\n",
       "  {'GroupName': 'run03', 'State': 'available', 'Strategy': 'cluster'},\n",
       "  {'GroupName': 'many02', 'State': 'available', 'Strategy': 'cluster'},\n",
       "  {'GroupName': 'run01', 'State': 'available', 'Strategy': 'cluster'},\n",
       "  {'GroupName': 'yaro8', 'State': 'available', 'Strategy': 'cluster'},\n",
       "  {'GroupName': 'raybench17', 'State': 'available', 'Strategy': 'cluster'},\n",
       "  {'GroupName': 'psbench3', 'State': 'available', 'Strategy': 'cluster'},\n",
       "  {'GroupName': 'nccl', 'State': 'available', 'Strategy': 'cluster'},\n",
       "  {'GroupName': 'psbench4', 'State': 'available', 'Strategy': 'cluster'},\n",
       "  {'GroupName': 'c5amazon01', 'State': 'available', 'Strategy': 'cluster'},\n",
       "  {'GroupName': 'raybench20', 'State': 'available', 'Strategy': 'cluster'},\n",
       "  {'GroupName': 'psbench8', 'State': 'available', 'Strategy': 'cluster'},\n",
       "  {'GroupName': 'simple', 'State': 'available', 'Strategy': 'cluster'},\n",
       "  {'GroupName': 'many01', 'State': 'available', 'Strategy': 'cluster'},\n",
       "  {'GroupName': 'raybench5', 'State': 'available', 'Strategy': 'cluster'},\n",
       "  {'GroupName': 'yaro_16', 'State': 'available', 'Strategy': 'cluster'},\n",
       "  {'GroupName': 'yaro16', 'State': 'available', 'Strategy': 'cluster'},\n",
       "  {'GroupName': 'psbench9', 'State': 'available', 'Strategy': 'cluster'},\n",
       "  {'GroupName': 'raybench14', 'State': 'available', 'Strategy': 'cluster'},\n",
       "  {'GroupName': 'raybench', 'State': 'available', 'Strategy': 'cluster'},\n",
       "  {'GroupName': 'raybench18', 'State': 'available', 'Strategy': 'cluster'},\n",
       "  {'GroupName': 'run', 'State': 'available', 'Strategy': 'cluster'},\n",
       "  {'GroupName': 'nexus00', 'State': 'available', 'Strategy': 'cluster'},\n",
       "  {'GroupName': 'c5', 'State': 'available', 'Strategy': 'cluster'},\n",
       "  {'GroupName': 'placement', 'State': 'available', 'Strategy': 'cluster'},\n",
       "  {'GroupName': 'psbench13', 'State': 'available', 'Strategy': 'cluster'},\n",
       "  {'GroupName': 'tf', 'State': 'available', 'Strategy': 'cluster'},\n",
       "  {'GroupName': 'yaro_test', 'State': 'available', 'Strategy': 'cluster'},\n",
       "  {'GroupName': 'raybench2', 'State': 'available', 'Strategy': 'cluster'},\n",
       "  {'GroupName': 'run02', 'State': 'available', 'Strategy': 'cluster'},\n",
       "  {'GroupName': 'allreduce', 'State': 'available', 'Strategy': 'cluster'},\n",
       "  {'GroupName': 'gloop2p', 'State': 'available', 'Strategy': 'cluster'}],\n",
       " 'ResponseMetadata': {'HTTPHeaders': {'content-type': 'text/xml;charset=UTF-8',\n",
       "   'date': 'Sat, 14 Jul 2018 15:27:38 GMT',\n",
       "   'server': 'AmazonEC2',\n",
       "   'transfer-encoding': 'chunked',\n",
       "   'vary': 'Accept-Encoding'},\n",
       "  'HTTPStatusCode': 200,\n",
       "  'RequestId': '114c5728-9464-4fee-b444-ba723c196f48',\n",
       "  'RetryAttempts': 0}}"
      ]
     },
     "execution_count": 11,
     "metadata": {},
     "output_type": "execute_result"
    }
   ],
   "source": [
    "client.describe_placement_groups()"
   ]
  },
  {
   "cell_type": "code",
   "execution_count": null,
   "metadata": {
    "collapsed": true
   },
   "outputs": [],
   "source": [
    "  client = u.create_ec2_client()\n",
    "  try:\n",
    "    # TODO: check that the error is actually about placement group\n",
    "    client.describe_placement_groups(GroupNames=[name])\n",
    "  except boto3.exceptions.botocore.exceptions.ClientError as e:\n",
    "    # \n",
    "    print(\"Creating placement group: \"+name)\n",
    "    res = client.create_placement_group(GroupName=name, Strategy='cluster')\n"
   ]
  },
  {
   "cell_type": "markdown",
   "metadata": {
    "collapsed": true
   },
   "source": [
    "# Scratch"
   ]
  },
  {
   "cell_type": "code",
   "execution_count": 43,
   "metadata": {
    "collapsed": true
   },
   "outputs": [],
   "source": [
    "import tensorflow as tf"
   ]
  },
  {
   "cell_type": "code",
   "execution_count": null,
   "metadata": {
    "collapsed": true
   },
   "outputs": [],
   "source": [
    "tf.random"
   ]
  },
  {
   "cell_type": "code",
   "execution_count": 38,
   "metadata": {
    "collapsed": false
   },
   "outputs": [
    {
     "data": {
      "text/plain": [
       "True"
      ]
     },
     "execution_count": 38,
     "metadata": {},
     "output_type": "execute_result"
    }
   ],
   "source": [
    "int(5) == 5"
   ]
  },
  {
   "cell_type": "code",
   "execution_count": 434,
   "metadata": {
    "collapsed": false
   },
   "outputs": [
    {
     "name": "stdout",
     "output_type": "stream",
     "text": [
      "ec2.Instance(id='i-07a0cd1b69980ebc8')\n",
      "ec2.Instance(id='i-0f99e16b39aacbca1')\n"
     ]
    }
   ],
   "source": [
    "  name = 'gpubox00'\n",
    "  KEY_NAME='nexus'\n",
    "  ec2 = boto3.resource('ec2')\n",
    "  instances = ec2.instances.filter(\n",
    "    Filters=[{'Name': 'instance-state-name', 'Values': ['running']}])\n",
    "\n",
    "  result = []\n",
    "  for i in instances.all():\n",
    "    print(i)\n",
    "    name = u.get_name(i.tags)\n",
    "    key_name = i.key_name\n",
    "\n",
    "    assert len(names) <= 1\n",
    "    if names:\n",
    "      inst_name = names[0]\n",
    "    else:\n",
    "      inst_name = ''\n",
    "    if inst_name == name:\n",
    "      if key_name != KEY_NAME:\n",
    "        print(\"name matches, but key name %s doesn't match %s, skipping\"%(key_name, KEY_NAME))\n",
    "        continue\n",
    "      result.append(i)"
   ]
  },
  {
   "cell_type": "code",
   "execution_count": 436,
   "metadata": {
    "collapsed": true
   },
   "outputs": [],
   "source": [
    "ec2.create_vpc?"
   ]
  },
  {
   "cell_type": "code",
   "execution_count": 80,
   "metadata": {
    "collapsed": false
   },
   "outputs": [
    {
     "data": {
      "text/plain": [
       "'2017-12-04 17:31:27.013135'"
      ]
     },
     "execution_count": 80,
     "metadata": {},
     "output_type": "execute_result"
    }
   ],
   "source": [
    "current_seconds=time.time();\n",
    "remainder_micros=int(1e6*(current_seconds-int(current_seconds)))\n",
    "time_str = time.strftime('%Y-%m-%d %H:%M:%S', time.localtime(current_seconds))\n",
    "full_time_str = \"%s.%06d\"%(time_str, remainder_micros)\n",
    "full_time_str"
   ]
  },
  {
   "cell_type": "code",
   "execution_count": 75,
   "metadata": {
    "collapsed": false
   },
   "outputs": [
    {
     "data": {
      "text/plain": [
       "'2017-12-04 17:31:14.381412'"
      ]
     },
     "execution_count": 75,
     "metadata": {},
     "output_type": "execute_result"
    }
   ],
   "source": []
  },
  {
   "cell_type": "code",
   "execution_count": 37,
   "metadata": {
    "collapsed": false
   },
   "outputs": [
    {
     "data": {
      "text/plain": [
       "['plasma_manager91853411',\n",
       " 'plasma_store10537880',\n",
       " 'plasma_store18236878',\n",
       " 'plasma_store88828496',\n",
       " 'scheduler62714006',\n",
       " 'plasma_store41416591',\n",
       " 'plasma_manager69489913',\n",
       " 'scheduler4710266',\n",
       " 'scheduler8096252',\n",
       " 'plasma_store25595318',\n",
       " 'scheduler85908030',\n",
       " 'scheduler37020026',\n",
       " 'plasma_manager34279968',\n",
       " 'plasma_manager16268969',\n",
       " 'plasma_store61975526',\n",
       " 'plasma_store59559392',\n",
       " 'plasma_manager48870941',\n",
       " 'plasma_manager4501529',\n",
       " 'scheduler91987771',\n",
       " 'plasma_store34948235',\n",
       " 'com.apple.launchd.phjQmyOsHP',\n",
       " 'scheduler85745644',\n",
       " 'plasma_manager76483440',\n",
       " 'plasma_manager98848736',\n",
       " 'plasma_manager63116115',\n",
       " 'at-hRSIKu',\n",
       " 'scheduler35081158',\n",
       " 'plasma_store13954523',\n",
       " 'plasma_manager91698017',\n",
       " 'plasma_manager95221948',\n",
       " 'scheduler267754',\n",
       " 'plasma_manager413673',\n",
       " 'scheduler29933459',\n",
       " 'scheduler69376320',\n",
       " 'plasma_manager72378285',\n",
       " 'scheduler46128327',\n",
       " 'plasma_manager620644',\n",
       " 'scheduler94136826',\n",
       " 'raylogs',\n",
       " 'scheduler10661819',\n",
       " 'plasma_store4931042',\n",
       " 'adobegc.log',\n",
       " 'scheduler17834366',\n",
       " 'boost_interprocess',\n",
       " 'plasma_store28239973',\n",
       " 'plasma_store49175967',\n",
       " 'scheduler84647737',\n",
       " 'scheduler2952570',\n",
       " 'plasma_store81600479',\n",
       " 'scheduler49818626',\n",
       " 'plasma_manager79244000',\n",
       " 'tasklogs',\n",
       " 'tmux',\n",
       " 'scheduler14706058',\n",
       " 'plasma_manager38459732',\n",
       " 'plasma_manager17318940',\n",
       " 'plasma_manager90318312',\n",
       " 'scheduler49593698',\n",
       " 'plasma_manager38935970',\n",
       " 'plasma_store32560338',\n",
       " 'scheduler31529091',\n",
       " 'plasma_store33949921',\n",
       " 'scheduler79823530',\n",
       " 'plasma_manager34074245',\n",
       " 'plasma_store55028483',\n",
       " 'plasma_store81236797',\n",
       " 'plasma_store14921337',\n",
       " 'plasma_store76575142',\n",
       " 'plasma_manager8466500',\n",
       " 'plasma_manager59591766',\n",
       " 'plasma_store59747806',\n",
       " 'plasma_store21929172',\n",
       " 'plasma_store20840957',\n",
       " 'plasma_manager18349304',\n",
       " 'com.apple.launchd.YOICqQ8WsA',\n",
       " 'tmux-501',\n",
       " 'scheduler65783973',\n",
       " 'plasma_store23994906',\n",
       " 'plasma_manager73815591',\n",
       " 'scheduler35171712',\n",
       " 'plasma_store11482292']"
      ]
     },
     "execution_count": 37,
     "metadata": {},
     "output_type": "execute_result"
    }
   ],
   "source": [
    "os.listdir('.')"
   ]
  },
  {
   "cell_type": "code",
   "execution_count": 36,
   "metadata": {
    "collapsed": false
   },
   "outputs": [
    {
     "data": {
      "text/plain": [
       "'/private/tmp'"
      ]
     },
     "execution_count": 36,
     "metadata": {},
     "output_type": "execute_result"
    }
   ],
   "source": [
    "os.getcwd()"
   ]
  },
  {
   "cell_type": "code",
   "execution_count": 35,
   "metadata": {
    "collapsed": true
   },
   "outputs": [],
   "source": [
    "os.chdir('/tmp')"
   ]
  },
  {
   "cell_type": "code",
   "execution_count": 32,
   "metadata": {
    "collapsed": true
   },
   "outputs": [],
   "source": [
    "KEY_NAME='yaroslav'\n",
    "\n",
    "def lookup_aws_instances(name):\n",
    "  \"\"\"Returns all AWS instances for given job.\"\"\"\n",
    "  \n",
    "  ec2 = boto3.resource('ec2')\n",
    "  instances = ec2.instances.filter(\n",
    "    Filters=[{'Name': 'instance-state-name', 'Values': ['running']}])\n",
    "\n",
    "  result = []\n",
    "  for i in instances:\n",
    "    names = []\n",
    "    if i.tags:\n",
    "      names = [tag['Value'] for tag in i.tags if tag['Key'] == 'Name']\n",
    "    key_name = i.key_name\n",
    "\n",
    "    assert len(names) <= 1\n",
    "    if names:\n",
    "      inst_name = names[0]\n",
    "    else:\n",
    "      inst_name = ''\n",
    "    if inst_name == name:\n",
    "      if key_name != KEY_NAME:\n",
    "        print(\"name matches, but key name %s doesn't match %s, skipping\"%(key_name, KEY_NAME))\n",
    "        continue\n",
    "      result.append(i)\n",
    "  return result\n"
   ]
  },
  {
   "cell_type": "code",
   "execution_count": 34,
   "metadata": {
    "collapsed": true
   },
   "outputs": [],
   "source": [
    "instances=lookup_aws_instances(\"hello\")"
   ]
  },
  {
   "cell_type": "code",
   "execution_count": 35,
   "metadata": {
    "collapsed": true
   },
   "outputs": [],
   "source": [
    "instance = instances[0]"
   ]
  },
  {
   "cell_type": "code",
   "execution_count": 37,
   "metadata": {
    "collapsed": false
   },
   "outputs": [
    {
     "data": {
      "text/plain": [
       "'54.68.66.51'"
      ]
     },
     "execution_count": 37,
     "metadata": {},
     "output_type": "execute_result"
    }
   ],
   "source": [
    "instance.public_ip_address"
   ]
  },
  {
   "cell_type": "code",
   "execution_count": 38,
   "metadata": {
    "collapsed": true
   },
   "outputs": [],
   "source": [
    "import os"
   ]
  },
  {
   "cell_type": "code",
   "execution_count": 40,
   "metadata": {
    "collapsed": false
   },
   "outputs": [
    {
     "data": {
      "text/plain": [
       "'async_sgd_benchmark.py'"
      ]
     },
     "execution_count": 40,
     "metadata": {},
     "output_type": "execute_result"
    }
   ],
   "source": [
    "os.path.basename(\"https://gist.githubusercontent.com/robertnishihara/4e246d6942cd692a0838414ff01975c1/raw/486a6a3f8c5cfc3d198e73cea50507a829e0cc9d/async_sgd_benchmark.py\")"
   ]
  },
  {
   "cell_type": "code",
   "execution_count": 36,
   "metadata": {
    "collapsed": false
   },
   "outputs": [
    {
     "data": {
      "text/plain": [
       "['__class__',\n",
       " '__delattr__',\n",
       " '__dict__',\n",
       " '__dir__',\n",
       " '__doc__',\n",
       " '__eq__',\n",
       " '__format__',\n",
       " '__ge__',\n",
       " '__getattribute__',\n",
       " '__gt__',\n",
       " '__hash__',\n",
       " '__init__',\n",
       " '__le__',\n",
       " '__lt__',\n",
       " '__module__',\n",
       " '__ne__',\n",
       " '__new__',\n",
       " '__reduce__',\n",
       " '__reduce_ex__',\n",
       " '__repr__',\n",
       " '__setattr__',\n",
       " '__sizeof__',\n",
       " '__str__',\n",
       " '__subclasshook__',\n",
       " '__weakref__',\n",
       " '_id',\n",
       " 'ami_launch_index',\n",
       " 'architecture',\n",
       " 'attach_classic_link_vpc',\n",
       " 'attach_volume',\n",
       " 'block_device_mappings',\n",
       " 'classic_address',\n",
       " 'client_token',\n",
       " 'console_output',\n",
       " 'create_image',\n",
       " 'create_tags',\n",
       " 'delete_tags',\n",
       " 'describe_attribute',\n",
       " 'detach_classic_link_vpc',\n",
       " 'detach_volume',\n",
       " 'ebs_optimized',\n",
       " 'elastic_gpu_associations',\n",
       " 'ena_support',\n",
       " 'get_available_subresources',\n",
       " 'hypervisor',\n",
       " 'iam_instance_profile',\n",
       " 'id',\n",
       " 'image',\n",
       " 'image_id',\n",
       " 'instance_id',\n",
       " 'instance_lifecycle',\n",
       " 'instance_type',\n",
       " 'kernel_id',\n",
       " 'key_name',\n",
       " 'key_pair',\n",
       " 'launch_time',\n",
       " 'load',\n",
       " 'meta',\n",
       " 'modify_attribute',\n",
       " 'monitor',\n",
       " 'monitoring',\n",
       " 'network_interfaces',\n",
       " 'network_interfaces_attribute',\n",
       " 'password_data',\n",
       " 'placement',\n",
       " 'placement_group',\n",
       " 'platform',\n",
       " 'private_dns_name',\n",
       " 'private_ip_address',\n",
       " 'product_codes',\n",
       " 'public_dns_name',\n",
       " 'public_ip_address',\n",
       " 'ramdisk_id',\n",
       " 'reboot',\n",
       " 'reload',\n",
       " 'report_status',\n",
       " 'reset_attribute',\n",
       " 'reset_kernel',\n",
       " 'reset_ramdisk',\n",
       " 'reset_source_dest_check',\n",
       " 'root_device_name',\n",
       " 'root_device_type',\n",
       " 'security_groups',\n",
       " 'source_dest_check',\n",
       " 'spot_instance_request_id',\n",
       " 'sriov_net_support',\n",
       " 'start',\n",
       " 'state',\n",
       " 'state_reason',\n",
       " 'state_transition_reason',\n",
       " 'stop',\n",
       " 'subnet',\n",
       " 'subnet_id',\n",
       " 'tags',\n",
       " 'terminate',\n",
       " 'unmonitor',\n",
       " 'virtualization_type',\n",
       " 'volumes',\n",
       " 'vpc',\n",
       " 'vpc_addresses',\n",
       " 'vpc_id',\n",
       " 'wait_until_exists',\n",
       " 'wait_until_running',\n",
       " 'wait_until_stopped',\n",
       " 'wait_until_terminated']"
      ]
     },
     "execution_count": 36,
     "metadata": {},
     "output_type": "execute_result"
    }
   ],
   "source": [
    "dir(instance)"
   ]
  },
  {
   "cell_type": "code",
   "execution_count": 81,
   "metadata": {
    "collapsed": true
   },
   "outputs": [],
   "source": [
    "ec2 = boto3.resource('ec2')\n",
    "aws_instances = ec2.create_instances?\n"
   ]
  },
  {
   "cell_type": "code",
   "execution_count": null,
   "metadata": {
    "collapsed": true
   },
   "outputs": [],
   "source": [
    "aws_instances = ec2.create_instances"
   ]
  },
  {
   "cell_type": "code",
   "execution_count": null,
   "metadata": {
    "collapsed": true
   },
   "outputs": [],
   "source": [
    "aws_instances = ec2.create_instances"
   ]
  },
  {
   "cell_type": "code",
   "execution_count": 43,
   "metadata": {
    "collapsed": true
   },
   "outputs": [],
   "source": [
    "ec2 = boto3.client('ec2')\n",
    "response = ec2.describe_instances()"
   ]
  },
  {
   "cell_type": "code",
   "execution_count": 23,
   "metadata": {
    "collapsed": true
   },
   "outputs": [],
   "source": []
  },
  {
   "cell_type": "code",
   "execution_count": 14,
   "metadata": {
    "collapsed": true
   },
   "outputs": [],
   "source": [
    "import boto3\n",
    "ec2 = boto3.resource('ec2')\n",
    "AMI = 'ami-9ddb0fe5'\n",
    "KEY_NAME = 'yaroslav'  # AWS key-name to use\n",
    "SECURITY_GROUP = 'open' # security group for all instances\n",
    "placement_group='ebs-test'\n",
    "\n",
    "ec2 = boto3.resource('ec2')\n",
    "instances = ec2.create_instances(\n",
    "ImageId=AMI,\n",
    "InstanceType='c5.large',\n",
    "MinCount=1,\n",
    "MaxCount=1,\n",
    "SecurityGroups=[SECURITY_GROUP],\n",
    "KeyName=KEY_NAME)"
   ]
  },
  {
   "cell_type": "code",
   "execution_count": 27,
   "metadata": {
    "collapsed": true
   },
   "outputs": [],
   "source": [
    "    ec2 = boto3.resource('ec2')\n",
    "    instances2 = ec2.create_instances(\n",
    "      ImageId=AMI,\n",
    "      InstanceType='c5.2xlarge',\n",
    "      MinCount=4,\n",
    "      MaxCount=4,\n",
    "      SecurityGroups=[SECURITY_GROUP],\n",
    "      KeyName=KEY_NAME)\n"
   ]
  },
  {
   "cell_type": "code",
   "execution_count": 25,
   "metadata": {
    "collapsed": false
   },
   "outputs": [
    {
     "data": {
      "text/plain": [
       "[ec2.Instance(id='i-037156ba385ad4fe5'),\n",
       " ec2.Instance(id='i-01c4a7e0f5ca56b32'),\n",
       " ec2.Instance(id='i-0805ec38fd3cf71b9'),\n",
       " ec2.Instance(id='i-09322ea431460f284'),\n",
       " ec2.Instance(id='i-00356bd9050161866'),\n",
       " ec2.Instance(id='i-0cdde35372adcf3d3'),\n",
       " ec2.Instance(id='i-0aae50b99f628f851'),\n",
       " ec2.Instance(id='i-0a2c0879c1d4118f6')]"
      ]
     },
     "execution_count": 25,
     "metadata": {},
     "output_type": "execute_result"
    }
   ],
   "source": [
    "instances"
   ]
  },
  {
   "cell_type": "code",
   "execution_count": 20,
   "metadata": {
    "collapsed": false
   },
   "outputs": [
    {
     "data": {
      "text/plain": [
       "[('i-04043b4d7436be162', 'testjob'),\n",
       " ('i-04101fcf8a211e862', 'testjob'),\n",
       " ('i-0b1b3c658b51e3fe6',\n",
       "  'master-us-west-2a.masters.90c444a2-pachydermcluster.kubernetes.com'),\n",
       " ('i-0aaa1f818181e50d0',\n",
       "  'master-us-west-2a.masters.0726aa4c-pachydermcluster.kubernetes.com'),\n",
       " ('i-07f83369033a741a3', 'pachyderm-webservice'),\n",
       " ('i-08259f03e6c8061c3', 'testjob'),\n",
       " ('i-008877bc5b2a6ef43', 'testjob'),\n",
       " ('i-03baf8ed44431961c', 'nodes.0726aa4c-pachydermcluster.kubernetes.com'),\n",
       " ('i-0498d6623c44de7b7', 'nodes.0726aa4c-pachydermcluster.kubernetes.com'),\n",
       " ('i-02831a5e1defa3caa', 'nodes.90c444a2-pachydermcluster.kubernetes.com'),\n",
       " ('i-01c7202a3c06f35d3', 'nodes.90c444a2-pachydermcluster.kubernetes.com')]"
      ]
     },
     "execution_count": 20,
     "metadata": {},
     "output_type": "execute_result"
    }
   ],
   "source": [
    "[(i.id, tag['Value']) for i in instances for tag in i.tags if tag['Key'] == 'Name']"
   ]
  },
  {
   "cell_type": "code",
   "execution_count": null,
   "metadata": {
    "collapsed": true
   },
   "outputs": [],
   "source": []
  }
 ],
 "metadata": {
  "anaconda-cloud": {},
  "kernelspec": {
   "display_name": "Python [default]",
   "language": "python",
   "name": "python3"
  },
  "language_info": {
   "codemirror_mode": {
    "name": "ipython",
    "version": 3
   },
   "file_extension": ".py",
   "mimetype": "text/x-python",
   "name": "python",
   "nbconvert_exporter": "python",
   "pygments_lexer": "ipython3",
   "version": "3.5.2"
  },
  "toc": {
   "colors": {
    "hover_highlight": "#DAA520",
    "running_highlight": "#FF0000",
    "selected_highlight": "#FFD700"
   },
   "moveMenuLeft": true,
   "nav_menu": {},
   "navigate_menu": true,
   "number_sections": false,
   "sideBar": true,
   "skip_h1_title": false,
   "threshold": 4,
   "toc_cell": false,
   "toc_position": {},
   "toc_section_display": "block",
   "toc_window_display": true
  }
 },
 "nbformat": 4,
 "nbformat_minor": 2
}
